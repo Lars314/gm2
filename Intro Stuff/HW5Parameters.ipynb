{
 "cells": [
  {
   "cell_type": "code",
   "execution_count": null,
   "metadata": {},
   "outputs": [],
   "source": [
    "\n",
    "\n",
    "def blinded_wiggle(x, p):\n",
    "    N0          = p[0]\n",
    "    T           = p[1]\n",
    "    A0          = p[2]\n",
    "    Phi0        = p[3]\n",
    "    OmegaCBO    = p[4]\n",
    "    TCBO        = p[5]\n",
    "    ACBON       = p[6]\n",
    "    PhiCBON     = p[7]\n",
    "    ACBOA       = p[8]\n",
    "    PhiCBOA     = p[9]\n",
    "    ACBOPhi     = p[10]\n",
    "    PhiCBOPhi   = p[11]\n",
    "    OmegaVW     = p[12]\n",
    "    TVW         = p[13]\n",
    "    AVW         = p[14]\n",
    "    PhiVW       = p[15]\n",
    "    R           = p[16]\n",
    "    \n",
    "    time = x[0]\n",
    "    omega = getBlinded.paramToFreq(R)\n",
    "    \n",
    "    # Ncbo(t)\n",
    "    Ncbo_t = 1 + ACBON * math.exp(-time / TCBO) * math.cos(OmegaCBO*time - PhiCBON)\n",
    "\n",
    "    # Nvw(t)\n",
    "    Nvw_t = 1 + AVW * math.exp(-time/TVW) * math.cos(OmegaVW*time - PhiCBON)\n",
    "\n",
    "    # Phi(t)\n",
    "    Phi_t = Phi0 + ACBOPhi*math.exp(-time/TCBO)*math.cos(OmegaCBO*time - PhiCBOPhi)\n",
    "\n",
    "    # A(t)\n",
    "    A_t = A0*( 1 + ACBOA*math.exp(-time/TCBO)*math.cos(OmegaCBO*time - PhiCBOA) )\n",
    "    \n",
    "    return N0 * Ncbo_t * Nvw_t * math.exp(-time/T) * (1 + A_t * math.cos(omega - Phi_t))\n",
    "\n",
    "\n",
    "\n",
    "\n",
    "func = r.TF1(\"func\", blinded_wiggle, 30, 600, 17)\n",
    "\n",
    "pars = {'N_{0}'           : 3.406*(10**6),\n",
    "        '#tau'            : 64.438,\n",
    "        'A_{0}'           : 37.587,\n",
    "        '#phi_[0]'        : -2.0909,\n",
    "        '#omega_{CBO}'    : 2.3048,\n",
    "        '#tau_{CBO}'      : 170,\n",
    "        'A_{CBO, N}'      : 0.45,\n",
    "        '#phi_{CBO, N}'   : 1.8,\n",
    "        'A_{CBO, A}'      : 0.04,\n",
    "        '#phi_{CBO, A}'   : 0.5,\n",
    "        'A_{CBO, #phi}'   : 0.0004,\n",
    "        '#phi_{CBO, #phi}': -2,\n",
    "        '#omega_{VW}'     : 14.39,\n",
    "        '#tau_{VW}'       : 20,\n",
    "        'A_{VW}'          : 0.8,\n",
    "        '#phi_{VW}'       : 0.4,\n",
    "        'R( #omega_{a} )' : 0}\n",
    "\n",
    "i = 0\n",
    "for name, value in pars.items():\n",
    "    func.SetParName(i, name)\n",
    "    func.SetParameter(i, value)\n",
    "    i += 1\n",
    "\n",
    "func.SetLineColor(3)\n",
    "func.SetNpx(10000)"
   ]
  },
  {
   "cell_type": "code",
   "execution_count": 30,
   "metadata": {},
   "outputs": [],
   "source": [
    "import sympy as sp\n",
    "sp.init_printing()\n",
    "\n",
    "t_sp, Tau_sp, R_sp = sp.symbols(\"t \\\\tau R(\\omega_{0})\")\n",
    "A0_sp, N0_sp, Phi0_sp = sp.symbols(\"A_{0} N_{0} \\phi_{0}\")\n",
    "OmegaCBO_sp, TauCBO_sp = sp.symbols(\"\\omega_{CBO} \\\\tau_{CBO}\")\n",
    "ACBOn_sp, PhiCBOn_sp = sp.symbols(\"A_{CBO\\,N} \\phi_{CBO\\,N}\")\n",
    "ACBOa_sp, PhiCBOa_sp = sp.symbols(\"A_{CBO\\,A} \\phi_{CBO\\,A}\")\n",
    "ACBOPhi_sp, PhiCBOPhi_sp = sp.symbols(\"A_{CBO\\,\\phi} \\phi_{CBO\\,\\phi}\")\n",
    "OmegaVW_sp, TauVW_sp, AVW_sp, PhiVW_sp = sp.symbols(\"\\omega_{VW} \\\\tau_{VW} A_{VW} \\phi_{VW}\")"
   ]
  },
  {
   "cell_type": "code",
   "execution_count": 31,
   "metadata": {},
   "outputs": [
    {
     "data": {
      "image/png": "[encoded data removed]",
      "text/latex": [
       "$\\displaystyle A_{CBO,N} e^{- \\frac{t}{\\tau_{CBO}}} \\cos{\\left(\\omega_{CBO} t - \\phi_{CBO,N} \\right)} + 1$"
      ],
      "text/plain": [
       "              -t                                            \n",
       "           ──────────                                       \n",
       "           \\tau_{CBO}                                       \n",
       "A_{CBO,N}⋅ℯ          ⋅cos(\\omega_{CBO}⋅t - \\phi_{CBO,N}) + 1"
      ]
     },
     "execution_count": 31,
     "metadata": {},
     "output_type": "execute_result"
    }
   ],
   "source": [
    "# Ncbo(t)\n",
    "\n",
    "Ncbo = 1 + ACBOn_sp*sp.exp(-1*t_sp/TauCBO_sp)*sp.cos(OmegaCBO_sp*t_sp - PhiCBOn_sp)\n",
    "Ncbo"
   ]
  },
  {
   "cell_type": "code",
   "execution_count": 32,
   "metadata": {},
   "outputs": [
    {
     "data": {
      "image/png": "[encoded data removed]",
      "text/latex": [
       "$\\displaystyle A_{VW} e^{- \\frac{t}{\\tau_{VW}}} \\cos{\\left(\\omega_{VW} t - \\phi_{VW} \\right)} + 1$"
      ],
      "text/plain": [
       "           -t                                       \n",
       "        ─────────                                   \n",
       "        \\tau_{VW}                                   \n",
       "A_{VW}⋅ℯ         ⋅cos(\\omega_{VW}⋅t - \\phi_{VW}) + 1"
      ]
     },
     "execution_count": 32,
     "metadata": {},
     "output_type": "execute_result"
    }
   ],
   "source": [
    "#Nvw(t)\n",
    "\n",
    "Nvw = 1 + AVW_sp*sp.exp(-1*t_sp/TauVW_sp)*sp.cos(OmegaVW_sp*t_sp - PhiVW_sp)\n",
    "Nvw"
   ]
  },
  {
   "cell_type": "code",
   "execution_count": null,
   "metadata": {},
   "outputs": [],
   "source": []
  }
 ],
 "metadata": {
  "kernelspec": {
   "display_name": "Python 3",
   "language": "python",
   "name": "python3"
  },
  "language_info": {
   "codemirror_mode": {
    "name": "ipython",
    "version": 3
   },
   "file_extension": ".py",
   "mimetype": "text/x-python",
   "name": "python",
   "nbconvert_exporter": "python",
   "pygments_lexer": "ipython3",
   "version": "3.7.5"
  }
 },
 "nbformat": 4,
 "nbformat_minor": 4
}
