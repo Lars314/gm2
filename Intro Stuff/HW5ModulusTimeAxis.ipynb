{
 "cells": [
  {
   "cell_type": "code",
   "execution_count": 1,
   "metadata": {},
   "outputs": [
    {
     "name": "stdout",
     "output_type": "stream",
     "text": [
      "Welcome to JupyROOT 6.18/04\n"
     ]
    }
   ],
   "source": [
    "import ROOT as r\n",
    "import math\n",
    "from BlindersPy3 import Blinders\n",
    "from BlindersPy3 import FitType\n",
    "\n",
    "getBlinded = Blinders(FitType.Omega_a, 'memes')"
   ]
  },
  {
   "cell_type": "code",
   "execution_count": 2,
   "metadata": {},
   "outputs": [
    {
     "data": {
      "text/plain": [
       "1"
      ]
     },
     "execution_count": 2,
     "metadata": {},
     "output_type": "execute_result"
    }
   ],
   "source": [
    "chain = r.TChain(\"farline/eventTree\")\n",
    "chain.Add(\"./9day/gm2offline_ana_233128_16528.00035.root\")\n",
    "chain.Add(\"./9day/gm2offline_ana_233130_16535.00353.root\")\n",
    "chain.Add(\"./9day/gm2offline_ana_233134_16482.00307.root\")\n",
    "chain.Add(\"./9day/gm2offline_ana_233136_16528.00161.root\")"
   ]
  },
  {
   "cell_type": "code",
   "execution_count": null,
   "metadata": {},
   "outputs": [],
   "source": [
    "h = r.TH2D(\"h\",\"Wiggle Plot; Time [#mus]; Energy [MeV]\", 10000,0,700, 600,0,6000)\n",
    "chain.Draw(\"energy:time%100.>>h\",\"energy < 6000\",\"goff\")\n",
    "\n",
    "eLow  = 1700\n",
    "eHigh = 6000\n",
    "\n",
    "binLow = h.GetYaxis().FindBin(eLow)\n",
    "binHigh = h.GetYaxis().FindBin(eHigh)\n",
    "\n",
    "h.GetXaxis().SetRangeUser(0,700)\n",
    "\n",
    "h2 = h.ProjectionX(\"_px\", binLow, binHigh).Clone(\"h2\")\n",
    "h2.GetYaxis().SetTitle(\"N / 148.9 ns\")"
   ]
  },
  {
   "cell_type": "code",
   "execution_count": null,
   "metadata": {},
   "outputs": [],
   "source": [
    "c = r.TCanvas()\n",
    "r.gStyle.SetOptFit(1111)\n",
    "r.gStyle.SetOptStat(0)\n",
    "h2.Draw(\"colz\")\n",
    "#h2.GetXaxis().SetRangeUser(30, 50)\n",
    "c.SetLogy()\n",
    "c.Draw()"
   ]
  }
 ],
 "metadata": {
  "kernelspec": {
   "display_name": "Python 3",
   "language": "python",
   "name": "python3"
  },
  "language_info": {
   "codemirror_mode": {
    "name": "ipython",
    "version": 3
   },
   "file_extension": ".py",
   "mimetype": "text/x-python",
   "name": "python",
   "nbconvert_exporter": "python",
   "pygments_lexer": "ipython3",
   "version": "3.7.5"
  }
 },
 "nbformat": 4,
 "nbformat_minor": 4
}
