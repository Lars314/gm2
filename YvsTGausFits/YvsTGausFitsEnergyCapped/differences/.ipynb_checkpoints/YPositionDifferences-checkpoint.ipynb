{
 "cells": [
  {
   "cell_type": "code",
   "execution_count": 145,
   "metadata": {},
   "outputs": [],
   "source": [
    "import ROOT as r\n",
    "import pandas as pd\n",
    "import matplotlib.pyplot as plt\n",
    "import math\n",
    "import numpy as np\n",
    "import colorsys\n",
    "from scipy import optimize as sciopt\n",
    "import os"
   ]
  },
  {
   "cell_type": "code",
   "execution_count": 146,
   "metadata": {},
   "outputs": [],
   "source": [
    "plt.style.use(\"gm2\")"
   ]
  },
  {
   "cell_type": "markdown",
   "metadata": {},
   "source": [
    "### Get Things defined"
   ]
  },
  {
   "cell_type": "code",
   "execution_count": 176,
   "metadata": {},
   "outputs": [],
   "source": [
    "# pick the dataset to be used\n",
    "\n",
    "#dataset = \"endgameGroupA\"\n",
    "#f = r.TFile(\"../../endgame/endgameGroupA10001.root\")\n",
    "\n",
    "#dataset = \"endgameGroupB\"\n",
    "#f = r.TFile(\"../../endgame/endgameGroupB10001.root\")\n",
    "\n",
    "dataset = \"endgame\"\n",
    "f = r.TFile(\"../../endgame/EndgameData.root\")\n",
    "\n",
    "#dataset = \"9day\"\n",
    "#f = r.TFile(\"../../9day/9dayPosition10001.root\")\n",
    "\n",
    "#dataset = \"60h\"\n",
    "#f = r.TFile(\"../../60h/60hPosition10001.root\")"
   ]
  },
  {
   "cell_type": "code",
   "execution_count": 177,
   "metadata": {},
   "outputs": [],
   "source": [
    "run2_data = \"run2Pos\"\n",
    "run2_file = r.TFile(\"../run2Pos/run2CVertPos.root\")"
   ]
  },
  {
   "cell_type": "code",
   "execution_count": 178,
   "metadata": {},
   "outputs": [],
   "source": [
    "# pick the energy cutoffs in MeV\n",
    "energy_range = [1000, 2400]"
   ]
  },
  {
   "cell_type": "code",
   "execution_count": 179,
   "metadata": {},
   "outputs": [
    {
     "name": "stdout",
     "output_type": "stream",
     "text": [
      "endgame/1000-2400/\n"
     ]
    }
   ],
   "source": [
    "# set the working directory for this dataset and energy cut\n",
    "\n",
    "directory = dataset + \"/\" + str(energy_range[0]) + \"-\" + str(energy_range[1]) + \"/\"\n",
    "\n",
    "# uncomment for test directory so as not to screw everything up\n",
    "#directory = './test/'\n",
    "\n",
    "print(directory)"
   ]
  },
  {
   "cell_type": "markdown",
   "metadata": {},
   "source": [
    "### Set up the histograms"
   ]
  },
  {
   "cell_type": "code",
   "execution_count": 184,
   "metadata": {},
   "outputs": [],
   "source": [
    "# set up the histograms for the run1 data\n",
    "run1_hists = []\n",
    "\n",
    "for i in range(1, 25):\n",
    "    calo = f.Get(\"verticalPosition/clusters\" + str(i)).Clone(\"calo_\" + str(i))\n",
    "    \n",
    "    calo.SetAxisRange(energy_range[0], energy_range[1], \"y\")\n",
    "    \n",
    "    # rebin for if using the 10001 binning\n",
    "    #calo.RebinX(99)\n",
    "    \n",
    "    run1_hists.append(calo.Project3D(\"zx\"))"
   ]
  },
  {
   "cell_type": "code",
   "execution_count": 185,
   "metadata": {},
   "outputs": [],
   "source": [
    "# set up the run2C histograms\n",
    "run2_hists = []\n",
    "\n",
    "for i in range(1, 25):\n",
    "    calo2 = run2_file.Get(\"verticalPosition/clusters\" + str(i)).Clone(\"run2_calo_\" + str(i))\n",
    "    \n",
    "    calo2.SetAxisRange(energy_range[0], energy_range[1], \"y\")\n",
    "    \n",
    "    run2_hists.append(calo2.Project3D(\"zx\"))"
   ]
  },
  {
   "cell_type": "code",
   "execution_count": 186,
   "metadata": {},
   "outputs": [
    {
     "name": "stdout",
     "output_type": "stream",
     "text": [
      "101\n",
      "101\n"
     ]
    }
   ],
   "source": [
    "print(run2_hists[0].GetNbinsX())\n",
    "print(run1_hists[0].GetNbinsX())"
   ]
  },
  {
   "cell_type": "code",
   "execution_count": 187,
   "metadata": {},
   "outputs": [
    {
     "name": "stdout",
     "output_type": "stream",
     "text": [
      "4.37156\n",
      "4.37156\n"
     ]
    }
   ],
   "source": [
    "print(run2_hists[0].GetXaxis().GetBinWidth(9))\n",
    "print(run1_hists[0].GetXaxis().GetBinWidth(9))"
   ]
  },
  {
   "cell_type": "code",
   "execution_count": 188,
   "metadata": {},
   "outputs": [
    {
     "data": {
      "text/plain": [
       "True"
      ]
     },
     "execution_count": 188,
     "metadata": {},
     "output_type": "execute_result"
    }
   ],
   "source": [
    "len(run1_hists) == len(run2_hists)"
   ]
  },
  {
   "cell_type": "markdown",
   "metadata": {},
   "source": [
    "### Plotting Functions"
   ]
  },
  {
   "cell_type": "code",
   "execution_count": 156,
   "metadata": {},
   "outputs": [],
   "source": [
    "def plot_hist_stats(data2, name, mfit_lim, vfit_lim, pos_stats, var_stats):\n",
    "    \n",
    "    data = data2[(data2['TimeBin'] > 30) & (data2['TimeBin'] < 700)][:]\n",
    "    \n",
    "    mean_lim = [data['HistMean'].min() - 1, data['HistMean'].max() + 1]\n",
    "    sd_lim = [data['HistVar'].min() - 3, data['HistVar'].max() + 3]\n",
    "    \n",
    "   \n",
    "    fig, ax = plt.subplots(1, 2)\n",
    "    fig.set_size_inches(18, 10)\n",
    "    \n",
    "    ax[0].grid(color='xkcd:light grey', linestyle='-')\n",
    "    ax[1].grid(color='xkcd:light grey', linestyle='-')\n",
    "    \n",
    "    #-------------------------YPosition---------------------------------------\n",
    "    \n",
    "    fit_data = data[(data['TimeBin'] > mfit_lim[0]) & (data['TimeBin'] < mfit_lim[1])][:]\n",
    "    \n",
    "    ax[0].plot(data['TimeBin'], data['HistMean'], linestyle='none', marker='o',\n",
    "               color='xkcd:blue', markersize=4, label='Vertical Position');\n",
    "    ax[0].plot(fit_data['TimeBin'], fit_data['HistMean'], linestyle='None', marker='o',\n",
    "               color='xkcd:green', markersize=2, label='Included in Slope Fit');\n",
    "    ax[0].errorbar(data['TimeBin'], data['HistMean'], yerr=data['HistMeanError'],\n",
    "                   color='xkcd:blue', elinewidth=1, fmt='none');\n",
    "    \n",
    "    line = linear_func(pos_stats['a'], pos_stats['b'], mfit_lim)\n",
    "    \n",
    "    ax[0].plot(line[0], line[1], color='xkcd:green', linewidth=2, label='p0*t + p1');\n",
    "    ax[0].plot(data['TimeBin'], data['HistMean'], linestyle='none', markersize=0,\n",
    "               color='xkcd:green', label='p0: {0:.4e} ± {1:.4e}'.format(pos_stats['a'], pos_stats['a error']));\n",
    "    ax[0].plot(data['TimeBin'], data['HistMean'], linestyle='none', markersize=0,\n",
    "               color='xkcd:green', label='p1: {0:.4e} ± {1:.4e}'.format(pos_stats['b'], pos_stats['b error']));\n",
    "    ax[0].plot(data['TimeBin'], data['HistMean'], linestyle='none', markersize=0,\n",
    "               label='Chi2 / dof = {0:.2f}'.format(pos_stats['chi2']))\n",
    "    \n",
    "    ax[0].set_ylabel('Difference in Y (mm)', fontsize=16);\n",
    "    ax[0].set_xlabel('Time (μs)', fontsize=16);\n",
    "    ax[0].legend(loc=1, fontsize='large', labelspacing=1.5, framealpha=1);\n",
    "    ax[0].set_ylim(mean_lim[0], mean_lim[1]);\n",
    "    ax[0].set_title(dataset + '-run2C ' + 'Vertical Position', fontsize=20);\n",
    "    \n",
    "    #-------------------------Variance---------------------------------------\n",
    "    \n",
    "    fit_data = data[(data['TimeBin'] > vfit_lim[0]) & (data['TimeBin'] < vfit_lim[1])][:]\n",
    "    \n",
    "    ax[1].plot(data['TimeBin'], data['HistVar'], linestyle='none', marker='o',\n",
    "                  color='xkcd:blue', markersize=4, label='Variance');\n",
    "    ax[1].plot(fit_data['TimeBin'], fit_data['HistVar'], linestyle='None', marker='o',\n",
    "                  color='xkcd:green', markersize=2, label='Included in Slope Fit');\n",
    "    ax[1].errorbar(data['TimeBin'], data['HistVar'], yerr=data['HistVarError'],\n",
    "                      color='xkcd:blue', elinewidth=1, fmt='none')\n",
    "    \n",
    "    line = linear_func(var_stats['a'], var_stats['b'], vfit_lim)\n",
    "\n",
    "    ax[1].plot(line[0], line[1], color='xkcd:green', linewidth=2, label='p0*t + p1');\n",
    "    ax[1].plot(data['TimeBin'], data['HistVar'], linestyle='none', markersize=0, \n",
    "               color='xkcd:green', label='p0: {0:.4e} ± {1:.4e}'.format(var_stats['a'], var_stats['a error']));\n",
    "    ax[1].plot(data['TimeBin'], data['HistVar'], linestyle='none', markersize=0, \n",
    "               color='xkcd:green', label='p1: {0:.4e} ± {1:.4e}'.format(var_stats['b'], var_stats['b error']));\n",
    "    ax[1].plot(data['TimeBin'], data['HistVar'], linestyle='none', markersize=0, \n",
    "               label='Chi2 / dof = {0:.2f}'.format(var_stats['chi2']))\n",
    "    \n",
    "    ax[1].set_ylabel('Difference in Variance (mm^2)', fontsize=16);\n",
    "    ax[1].set_xlabel('Time (μs)', fontsize=16);\n",
    "    ax[1].legend(loc=0, fontsize='large', labelspacing=1.5, framealpha=1);\n",
    "    ax[1].set_ylim(sd_lim[0], sd_lim[1]);\n",
    "    ax[1].set_title(dataset + '-run2C ' + 'Variance', fontsize=20);\n",
    "    \n",
    "    #-------------------------Save Figure---------------------------------------\n",
    "\n",
    "    fig.suptitle(name, fontsize=20, y=1.05)\n",
    "    \n",
    "    fig.tight_layout()\n",
    "    plt.savefig(directory + name + '.png', bbox_inches='tight');\n",
    "    plt.close()\n",
    "    \n",
    "    return pos_stats, var_stats"
   ]
  },
  {
   "cell_type": "code",
   "execution_count": 157,
   "metadata": {},
   "outputs": [],
   "source": [
    "def plot_mean_per_calo():\n",
    "    \"\"\"\n",
    "    \n",
    "    \"\"\"\n",
    "    \n",
    "    data = pd.read_csv(directory + \"yposition_data.csv\")\n",
    "        \n",
    "    fig, ax = plt.subplots(1, 1)\n",
    "    fig.set_size_inches(11, 11)\n",
    "    ax.grid(color='xkcd:light grey', linestyle='-')\n",
    "    \n",
    "    ax.plot(data['caloNum'], data['a'], linestyle='none', marker='o',\n",
    "            color='xkcd:blue', markersize=4, label='Slope of Variance vs T');\n",
    "    ax.errorbar(data['caloNum'], data['a'], yerr=data['a error'],\n",
    "                color='xkcd:blue', elinewidth=1, fmt='none');\n",
    "    \n",
    "    ax.ticklabel_format(axis='y', style='sci', scilimits=(0,0))\n",
    "    \n",
    "    ax.set_ylabel('Difference in Slope of Y vs Time (mm/μs)', fontsize=16);\n",
    "    ax.set_xlabel('Calorimeter Number', fontsize=16);\n",
    "    ax.set_title(dataset + '-run2C ' + 'Vertical Position Slopes for 30<t<200μs and ' + str(energy_range[0]/1000) + \\\n",
    "                 '<E<' + str(energy_range[1]/1000) + 'GeV', fontsize=20, pad=20)\n",
    "    \n",
    "    fig.tight_layout();\n",
    "    plt.savefig(directory + 'y_slopes.png', bbox_inches='tight');\n",
    "    plt.close();"
   ]
  },
  {
   "cell_type": "code",
   "execution_count": 158,
   "metadata": {},
   "outputs": [],
   "source": [
    "def plot_width_per_calo():\n",
    "    \"\"\"\n",
    "    \n",
    "    \"\"\"\n",
    "\n",
    "    data = pd.read_csv(directory + \"variance_data.csv\")\n",
    "        \n",
    "    fig, ax = plt.subplots(1, 1)\n",
    "    fig.set_size_inches(11, 11)\n",
    "    ax.grid(color='xkcd:light grey', linestyle='-')\n",
    "    \n",
    "    ax.plot(data['caloNum'], data['a'], linestyle='none', marker='o',\n",
    "            color='xkcd:blue', markersize=4, label='Slope of Variance vs T');\n",
    "    ax.errorbar(data['caloNum'], data['a'], yerr=data['a error'],\n",
    "                color='xkcd:blue', elinewidth=1, fmt='none');\n",
    "    \n",
    "    ax.ticklabel_format(axis='y', style='sci', scilimits=(0,0))\n",
    "    \n",
    "    ax.set_ylabel('Difference in Slope of Variance vs Time (mm^2/μs)', fontsize=16);\n",
    "    ax.set_xlabel('Calorimeter Number', fontsize=16);\n",
    "    ax.set_title(dataset + '-run2C ' + 'Variance Slopes for 30<t<200μs and ' + str(energy_range[0]/1000) + \\\n",
    "                 '<E<' + str(energy_range[1]/1000) + 'GeV', fontsize=20, pad=20)\n",
    "    \n",
    "    fig.tight_layout();\n",
    "    plt.savefig(directory + 'var_slopes.png', bbox_inches='tight');\n",
    "    plt.close();"
   ]
  },
  {
   "cell_type": "markdown",
   "metadata": {},
   "source": [
    "### Calculation Functions"
   ]
  },
  {
   "cell_type": "code",
   "execution_count": 159,
   "metadata": {},
   "outputs": [],
   "source": [
    "def gaus_fit(hist, step=1):\n",
    "    \"\"\"\n",
    "    Performs a Gaussian fit on the distribution of Y hits for a time slice,\n",
    "    except it totally doesn't anymore at all\n",
    "    \n",
    "    hist: [TH2D] a histogram containing the y(t) data\n",
    "    step: [int] the size of each bin for fitting\n",
    "    no_spikes: [bool] if spikes should be removed. Defaults to False\n",
    "    \"\"\"\n",
    "    stats = []\n",
    "    \n",
    "    for index in range(0, hist.GetNbinsX()-step, step):\n",
    "        a = dict()\n",
    "        try:\n",
    "            proj = hist.ProjectionY(\"_py\", index, index+step)\n",
    "            \n",
    "            a['TimeBin']      = index*(hist.GetXaxis().GetXmax()/hist.GetNbinsX())\n",
    "            a['HistMean']     = (proj.GetMean() - 3) * 25.2\n",
    "            a['HistMeanError']= proj.GetMeanError() * 25.2\n",
    "            a['HistSD']       = proj.GetStdDev() * 25.2\n",
    "            a['HistSDError']  = proj.GetStdDevError() * 25.2\n",
    "            a['HistVar']      = (proj.GetStdDev() ** 2) * (25.2 ** 2)\n",
    "            a['HistVarError'] = 2 * abs(proj.GetStdDev()) * proj.GetStdDevError() * (25.2 ** 2)\n",
    "            a['Npoints']      = proj.GetEntries()\n",
    "            a['RMS']          = proj.GetRMS() * 25.2\n",
    "            a['RMSError']     = proj.GetRMSError() * 25.2\n",
    "                \n",
    "            stats.append(a)\n",
    "                \n",
    "        except:\n",
    "            continue\n",
    "\n",
    "    data = pd.DataFrame(columns=['TimeBin', 'HistMean',\n",
    "                                 'HistMeanError', 'HistSD', \n",
    "                                 'HistSDError', 'HistVar',\n",
    "                                 'HistVarError','Npoints', \n",
    "                                 'RMS', 'RMSError'])\n",
    "    \n",
    "    for index in range(0, len(stats)):\n",
    "        data.loc[index] = stats[index]\n",
    "    \n",
    "    return data"
   ]
  },
  {
   "cell_type": "code",
   "execution_count": 160,
   "metadata": {},
   "outputs": [],
   "source": [
    "def linear_fit(data2, mfit_lim=[30, 200], vfit_lim=[30, 200]):\n",
    "    \"\"\"\n",
    "    Perform a linear fit on the data\n",
    "    \"\"\"\n",
    "    data = data2.copy()\n",
    "    \n",
    "    # convert from crystal units to mm\n",
    "    \"\"\"\n",
    "    data['HistMean']         = (data['HistMean'] - 3) * 25.2\n",
    "    data['HistMeanError']    = data['HistMeanError'] * 25.2\n",
    "\n",
    "    data['HistVar']           = data['HistVar'] * 25.2 * 25.2\n",
    "    data['HistVarError']      = data['HistVarError'] * 25.2 * 25.2\n",
    "    \"\"\"\n",
    "    # -------------------------------------------------------------------\n",
    "    # Compute Mean Parameters\n",
    "    # -------------------------------------------------------------------\n",
    "    \n",
    "    # restrict the data for fitting to be within a predefined time range\n",
    "    fit_data = data[(data['TimeBin'] > mfit_lim[0]) & (data['TimeBin'] < mfit_lim[1])][:]\n",
    "        \n",
    "    # I do not know why, but having both cov=True and full=True does not return cov\n",
    "    stats_list = np.polyfit(fit_data['TimeBin'], fit_data['HistMean'], 1,\n",
    "                            full=True, w=1/fit_data['HistMeanError'])\n",
    "    coeff, cov = np.polyfit(fit_data['TimeBin'], fit_data['HistMean'], 1,\n",
    "                            full=False, cov=True, w=1/fit_data['HistMeanError'])\n",
    "        \n",
    "    line = linear_func(coeff[0], coeff[1], mfit_lim)\n",
    "        \n",
    "    # item [1] of stats_list is the fit residual\n",
    "    chisq_dof = stats_list[1][0] / (len(fit_data['TimeBin']) - 2)\n",
    "    param_errors = np.sqrt(np.diag(cov))\n",
    "    \n",
    "    pos_stats = [coeff[0], param_errors[0], coeff[1], param_errors[1], chisq_dof]\n",
    "    \n",
    "    # -------------------------------------------------------------------\n",
    "    # Compute Variance Parameters\n",
    "    # -------------------------------------------------------------------\n",
    "    \n",
    "    fit_data = data[(data['TimeBin'] > vfit_lim[0]) & (data['TimeBin'] < vfit_lim[1])][:]\n",
    "    \n",
    "    # I do not know why, but having both cov=True and full=True does not return cov\n",
    "    stats_list = np.polyfit(fit_data['TimeBin'], fit_data['HistVar'], 1,\n",
    "                            full=True, w=1/fit_data['HistVarError'])\n",
    "    coeff, cov = np.polyfit(fit_data['TimeBin'], fit_data['HistVar'], 1,\n",
    "                            full=False, cov=True, w=1/fit_data['HistVarError'])\n",
    "        \n",
    "    line = linear_func(coeff[0], coeff[1], vfit_lim)\n",
    "    \n",
    "    # item [1] of stats_list is the fit residual\n",
    "    chisq_dof = stats_list[1][0] / (len(fit_data['TimeBin']) - 2)\n",
    "    param_errors = np.sqrt(np.diag(cov))\n",
    "    \n",
    "    var_stats = [coeff[0], param_errors[0], coeff[1], param_errors[1], chisq_dof]\n",
    "    \n",
    "    return pos_stats, var_stats"
   ]
  },
  {
   "cell_type": "code",
   "execution_count": 161,
   "metadata": {},
   "outputs": [],
   "source": [
    "def linear_func(coef1, coef2, fit_lim):\n",
    "    \"\"\"\n",
    "    Makes a numpy linspace of a linear function\n",
    "    \"\"\"\n",
    "    \n",
    "    x = np.linspace(fit_lim[0], fit_lim[1], 100*(fit_lim[1]-fit_lim[0]))\n",
    "    y = coef1 * x + coef2\n",
    "    \n",
    "    return [x, y]"
   ]
  },
  {
   "cell_type": "code",
   "execution_count": 162,
   "metadata": {},
   "outputs": [],
   "source": [
    "def linear_func_scipy(x, a, b):\n",
    "    return a * x + b"
   ]
  },
  {
   "cell_type": "markdown",
   "metadata": {},
   "source": [
    "### Mains"
   ]
  },
  {
   "cell_type": "code",
   "execution_count": 189,
   "metadata": {},
   "outputs": [],
   "source": [
    "\"\"\"\n",
    "Individual Calo plots and fitting\n",
    "\"\"\"\n",
    "\n",
    "mean_limits = [30, 200]\n",
    "sd_limits = [30, 200]\n",
    "\n",
    "# this should almost definitely only be 1\n",
    "step = 1\n",
    "\n",
    "# set up a dataframe to store fit parameters to later\n",
    "pos_data = pd.DataFrame(columns = ['caloNum', 'a', 'a error', 'b', 'b error', 'chi2'])\n",
    "var_data = pd.DataFrame(columns = ['caloNum', 'a', 'a error', 'b', 'b error', 'chi2'])\n",
    "\n",
    "# iterate through the calos\n",
    "for num in range(0, len(run1_hists)):\n",
    "    \n",
    "    #-------------------------------------------\n",
    "    # Set up the calo\n",
    "    #-------------------------------------------\n",
    "    \n",
    "    caloNum = num + 1\n",
    "    \n",
    "    if (num < 9):\n",
    "        name = 'calo_0' + str(caloNum)\n",
    "    else:\n",
    "        name = 'calo_' + str(caloNum)\n",
    "        \n",
    "    \n",
    "    #-------------------------------------------\n",
    "    # Get the difference\n",
    "    #-------------------------------------------\n",
    "    \n",
    "    # get the histogram stats for this calo\n",
    "    run1_data = gaus_fit(run1_hists[num], step)\n",
    "    run2_data = gaus_fit(run2_hists[num], step)\n",
    "    \n",
    "    diff_data = pd.DataFrame(columns = ['TimeBin', 'HistMean',\n",
    "                                        'HistMeanError', 'HistVar',\n",
    "                                        'HistVarError'])\n",
    "    \n",
    "    # note that there may be a small difference between these two, on\n",
    "    # the order of 0.001μs\n",
    "    diff_data['TimeBin'] = run2_data['TimeBin']\n",
    "    \n",
    "    diff_data['HistMean'] = run1_data['HistMean'] - run2_data['HistMean']\n",
    "    diff_data['HistVar'] = run1_data['HistVar'] - run2_data['HistVar']\n",
    "    \n",
    "    diff_data['HistMeanError'] = np.sqrt(run1_data['HistMeanError'] ** 2 + \\\n",
    "                                         run2_data['HistMeanError'] ** 2)\n",
    "    diff_data['HistVarError'] = np.sqrt(run1_data['HistVarError'] ** 2 + \\\n",
    "                                        run2_data['HistVarError'] ** 2)\n",
    "    \n",
    "    #-------------------------------------------\n",
    "    # Do the graphing stuff\n",
    "    #-------------------------------------------\n",
    "    \n",
    "    # do a fit, and get the parameters\n",
    "    pos_stats, var_stats = linear_fit(diff_data, mfit_lim=mean_limits,\n",
    "                                      vfit_lim=sd_limits)\n",
    "    \n",
    "    # save the fit parameters to a dataframe row\n",
    "    pos_data.loc[num] = {'caloNum':caloNum, 'a':pos_stats[0],\n",
    "                         'a error':pos_stats[1], 'b':pos_stats[2],\n",
    "                         'b error':pos_stats[3], 'chi2':pos_stats[4]}\n",
    "    var_data.loc[num] = {'caloNum':caloNum, 'a':var_stats[0],\n",
    "                         'a error':var_stats[1], 'b':var_stats[2],\n",
    "                         'b error':var_stats[3], 'chi2':var_stats[4]}\n",
    "    \n",
    "    # make a plot of the calo mean and variance, with the fit stuff too\n",
    "    plot_hist_stats(diff_data, name, mean_limits, sd_limits,\n",
    "                    pos_data.loc[num], var_data.loc[num])\n",
    "    \n",
    "    \n",
    "# save the fit parameter dataframe to a csv for re-use\n",
    "pos_data.to_csv(directory + \"yposition_data.csv\")\n",
    "var_data.to_csv(directory + \"variance_data.csv\")"
   ]
  },
  {
   "cell_type": "code",
   "execution_count": 190,
   "metadata": {},
   "outputs": [],
   "source": [
    "\"\"\"\n",
    "Plot the slopes from each calo\n",
    "\"\"\"\n",
    "\n",
    "fit_limits = [30, 200]\n",
    "step = 1\n",
    "\n",
    "plot_width_per_calo()\n",
    "plot_mean_per_calo()"
   ]
  },
  {
   "cell_type": "code",
   "execution_count": null,
   "metadata": {},
   "outputs": [],
   "source": []
  }
 ],
 "metadata": {
  "kernelspec": {
   "display_name": "Python 3",
   "language": "python",
   "name": "python3"
  },
  "language_info": {
   "codemirror_mode": {
    "name": "ipython",
    "version": 3
   },
   "file_extension": ".py",
   "mimetype": "text/x-python",
   "name": "python",
   "nbconvert_exporter": "python",
   "pygments_lexer": "ipython3",
   "version": "3.7.5"
  }
 },
 "nbformat": 4,
 "nbformat_minor": 4
}
