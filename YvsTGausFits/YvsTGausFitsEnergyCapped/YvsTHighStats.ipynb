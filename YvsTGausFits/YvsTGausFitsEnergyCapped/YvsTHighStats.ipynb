{
 "cells": [
  {
   "cell_type": "code",
   "execution_count": 1,
   "metadata": {},
   "outputs": [
    {
     "name": "stdout",
     "output_type": "stream",
     "text": [
      "Welcome to JupyROOT 6.18/04\n"
     ]
    }
   ],
   "source": [
    "import ROOT as r\n",
    "import pandas as pd\n",
    "import matplotlib.pyplot as plt\n",
    "import math\n",
    "import numpy as np\n",
    "import colorsys\n",
    "from scipy import optimize\n",
    "import os\n",
    "\n",
    "plt.style.use('ggplot')"
   ]
  },
  {
   "cell_type": "code",
   "execution_count": 2,
   "metadata": {},
   "outputs": [],
   "source": [
    "\"\"\"\n",
    "Import bigass histograms with all the endgame data, and get the energy projections you want\n",
    "\"\"\"\n",
    "\n",
    "f = r.TFile(\"../endgame/EndgameData90Percent.root\")\n",
    "\n",
    "energy_range = [1000, 3100]\n",
    "\n",
    "calo_hists = []\n",
    "\n",
    "for i in range(1, 25):\n",
    "    calo = f.Get(\"verticalPosition/clusters\" + str(i)).Clone(\"calo_\" + str(i))\n",
    "    \n",
    "    calo.SetAxisRange(energy_range[0], energy_range[1], \"y\")\n",
    "    calo_hists.append(calo.Project3D(\"zx\"))"
   ]
  },
  {
   "cell_type": "code",
   "execution_count": 16,
   "metadata": {},
   "outputs": [],
   "source": [
    "def periodic(x, a, b, c, d):\n",
    "    return a * np.exp(x / b) * np.cos(c * x + d)\n",
    "    #return a * np.cos(c * x + d)"
   ]
  },
  {
   "cell_type": "code",
   "execution_count": 7,
   "metadata": {},
   "outputs": [],
   "source": [
    "def reject(y, p):\n",
    "    dec = abs(y[0] % 1)\n",
    "    if( dec  < 0.6 and 0.4 < dec ):\n",
    "        r.TF1.RejectPoint()\n",
    "        return 0\n",
    "    else:\n",
    "        return p[0]*math.exp(-((y[0]-p[1])**2)/(2*(p[2]**2)))"
   ]
  },
  {
   "cell_type": "code",
   "execution_count": 8,
   "metadata": {},
   "outputs": [],
   "source": [
    "def gaus_fit(hist, step, no_spikes=True):\n",
    "    \"\"\"\n",
    "    Performs a Gaussian fit on the distribution of Y hits for a time slice\n",
    "    \n",
    "    hist: [TH2D] a histogram containing the y(t) data\n",
    "    step: [int] the size of each bin for fitting\n",
    "    no_spikes: [bool] if spikes should be removed. Defaults to False\n",
    "    \"\"\"\n",
    "    stats = []\n",
    "    \n",
    "    for index in range(0, hist.GetNbinsX()-step, step):\n",
    "        a = dict()\n",
    "        try:\n",
    "            proj = hist.ProjectionY(\"_py\", index, index+step)\n",
    "            the_fit = proj.Fit(\"gaus\", \"SNQ\")\n",
    "            \n",
    "            a['TimeBin']      = index*(hist.GetXaxis().GetXmax()/hist.GetNbinsX())\n",
    "            a['GausConst']    = the_fit.Parameter(0)\n",
    "            a['GausMean']     = the_fit.Parameter(1)\n",
    "            a['GausMeanError']= the_fit.Error(1)\n",
    "            a['GausSD']       = the_fit.Parameter(2)\n",
    "            a['GausSDError']  = the_fit.Error(2)\n",
    "            a['ChiSquare']    = the_fit.Chi2() / the_fit.Ndf()\n",
    "            \n",
    "            a['HistMean']     = proj.GetMean()\n",
    "            a['HistMeanError']= proj.GetMeanError()\n",
    "            a['HistSD']       = proj.GetStdDev()\n",
    "            a['HistSDError']  = proj.GetStdDevError()\n",
    "            a['Npoints']      = proj.GetEntries()\n",
    "            a['RMS']          = proj.GetRMS()\n",
    "            a['RMSError']     = proj.GetRMSError()\n",
    "            a['Skewness']     = proj.GetSkewness()\n",
    "                    \n",
    "            if(no_spikes == True):\n",
    "                func = r.TF1(\"func\", reject, 0, 6, 3)\n",
    "                func.SetParameters(1, 1, 1)\n",
    "                the_fit_ns = proj.Fit(func, \"SNQ\")\n",
    "                  \n",
    "                a['GausConst_ns']     = the_fit_ns.Parameter(0)\n",
    "                a['GausMean_ns']      = the_fit_ns.Parameter(1)\n",
    "                a['GausMeanError_ns'] = the_fit_ns.Error(1)\n",
    "                a['GausSD_ns']        = abs(the_fit_ns.Parameter(2))\n",
    "                a['GausSDError_ns']   = the_fit_ns.Error(2)\n",
    "                a['ChiSquare_ns']     = the_fit_ns.Chi2() / the_fit.Ndf()\n",
    "                \n",
    "            else:     # no_spikes == False\n",
    "                a['GausConst_ns']     = 0\n",
    "                a['GausMean_ns']      = 0\n",
    "                a['GausMeanError_ns'] = 0\n",
    "                a['GausSD_ns']        = 0\n",
    "                a['ChiSquare_ns']     = 0\n",
    "                \n",
    "            stats.append(a)\n",
    "                \n",
    "        except:\n",
    "            continue\n",
    "\n",
    "    # print(stats)\n",
    "    data = pd.DataFrame(columns=['TimeBin', 'GausConst', 'GausMean', 'GausMeanError',\n",
    "                                 'GausSD', 'GausSDError', 'ChiSquare', 'HistMean',\n",
    "                                 'HistMeanError', 'HistSD', 'HistSDError', 'Npoints', 'RMS',\n",
    "                                 'Skewness', 'RMSError', 'GausConst_ns',\n",
    "                                 'GausMean_ns', 'GausMeanError_ns',\n",
    "                                 'GausSD_ns', 'GausSDError_ns', 'ChiSquare_ns'])\n",
    "    \n",
    "    for index in range(0, len(stats)):\n",
    "        data.loc[index] = stats[index]\n",
    "    \n",
    "    return data"
   ]
  },
  {
   "cell_type": "code",
   "execution_count": 9,
   "metadata": {},
   "outputs": [],
   "source": [
    "def width_at_calo(data, fit_lim=[30, 400]):\n",
    "    \"\"\"\n",
    "    Compute the mean width of the beam at a certain calorimeter. Returns this value\n",
    "    \"\"\"\n",
    "    return data[(data['TimeBin'] > fit_lim[0]) & (data['TimeBin'] < fit_lim[1])]['HistSD'].mean()"
   ]
  },
  {
   "cell_type": "code",
   "execution_count": 10,
   "metadata": {},
   "outputs": [],
   "source": [
    "def linear_func(coef1, coef2, fit_lim):\n",
    "    \"\"\"\n",
    "    Makes a numpy linspace of a linear function\n",
    "    \"\"\"\n",
    "    \n",
    "    x = np.linspace(fit_lim[0], fit_lim[1], 100*(fit_lim[1]-fit_lim[0]))\n",
    "    y = coef1 * x + coef2\n",
    "    \n",
    "    return [x, y]"
   ]
  },
  {
   "cell_type": "code",
   "execution_count": 11,
   "metadata": {},
   "outputs": [],
   "source": [
    "def linear_func_scipy(x, a, b):\n",
    "    return a * x + b"
   ]
  },
  {
   "cell_type": "code",
   "execution_count": 18,
   "metadata": {},
   "outputs": [
    {
     "name": "stderr",
     "output_type": "stream",
     "text": [
      "/home/lars/miniconda3/lib/python3.7/site-packages/ipykernel_launcher.py:15: RankWarning: Polyfit may be poorly conditioned\n",
      "  from ipykernel import kernelapp as app\n",
      "/home/lars/miniconda3/lib/python3.7/site-packages/ipykernel_launcher.py:15: RankWarning: Polyfit may be poorly conditioned\n",
      "  from ipykernel import kernelapp as app\n"
     ]
    },
    {
     "ename": "LinAlgError",
     "evalue": "Singular matrix",
     "output_type": "error",
     "traceback": [
      "\u001b[0;31m---------------------------------------------------------------------------\u001b[0m",
      "\u001b[0;31mLinAlgError\u001b[0m                               Traceback (most recent call last)",
      "\u001b[0;32m<ipython-input-18-1efe234d1817>\u001b[0m in \u001b[0;36m<module>\u001b[0;34m\u001b[0m\n\u001b[1;32m     13\u001b[0m     \u001b[0;32mif\u001b[0m \u001b[0;34m(\u001b[0m\u001b[0mnum\u001b[0m \u001b[0;34m<\u001b[0m \u001b[0;36m9\u001b[0m\u001b[0;34m)\u001b[0m\u001b[0;34m:\u001b[0m\u001b[0;34m\u001b[0m\u001b[0;34m\u001b[0m\u001b[0m\n\u001b[1;32m     14\u001b[0m         plot_fit_results(gaus_fit(calo_hists[num], step, no_spikes=True), 'calo_0' + str(num + 1),\n\u001b[0;32m---> 15\u001b[0;31m                          mean_lim=mean_limits, sd_lim=sd_limits, fit_lim=fit_limits)\n\u001b[0m\u001b[1;32m     16\u001b[0m     \u001b[0;32melse\u001b[0m\u001b[0;34m:\u001b[0m\u001b[0;34m\u001b[0m\u001b[0;34m\u001b[0m\u001b[0m\n\u001b[1;32m     17\u001b[0m         plot_fit_results(gaus_fit(calo_hists[num], step, no_spikes=True), 'calo_' + str(num + 1),\n",
      "\u001b[0;32m<ipython-input-17-1920ebad266d>\u001b[0m in \u001b[0;36mplot_fit_results\u001b[0;34m(data2, fig_name, mean_lim, sd_lim, fit_lim)\u001b[0m\n\u001b[1;32m     84\u001b[0m                             full=True) #, w=1/fit_data['HistSDError']\n\u001b[1;32m     85\u001b[0m     coeff, cov = np.polyfit(fit_data['TimeBin'], fit_data['HistSD'], 1,\n\u001b[0;32m---> 86\u001b[0;31m                             full=False, cov=True, w=1/fit_data['HistSDError'])\n\u001b[0m\u001b[1;32m     87\u001b[0m \u001b[0;34m\u001b[0m\u001b[0m\n\u001b[1;32m     88\u001b[0m     \u001b[0mline\u001b[0m \u001b[0;34m=\u001b[0m \u001b[0mlinear_func\u001b[0m\u001b[0;34m(\u001b[0m\u001b[0mcoeff\u001b[0m\u001b[0;34m[\u001b[0m\u001b[0;36m0\u001b[0m\u001b[0;34m]\u001b[0m\u001b[0;34m,\u001b[0m \u001b[0mcoeff\u001b[0m\u001b[0;34m[\u001b[0m\u001b[0;36m1\u001b[0m\u001b[0;34m]\u001b[0m\u001b[0;34m,\u001b[0m \u001b[0mfit_lim\u001b[0m\u001b[0;34m)\u001b[0m\u001b[0;34m\u001b[0m\u001b[0;34m\u001b[0m\u001b[0m\n",
      "\u001b[0;32m<__array_function__ internals>\u001b[0m in \u001b[0;36mpolyfit\u001b[0;34m(*args, **kwargs)\u001b[0m\n",
      "\u001b[0;32m~/miniconda3/lib/python3.7/site-packages/numpy/lib/polynomial.py\u001b[0m in \u001b[0;36mpolyfit\u001b[0;34m(x, y, deg, rcond, full, w, cov)\u001b[0m\n\u001b[1;32m    640\u001b[0m         \u001b[0;32mreturn\u001b[0m \u001b[0mc\u001b[0m\u001b[0;34m,\u001b[0m \u001b[0mresids\u001b[0m\u001b[0;34m,\u001b[0m \u001b[0mrank\u001b[0m\u001b[0;34m,\u001b[0m \u001b[0ms\u001b[0m\u001b[0;34m,\u001b[0m \u001b[0mrcond\u001b[0m\u001b[0;34m\u001b[0m\u001b[0;34m\u001b[0m\u001b[0m\n\u001b[1;32m    641\u001b[0m     \u001b[0;32melif\u001b[0m \u001b[0mcov\u001b[0m\u001b[0;34m:\u001b[0m\u001b[0;34m\u001b[0m\u001b[0;34m\u001b[0m\u001b[0m\n\u001b[0;32m--> 642\u001b[0;31m         \u001b[0mVbase\u001b[0m \u001b[0;34m=\u001b[0m \u001b[0minv\u001b[0m\u001b[0;34m(\u001b[0m\u001b[0mdot\u001b[0m\u001b[0;34m(\u001b[0m\u001b[0mlhs\u001b[0m\u001b[0;34m.\u001b[0m\u001b[0mT\u001b[0m\u001b[0;34m,\u001b[0m \u001b[0mlhs\u001b[0m\u001b[0;34m)\u001b[0m\u001b[0;34m)\u001b[0m\u001b[0;34m\u001b[0m\u001b[0;34m\u001b[0m\u001b[0m\n\u001b[0m\u001b[1;32m    643\u001b[0m         \u001b[0mVbase\u001b[0m \u001b[0;34m/=\u001b[0m \u001b[0mNX\u001b[0m\u001b[0;34m.\u001b[0m\u001b[0mouter\u001b[0m\u001b[0;34m(\u001b[0m\u001b[0mscale\u001b[0m\u001b[0;34m,\u001b[0m \u001b[0mscale\u001b[0m\u001b[0;34m)\u001b[0m\u001b[0;34m\u001b[0m\u001b[0;34m\u001b[0m\u001b[0m\n\u001b[1;32m    644\u001b[0m         \u001b[0;32mif\u001b[0m \u001b[0mcov\u001b[0m \u001b[0;34m==\u001b[0m \u001b[0;34m\"unscaled\"\u001b[0m\u001b[0;34m:\u001b[0m\u001b[0;34m\u001b[0m\u001b[0;34m\u001b[0m\u001b[0m\n",
      "\u001b[0;32m<__array_function__ internals>\u001b[0m in \u001b[0;36minv\u001b[0;34m(*args, **kwargs)\u001b[0m\n",
      "\u001b[0;32m~/miniconda3/lib/python3.7/site-packages/numpy/linalg/linalg.py\u001b[0m in \u001b[0;36minv\u001b[0;34m(a)\u001b[0m\n\u001b[1;32m    549\u001b[0m     \u001b[0msignature\u001b[0m \u001b[0;34m=\u001b[0m \u001b[0;34m'D->D'\u001b[0m \u001b[0;32mif\u001b[0m \u001b[0misComplexType\u001b[0m\u001b[0;34m(\u001b[0m\u001b[0mt\u001b[0m\u001b[0;34m)\u001b[0m \u001b[0;32melse\u001b[0m \u001b[0;34m'd->d'\u001b[0m\u001b[0;34m\u001b[0m\u001b[0;34m\u001b[0m\u001b[0m\n\u001b[1;32m    550\u001b[0m     \u001b[0mextobj\u001b[0m \u001b[0;34m=\u001b[0m \u001b[0mget_linalg_error_extobj\u001b[0m\u001b[0;34m(\u001b[0m\u001b[0m_raise_linalgerror_singular\u001b[0m\u001b[0;34m)\u001b[0m\u001b[0;34m\u001b[0m\u001b[0;34m\u001b[0m\u001b[0m\n\u001b[0;32m--> 551\u001b[0;31m     \u001b[0mainv\u001b[0m \u001b[0;34m=\u001b[0m \u001b[0m_umath_linalg\u001b[0m\u001b[0;34m.\u001b[0m\u001b[0minv\u001b[0m\u001b[0;34m(\u001b[0m\u001b[0ma\u001b[0m\u001b[0;34m,\u001b[0m \u001b[0msignature\u001b[0m\u001b[0;34m=\u001b[0m\u001b[0msignature\u001b[0m\u001b[0;34m,\u001b[0m \u001b[0mextobj\u001b[0m\u001b[0;34m=\u001b[0m\u001b[0mextobj\u001b[0m\u001b[0;34m)\u001b[0m\u001b[0;34m\u001b[0m\u001b[0;34m\u001b[0m\u001b[0m\n\u001b[0m\u001b[1;32m    552\u001b[0m     \u001b[0;32mreturn\u001b[0m \u001b[0mwrap\u001b[0m\u001b[0;34m(\u001b[0m\u001b[0mainv\u001b[0m\u001b[0;34m.\u001b[0m\u001b[0mastype\u001b[0m\u001b[0;34m(\u001b[0m\u001b[0mresult_t\u001b[0m\u001b[0;34m,\u001b[0m \u001b[0mcopy\u001b[0m\u001b[0;34m=\u001b[0m\u001b[0;32mFalse\u001b[0m\u001b[0;34m)\u001b[0m\u001b[0;34m)\u001b[0m\u001b[0;34m\u001b[0m\u001b[0;34m\u001b[0m\u001b[0m\n\u001b[1;32m    553\u001b[0m \u001b[0;34m\u001b[0m\u001b[0m\n",
      "\u001b[0;32m~/miniconda3/lib/python3.7/site-packages/numpy/linalg/linalg.py\u001b[0m in \u001b[0;36m_raise_linalgerror_singular\u001b[0;34m(err, flag)\u001b[0m\n\u001b[1;32m     95\u001b[0m \u001b[0;34m\u001b[0m\u001b[0m\n\u001b[1;32m     96\u001b[0m \u001b[0;32mdef\u001b[0m \u001b[0m_raise_linalgerror_singular\u001b[0m\u001b[0;34m(\u001b[0m\u001b[0merr\u001b[0m\u001b[0;34m,\u001b[0m \u001b[0mflag\u001b[0m\u001b[0;34m)\u001b[0m\u001b[0;34m:\u001b[0m\u001b[0;34m\u001b[0m\u001b[0;34m\u001b[0m\u001b[0m\n\u001b[0;32m---> 97\u001b[0;31m     \u001b[0;32mraise\u001b[0m \u001b[0mLinAlgError\u001b[0m\u001b[0;34m(\u001b[0m\u001b[0;34m\"Singular matrix\"\u001b[0m\u001b[0;34m)\u001b[0m\u001b[0;34m\u001b[0m\u001b[0;34m\u001b[0m\u001b[0m\n\u001b[0m\u001b[1;32m     98\u001b[0m \u001b[0;34m\u001b[0m\u001b[0m\n\u001b[1;32m     99\u001b[0m \u001b[0;32mdef\u001b[0m \u001b[0m_raise_linalgerror_nonposdef\u001b[0m\u001b[0;34m(\u001b[0m\u001b[0merr\u001b[0m\u001b[0;34m,\u001b[0m \u001b[0mflag\u001b[0m\u001b[0;34m)\u001b[0m\u001b[0;34m:\u001b[0m\u001b[0;34m\u001b[0m\u001b[0;34m\u001b[0m\u001b[0m\n",
      "\u001b[0;31mLinAlgError\u001b[0m: Singular matrix"
     ]
    },
    {
     "data": {
      "image/png": "[encoded data removed]",
      "text/plain": [
       "<Figure size 1296x864 with 6 Axes>"
      ]
     },
     "metadata": {
      "needs_background": "light"
     },
     "output_type": "display_data"
    }
   ],
   "source": [
    "\"\"\"\n",
    "Main fit result plotting\n",
    "\n",
    "Run this to generate the graphs for the fit results per calorimeter\n",
    "\"\"\"\n",
    "\n",
    "fit_limits = [30, 200]\n",
    "mean_limits = [-10, 10]\n",
    "sd_limits = [-10, 40]\n",
    "step = 23\n",
    "\n",
    "for num in range(0, len(calo_hists)):\n",
    "    if (num < 9):\n",
    "        plot_fit_results(gaus_fit(calo_hists[num], step, no_spikes=True), 'calo_0' + str(num + 1),\n",
    "                         mean_lim=mean_limits, sd_lim=sd_limits, fit_lim=fit_limits)\n",
    "    else:\n",
    "        plot_fit_results(gaus_fit(calo_hists[num], step, no_spikes=True), 'calo_' + str(num + 1),\n",
    "                         mean_lim=mean_limits, sd_lim=sd_limits, fit_lim=fit_limits)"
   ]
  },
  {
   "cell_type": "code",
   "execution_count": null,
   "metadata": {},
   "outputs": [],
   "source": []
  }
 ],
 "metadata": {
  "kernelspec": {
   "display_name": "Python 3",
   "language": "python",
   "name": "python3"
  },
  "language_info": {
   "codemirror_mode": {
    "name": "ipython",
    "version": 3
   },
   "file_extension": ".py",
   "mimetype": "text/x-python",
   "name": "python",
   "nbconvert_exporter": "python",
   "pygments_lexer": "ipython3",
   "version": "3.7.5"
  }
 },
 "nbformat": 4,
 "nbformat_minor": 4
}
