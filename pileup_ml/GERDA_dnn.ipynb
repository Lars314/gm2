{
 "cells": [
  {
   "cell_type": "code",
   "execution_count": 2,
   "metadata": {},
   "outputs": [
    {
     "name": "stdout",
     "output_type": "stream",
     "text": [
      "Welcome to JupyROOT 6.18/04\n"
     ]
    }
   ],
   "source": [
    "import ROOT as r\n",
    "import pandas as pd\n",
    "import matplotlib.pyplot as plt\n",
    "import numpy as np\n",
    "import sklearn as skl\n",
    "import pickle\n",
    "import spliland\n",
    "import importlib\n",
    "import random\n",
    "import fclParse\n",
    "from scipy import stats\n",
    "from sklearn.metrics import classification_report, confusion_matrix\n",
    "# TensorFlow and tf.keras\n",
    "import tensorflow as tf\n",
    "from tensorflow import keras"
   ]
  },
  {
   "cell_type": "code",
   "execution_count": 3,
   "metadata": {},
   "outputs": [],
   "source": [
    "directory = './template_data/set_7/'"
   ]
  },
  {
   "cell_type": "code",
   "execution_count": 4,
   "metadata": {},
   "outputs": [],
   "source": [
    "tf.config.run_functions_eagerly(True)"
   ]
  },
  {
   "cell_type": "markdown",
   "metadata": {},
   "source": [
    "## Intro\n",
    "\n",
    "The purpose of this notebook is to make a second attempt at a neural network, following along with what was described in the paper \"Deep Learning Based Pulse Shape Analysis for GERDA\" by Philipp Holl in 2017. This algorithm consists of an autoencoder, decoder, and then classifier.\n",
    "\n",
    "I am also following this guide: https://keras.io/examples/timeseries/timeseries_anomaly_detection/ for the implementation of the layers described in the paper into python"
   ]
  },
  {
   "cell_type": "markdown",
   "metadata": {},
   "source": [
    "### Prep the data"
   ]
  },
  {
   "cell_type": "code",
   "execution_count": 5,
   "metadata": {},
   "outputs": [],
   "source": [
    "n_points = 8000\n",
    "\n",
    "with open(directory + 'x_train.data', 'rb') as xFile:\n",
    "    biggestX = pickle.load(xFile)\n",
    "    x_train = []\n",
    "    for x in biggestX[:n_points]:\n",
    "        x_train.append(x[1])\n",
    "    xFile.close()\n",
    "    \n",
    "with open(directory + 'x_test.data', 'rb') as xFile:\n",
    "    biggestX = pickle.load(xFile)\n",
    "    x_test = []\n",
    "    for x in biggestX[:2000]:\n",
    "        x_test.append(x[1])\n",
    "    xFile.close()\n",
    "\n",
    "with open(directory + 'y_train.data', 'rb') as yFile:\n",
    "    biggestY = pickle.load(yFile)\n",
    "    y_train = biggestY[:n_points]\n",
    "    yFile.close()\n",
    "    \n",
    "with open(directory + 'y_test.data', 'rb') as yFile:\n",
    "    biggestY = pickle.load(yFile)\n",
    "    y_test = biggestY[:2000]\n",
    "    yFile.close()\n",
    "    \n",
    "with open(directory + 'x_delta_train.data', 'rb') as xFile:\n",
    "    biggestX = pickle.load(xFile)\n",
    "    x_delta_train = []\n",
    "    for x in biggestX[:n_points]:\n",
    "        x_delta_train.append(x[1])\n",
    "    xFile.close()\n",
    "    \n",
    "with open(directory + 'x_delta_test.data', 'rb') as xFile:\n",
    "    biggestX = pickle.load(xFile)\n",
    "    x_delta_test = []\n",
    "    for x in biggestX[:2000]:\n",
    "        x_delta_test.append(x[1])\n",
    "    xFile.close()\n",
    "    \n",
    "x_train = np.array(x_train)\n",
    "x_test = np.array(x_test)\n",
    "y_train = np.array(y_train)\n",
    "y_test = np.array(y_test)\n",
    "x_delta_train = np.array(x_delta_train)\n",
    "x_delta_test = np.array(x_delta_test)"
   ]
  },
  {
   "cell_type": "code",
   "execution_count": 6,
   "metadata": {},
   "outputs": [],
   "source": [
    "X_train = np.reshape(x_train, (n_points, 404, 1))\n",
    "X_delta_train = np.reshape(x_delta_train, (n_points, 404, 1))"
   ]
  },
  {
   "cell_type": "code",
   "execution_count": 7,
   "metadata": {},
   "outputs": [
    {
     "data": {
      "text/plain": [
       "(8000, 404, 1)"
      ]
     },
     "execution_count": 7,
     "metadata": {},
     "output_type": "execute_result"
    }
   ],
   "source": [
    "X_train.shape"
   ]
  },
  {
   "cell_type": "code",
   "execution_count": 8,
   "metadata": {},
   "outputs": [],
   "source": [
    "Y_train = np.reshape(y_train, (n_points, 1))"
   ]
  },
  {
   "cell_type": "markdown",
   "metadata": {},
   "source": [
    "### Autoencoder\n",
    "As described in the paper, this step consists of a convolutional layer, followed by a fully connected layer to create a feature vector. In keras, a fully connected layer is called a dense layer"
   ]
  },
  {
   "cell_type": "code",
   "execution_count": 16,
   "metadata": {},
   "outputs": [],
   "source": [
    "encoder_model = keras.Sequential([\n",
    "    keras.layers.Input(shape=(x_train.shape[1], 1)),\n",
    "    # encoding\n",
    "    keras.layers.Conv1D(filters=1, kernel_size=9, activation='relu'),\n",
    "    keras.layers.MaxPooling1D(pool_size=4),\n",
    "    keras.layers.Dense(50, activation='relu'),\n",
    "\n",
    "    # decoding\n",
    "    keras.layers.Dense(50, activation='relu'),\n",
    "    keras.layers.UpSampling1D(size=4),\n",
    "    keras.layers.Conv1DTranspose(filters=1, kernel_size=9, activation='relu')\n",
    "])"
   ]
  },
  {
   "cell_type": "code",
   "execution_count": 17,
   "metadata": {},
   "outputs": [],
   "source": [
    "encoder_model.compile(optimizer = 'adam', loss='mse')"
   ]
  },
  {
   "cell_type": "code",
   "execution_count": 18,
   "metadata": {},
   "outputs": [
    {
     "name": "stdout",
     "output_type": "stream",
     "text": [
      "Epoch 1/50\n",
      " 3/50 [>.............................] - ETA: 1s - loss: 1.8899e-04"
     ]
    },
    {
     "name": "stderr",
     "output_type": "stream",
     "text": [
      "/home/lars/miniconda3/lib/python3.7/site-packages/tensorflow/python/data/ops/dataset_ops.py:3350: UserWarning: Even though the tf.config.experimental_run_functions_eagerly option is set, this option does not apply to tf.data functions. tf.data functions are still traced and executed as graphs.\n",
      "  \"Even though the tf.config.experimental_run_functions_eagerly \"\n"
     ]
    },
    {
     "name": "stdout",
     "output_type": "stream",
     "text": [
      "50/50 [==============================] - 2s 38ms/step - loss: 2.0060e-04 - val_loss: 2.0656e-04\n",
      "Epoch 2/50\n",
      "50/50 [==============================] - 2s 36ms/step - loss: 2.0060e-04 - val_loss: 2.0656e-04\n",
      "Epoch 3/50\n",
      "50/50 [==============================] - 2s 41ms/step - loss: 2.0060e-04 - val_loss: 2.0656e-04\n",
      "Epoch 4/50\n",
      "50/50 [==============================] - 2s 49ms/step - loss: 2.0060e-04 - val_loss: 2.0656e-04\n",
      "Epoch 5/50\n",
      "50/50 [==============================] - 3s 50ms/step - loss: 2.0060e-04 - val_loss: 2.0656e-04\n",
      "Epoch 6/50\n",
      "50/50 [==============================] - 2s 50ms/step - loss: 2.0060e-04 - val_loss: 2.0656e-04\n",
      "Epoch 7/50\n",
      "50/50 [==============================] - 3s 51ms/step - loss: 2.0060e-04 - val_loss: 2.0656e-04\n",
      "Epoch 8/50\n",
      "50/50 [==============================] - 2s 48ms/step - loss: 2.0060e-04 - val_loss: 2.0656e-04\n",
      "Epoch 9/50\n",
      "50/50 [==============================] - 2s 49ms/step - loss: 2.0060e-04 - val_loss: 2.0656e-04\n",
      "Epoch 10/50\n",
      "50/50 [==============================] - 3s 50ms/step - loss: 2.0060e-04 - val_loss: 2.0656e-04\n",
      "Epoch 11/50\n",
      "50/50 [==============================] - 2s 49ms/step - loss: 2.0060e-04 - val_loss: 2.0656e-04\n",
      "Epoch 12/50\n",
      "50/50 [==============================] - 2s 48ms/step - loss: 2.0060e-04 - val_loss: 2.0656e-04\n",
      "Epoch 13/50\n",
      "50/50 [==============================] - 2s 48ms/step - loss: 2.0060e-04 - val_loss: 2.0656e-04\n",
      "Epoch 14/50\n",
      "50/50 [==============================] - 2s 48ms/step - loss: 2.0060e-04 - val_loss: 2.0656e-04\n",
      "Epoch 15/50\n",
      "50/50 [==============================] - 2s 48ms/step - loss: 2.0060e-04 - val_loss: 2.0656e-04\n",
      "Epoch 16/50\n",
      "50/50 [==============================] - 3s 53ms/step - loss: 2.0060e-04 - val_loss: 2.0656e-04\n",
      "Epoch 17/50\n",
      "50/50 [==============================] - 2s 49ms/step - loss: 2.0060e-04 - val_loss: 2.0656e-04\n",
      "Epoch 18/50\n",
      "50/50 [==============================] - 2s 49ms/step - loss: 2.0060e-04 - val_loss: 2.0656e-04\n",
      "Epoch 19/50\n",
      "50/50 [==============================] - 2s 49ms/step - loss: 2.0060e-04 - val_loss: 2.0656e-04\n",
      "Epoch 20/50\n",
      "50/50 [==============================] - 2s 48ms/step - loss: 2.0060e-04 - val_loss: 2.0656e-04\n",
      "Epoch 21/50\n",
      "50/50 [==============================] - 2s 49ms/step - loss: 2.0060e-04 - val_loss: 2.0656e-04\n",
      "Epoch 22/50\n",
      "50/50 [==============================] - 3s 57ms/step - loss: 2.0060e-04 - val_loss: 2.0656e-04\n",
      "Epoch 23/50\n",
      "50/50 [==============================] - 3s 51ms/step - loss: 2.0060e-04 - val_loss: 2.0656e-04\n",
      "Epoch 24/50\n",
      "50/50 [==============================] - 3s 51ms/step - loss: 2.0060e-04 - val_loss: 2.0656e-04\n",
      "Epoch 25/50\n",
      "50/50 [==============================] - 3s 51ms/step - loss: 2.0060e-04 - val_loss: 2.0656e-04\n",
      "Epoch 26/50\n",
      "50/50 [==============================] - 3s 51ms/step - loss: 2.0060e-04 - val_loss: 2.0656e-04\n",
      "Epoch 27/50\n",
      "50/50 [==============================] - 2s 49ms/step - loss: 2.0060e-04 - val_loss: 2.0656e-04\n",
      "Epoch 28/50\n",
      "50/50 [==============================] - 2s 48ms/step - loss: 2.0060e-04 - val_loss: 2.0656e-04\n",
      "Epoch 29/50\n",
      "50/50 [==============================] - 3s 52ms/step - loss: 2.0060e-04 - val_loss: 2.0656e-04\n",
      "Epoch 30/50\n",
      "50/50 [==============================] - 3s 55ms/step - loss: 2.0060e-04 - val_loss: 2.0656e-04\n",
      "Epoch 31/50\n",
      "50/50 [==============================] - 3s 57ms/step - loss: 2.0060e-04 - val_loss: 2.0656e-04\n",
      "Epoch 32/50\n",
      "50/50 [==============================] - 2s 50ms/step - loss: 2.0060e-04 - val_loss: 2.0656e-04\n",
      "Epoch 33/50\n",
      "50/50 [==============================] - 3s 57ms/step - loss: 2.0060e-04 - val_loss: 2.0656e-04\n",
      "Epoch 34/50\n",
      "50/50 [==============================] - 3s 52ms/step - loss: 2.0060e-04 - val_loss: 2.0656e-04\n",
      "Epoch 35/50\n",
      "50/50 [==============================] - 3s 50ms/step - loss: 2.0060e-04 - val_loss: 2.0656e-04\n",
      "Epoch 36/50\n",
      "50/50 [==============================] - 3s 53ms/step - loss: 2.0060e-04 - val_loss: 2.0656e-04\n",
      "Epoch 37/50\n",
      "50/50 [==============================] - 2s 50ms/step - loss: 2.0060e-04 - val_loss: 2.0656e-04\n",
      "Epoch 38/50\n",
      "50/50 [==============================] - 2s 49ms/step - loss: 2.0060e-04 - val_loss: 2.0656e-04\n",
      "Epoch 39/50\n",
      "50/50 [==============================] - 2s 49ms/step - loss: 2.0060e-04 - val_loss: 2.0656e-04\n",
      "Epoch 40/50\n",
      "50/50 [==============================] - 3s 50ms/step - loss: 2.0060e-04 - val_loss: 2.0656e-04\n",
      "Epoch 41/50\n",
      "50/50 [==============================] - 2s 49ms/step - loss: 2.0060e-04 - val_loss: 2.0656e-04\n",
      "Epoch 42/50\n",
      "50/50 [==============================] - 2s 49ms/step - loss: 2.0060e-04 - val_loss: 2.0656e-04\n",
      "Epoch 43/50\n",
      "50/50 [==============================] - 2s 49ms/step - loss: 2.0060e-04 - val_loss: 2.0656e-04\n",
      "Epoch 44/50\n",
      "50/50 [==============================] - 3s 51ms/step - loss: 2.0060e-04 - val_loss: 2.0656e-04\n",
      "Epoch 45/50\n",
      "50/50 [==============================] - 2s 50ms/step - loss: 2.0060e-04 - val_loss: 2.0656e-04\n",
      "Epoch 46/50\n",
      "50/50 [==============================] - 2s 49ms/step - loss: 2.0060e-04 - val_loss: 2.0656e-04\n",
      "Epoch 47/50\n",
      "50/50 [==============================] - 2s 50ms/step - loss: 2.0060e-04 - val_loss: 2.0656e-04\n",
      "Epoch 48/50\n",
      "50/50 [==============================] - 2s 49ms/step - loss: 2.0060e-04 - val_loss: 2.0656e-04\n",
      "Epoch 49/50\n",
      "50/50 [==============================] - 3s 53ms/step - loss: 2.0060e-04 - val_loss: 2.0656e-04\n",
      "Epoch 50/50\n",
      "50/50 [==============================] - 2s 49ms/step - loss: 2.0060e-04 - val_loss: 2.0656e-04\n"
     ]
    }
   ],
   "source": [
    "history = encoder_model.fit(X_train, X_train, epochs=50,\n",
    "                            batch_size=128, validation_split=0.2)"
   ]
  },
  {
   "cell_type": "code",
   "execution_count": 19,
   "metadata": {},
   "outputs": [],
   "source": [
    "x_train_pred = encoder_model.predict(X_train)"
   ]
  },
  {
   "cell_type": "code",
   "execution_count": 20,
   "metadata": {},
   "outputs": [
    {
     "data": {
      "text/plain": [
       "(8000, 404, 1)"
      ]
     },
     "execution_count": 20,
     "metadata": {},
     "output_type": "execute_result"
    }
   ],
   "source": [
    "x_train_pred.shape"
   ]
  },
  {
   "cell_type": "code",
   "execution_count": 23,
   "metadata": {},
   "outputs": [
    {
     "name": "stdout",
     "output_type": "stream",
     "text": [
      "2052\n",
      "4\n"
     ]
    },
    {
     "data": {
      "text/plain": [
       "<matplotlib.legend.Legend at 0x7fe6fbd1bed0>"
      ]
     },
     "execution_count": 23,
     "metadata": {},
     "output_type": "execute_result"
    },
    {
     "data": {
      "image/png": "[encoded data removed]",
      "text/plain": [
       "<Figure size 720x720 with 1 Axes>"
      ]
     },
     "metadata": {
      "needs_background": "light"
     },
     "output_type": "display_data"
    }
   ],
   "source": [
    "fig, ax = plt.subplots(1,1)\n",
    "fig.set_size_inches(10,10)\n",
    "\n",
    "num = np.random.randint(low=0, high=n_points)\n",
    "print(num)\n",
    "\n",
    "print(y_train[num])\n",
    "\n",
    "ax.plot(x_train[num][:100], label='truth')\n",
    "ax.plot(x_delta_train[num][:100], label='target')\n",
    "ax.plot(x_train_pred[num][:100], label='constructed')\n",
    "\n",
    "plt.legend(loc=0)"
   ]
  },
  {
   "cell_type": "markdown",
   "metadata": {},
   "source": [
    "### Classifier"
   ]
  },
  {
   "cell_type": "code",
   "execution_count": 94,
   "metadata": {},
   "outputs": [],
   "source": [
    "classifier_model = keras.Sequential([\n",
    "    keras.layers.Dense(128, activation='relu', input_shape=(404,)),\n",
    "    keras.layers.Dense(10, activation='relu')\n",
    "])"
   ]
  },
  {
   "cell_type": "code",
   "execution_count": 95,
   "metadata": {},
   "outputs": [],
   "source": [
    "classifier_model.compile(optimizer = 'adam', loss=tf.keras.losses.SparseCategoricalCrossentropy(from_logits=True), metrics=['accuracy'])"
   ]
  },
  {
   "cell_type": "code",
   "execution_count": 96,
   "metadata": {},
   "outputs": [
    {
     "name": "stdout",
     "output_type": "stream",
     "text": [
      "(8000, 404)\n",
      "(8000, 1)\n"
     ]
    }
   ],
   "source": [
    "X_train_pred = x_train_pred.reshape(n_points, 404)\n",
    "print(X_train_pred.shape)\n",
    "print(Y_train.shape)"
   ]
  },
  {
   "cell_type": "code",
   "execution_count": 97,
   "metadata": {
    "collapsed": true,
    "jupyter": {
     "outputs_hidden": true
    }
   },
   "outputs": [
    {
     "name": "stdout",
     "output_type": "stream",
     "text": [
      "Epoch 1/50\n",
      " 17/250 [=>............................] - ETA: 1s - loss: 2.3007 - accuracy: 0.1287  "
     ]
    },
    {
     "name": "stderr",
     "output_type": "stream",
     "text": [
      "/home/lars/miniconda3/lib/python3.7/site-packages/tensorflow/python/data/ops/dataset_ops.py:3350: UserWarning: Even though the tf.config.experimental_run_functions_eagerly option is set, this option does not apply to tf.data functions. tf.data functions are still traced and executed as graphs.\n",
      "  \"Even though the tf.config.experimental_run_functions_eagerly \"\n"
     ]
    },
    {
     "name": "stdout",
     "output_type": "stream",
     "text": [
      "250/250 [==============================] - 2s 6ms/step - loss: 2.2750 - accuracy: 0.1635\n",
      "Epoch 2/50\n",
      "250/250 [==============================] - 2s 6ms/step - loss: 2.2303 - accuracy: 0.1655\n",
      "Epoch 3/50\n",
      "250/250 [==============================] - 2s 6ms/step - loss: 2.1650 - accuracy: 0.1655\n",
      "Epoch 4/50\n",
      "250/250 [==============================] - 2s 7ms/step - loss: 2.1081 - accuracy: 0.1655\n",
      "Epoch 5/50\n",
      "250/250 [==============================] - 2s 6ms/step - loss: 2.0722 - accuracy: 0.1655\n",
      "Epoch 6/50\n",
      "250/250 [==============================] - 2s 6ms/step - loss: 2.0245 - accuracy: 0.2743\n",
      "Epoch 7/50\n",
      "250/250 [==============================] - 2s 6ms/step - loss: 1.9989 - accuracy: 0.3129\n",
      "Epoch 8/50\n",
      "250/250 [==============================] - 2s 6ms/step - loss: 1.9876 - accuracy: 0.3169\n",
      "Epoch 9/50\n",
      "250/250 [==============================] - 2s 6ms/step - loss: 1.9787 - accuracy: 0.3179\n",
      "Epoch 10/50\n",
      "250/250 [==============================] - 2s 6ms/step - loss: 1.9717 - accuracy: 0.3191\n",
      "Epoch 11/50\n",
      "250/250 [==============================] - 2s 6ms/step - loss: 1.9657 - accuracy: 0.3194\n",
      "Epoch 12/50\n",
      "250/250 [==============================] - 2s 6ms/step - loss: 1.9604 - accuracy: 0.3204\n",
      "Epoch 13/50\n",
      "250/250 [==============================] - 2s 6ms/step - loss: 1.9560 - accuracy: 0.3201\n",
      "Epoch 14/50\n",
      "250/250 [==============================] - 2s 6ms/step - loss: 1.9519 - accuracy: 0.3211\n",
      "Epoch 15/50\n",
      "250/250 [==============================] - 1s 6ms/step - loss: 1.9485 - accuracy: 0.3223\n",
      "Epoch 16/50\n",
      "250/250 [==============================] - 2s 6ms/step - loss: 1.9449 - accuracy: 0.3217\n",
      "Epoch 17/50\n",
      "250/250 [==============================] - 2s 6ms/step - loss: 1.9417 - accuracy: 0.3219\n",
      "Epoch 18/50\n",
      "250/250 [==============================] - 2s 6ms/step - loss: 1.9389 - accuracy: 0.3226\n",
      "Epoch 19/50\n",
      "250/250 [==============================] - 1s 6ms/step - loss: 1.9361 - accuracy: 0.3226\n",
      "Epoch 20/50\n",
      "250/250 [==============================] - 1s 6ms/step - loss: 1.9338 - accuracy: 0.3236\n",
      "Epoch 21/50\n",
      "250/250 [==============================] - 2s 7ms/step - loss: 1.9307 - accuracy: 0.3237\n",
      "Epoch 22/50\n",
      "250/250 [==============================] - 2s 7ms/step - loss: 1.9290 - accuracy: 0.3235\n",
      "Epoch 23/50\n",
      "250/250 [==============================] - 2s 7ms/step - loss: 1.9270 - accuracy: 0.3244\n",
      "Epoch 24/50\n",
      "250/250 [==============================] - 2s 6ms/step - loss: 1.9247 - accuracy: 0.3243\n",
      "Epoch 25/50\n",
      "250/250 [==============================] - 2s 7ms/step - loss: 1.9231 - accuracy: 0.3241\n",
      "Epoch 26/50\n",
      "250/250 [==============================] - 2s 7ms/step - loss: 1.9213 - accuracy: 0.3243\n",
      "Epoch 27/50\n",
      "250/250 [==============================] - 2s 7ms/step - loss: 1.9198 - accuracy: 0.3245\n",
      "Epoch 28/50\n",
      "250/250 [==============================] - 2s 7ms/step - loss: 1.9175 - accuracy: 0.3244\n",
      "Epoch 29/50\n",
      "250/250 [==============================] - 2s 7ms/step - loss: 1.9172 - accuracy: 0.3246\n",
      "Epoch 30/50\n",
      "250/250 [==============================] - 2s 7ms/step - loss: 1.9153 - accuracy: 0.3249\n",
      "Epoch 31/50\n",
      "250/250 [==============================] - 2s 7ms/step - loss: 1.9143 - accuracy: 0.3244\n",
      "Epoch 32/50\n",
      "250/250 [==============================] - 2s 7ms/step - loss: 1.9132 - accuracy: 0.3245\n",
      "Epoch 33/50\n",
      "250/250 [==============================] - 2s 7ms/step - loss: 1.9115 - accuracy: 0.3249\n",
      "Epoch 34/50\n",
      "250/250 [==============================] - 2s 7ms/step - loss: 1.9103 - accuracy: 0.3250\n",
      "Epoch 35/50\n",
      "250/250 [==============================] - 2s 7ms/step - loss: 1.9095 - accuracy: 0.3248\n",
      "Epoch 36/50\n",
      "250/250 [==============================] - 2s 7ms/step - loss: 1.9083 - accuracy: 0.3246\n",
      "Epoch 37/50\n",
      "250/250 [==============================] - 2s 7ms/step - loss: 1.9067 - accuracy: 0.3244\n",
      "Epoch 38/50\n",
      "250/250 [==============================] - 2s 7ms/step - loss: 1.9065 - accuracy: 0.3245\n",
      "Epoch 39/50\n",
      "250/250 [==============================] - 2s 7ms/step - loss: 1.9052 - accuracy: 0.3248\n",
      "Epoch 40/50\n",
      "250/250 [==============================] - 2s 7ms/step - loss: 1.9042 - accuracy: 0.3249\n",
      "Epoch 41/50\n",
      "250/250 [==============================] - 2s 7ms/step - loss: 1.9030 - accuracy: 0.3244\n",
      "Epoch 42/50\n",
      "250/250 [==============================] - 2s 7ms/step - loss: 1.9024 - accuracy: 0.3251\n",
      "Epoch 43/50\n",
      "250/250 [==============================] - 2s 7ms/step - loss: 1.9018 - accuracy: 0.3249\n",
      "Epoch 44/50\n",
      "250/250 [==============================] - 2s 7ms/step - loss: 1.9010 - accuracy: 0.3250\n",
      "Epoch 45/50\n",
      "250/250 [==============================] - 2s 7ms/step - loss: 1.9002 - accuracy: 0.3248\n",
      "Epoch 46/50\n",
      "250/250 [==============================] - 2s 7ms/step - loss: 1.8992 - accuracy: 0.3243\n",
      "Epoch 47/50\n",
      "250/250 [==============================] - 2s 8ms/step - loss: 1.8981 - accuracy: 0.3245\n",
      "Epoch 48/50\n",
      "250/250 [==============================] - 2s 8ms/step - loss: 1.8981 - accuracy: 0.3248\n",
      "Epoch 49/50\n",
      "250/250 [==============================] - 2s 7ms/step - loss: 1.8972 - accuracy: 0.3244\n",
      "Epoch 50/50\n",
      "250/250 [==============================] - 2s 7ms/step - loss: 1.8962 - accuracy: 0.3246\n"
     ]
    }
   ],
   "source": [
    "classifier_history = classifier_model.fit(X_train_pred,\n",
    "                                          Y_train,\n",
    "                                          epochs=50)"
   ]
  },
  {
   "cell_type": "code",
   "execution_count": 166,
   "metadata": {},
   "outputs": [],
   "source": [
    "classifier_model_2 = keras.Sequential([\n",
    "    keras.layers.Dense(128, activation='relu', input_shape=(404,)),\n",
    "    keras.layers.Dense(10, activation='relu')\n",
    "])\n",
    "\n",
    "classifier_model_2.compile(optimizer = 'adam', loss=tf.keras.losses.SparseCategoricalCrossentropy(from_logits=True), metrics=['accuracy'])"
   ]
  },
  {
   "cell_type": "code",
   "execution_count": 167,
   "metadata": {
    "collapsed": true,
    "jupyter": {
     "outputs_hidden": true
    }
   },
   "outputs": [
    {
     "name": "stdout",
     "output_type": "stream",
     "text": [
      "Epoch 1/100\n",
      "2500/2500 [==============================] - 20s 8ms/step - loss: 2.1964 - accuracy: 0.2188\n",
      "Epoch 2/100\n",
      "2500/2500 [==============================] - 20s 8ms/step - loss: 2.1709 - accuracy: 0.2331\n",
      "Epoch 3/100\n",
      "2500/2500 [==============================] - 20s 8ms/step - loss: 2.1483 - accuracy: 0.2383\n",
      "Epoch 4/100\n",
      "2500/2500 [==============================] - 20s 8ms/step - loss: 2.1245 - accuracy: 0.2457\n",
      "Epoch 5/100\n",
      "2500/2500 [==============================] - 20s 8ms/step - loss: 2.1031 - accuracy: 0.2524\n",
      "Epoch 6/100\n",
      "2500/2500 [==============================] - 20s 8ms/step - loss: 2.0850 - accuracy: 0.2574\n",
      "Epoch 7/100\n",
      "2500/2500 [==============================] - 20s 8ms/step - loss: 2.0700 - accuracy: 0.2625\n",
      "Epoch 8/100\n",
      "2500/2500 [==============================] - 20s 8ms/step - loss: 2.0577 - accuracy: 0.2660\n",
      "Epoch 9/100\n",
      "2500/2500 [==============================] - 20s 8ms/step - loss: 2.0476 - accuracy: 0.2690\n",
      "Epoch 10/100\n",
      "2500/2500 [==============================] - 20s 8ms/step - loss: 2.0392 - accuracy: 0.2708\n",
      "Epoch 11/100\n",
      "2500/2500 [==============================] - 20s 8ms/step - loss: 2.0317 - accuracy: 0.2736\n",
      "Epoch 12/100\n",
      "2500/2500 [==============================] - 20s 8ms/step - loss: 2.0253 - accuracy: 0.2751\n",
      "Epoch 13/100\n",
      "2500/2500 [==============================] - 20s 8ms/step - loss: 2.0199 - accuracy: 0.2763\n",
      "Epoch 14/100\n",
      "2500/2500 [==============================] - 20s 8ms/step - loss: 2.0150 - accuracy: 0.2769\n",
      "Epoch 15/100\n",
      "2500/2500 [==============================] - 20s 8ms/step - loss: 2.0105 - accuracy: 0.2779\n",
      "Epoch 16/100\n",
      "2500/2500 [==============================] - 20s 8ms/step - loss: 2.0063 - accuracy: 0.2789\n",
      "Epoch 17/100\n",
      "2500/2500 [==============================] - 20s 8ms/step - loss: 2.0029 - accuracy: 0.2790\n",
      "Epoch 18/100\n",
      "2500/2500 [==============================] - 20s 8ms/step - loss: 1.9995 - accuracy: 0.2797\n",
      "Epoch 19/100\n",
      "2500/2500 [==============================] - 20s 8ms/step - loss: 1.9958 - accuracy: 0.2802\n",
      "Epoch 20/100\n",
      "2500/2500 [==============================] - 20s 8ms/step - loss: 1.9931 - accuracy: 0.2806\n",
      "Epoch 21/100\n",
      "2500/2500 [==============================] - 20s 8ms/step - loss: 1.9907 - accuracy: 0.2795\n",
      "Epoch 22/100\n",
      "2500/2500 [==============================] - 20s 8ms/step - loss: 1.9880 - accuracy: 0.2813\n",
      "Epoch 23/100\n",
      "2500/2500 [==============================] - 20s 8ms/step - loss: 1.9858 - accuracy: 0.2815\n",
      "Epoch 24/100\n",
      "2500/2500 [==============================] - 20s 8ms/step - loss: 1.9827 - accuracy: 0.2815\n",
      "Epoch 25/100\n",
      "2500/2500 [==============================] - 20s 8ms/step - loss: 1.9806 - accuracy: 0.2816\n",
      "Epoch 26/100\n",
      "2500/2500 [==============================] - 20s 8ms/step - loss: 1.9782 - accuracy: 0.2823\n",
      "Epoch 27/100\n",
      "2500/2500 [==============================] - 20s 8ms/step - loss: 1.9762 - accuracy: 0.2829\n",
      "Epoch 28/100\n",
      "2500/2500 [==============================] - 20s 8ms/step - loss: 1.9741 - accuracy: 0.2831\n",
      "Epoch 29/100\n",
      "2500/2500 [==============================] - 18s 7ms/step - loss: 1.9721 - accuracy: 0.2837\n",
      "Epoch 30/100\n",
      "2500/2500 [==============================] - 18s 7ms/step - loss: 1.9706 - accuracy: 0.2840\n",
      "Epoch 31/100\n",
      "2500/2500 [==============================] - 18s 7ms/step - loss: 1.9683 - accuracy: 0.2839\n",
      "Epoch 32/100\n",
      "2500/2500 [==============================] - 18s 7ms/step - loss: 1.9669 - accuracy: 0.2845\n",
      "Epoch 33/100\n",
      "2500/2500 [==============================] - 18s 7ms/step - loss: 1.9652 - accuracy: 0.2850\n",
      "Epoch 34/100\n",
      "2500/2500 [==============================] - 18s 7ms/step - loss: 1.9630 - accuracy: 0.2849\n",
      "Epoch 35/100\n",
      "2500/2500 [==============================] - 18s 7ms/step - loss: 1.9610 - accuracy: 0.2857\n",
      "Epoch 36/100\n",
      "2500/2500 [==============================] - 18s 7ms/step - loss: 1.9597 - accuracy: 0.2859\n",
      "Epoch 37/100\n",
      "2500/2500 [==============================] - 18s 7ms/step - loss: 1.9575 - accuracy: 0.2875\n",
      "Epoch 38/100\n",
      "2500/2500 [==============================] - 18s 7ms/step - loss: 1.9557 - accuracy: 0.2866\n",
      "Epoch 39/100\n",
      "2500/2500 [==============================] - 17s 7ms/step - loss: 1.9542 - accuracy: 0.2885\n",
      "Epoch 40/100\n",
      "2500/2500 [==============================] - 17s 7ms/step - loss: 1.9526 - accuracy: 0.2875\n",
      "Epoch 41/100\n",
      "2500/2500 [==============================] - 16s 6ms/step - loss: 1.9515 - accuracy: 0.2885\n",
      "Epoch 42/100\n",
      "2500/2500 [==============================] - 16s 6ms/step - loss: 1.9498 - accuracy: 0.2888\n",
      "Epoch 43/100\n",
      "2500/2500 [==============================] - 19s 8ms/step - loss: 1.9486 - accuracy: 0.2885\n",
      "Epoch 44/100\n",
      "2500/2500 [==============================] - 17s 7ms/step - loss: 1.9468 - accuracy: 0.2896\n",
      "Epoch 45/100\n",
      "2500/2500 [==============================] - 17s 7ms/step - loss: 1.9446 - accuracy: 0.2883\n",
      "Epoch 46/100\n",
      "2500/2500 [==============================] - 17s 7ms/step - loss: 1.9437 - accuracy: 0.2907\n",
      "Epoch 47/100\n",
      "2500/2500 [==============================] - 17s 7ms/step - loss: 1.9420 - accuracy: 0.2910\n",
      "Epoch 48/100\n",
      "2500/2500 [==============================] - 17s 7ms/step - loss: 1.9405 - accuracy: 0.2905\n",
      "Epoch 49/100\n",
      "2500/2500 [==============================] - 17s 7ms/step - loss: 1.9396 - accuracy: 0.2914\n",
      "Epoch 50/100\n",
      "2500/2500 [==============================] - 17s 7ms/step - loss: 1.9379 - accuracy: 0.2916\n",
      "Epoch 51/100\n",
      "2500/2500 [==============================] - 17s 7ms/step - loss: 1.9370 - accuracy: 0.2910\n",
      "Epoch 52/100\n",
      "2500/2500 [==============================] - 17s 7ms/step - loss: 1.9359 - accuracy: 0.2916\n",
      "Epoch 53/100\n",
      "2500/2500 [==============================] - 17s 7ms/step - loss: 1.9348 - accuracy: 0.2930\n",
      "Epoch 54/100\n",
      "2500/2500 [==============================] - 17s 7ms/step - loss: 1.9334 - accuracy: 0.2925\n",
      "Epoch 55/100\n",
      "2500/2500 [==============================] - 17s 7ms/step - loss: 1.9323 - accuracy: 0.2930\n",
      "Epoch 56/100\n",
      "2500/2500 [==============================] - 18s 7ms/step - loss: 1.9317 - accuracy: 0.2922\n",
      "Epoch 57/100\n",
      "2500/2500 [==============================] - 17s 7ms/step - loss: 1.9308 - accuracy: 0.2936\n",
      "Epoch 58/100\n",
      "2500/2500 [==============================] - 17s 7ms/step - loss: 1.9297 - accuracy: 0.2934\n",
      "Epoch 59/100\n",
      "2500/2500 [==============================] - 18s 7ms/step - loss: 1.9288 - accuracy: 0.2934\n",
      "Epoch 60/100\n",
      "2500/2500 [==============================] - 18s 7ms/step - loss: 1.9276 - accuracy: 0.2957\n",
      "Epoch 61/100\n",
      "2500/2500 [==============================] - 18s 7ms/step - loss: 1.9267 - accuracy: 0.2943\n",
      "Epoch 62/100\n",
      "2500/2500 [==============================] - 17s 7ms/step - loss: 1.9261 - accuracy: 0.2941\n",
      "Epoch 63/100\n",
      "2500/2500 [==============================] - 18s 7ms/step - loss: 1.9254 - accuracy: 0.2954\n",
      "Epoch 64/100\n",
      "2500/2500 [==============================] - 16s 7ms/step - loss: 1.9244 - accuracy: 0.2953\n",
      "Epoch 65/100\n",
      "2500/2500 [==============================] - 18s 7ms/step - loss: 1.9238 - accuracy: 0.2954\n",
      "Epoch 66/100\n",
      "2500/2500 [==============================] - 19s 8ms/step - loss: 1.9223 - accuracy: 0.2957\n",
      "Epoch 67/100\n",
      "2500/2500 [==============================] - 19s 8ms/step - loss: 1.9223 - accuracy: 0.2959\n",
      "Epoch 68/100\n",
      "2500/2500 [==============================] - 18s 7ms/step - loss: 1.9210 - accuracy: 0.2949\n",
      "Epoch 69/100\n",
      "2500/2500 [==============================] - 19s 7ms/step - loss: 1.9205 - accuracy: 0.2970\n",
      "Epoch 70/100\n",
      "2500/2500 [==============================] - 19s 8ms/step - loss: 1.9197 - accuracy: 0.2966\n",
      "Epoch 71/100\n",
      "2500/2500 [==============================] - 21s 8ms/step - loss: 1.9189 - accuracy: 0.2968\n",
      "Epoch 72/100\n",
      "2500/2500 [==============================] - 21s 8ms/step - loss: 1.9184 - accuracy: 0.2961\n",
      "Epoch 73/100\n",
      "2500/2500 [==============================] - 19s 8ms/step - loss: 1.9174 - accuracy: 0.2982\n",
      "Epoch 74/100\n",
      "2500/2500 [==============================] - 20s 8ms/step - loss: 1.9169 - accuracy: 0.2972\n",
      "Epoch 75/100\n",
      "2500/2500 [==============================] - 27s 11ms/step - loss: 1.9163 - accuracy: 0.2980\n",
      "Epoch 76/100\n",
      "2500/2500 [==============================] - 18s 7ms/step - loss: 1.9151 - accuracy: 0.2977\n",
      "Epoch 77/100\n",
      "2500/2500 [==============================] - 21s 8ms/step - loss: 1.9147 - accuracy: 0.2979\n",
      "Epoch 78/100\n",
      "2500/2500 [==============================] - 18s 7ms/step - loss: 1.9139 - accuracy: 0.2980\n",
      "Epoch 79/100\n",
      "2500/2500 [==============================] - 19s 7ms/step - loss: 1.9132 - accuracy: 0.2986\n",
      "Epoch 80/100\n",
      "2500/2500 [==============================] - 18s 7ms/step - loss: 1.9127 - accuracy: 0.2988\n",
      "Epoch 81/100\n",
      "2500/2500 [==============================] - 18s 7ms/step - loss: 1.9118 - accuracy: 0.2990\n",
      "Epoch 82/100\n",
      "2500/2500 [==============================] - 18s 7ms/step - loss: 1.9111 - accuracy: 0.2989\n",
      "Epoch 83/100\n",
      "2500/2500 [==============================] - 22s 9ms/step - loss: 1.9107 - accuracy: 0.2986\n",
      "Epoch 84/100\n",
      "2500/2500 [==============================] - 19s 8ms/step - loss: 1.9097 - accuracy: 0.3002\n",
      "Epoch 85/100\n",
      "2500/2500 [==============================] - 18s 7ms/step - loss: 1.9092 - accuracy: 0.2997\n",
      "Epoch 86/100\n",
      "2500/2500 [==============================] - 19s 8ms/step - loss: 1.9085 - accuracy: 0.3002\n",
      "Epoch 87/100\n",
      "2500/2500 [==============================] - 19s 8ms/step - loss: 1.9082 - accuracy: 0.3000\n",
      "Epoch 88/100\n",
      "2500/2500 [==============================] - 18s 7ms/step - loss: 1.9075 - accuracy: 0.3010\n",
      "Epoch 89/100\n",
      "2500/2500 [==============================] - 20s 8ms/step - loss: 1.9067 - accuracy: 0.3010\n",
      "Epoch 90/100\n",
      "2500/2500 [==============================] - 20s 8ms/step - loss: 1.9061 - accuracy: 0.3009\n",
      "Epoch 91/100\n",
      "2500/2500 [==============================] - 20s 8ms/step - loss: 1.9057 - accuracy: 0.3015\n",
      "Epoch 92/100\n",
      "2500/2500 [==============================] - 19s 7ms/step - loss: 1.9050 - accuracy: 0.3022\n",
      "Epoch 93/100\n",
      "2500/2500 [==============================] - 18s 7ms/step - loss: 1.9046 - accuracy: 0.3013\n",
      "Epoch 94/100\n",
      "2500/2500 [==============================] - 18s 7ms/step - loss: 1.9040 - accuracy: 0.3031\n",
      "Epoch 95/100\n",
      "2500/2500 [==============================] - 24s 10ms/step - loss: 1.9034 - accuracy: 0.3020\n",
      "Epoch 96/100\n",
      "2500/2500 [==============================] - 19s 7ms/step - loss: 1.9033 - accuracy: 0.3015\n",
      "Epoch 97/100\n",
      "2500/2500 [==============================] - 19s 8ms/step - loss: 1.9024 - accuracy: 0.3028\n",
      "Epoch 98/100\n",
      "2500/2500 [==============================] - 18s 7ms/step - loss: 1.9016 - accuracy: 0.3024\n",
      "Epoch 99/100\n",
      "2500/2500 [==============================] - 18s 7ms/step - loss: 1.9008 - accuracy: 0.3033\n",
      "Epoch 100/100\n",
      "2500/2500 [==============================] - 19s 7ms/step - loss: 1.9006 - accuracy: 0.3027\n"
     ]
    }
   ],
   "source": [
    "classifier_history_2 = classifier_model_2.fit(x_train,\n",
    "                                            Y_train,\n",
    "                                            epochs=100)"
   ]
  },
  {
   "cell_type": "markdown",
   "metadata": {},
   "source": [
    "### Performance Stats"
   ]
  },
  {
   "cell_type": "code",
   "execution_count": 168,
   "metadata": {},
   "outputs": [
    {
     "data": {
      "text/plain": [
       "<matplotlib.legend.Legend at 0x7fd448604050>"
      ]
     },
     "execution_count": 168,
     "metadata": {},
     "output_type": "execute_result"
    },
    {
     "data": {
      "image/png": "[encoded data removed]",
      "text/plain": [
       "<Figure size 1008x504 with 2 Axes>"
      ]
     },
     "metadata": {
      "needs_background": "light"
     },
     "output_type": "display_data"
    }
   ],
   "source": [
    "fig, ax = plt.subplots(1,2);\n",
    "fig.set_size_inches(14,7);\n",
    "\n",
    "ax[0].plot(classifier_history.history['accuracy'], label='with autoencoder')\n",
    "ax[0].plot(classifier_history_2.history['accuracy'], label='without autoencoder')\n",
    "\n",
    "ax[0].set_xlabel(\"epoch\", fontsize=20)\n",
    "ax[0].set_ylabel(\"accuracy %\", fontsize=20)\n",
    "ax[0].legend()\n",
    "\n",
    "ax[1].plot(classifier_history.history['loss'], label='with autoencoder')\n",
    "ax[1].plot(classifier_history_2.history['loss'], label='without autoencoder')\n",
    "\n",
    "ax[1].set_xlabel(\"epoch\", fontsize=20)\n",
    "ax[1].set_ylabel(\"training loss\", fontsize=20)\n",
    "ax[1].legend()"
   ]
  },
  {
   "cell_type": "code",
   "execution_count": 55,
   "metadata": {},
   "outputs": [
    {
     "data": {
      "text/plain": [
       "\"\\nY_pred_2 = classifier_model_2.predict(x_test)\\ny_pred_2 = np.argmax(Y_pred_2, axis=1)\\n\\nmatrix_2 = confusion_matrix(y_test, y_pred_2, normalize='true', labels=[1,2,3,4,5,6])\\n\""
      ]
     },
     "execution_count": 55,
     "metadata": {},
     "output_type": "execute_result"
    }
   ],
   "source": [
    "Y_pred = classifier_model.predict(x_test)\n",
    "y_pred = np.argmax(Y_pred, axis=1)\n",
    "\n",
    "matrix = confusion_matrix(y_test, y_pred, normalize='true', labels=[1,2,3,4,5,6])\n",
    "\n",
    "\"\"\"\n",
    "Y_pred_2 = classifier_model_2.predict(x_test)\n",
    "y_pred_2 = np.argmax(Y_pred_2, axis=1)\n",
    "\n",
    "matrix_2 = confusion_matrix(y_test, y_pred_2, normalize='true', labels=[1,2,3,4,5,6])\n",
    "\"\"\""
   ]
  },
  {
   "cell_type": "code",
   "execution_count": 56,
   "metadata": {},
   "outputs": [
    {
     "data": {
      "text/plain": [
       "'\\ngrid = np.array(matrix_2)\\nim = ax[1].imshow(grid)\\n\\nfor k in range (0, len(grid)):\\n        for l in range (0, len(grid[0])):\\n            ax[1].text(l-0.3, k+0.1, str(grid[k][l])[:4], size=20, color=\\'white\\')\\n            \\nax[1].set_xticklabels([\\'\\'] + labels);\\nax[1].set_yticklabels([\\'\\'] + labels);\\n\\nax[1].set_ylabel(\\'True Pulse Number\\', fontsize=20);\\nax[1].set_xlabel(\\'Classified Pulse Number\\', fontsize=20);\\n\\nax[1].set_title(\"without autoencoder\", fontsize=20)\\n'"
      ]
     },
     "execution_count": 56,
     "metadata": {},
     "output_type": "execute_result"
    },
    {
     "data": {
      "image/png": "[encoded data removed]",
      "text/plain": [
       "<Figure size 1008x504 with 2 Axes>"
      ]
     },
     "metadata": {
      "needs_background": "light"
     },
     "output_type": "display_data"
    }
   ],
   "source": [
    "fig, ax = plt.subplots(1,2)\n",
    "fig.set_size_inches(14,7)\n",
    "\n",
    "labels = ['1', '2', '3', '4', '5', '6']\n",
    "\n",
    "grid = np.array(matrix)\n",
    "im = ax[0].imshow(grid)\n",
    "\n",
    "for k in range (0, len(grid)):\n",
    "        for l in range (0, len(grid[0])):\n",
    "            ax[0].text(l-0.3, k+0.1, str(grid[k][l])[:4], size=20, color='white')\n",
    "            \n",
    "ax[0].set_xticklabels([''] + labels);\n",
    "ax[0].set_yticklabels([''] + labels);\n",
    "\n",
    "ax[0].set_ylabel('True Pulse Number', fontsize=20);\n",
    "ax[0].set_xlabel('Classified Pulse Number', fontsize=20);\n",
    "\n",
    "ax[0].set_title(\"with autoencoder\", fontsize=20)\n",
    "\n",
    "\"\"\"\n",
    "grid = np.array(matrix_2)\n",
    "im = ax[1].imshow(grid)\n",
    "\n",
    "for k in range (0, len(grid)):\n",
    "        for l in range (0, len(grid[0])):\n",
    "            ax[1].text(l-0.3, k+0.1, str(grid[k][l])[:4], size=20, color='white')\n",
    "            \n",
    "ax[1].set_xticklabels([''] + labels);\n",
    "ax[1].set_yticklabels([''] + labels);\n",
    "\n",
    "ax[1].set_ylabel('True Pulse Number', fontsize=20);\n",
    "ax[1].set_xlabel('Classified Pulse Number', fontsize=20);\n",
    "\n",
    "ax[1].set_title(\"without autoencoder\", fontsize=20)\n",
    "\"\"\""
   ]
  },
  {
   "cell_type": "code",
   "execution_count": null,
   "metadata": {},
   "outputs": [],
   "source": []
  }
 ],
 "metadata": {
  "kernelspec": {
   "display_name": "Python 3",
   "language": "python",
   "name": "python3"
  },
  "language_info": {
   "codemirror_mode": {
    "name": "ipython",
    "version": 3
   },
   "file_extension": ".py",
   "mimetype": "text/x-python",
   "name": "python",
   "nbconvert_exporter": "python",
   "pygments_lexer": "ipython3",
   "version": "3.7.5"
  }
 },
 "nbformat": 4,
 "nbformat_minor": 4
}
