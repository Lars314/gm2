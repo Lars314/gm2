{
 "cells": [
  {
   "cell_type": "code",
   "execution_count": 131,
   "metadata": {},
   "outputs": [],
   "source": [
    "import ROOT as r\n",
    "import pandas as pd\n",
    "import matplotlib.pyplot as plt\n",
    "import numpy as np\n",
    "import sklearn as skl\n",
    "import pickle\n",
    "import spliland\n",
    "import importlib\n",
    "import random\n",
    "import fclParse\n",
    "from scipy import stats\n",
    "from sklearn.metrics import classification_report, confusion_matrix\n",
    "# TensorFlow and tf.keras\n",
    "import tensorflow as tf\n",
    "from tensorflow import keras"
   ]
  },
  {
   "cell_type": "code",
   "execution_count": 132,
   "metadata": {},
   "outputs": [],
   "source": [
    "directory = './template_data_v2/set_1/'"
   ]
  },
  {
   "cell_type": "code",
   "execution_count": 133,
   "metadata": {},
   "outputs": [],
   "source": [
    "tf.config.run_functions_eagerly(True)"
   ]
  },
  {
   "cell_type": "markdown",
   "metadata": {},
   "source": [
    "## Intro\n",
    "\n",
    "The purpose of this notebook is to make a second attempt at a neural network, following along with what was described in the paper \"Deep Learning Based Pulse Shape Analysis for GERDA\" by Philipp Holl in 2017. This algorithm consists of an autoencoder, decoder, and then classifier.\n",
    "\n",
    "I am also following this guide: https://keras.io/examples/timeseries/timeseries_anomaly_detection/ for the implementation of the layers described in the paper into python"
   ]
  },
  {
   "cell_type": "markdown",
   "metadata": {},
   "source": [
    "### Prep the data"
   ]
  },
  {
   "cell_type": "code",
   "execution_count": 135,
   "metadata": {},
   "outputs": [],
   "source": [
    "n_points = 4000\n",
    "\n",
    "with open(directory + 'x.data', 'rb') as xFile:\n",
    "    biggestX = pickle.load(xFile)\n",
    "    x_train = []\n",
    "    x_test = []\n",
    "    for x in biggestX[:n_points]:\n",
    "        x_train.append(x)\n",
    "    for x in biggestX[n_points:]:\n",
    "        x_test.append(x)\n",
    "    xFile.close()\n",
    "\n",
    "with open(directory + 'y.data', 'rb') as yFile:\n",
    "    biggestY = pickle.load(yFile)\n",
    "    y_train = biggestY[:n_points]\n",
    "    y_test = biggestY[n_points:]\n",
    "    yFile.close()\n",
    "    \n",
    "x_train = np.array(x_train)\n",
    "x_test = np.array(x_test)\n",
    "y_train = np.array(y_train)\n",
    "y_test = np.array(y_test)"
   ]
  },
  {
   "cell_type": "code",
   "execution_count": 136,
   "metadata": {},
   "outputs": [],
   "source": [
    "X_train = np.reshape(x_train, (n_points, 21816, 1))\n",
    "Y_train = np.reshape(y_train, (n_points, 1))"
   ]
  },
  {
   "cell_type": "code",
   "execution_count": 137,
   "metadata": {},
   "outputs": [
    {
     "data": {
      "text/plain": [
       "(4000, 21816, 1)"
      ]
     },
     "execution_count": 137,
     "metadata": {},
     "output_type": "execute_result"
    }
   ],
   "source": [
    "X_train.shape"
   ]
  },
  {
   "cell_type": "code",
   "execution_count": 33,
   "metadata": {
    "collapsed": true,
    "jupyter": {
     "outputs_hidden": true
    }
   },
   "outputs": [
    {
     "data": {
      "text/plain": [
       "array([[[-2.56401213],\n",
       "        [ 5.45288027],\n",
       "        [ 1.50660863],\n",
       "        ...,\n",
       "        [-1.29995602],\n",
       "        [-1.26773059],\n",
       "        [ 5.85253821]],\n",
       "\n",
       "       [[-1.36441837],\n",
       "        [ 7.8328658 ],\n",
       "        [ 5.07596373],\n",
       "        ...,\n",
       "        [ 0.        ],\n",
       "        [ 0.        ],\n",
       "        [ 0.        ]],\n",
       "\n",
       "       [[ 0.        ],\n",
       "        [ 0.        ],\n",
       "        [ 0.        ],\n",
       "        ...,\n",
       "        [ 1.80412268],\n",
       "        [ 0.60695902],\n",
       "        [-1.83547117]],\n",
       "\n",
       "       ...,\n",
       "\n",
       "       [[-0.71470354],\n",
       "        [-0.90348691],\n",
       "        [ 4.88418815],\n",
       "        ...,\n",
       "        [ 0.        ],\n",
       "        [ 0.        ],\n",
       "        [ 0.        ]],\n",
       "\n",
       "       [[ 0.        ],\n",
       "        [ 0.        ],\n",
       "        [ 0.        ],\n",
       "        ...,\n",
       "        [ 0.        ],\n",
       "        [ 0.        ],\n",
       "        [ 0.        ]],\n",
       "\n",
       "       [[ 0.        ],\n",
       "        [ 0.        ],\n",
       "        [ 0.        ],\n",
       "        ...,\n",
       "        [-8.75419927],\n",
       "        [ 5.47735899],\n",
       "        [ 0.00878131]]])"
      ]
     },
     "execution_count": 33,
     "metadata": {},
     "output_type": "execute_result"
    }
   ],
   "source": [
    "X_train"
   ]
  },
  {
   "cell_type": "code",
   "execution_count": 65,
   "metadata": {
    "collapsed": true,
    "jupyter": {
     "outputs_hidden": true
    }
   },
   "outputs": [
    {
     "data": {
      "text/plain": [
       "array([[3],\n",
       "       [3],\n",
       "       [3],\n",
       "       [1],\n",
       "       [1],\n",
       "       [2],\n",
       "       [3],\n",
       "       [2],\n",
       "       [2],\n",
       "       [2],\n",
       "       [1],\n",
       "       [1],\n",
       "       [3],\n",
       "       [1],\n",
       "       [1],\n",
       "       [3],\n",
       "       [3],\n",
       "       [4],\n",
       "       [2],\n",
       "       [1],\n",
       "       [1],\n",
       "       [1],\n",
       "       [4],\n",
       "       [3],\n",
       "       [1],\n",
       "       [2],\n",
       "       [3],\n",
       "       [3],\n",
       "       [3],\n",
       "       [2],\n",
       "       [4],\n",
       "       [1],\n",
       "       [2],\n",
       "       [4],\n",
       "       [3],\n",
       "       [2],\n",
       "       [3],\n",
       "       [1],\n",
       "       [4],\n",
       "       [4],\n",
       "       [1],\n",
       "       [3],\n",
       "       [2],\n",
       "       [3],\n",
       "       [4],\n",
       "       [1],\n",
       "       [1],\n",
       "       [4],\n",
       "       [3],\n",
       "       [1],\n",
       "       [4],\n",
       "       [4],\n",
       "       [4],\n",
       "       [2],\n",
       "       [1],\n",
       "       [2],\n",
       "       [1],\n",
       "       [2],\n",
       "       [2],\n",
       "       [1],\n",
       "       [4],\n",
       "       [3],\n",
       "       [4],\n",
       "       [3],\n",
       "       [4],\n",
       "       [1],\n",
       "       [1],\n",
       "       [1],\n",
       "       [2],\n",
       "       [3],\n",
       "       [4],\n",
       "       [4],\n",
       "       [3],\n",
       "       [2],\n",
       "       [1],\n",
       "       [1],\n",
       "       [3],\n",
       "       [4],\n",
       "       [1],\n",
       "       [4]])"
      ]
     },
     "execution_count": 65,
     "metadata": {},
     "output_type": "execute_result"
    }
   ],
   "source": [
    "Y_train"
   ]
  },
  {
   "cell_type": "markdown",
   "metadata": {},
   "source": [
    "### Classifier"
   ]
  },
  {
   "cell_type": "code",
   "execution_count": 171,
   "metadata": {},
   "outputs": [],
   "source": [
    "classifier_model = keras.Sequential([\n",
    "    keras.layers.Dense(256, activation='relu', input_shape=(21816,)),\n",
    "    keras.layers.Dense(20, activation='relu'),\n",
    "    keras.layers.Dense(256, activation='relu'),\n",
    "    keras.layers.Dense(20, activation='relu'),\n",
    "    keras.layers.Dense(256, activation='relu'),\n",
    "    keras.layers.Dense(20, activation='relu'),\n",
    "    keras.layers.Dense(256, activation='relu'),\n",
    "    keras.layers.Dense(20, activation='relu'),\n",
    "    keras.layers.Dense(256, activation='relu'),\n",
    "    keras.layers.Dense(20, activation='relu')\n",
    "])"
   ]
  },
  {
   "cell_type": "code",
   "execution_count": 172,
   "metadata": {},
   "outputs": [],
   "source": [
    "classifier_model.compile(optimizer = 'adam', loss=tf.keras.losses.SparseCategoricalCrossentropy(from_logits=True), metrics=['accuracy'])"
   ]
  },
  {
   "cell_type": "code",
   "execution_count": 173,
   "metadata": {},
   "outputs": [
    {
     "name": "stdout",
     "output_type": "stream",
     "text": [
      "(4000, 21816, 1)\n",
      "(4000, 1)\n"
     ]
    }
   ],
   "source": [
    "print(X_train.shape)\n",
    "print(Y_train.shape)"
   ]
  },
  {
   "cell_type": "code",
   "execution_count": 174,
   "metadata": {},
   "outputs": [
    {
     "name": "stdout",
     "output_type": "stream",
     "text": [
      "Epoch 1/10\n",
      "125/125 [==============================] - 4s 33ms/step - loss: 1.2983 - accuracy: 0.4125\n",
      "Epoch 2/10\n",
      "125/125 [==============================] - 4s 33ms/step - loss: 0.9223 - accuracy: 0.5763\n",
      "Epoch 3/10\n",
      "125/125 [==============================] - 4s 33ms/step - loss: 0.6997 - accuracy: 0.6888\n",
      "Epoch 4/10\n",
      "125/125 [==============================] - 4s 33ms/step - loss: 0.5541 - accuracy: 0.7648\n",
      "Epoch 5/10\n",
      "125/125 [==============================] - 5s 38ms/step - loss: 0.4694 - accuracy: 0.8083\n",
      "Epoch 6/10\n",
      "125/125 [==============================] - 5s 38ms/step - loss: 0.3568 - accuracy: 0.8687\n",
      "Epoch 7/10\n",
      "125/125 [==============================] - 5s 40ms/step - loss: 0.2923 - accuracy: 0.8917\n",
      "Epoch 8/10\n",
      "125/125 [==============================] - 5s 41ms/step - loss: 0.2745 - accuracy: 0.8990\n",
      "Epoch 9/10\n",
      "125/125 [==============================] - 5s 38ms/step - loss: 0.1825 - accuracy: 0.9355\n",
      "Epoch 10/10\n",
      "125/125 [==============================] - 5s 40ms/step - loss: 0.1425 - accuracy: 0.9520\n"
     ]
    }
   ],
   "source": [
    "classifier_history = classifier_model.fit(X_train,\n",
    "                                          Y_train,\n",
    "                                          epochs=10)"
   ]
  },
  {
   "cell_type": "markdown",
   "metadata": {},
   "source": [
    "### Performance Stats"
   ]
  },
  {
   "cell_type": "code",
   "execution_count": 175,
   "metadata": {},
   "outputs": [
    {
     "name": "stderr",
     "output_type": "stream",
     "text": [
      "No handles with labels found to put in legend.\n",
      "No handles with labels found to put in legend.\n"
     ]
    },
    {
     "data": {
      "text/plain": [
       "<matplotlib.legend.Legend at 0x7f9cd18f2710>"
      ]
     },
     "execution_count": 175,
     "metadata": {},
     "output_type": "execute_result"
    },
    {
     "data": {
      "image/png": "[encoded data removed]",
      "text/plain": [
       "<Figure size 1008x504 with 2 Axes>"
      ]
     },
     "metadata": {
      "needs_background": "light"
     },
     "output_type": "display_data"
    }
   ],
   "source": [
    "fig, ax = plt.subplots(1,2);\n",
    "fig.set_size_inches(14,7);\n",
    "\n",
    "ax[0].plot(classifier_history.history['accuracy'])\n",
    "\n",
    "ax[0].set_xlabel(\"epoch\", fontsize=20)\n",
    "ax[0].set_ylabel(\"accuracy %\", fontsize=20)\n",
    "ax[0].legend()\n",
    "\n",
    "ax[1].plot(classifier_history.history['loss'])\n",
    "\n",
    "ax[1].set_xlabel(\"epoch\", fontsize=20)\n",
    "ax[1].set_ylabel(\"training loss\", fontsize=20)\n",
    "ax[1].legend()"
   ]
  },
  {
   "cell_type": "code",
   "execution_count": 176,
   "metadata": {},
   "outputs": [],
   "source": [
    "Y_pred = classifier_model.predict(x_test)\n",
    "y_pred = np.argmax(Y_pred, axis=1)\n",
    "\n",
    "matrix = confusion_matrix(y_test, y_pred, normalize='true', labels=[0,1,2,3,4,5,6])"
   ]
  },
  {
   "cell_type": "code",
   "execution_count": 177,
   "metadata": {},
   "outputs": [
    {
     "data": {
      "text/plain": [
       "array([1, 1, 2, ..., 2, 3, 1])"
      ]
     },
     "execution_count": 177,
     "metadata": {},
     "output_type": "execute_result"
    }
   ],
   "source": [
    "y_pred"
   ]
  },
  {
   "cell_type": "code",
   "execution_count": 178,
   "metadata": {},
   "outputs": [
    {
     "data": {
      "image/png": "[encoded data removed]",
      "text/plain": [
       "<Figure size 504x504 with 1 Axes>"
      ]
     },
     "metadata": {
      "needs_background": "light"
     },
     "output_type": "display_data"
    }
   ],
   "source": [
    "fig, ax = plt.subplots(1,1)\n",
    "fig.set_size_inches(7,7)\n",
    "\n",
    "labels = ['0', '1', '2', '3', '4', '5', '6']\n",
    "\n",
    "grid = np.array(matrix)\n",
    "im = ax.imshow(grid)\n",
    "\n",
    "for k in range (0, len(grid)):\n",
    "        for l in range (0, len(grid[0])):\n",
    "            ax.text(l-0.3, k+0.1, str(grid[k][l])[:4], size=20, color='white')\n",
    "            \n",
    "ax.set_xticklabels([''] + labels);\n",
    "ax.set_yticklabels([''] + labels);\n",
    "\n",
    "ax.set_ylabel('True Pulse Number', fontsize=20);\n",
    "ax.set_xlabel('Classified Pulse Number', fontsize=20);\n",
    "\n",
    "#ax.set_title(\"with autoencoder\", fontsize=20)\n"
   ]
  },
  {
   "cell_type": "code",
   "execution_count": null,
   "metadata": {},
   "outputs": [],
   "source": []
  }
 ],
 "metadata": {
  "kernelspec": {
   "display_name": "Python 3",
   "language": "python",
   "name": "python3"
  },
  "language_info": {
   "codemirror_mode": {
    "name": "ipython",
    "version": 3
   },
   "file_extension": ".py",
   "mimetype": "text/x-python",
   "name": "python",
   "nbconvert_exporter": "python",
   "pygments_lexer": "ipython3",
   "version": "3.7.5"
  }
 },
 "nbformat": 4,
 "nbformat_minor": 4
}
