{
 "cells": [
  {
   "cell_type": "code",
   "execution_count": 1,
   "metadata": {},
   "outputs": [
    {
     "name": "stdout",
     "output_type": "stream",
     "text": [
      "Welcome to JupyROOT 6.18/04\n"
     ]
    }
   ],
   "source": [
    "import ROOT as r\n",
    "import pandas as pd\n",
    "import matplotlib.pyplot as plt\n",
    "import numpy as np\n",
    "import sklearn as skl\n",
    "import pickle\n",
    "import spliland\n",
    "import importlib\n",
    "import random\n",
    "import fclParse\n",
    "from scipy import stats\n",
    "from sklearn.metrics import classification_report, confusion_matrix\n",
    "# TensorFlow and tf.keras\n",
    "import tensorflow as tf\n",
    "from tensorflow import keras"
   ]
  },
  {
   "cell_type": "code",
   "execution_count": 2,
   "metadata": {},
   "outputs": [],
   "source": [
    "directory = './template_data_v2/set_1/'"
   ]
  },
  {
   "cell_type": "code",
   "execution_count": 3,
   "metadata": {},
   "outputs": [],
   "source": [
    "tf.config.run_functions_eagerly(True)"
   ]
  },
  {
   "cell_type": "markdown",
   "metadata": {},
   "source": [
    "## Intro\n",
    "\n",
    "The purpose of this notebook is to make a second attempt at a neural network, following along with what was described in the paper \"Deep Learning Based Pulse Shape Analysis for GERDA\" by Philipp Holl in 2017. This algorithm consists of an autoencoder, decoder, and then classifier.\n",
    "\n",
    "I am also following this guide: https://keras.io/examples/timeseries/timeseries_anomaly_detection/ for the implementation of the layers described in the paper into python"
   ]
  },
  {
   "cell_type": "markdown",
   "metadata": {},
   "source": [
    "### Prep the data"
   ]
  },
  {
   "cell_type": "code",
   "execution_count": 15,
   "metadata": {},
   "outputs": [],
   "source": [
    "n_points = 1500\n",
    "\n",
    "with open(directory + 'x.data', 'rb') as xFile:\n",
    "    biggestX = pickle.load(xFile)\n",
    "    x_train = []\n",
    "    x_test = []\n",
    "    for x in biggestX[:n_points]:\n",
    "        x_train.append(x)\n",
    "    for x in biggestX[n_points:n_points+500]:\n",
    "        x_test.append(x)\n",
    "    xFile.close()\n",
    "\n",
    "with open(directory + 'y.data', 'rb') as yFile:\n",
    "    biggestY = pickle.load(yFile)\n",
    "    y_train = biggestY[:n_points]\n",
    "    y_test = biggestY[n_points:n_points+500]\n",
    "    yFile.close()\n",
    "    \n",
    "x_train = np.array(x_train)\n",
    "x_test = np.array(x_test)\n",
    "y_train = np.array(y_train)\n",
    "y_test = np.array(y_test)"
   ]
  },
  {
   "cell_type": "code",
   "execution_count": 16,
   "metadata": {},
   "outputs": [],
   "source": [
    "X_train = np.reshape(x_train, (n_points, 21816, 1))\n",
    "Y_train = np.reshape(y_train, (n_points, 1))"
   ]
  },
  {
   "cell_type": "code",
   "execution_count": 17,
   "metadata": {},
   "outputs": [
    {
     "data": {
      "text/plain": [
       "(1500, 21816, 1)"
      ]
     },
     "execution_count": 17,
     "metadata": {},
     "output_type": "execute_result"
    }
   ],
   "source": [
    "X_train.shape"
   ]
  },
  {
   "cell_type": "markdown",
   "metadata": {},
   "source": [
    "### Classifier"
   ]
  },
  {
   "cell_type": "code",
   "execution_count": 18,
   "metadata": {},
   "outputs": [],
   "source": [
    "classifier_model = keras.Sequential([\n",
    "    keras.layers.Dense(256, activation='relu', input_shape=(21816,)),\n",
    "    keras.layers.Dense(20, activation='relu'),\n",
    "    keras.layers.Dense(256, activation='relu'),\n",
    "    keras.layers.Dense(20, activation='relu'),\n",
    "    keras.layers.Dense(256, activation='relu'),\n",
    "    keras.layers.Dense(20, activation='relu'),\n",
    "    keras.layers.Dense(256, activation='relu'),\n",
    "    keras.layers.Dense(20, activation='relu'),\n",
    "    keras.layers.Dense(256, activation='relu'),\n",
    "    keras.layers.Dense(20, activation='relu')\n",
    "])"
   ]
  },
  {
   "cell_type": "code",
   "execution_count": 19,
   "metadata": {},
   "outputs": [],
   "source": [
    "classifier_model.compile(optimizer = 'adam', loss=tf.keras.losses.SparseCategoricalCrossentropy(from_logits=True), metrics=['accuracy'])"
   ]
  },
  {
   "cell_type": "code",
   "execution_count": 20,
   "metadata": {},
   "outputs": [
    {
     "name": "stdout",
     "output_type": "stream",
     "text": [
      "(1500, 21816, 1)\n",
      "(1500, 1)\n"
     ]
    }
   ],
   "source": [
    "print(X_train.shape)\n",
    "print(Y_train.shape)"
   ]
  },
  {
   "cell_type": "code",
   "execution_count": 21,
   "metadata": {},
   "outputs": [
    {
     "name": "stdout",
     "output_type": "stream",
     "text": [
      "Epoch 1/50\n",
      "47/47 [==============================] - 2s 40ms/step - loss: 2.3663 - accuracy: 0.2593\n",
      "Epoch 2/50\n",
      "47/47 [==============================] - 2s 41ms/step - loss: 1.9846 - accuracy: 0.3367\n",
      "Epoch 3/50\n",
      "47/47 [==============================] - 2s 41ms/step - loss: 1.6982 - accuracy: 0.4613\n",
      "Epoch 4/50\n",
      "47/47 [==============================] - 2s 41ms/step - loss: 1.4167 - accuracy: 0.5680\n",
      "Epoch 5/50\n",
      "47/47 [==============================] - 2s 44ms/step - loss: 1.1798 - accuracy: 0.6320\n",
      "Epoch 6/50\n",
      "47/47 [==============================] - 2s 42ms/step - loss: 0.6736 - accuracy: 0.7667\n",
      "Epoch 7/50\n",
      "47/47 [==============================] - 2s 41ms/step - loss: 0.4565 - accuracy: 0.8553\n",
      "Epoch 8/50\n",
      "47/47 [==============================] - 2s 41ms/step - loss: 0.3316 - accuracy: 0.8827\n",
      "Epoch 9/50\n",
      "47/47 [==============================] - 2s 40ms/step - loss: 0.2285 - accuracy: 0.9333\n",
      "Epoch 10/50\n",
      "47/47 [==============================] - 2s 40ms/step - loss: 0.1058 - accuracy: 0.9647\n",
      "Epoch 11/50\n",
      "47/47 [==============================] - 2s 41ms/step - loss: 0.1648 - accuracy: 0.9553\n",
      "Epoch 12/50\n",
      "47/47 [==============================] - 2s 41ms/step - loss: 0.1345 - accuracy: 0.9647\n",
      "Epoch 13/50\n",
      "47/47 [==============================] - 2s 41ms/step - loss: 0.1333 - accuracy: 0.9620\n",
      "Epoch 14/50\n",
      "47/47 [==============================] - 2s 42ms/step - loss: 0.0921 - accuracy: 0.9773\n",
      "Epoch 15/50\n",
      "47/47 [==============================] - 2s 41ms/step - loss: 0.0881 - accuracy: 0.9793\n",
      "Epoch 16/50\n",
      "47/47 [==============================] - 2s 40ms/step - loss: 0.0872 - accuracy: 0.9793\n",
      "Epoch 17/50\n",
      "47/47 [==============================] - 2s 40ms/step - loss: 0.0888 - accuracy: 0.9793\n",
      "Epoch 18/50\n",
      "47/47 [==============================] - 2s 40ms/step - loss: 0.0819 - accuracy: 0.9820\n",
      "Epoch 19/50\n",
      "47/47 [==============================] - 2s 43ms/step - loss: 0.0746 - accuracy: 0.9860\n",
      "Epoch 20/50\n",
      "47/47 [==============================] - 2s 41ms/step - loss: 0.0604 - accuracy: 0.9827\n",
      "Epoch 21/50\n",
      "47/47 [==============================] - 2s 41ms/step - loss: 0.1156 - accuracy: 0.9787\n",
      "Epoch 22/50\n",
      "47/47 [==============================] - 2s 40ms/step - loss: 0.0950 - accuracy: 0.9787\n",
      "Epoch 23/50\n",
      "47/47 [==============================] - 2s 41ms/step - loss: 0.0833 - accuracy: 0.9820\n",
      "Epoch 24/50\n",
      "47/47 [==============================] - 2s 41ms/step - loss: 0.0611 - accuracy: 0.9913\n",
      "Epoch 25/50\n",
      "47/47 [==============================] - 2s 42ms/step - loss: 0.0169 - accuracy: 0.9933\n",
      "Epoch 26/50\n",
      "47/47 [==============================] - 2s 42ms/step - loss: 0.0238 - accuracy: 0.9980\n",
      "Epoch 27/50\n",
      "47/47 [==============================] - 2s 40ms/step - loss: 0.0179 - accuracy: 0.9953\n",
      "Epoch 28/50\n",
      "47/47 [==============================] - 2s 42ms/step - loss: 0.0951 - accuracy: 0.9780\n",
      "Epoch 29/50\n",
      "47/47 [==============================] - 2s 41ms/step - loss: 0.0630 - accuracy: 0.9767\n",
      "Epoch 30/50\n",
      "47/47 [==============================] - 2s 43ms/step - loss: 0.1146 - accuracy: 0.9707\n",
      "Epoch 31/50\n",
      "47/47 [==============================] - 2s 41ms/step - loss: 0.0374 - accuracy: 0.9907\n",
      "Epoch 32/50\n",
      "47/47 [==============================] - 2s 41ms/step - loss: 0.0226 - accuracy: 0.9947\n",
      "Epoch 33/50\n",
      "47/47 [==============================] - 2s 41ms/step - loss: 0.0254 - accuracy: 0.9933\n",
      "Epoch 34/50\n",
      "47/47 [==============================] - 2s 41ms/step - loss: 0.0787 - accuracy: 0.9913\n",
      "Epoch 35/50\n",
      "47/47 [==============================] - 2s 42ms/step - loss: 0.0995 - accuracy: 0.9767\n",
      "Epoch 36/50\n",
      "47/47 [==============================] - 2s 41ms/step - loss: 0.0743 - accuracy: 0.9853\n",
      "Epoch 37/50\n",
      "47/47 [==============================] - 2s 40ms/step - loss: 0.0608 - accuracy: 0.9913\n",
      "Epoch 38/50\n",
      "47/47 [==============================] - 2s 41ms/step - loss: 0.0325 - accuracy: 0.9940\n",
      "Epoch 39/50\n",
      "47/47 [==============================] - 2s 40ms/step - loss: 0.0529 - accuracy: 0.9920\n",
      "Epoch 40/50\n",
      "47/47 [==============================] - 2s 42ms/step - loss: 0.0358 - accuracy: 0.9927\n",
      "Epoch 41/50\n",
      "47/47 [==============================] - 2s 40ms/step - loss: 0.0564 - accuracy: 0.9867\n",
      "Epoch 42/50\n",
      "47/47 [==============================] - 2s 41ms/step - loss: 0.0579 - accuracy: 0.9847\n",
      "Epoch 43/50\n",
      "47/47 [==============================] - 2s 42ms/step - loss: 0.0327 - accuracy: 0.9920\n",
      "Epoch 44/50\n",
      "47/47 [==============================] - 2s 42ms/step - loss: 0.0211 - accuracy: 0.9967\n",
      "Epoch 45/50\n",
      "47/47 [==============================] - 2s 42ms/step - loss: 0.0383 - accuracy: 0.9940\n",
      "Epoch 46/50\n",
      "47/47 [==============================] - 2s 41ms/step - loss: 0.0550 - accuracy: 0.9860\n",
      "Epoch 47/50\n",
      "47/47 [==============================] - 2s 41ms/step - loss: 0.1861 - accuracy: 0.9687\n",
      "Epoch 48/50\n",
      "47/47 [==============================] - 2s 40ms/step - loss: 0.1968 - accuracy: 0.9627\n",
      "Epoch 49/50\n",
      "47/47 [==============================] - 2s 40ms/step - loss: 0.0505 - accuracy: 0.9880\n",
      "Epoch 50/50\n",
      "47/47 [==============================] - 2s 41ms/step - loss: 0.1020 - accuracy: 0.9853\n"
     ]
    }
   ],
   "source": [
    "classifier_history = classifier_model.fit(X_train,\n",
    "                                          Y_train,\n",
    "                                          epochs=50)"
   ]
  },
  {
   "cell_type": "markdown",
   "metadata": {},
   "source": [
    "### Performance Stats"
   ]
  },
  {
   "cell_type": "code",
   "execution_count": 22,
   "metadata": {},
   "outputs": [
    {
     "name": "stderr",
     "output_type": "stream",
     "text": [
      "No handles with labels found to put in legend.\n",
      "No handles with labels found to put in legend.\n"
     ]
    },
    {
     "data": {
      "text/plain": [
       "<matplotlib.legend.Legend at 0x7fc08172a710>"
      ]
     },
     "execution_count": 22,
     "metadata": {},
     "output_type": "execute_result"
    },
    {
     "data": {
      "image/png": "[encoded data removed]",
      "text/plain": [
       "<Figure size 1008x504 with 2 Axes>"
      ]
     },
     "metadata": {
      "needs_background": "light"
     },
     "output_type": "display_data"
    }
   ],
   "source": [
    "fig, ax = plt.subplots(1,2);\n",
    "fig.set_size_inches(14,7);\n",
    "\n",
    "ax[0].plot(classifier_history.history['accuracy'])\n",
    "\n",
    "ax[0].set_xlabel(\"epoch\", fontsize=20)\n",
    "ax[0].set_ylabel(\"accuracy %\", fontsize=20)\n",
    "ax[0].legend()\n",
    "\n",
    "ax[1].plot(classifier_history.history['loss'])\n",
    "\n",
    "ax[1].set_xlabel(\"epoch\", fontsize=20)\n",
    "ax[1].set_ylabel(\"training loss\", fontsize=20)\n",
    "ax[1].legend()"
   ]
  },
  {
   "cell_type": "code",
   "execution_count": 23,
   "metadata": {},
   "outputs": [],
   "source": [
    "Y_pred = classifier_model.predict(x_test)\n",
    "y_pred = np.argmax(Y_pred, axis=1)\n",
    "\n",
    "matrix = confusion_matrix(y_test, y_pred, normalize='true', labels=[0,1,2,3,4,5,6])"
   ]
  },
  {
   "cell_type": "code",
   "execution_count": 24,
   "metadata": {},
   "outputs": [
    {
     "data": {
      "text/plain": [
       "array([2, 2, 3, 4, 2, 3, 3, 1, 4, 4, 3, 1, 3, 1, 1, 1, 3, 1, 1, 1, 4, 2,\n",
       "       1, 3, 2, 1, 2, 1, 4, 1, 2, 1, 4, 4, 1, 2, 2, 4, 2, 2, 4, 1, 1, 2,\n",
       "       4, 1, 2, 3, 3, 4, 2, 3, 4, 4, 2, 4, 3, 2, 4, 4, 1, 1, 1, 4, 1, 2,\n",
       "       4, 1, 4, 4, 1, 4, 2, 2, 2, 1, 4, 2, 2, 2, 2, 4, 2, 4, 1, 4, 4, 2,\n",
       "       1, 4, 1, 2, 4, 1, 1, 1, 2, 4, 4, 2, 1, 4, 4, 4, 2, 1, 4, 2, 2, 1,\n",
       "       1, 4, 4, 2, 3, 2, 4, 1, 1, 4, 4, 3, 2, 3, 2, 2, 3, 2, 4, 2, 3, 2,\n",
       "       1, 2, 2, 4, 1, 3, 4, 1, 2, 1, 2, 2, 1, 2, 2, 4, 3, 2, 4, 4, 2, 4,\n",
       "       2, 2, 2, 4, 1, 3, 4, 1, 1, 2, 4, 4, 1, 2, 1, 2, 1, 1, 4, 2, 3, 3,\n",
       "       1, 2, 2, 2, 2, 1, 1, 4, 3, 4, 2, 4, 2, 1, 4, 3, 2, 1, 2, 1, 1, 2,\n",
       "       4, 4, 1, 3, 3, 4, 4, 1, 2, 1, 2, 4, 1, 2, 2, 1, 1, 2, 1, 3, 4, 2,\n",
       "       3, 1, 1, 2, 4, 4, 4, 1, 2, 4, 2, 4, 4, 2, 2, 2, 1, 2, 1, 2, 1, 1,\n",
       "       4, 4, 1, 2, 3, 2, 4, 1, 1, 1, 4, 2, 2, 1, 1, 4, 2, 4, 4, 1, 2, 4,\n",
       "       4, 4, 1, 1, 1, 1, 1, 1, 4, 3, 3, 2, 2, 1, 2, 4, 2, 1, 4, 4, 2, 3,\n",
       "       1, 1, 2, 4, 2, 4, 2, 4, 4, 2, 4, 2, 2, 2, 1, 1, 2, 1, 3, 2, 2, 4,\n",
       "       1, 2, 1, 2, 3, 4, 2, 2, 3, 3, 2, 3, 1, 1, 1, 1, 4, 2, 4, 2, 2, 1,\n",
       "       2, 4, 4, 4, 1, 1, 2, 4, 2, 1, 4, 4, 3, 4, 1, 1, 1, 1, 4, 1, 1, 4,\n",
       "       4, 1, 4, 2, 2, 2, 3, 1, 4, 1, 4, 4, 4, 1, 1, 3, 2, 4, 1, 4, 4, 2,\n",
       "       4, 2, 4, 4, 2, 1, 2, 3, 2, 1, 2, 4, 3, 1, 3, 1, 1, 2, 1, 2, 4, 1,\n",
       "       3, 1, 4, 4, 2, 4, 1, 2, 1, 4, 4, 4, 2, 1, 1, 4, 2, 3, 4, 1, 1, 4,\n",
       "       2, 2, 3, 1, 3, 1, 4, 3, 2, 3, 2, 4, 2, 3, 3, 4, 1, 1, 2, 2, 4, 2,\n",
       "       4, 3, 4, 1, 2, 1, 2, 1, 1, 3, 1, 1, 2, 2, 1, 2, 4, 1, 2, 4, 3, 2,\n",
       "       3, 1, 1, 3, 1, 1, 3, 1, 2, 3, 2, 1, 2, 1, 4, 4, 2, 3, 1, 4, 2, 2,\n",
       "       2, 3, 3, 2, 2, 1, 2, 2, 2, 2, 4, 2, 1, 4, 1, 3])"
      ]
     },
     "execution_count": 24,
     "metadata": {},
     "output_type": "execute_result"
    }
   ],
   "source": [
    "y_pred"
   ]
  },
  {
   "cell_type": "code",
   "execution_count": 26,
   "metadata": {},
   "outputs": [
    {
     "data": {
      "image/png": "[encoded data removed]",
      "text/plain": [
       "<Figure size 504x504 with 1 Axes>"
      ]
     },
     "metadata": {
      "needs_background": "light"
     },
     "output_type": "display_data"
    }
   ],
   "source": [
    "fig, ax = plt.subplots(1,1)\n",
    "fig.set_size_inches(7,7)\n",
    "\n",
    "labels = ['0', '1', '2', '3', '4', '5', '6']\n",
    "\n",
    "grid = np.array(matrix)\n",
    "im = ax.imshow(grid)\n",
    "\n",
    "for k in range (0, len(grid)):\n",
    "        for l in range (0, len(grid[0])):\n",
    "            ax.text(l-0.3, k+0.1, str(grid[k][l])[:4], size=20, color='white')\n",
    "            \n",
    "ax.set_xticklabels([''] + labels);\n",
    "ax.set_yticklabels([''] + labels);\n",
    "\n",
    "ax.set_ylabel('True Pulse Number', fontsize=20);\n",
    "ax.set_xlabel('Classified Pulse Number', fontsize=20);\n",
    "\n",
    "#ax.set_title(\"with autoencoder\", fontsize=20)\n"
   ]
  },
  {
   "cell_type": "code",
   "execution_count": null,
   "metadata": {},
   "outputs": [],
   "source": []
  }
 ],
 "metadata": {
  "kernelspec": {
   "display_name": "Python 3",
   "language": "python",
   "name": "python3"
  },
  "language_info": {
   "codemirror_mode": {
    "name": "ipython",
    "version": 3
   },
   "file_extension": ".py",
   "mimetype": "text/x-python",
   "name": "python",
   "nbconvert_exporter": "python",
   "pygments_lexer": "ipython3",
   "version": "3.7.5"
  }
 },
 "nbformat": 4,
 "nbformat_minor": 4
}
