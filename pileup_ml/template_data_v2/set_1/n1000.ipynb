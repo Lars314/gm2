{
 "cells": [
  {
   "cell_type": "code",
   "execution_count": 1,
   "metadata": {},
   "outputs": [
    {
     "name": "stdout",
     "output_type": "stream",
     "text": [
      "Welcome to JupyROOT 6.18/04\n"
     ]
    }
   ],
   "source": [
    "import ROOT as r\n",
    "import pandas as pd\n",
    "import matplotlib.pyplot as plt\n",
    "import numpy as np\n",
    "import sklearn as skl\n",
    "import pickle\n",
    "import spliland\n",
    "import importlib\n",
    "import random\n",
    "import fclParse\n",
    "from scipy import stats\n",
    "from sklearn.metrics import classification_report, confusion_matrix\n",
    "# TensorFlow and tf.keras\n",
    "import tensorflow as tf\n",
    "from tensorflow import keras"
   ]
  },
  {
   "cell_type": "code",
   "execution_count": 2,
   "metadata": {},
   "outputs": [],
   "source": [
    "directory = './template_data_v2/set_1/'"
   ]
  },
  {
   "cell_type": "code",
   "execution_count": 3,
   "metadata": {},
   "outputs": [],
   "source": [
    "tf.config.run_functions_eagerly(True)"
   ]
  },
  {
   "cell_type": "markdown",
   "metadata": {},
   "source": [
    "## Intro\n",
    "\n",
    "The purpose of this notebook is to make a second attempt at a neural network, following along with what was described in the paper \"Deep Learning Based Pulse Shape Analysis for GERDA\" by Philipp Holl in 2017. This algorithm consists of an autoencoder, decoder, and then classifier.\n",
    "\n",
    "I am also following this guide: https://keras.io/examples/timeseries/timeseries_anomaly_detection/ for the implementation of the layers described in the paper into python"
   ]
  },
  {
   "cell_type": "markdown",
   "metadata": {},
   "source": [
    "### Prep the data"
   ]
  },
  {
   "cell_type": "code",
   "execution_count": 4,
   "metadata": {},
   "outputs": [],
   "source": [
    "n_points = 1000\n",
    "\n",
    "with open(directory + 'x.data', 'rb') as xFile:\n",
    "    biggestX = pickle.load(xFile)\n",
    "    x_train = []\n",
    "    x_test = []\n",
    "    for x in biggestX[:n_points]:\n",
    "        x_train.append(x)\n",
    "    for x in biggestX[n_points:n_points+500]:\n",
    "        x_test.append(x)\n",
    "    xFile.close()\n",
    "\n",
    "with open(directory + 'y.data', 'rb') as yFile:\n",
    "    biggestY = pickle.load(yFile)\n",
    "    y_train = biggestY[:n_points]\n",
    "    y_test = biggestY[n_points:n_points+500]\n",
    "    yFile.close()\n",
    "    \n",
    "x_train = np.array(x_train)\n",
    "x_test = np.array(x_test)\n",
    "y_train = np.array(y_train)\n",
    "y_test = np.array(y_test)"
   ]
  },
  {
   "cell_type": "code",
   "execution_count": 5,
   "metadata": {},
   "outputs": [],
   "source": [
    "X_train = np.reshape(x_train, (n_points, 21816, 1))\n",
    "Y_train = np.reshape(y_train, (n_points, 1))"
   ]
  },
  {
   "cell_type": "code",
   "execution_count": 6,
   "metadata": {},
   "outputs": [
    {
     "data": {
      "text/plain": [
       "(1000, 21816, 1)"
      ]
     },
     "execution_count": 6,
     "metadata": {},
     "output_type": "execute_result"
    }
   ],
   "source": [
    "X_train.shape"
   ]
  },
  {
   "cell_type": "markdown",
   "metadata": {},
   "source": [
    "### Classifier"
   ]
  },
  {
   "cell_type": "code",
   "execution_count": 7,
   "metadata": {},
   "outputs": [
    {
     "name": "stderr",
     "output_type": "stream",
     "text": [
      "2021-01-21 16:09:55.329644: W tensorflow/stream_executor/platform/default/dso_loader.cc:59] Could not load dynamic library 'libcuda.so.1'; dlerror: libcuda.so.1: cannot open shared object file: No such file or directory; LD_LIBRARY_PATH: /home/lars/root6/lib\n",
      "2021-01-21 16:09:55.329673: W tensorflow/stream_executor/cuda/cuda_driver.cc:312] failed call to cuInit: UNKNOWN ERROR (303)\n",
      "2021-01-21 16:09:55.329688: I tensorflow/stream_executor/cuda/cuda_diagnostics.cc:156] kernel driver does not appear to be running on this host (LarsXPS15): /proc/driver/nvidia/version does not exist\n",
      "2021-01-21 16:09:55.329940: I tensorflow/core/platform/cpu_feature_guard.cc:142] This TensorFlow binary is optimized with oneAPI Deep Neural Network Library (oneDNN)to use the following CPU instructions in performance-critical operations:  AVX2 FMA\n",
      "To enable them in other operations, rebuild TensorFlow with the appropriate compiler flags.\n",
      "2021-01-21 16:09:55.351715: I tensorflow/core/platform/profile_utils/cpu_utils.cc:104] CPU Frequency: 2208005000 Hz\n",
      "2021-01-21 16:09:55.354330: I tensorflow/compiler/xla/service/service.cc:168] XLA service 0x55ca676ab200 initialized for platform Host (this does not guarantee that XLA will be used). Devices:\n",
      "2021-01-21 16:09:55.354356: I tensorflow/compiler/xla/service/service.cc:176]   StreamExecutor device (0): Host, Default Version\n"
     ]
    }
   ],
   "source": [
    "classifier_model = keras.Sequential([\n",
    "    keras.layers.Dense(256, activation='relu', input_shape=(21816,)),\n",
    "    keras.layers.Dense(20, activation='relu'),\n",
    "    keras.layers.Dense(256, activation='relu'),\n",
    "    keras.layers.Dense(20, activation='relu'),\n",
    "    keras.layers.Dense(256, activation='relu'),\n",
    "    keras.layers.Dense(20, activation='relu'),\n",
    "    keras.layers.Dense(256, activation='relu'),\n",
    "    keras.layers.Dense(20, activation='relu'),\n",
    "    keras.layers.Dense(256, activation='relu'),\n",
    "    keras.layers.Dense(20, activation='relu')\n",
    "])"
   ]
  },
  {
   "cell_type": "code",
   "execution_count": 8,
   "metadata": {},
   "outputs": [],
   "source": [
    "classifier_model.compile(optimizer = 'adam', loss=tf.keras.losses.SparseCategoricalCrossentropy(from_logits=True), metrics=['accuracy'])"
   ]
  },
  {
   "cell_type": "code",
   "execution_count": 9,
   "metadata": {},
   "outputs": [
    {
     "name": "stdout",
     "output_type": "stream",
     "text": [
      "(1000, 21816, 1)\n",
      "(1000, 1)\n"
     ]
    }
   ],
   "source": [
    "print(X_train.shape)\n",
    "print(Y_train.shape)"
   ]
  },
  {
   "cell_type": "code",
   "execution_count": 10,
   "metadata": {},
   "outputs": [
    {
     "name": "stdout",
     "output_type": "stream",
     "text": [
      "Epoch 1/50\n"
     ]
    },
    {
     "name": "stderr",
     "output_type": "stream",
     "text": [
      "/home/lars/miniconda3/lib/python3.7/site-packages/tensorflow/python/data/ops/dataset_ops.py:3350: UserWarning: Even though the tf.config.experimental_run_functions_eagerly option is set, this option does not apply to tf.data functions. tf.data functions are still traced and executed as graphs.\n",
      "  \"Even though the tf.config.experimental_run_functions_eagerly \"\n"
     ]
    },
    {
     "name": "stdout",
     "output_type": "stream",
     "text": [
      "32/32 [==============================] - 1s 38ms/step - loss: 1.8009 - accuracy: 0.2310\n",
      "Epoch 2/50\n",
      "32/32 [==============================] - 1s 41ms/step - loss: 1.2606 - accuracy: 0.3770\n",
      "Epoch 3/50\n",
      "32/32 [==============================] - 1s 44ms/step - loss: 1.0405 - accuracy: 0.5310\n",
      "Epoch 4/50\n",
      "32/32 [==============================] - 1s 42ms/step - loss: 0.8433 - accuracy: 0.6560\n",
      "Epoch 5/50\n",
      "32/32 [==============================] - 1s 42ms/step - loss: 0.6390 - accuracy: 0.7580\n",
      "Epoch 6/50\n",
      "32/32 [==============================] - 1s 43ms/step - loss: 0.5052 - accuracy: 0.8100\n",
      "Epoch 7/50\n",
      "32/32 [==============================] - 1s 39ms/step - loss: 0.3693 - accuracy: 0.8780\n",
      "Epoch 8/50\n",
      "32/32 [==============================] - 1s 44ms/step - loss: 0.1744 - accuracy: 0.9460\n",
      "Epoch 9/50\n",
      "32/32 [==============================] - 1s 40ms/step - loss: 0.2470 - accuracy: 0.9240\n",
      "Epoch 10/50\n",
      "32/32 [==============================] - 1s 39ms/step - loss: 0.2800 - accuracy: 0.9130\n",
      "Epoch 11/50\n",
      "32/32 [==============================] - 1s 43ms/step - loss: 0.2566 - accuracy: 0.9260\n",
      "Epoch 12/50\n",
      "32/32 [==============================] - 1s 40ms/step - loss: 0.1948 - accuracy: 0.9470\n",
      "Epoch 13/50\n",
      "32/32 [==============================] - 1s 40ms/step - loss: 0.0955 - accuracy: 0.9670\n",
      "Epoch 14/50\n",
      "32/32 [==============================] - 1s 40ms/step - loss: 0.0511 - accuracy: 0.9860\n",
      "Epoch 15/50\n",
      "32/32 [==============================] - 1s 40ms/step - loss: 0.0692 - accuracy: 0.9830\n",
      "Epoch 16/50\n",
      "32/32 [==============================] - 1s 39ms/step - loss: 0.0502 - accuracy: 0.9900\n",
      "Epoch 17/50\n",
      "32/32 [==============================] - 1s 40ms/step - loss: 0.0798 - accuracy: 0.9840\n",
      "Epoch 18/50\n",
      "32/32 [==============================] - 1s 40ms/step - loss: 0.1049 - accuracy: 0.9730\n",
      "Epoch 19/50\n",
      "32/32 [==============================] - 1s 40ms/step - loss: 0.0830 - accuracy: 0.9830\n",
      "Epoch 20/50\n",
      "32/32 [==============================] - 1s 41ms/step - loss: 0.0995 - accuracy: 0.9860\n",
      "Epoch 21/50\n",
      "32/32 [==============================] - 1s 43ms/step - loss: 0.0275 - accuracy: 0.9900\n",
      "Epoch 22/50\n",
      "32/32 [==============================] - 1s 40ms/step - loss: 0.2990 - accuracy: 0.9300\n",
      "Epoch 23/50\n",
      "32/32 [==============================] - 1s 40ms/step - loss: 0.1311 - accuracy: 0.9780\n",
      "Epoch 24/50\n",
      "32/32 [==============================] - 1s 44ms/step - loss: 0.1926 - accuracy: 0.9600\n",
      "Epoch 25/50\n",
      "32/32 [==============================] - 1s 40ms/step - loss: 0.1635 - accuracy: 0.9700\n",
      "Epoch 26/50\n",
      "32/32 [==============================] - 1s 41ms/step - loss: 0.1106 - accuracy: 0.9750\n",
      "Epoch 27/50\n",
      "32/32 [==============================] - 1s 41ms/step - loss: 0.0241 - accuracy: 0.9950\n",
      "Epoch 28/50\n",
      "32/32 [==============================] - 1s 41ms/step - loss: 0.0056 - accuracy: 0.9980\n",
      "Epoch 29/50\n",
      "32/32 [==============================] - 1s 41ms/step - loss: 0.0062 - accuracy: 0.9980\n",
      "Epoch 30/50\n",
      "32/32 [==============================] - 1s 41ms/step - loss: 0.1549 - accuracy: 0.9760\n",
      "Epoch 31/50\n",
      "32/32 [==============================] - 1s 41ms/step - loss: 0.1028 - accuracy: 0.9870\n",
      "Epoch 32/50\n",
      "32/32 [==============================] - 1s 40ms/step - loss: 0.1479 - accuracy: 0.9710\n",
      "Epoch 33/50\n",
      "32/32 [==============================] - 1s 40ms/step - loss: 0.0775 - accuracy: 0.9850\n",
      "Epoch 34/50\n",
      "32/32 [==============================] - 1s 40ms/step - loss: 0.0432 - accuracy: 0.9930\n",
      "Epoch 35/50\n",
      "32/32 [==============================] - 1s 41ms/step - loss: 0.0132 - accuracy: 0.9980\n",
      "Epoch 36/50\n",
      "32/32 [==============================] - 1s 46ms/step - loss: 0.0145 - accuracy: 0.9990\n",
      "Epoch 37/50\n",
      "32/32 [==============================] - 1s 42ms/step - loss: 0.0024 - accuracy: 1.0000\n",
      "Epoch 38/50\n",
      "32/32 [==============================] - 1s 42ms/step - loss: 0.0117 - accuracy: 0.9990\n",
      "Epoch 39/50\n",
      "32/32 [==============================] - 1s 41ms/step - loss: 0.0016 - accuracy: 1.0000\n",
      "Epoch 40/50\n",
      "32/32 [==============================] - 1s 40ms/step - loss: 3.4269e-04 - accuracy: 1.0000\n",
      "Epoch 41/50\n",
      "32/32 [==============================] - ETA: 0s - loss: 1.8109e-04 - accuracy: 1.00 - 1s 39ms/step - loss: 1.8132e-04 - accuracy: 1.0000\n",
      "Epoch 42/50\n",
      "32/32 [==============================] - 1s 40ms/step - loss: 1.2146e-04 - accuracy: 1.0000\n",
      "Epoch 43/50\n",
      "32/32 [==============================] - 1s 40ms/step - loss: 9.3698e-05 - accuracy: 1.0000\n",
      "Epoch 44/50\n",
      "32/32 [==============================] - 1s 41ms/step - loss: 7.6583e-05 - accuracy: 1.0000\n",
      "Epoch 45/50\n",
      "32/32 [==============================] - 1s 40ms/step - loss: 6.3900e-05 - accuracy: 1.0000\n",
      "Epoch 46/50\n",
      "32/32 [==============================] - 1s 40ms/step - loss: 5.5581e-05 - accuracy: 1.0000\n",
      "Epoch 47/50\n",
      "32/32 [==============================] - 1s 41ms/step - loss: 4.8728e-05 - accuracy: 1.0000\n",
      "Epoch 48/50\n",
      "32/32 [==============================] - 1s 43ms/step - loss: 4.3045e-05 - accuracy: 1.0000\n",
      "Epoch 49/50\n",
      "32/32 [==============================] - 1s 43ms/step - loss: 3.8588e-05 - accuracy: 1.0000\n",
      "Epoch 50/50\n",
      "32/32 [==============================] - 1s 43ms/step - loss: 3.4499e-05 - accuracy: 1.0000\n"
     ]
    }
   ],
   "source": [
    "classifier_history = classifier_model.fit(X_train,\n",
    "                                          Y_train,\n",
    "                                          epochs=50)"
   ]
  },
  {
   "cell_type": "markdown",
   "metadata": {},
   "source": [
    "### Performance Stats"
   ]
  },
  {
   "cell_type": "code",
   "execution_count": 11,
   "metadata": {},
   "outputs": [
    {
     "name": "stderr",
     "output_type": "stream",
     "text": [
      "No handles with labels found to put in legend.\n",
      "No handles with labels found to put in legend.\n"
     ]
    },
    {
     "data": {
      "text/plain": [
       "<matplotlib.legend.Legend at 0x7fc081d50150>"
      ]
     },
     "execution_count": 11,
     "metadata": {},
     "output_type": "execute_result"
    },
    {
     "data": {
      "image/png": "[encoded data removed]",
      "text/plain": [
       "<Figure size 1008x504 with 2 Axes>"
      ]
     },
     "metadata": {
      "needs_background": "light"
     },
     "output_type": "display_data"
    }
   ],
   "source": [
    "fig, ax = plt.subplots(1,2);\n",
    "fig.set_size_inches(14,7);\n",
    "\n",
    "ax[0].plot(classifier_history.history['accuracy'])\n",
    "\n",
    "ax[0].set_xlabel(\"epoch\", fontsize=20)\n",
    "ax[0].set_ylabel(\"accuracy %\", fontsize=20)\n",
    "ax[0].legend()\n",
    "\n",
    "ax[1].plot(classifier_history.history['loss'])\n",
    "\n",
    "ax[1].set_xlabel(\"epoch\", fontsize=20)\n",
    "ax[1].set_ylabel(\"training loss\", fontsize=20)\n",
    "ax[1].legend()"
   ]
  },
  {
   "cell_type": "code",
   "execution_count": 12,
   "metadata": {},
   "outputs": [],
   "source": [
    "Y_pred = classifier_model.predict(x_test)\n",
    "y_pred = np.argmax(Y_pred, axis=1)\n",
    "\n",
    "matrix = confusion_matrix(y_test, y_pred, normalize='true', labels=[0,1,2,3,4,5,6])"
   ]
  },
  {
   "cell_type": "code",
   "execution_count": 13,
   "metadata": {},
   "outputs": [
    {
     "data": {
      "text/plain": [
       "array([3, 4, 4, 3, 4, 2, 2, 2, 2, 4, 2, 4, 1, 3, 4, 2, 3, 3, 4, 1, 4, 2,\n",
       "       4, 2, 2, 2, 1, 4, 4, 2, 1, 2, 3, 2, 4, 1, 2, 2, 4, 1, 2, 3, 3, 4,\n",
       "       1, 4, 4, 1, 3, 1, 3, 3, 2, 4, 3, 3, 4, 2, 3, 4, 2, 2, 2, 1, 4, 3,\n",
       "       4, 2, 2, 2, 3, 4, 1, 4, 1, 1, 3, 3, 4, 2, 4, 1, 1, 3, 4, 3, 4, 2,\n",
       "       4, 3, 1, 3, 3, 4, 4, 2, 4, 1, 3, 2, 3, 3, 1, 1, 3, 3, 2, 2, 2, 2,\n",
       "       2, 1, 2, 4, 2, 1, 2, 4, 2, 3, 4, 2, 3, 3, 1, 2, 1, 4, 1, 3, 4, 4,\n",
       "       4, 1, 4, 1, 2, 2, 3, 1, 4, 4, 4, 3, 3, 4, 2, 4, 2, 4, 2, 4, 2, 1,\n",
       "       3, 2, 3, 4, 2, 3, 1, 2, 1, 2, 1, 1, 3, 4, 2, 2, 4, 1, 2, 2, 3, 4,\n",
       "       3, 4, 2, 3, 2, 3, 1, 4, 4, 4, 1, 3, 3, 3, 4, 3, 3, 2, 1, 4, 1, 4,\n",
       "       2, 1, 3, 3, 3, 2, 2, 3, 2, 1, 3, 4, 4, 4, 2, 1, 1, 3, 4, 1, 2, 4,\n",
       "       2, 1, 1, 3, 2, 1, 2, 4, 4, 2, 1, 4, 3, 2, 2, 3, 2, 4, 4, 4, 3, 3,\n",
       "       2, 3, 3, 2, 4, 1, 2, 2, 3, 4, 3, 2, 4, 4, 2, 2, 3, 2, 1, 4, 2, 3,\n",
       "       4, 2, 4, 2, 4, 2, 1, 3, 4, 3, 3, 3, 1, 2, 3, 4, 4, 3, 4, 3, 3, 3,\n",
       "       2, 4, 2, 2, 4, 4, 3, 1, 2, 2, 3, 2, 4, 4, 1, 4, 4, 3, 4, 4, 1, 4,\n",
       "       3, 2, 2, 4, 3, 1, 3, 3, 2, 2, 4, 3, 4, 1, 2, 4, 2, 2, 2, 4, 1, 3,\n",
       "       2, 4, 3, 3, 4, 1, 1, 3, 4, 1, 3, 1, 4, 3, 3, 4, 4, 4, 4, 2, 4, 4,\n",
       "       3, 1, 4, 2, 3, 4, 2, 1, 1, 2, 3, 2, 1, 2, 2, 2, 2, 4, 3, 4, 2, 3,\n",
       "       1, 2, 4, 1, 3, 4, 2, 1, 4, 3, 4, 3, 3, 2, 1, 2, 4, 4, 3, 4, 1, 3,\n",
       "       4, 1, 4, 4, 4, 4, 3, 1, 2, 1, 4, 3, 4, 3, 4, 3, 1, 2, 2, 1, 4, 4,\n",
       "       2, 4, 4, 3, 3, 1, 4, 1, 4, 4, 4, 2, 2, 4, 2, 1, 2, 1, 2, 1, 2, 1,\n",
       "       4, 2, 1, 3, 3, 3, 4, 2, 4, 3, 3, 2, 1, 4, 2, 3, 1, 3, 2, 3, 2, 4,\n",
       "       1, 3, 4, 4, 4, 1, 3, 4, 3, 3, 4, 4, 2, 2, 2, 3, 1, 3, 3, 2, 1, 2,\n",
       "       2, 2, 1, 3, 2, 4, 1, 2, 2, 4, 4, 1, 3, 1, 4, 1])"
      ]
     },
     "execution_count": 13,
     "metadata": {},
     "output_type": "execute_result"
    }
   ],
   "source": [
    "y_pred"
   ]
  },
  {
   "cell_type": "code",
   "execution_count": 14,
   "metadata": {},
   "outputs": [
    {
     "data": {
      "image/png": "[encoded data removed]",
      "text/plain": [
       "<Figure size 504x504 with 1 Axes>"
      ]
     },
     "metadata": {
      "needs_background": "light"
     },
     "output_type": "display_data"
    }
   ],
   "source": [
    "fig, ax = plt.subplots(1,1)\n",
    "fig.set_size_inches(7,7)\n",
    "\n",
    "labels = ['0', '1', '2', '3', '4', '5', '6']\n",
    "\n",
    "grid = np.array(matrix)\n",
    "im = ax.imshow(grid)\n",
    "\n",
    "for k in range (0, len(grid)):\n",
    "        for l in range (0, len(grid[0])):\n",
    "            ax.text(l-0.3, k+0.1, str(grid[k][l])[:4], size=20, color='white')\n",
    "            \n",
    "ax.set_xticklabels([''] + labels);\n",
    "ax.set_yticklabels([''] + labels);\n",
    "\n",
    "ax.set_ylabel('True Pulse Number', fontsize=20);\n",
    "ax.set_xlabel('Classified Pulse Number', fontsize=20);\n",
    "\n",
    "#ax.set_title(\"with autoencoder\", fontsize=20)\n"
   ]
  },
  {
   "cell_type": "code",
   "execution_count": null,
   "metadata": {},
   "outputs": [],
   "source": []
  }
 ],
 "metadata": {
  "kernelspec": {
   "display_name": "Python 3",
   "language": "python",
   "name": "python3"
  },
  "language_info": {
   "codemirror_mode": {
    "name": "ipython",
    "version": 3
   },
   "file_extension": ".py",
   "mimetype": "text/x-python",
   "name": "python",
   "nbconvert_exporter": "python",
   "pygments_lexer": "ipython3",
   "version": "3.7.5"
  }
 },
 "nbformat": 4,
 "nbformat_minor": 4
}
