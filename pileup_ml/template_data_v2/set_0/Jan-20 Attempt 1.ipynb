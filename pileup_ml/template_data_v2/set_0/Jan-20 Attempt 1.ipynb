{
 "cells": [
  {
   "cell_type": "code",
   "execution_count": 131,
   "metadata": {},
   "outputs": [],
   "source": [
    "import ROOT as r\n",
    "import pandas as pd\n",
    "import matplotlib.pyplot as plt\n",
    "import numpy as np\n",
    "import sklearn as skl\n",
    "import pickle\n",
    "import spliland\n",
    "import importlib\n",
    "import random\n",
    "import fclParse\n",
    "from scipy import stats\n",
    "from sklearn.metrics import classification_report, confusion_matrix\n",
    "# TensorFlow and tf.keras\n",
    "import tensorflow as tf\n",
    "from tensorflow import keras"
   ]
  },
  {
   "cell_type": "code",
   "execution_count": 195,
   "metadata": {},
   "outputs": [],
   "source": [
    "directory = './template_data_v2/set_0/'"
   ]
  },
  {
   "cell_type": "code",
   "execution_count": 196,
   "metadata": {},
   "outputs": [],
   "source": [
    "tf.config.run_functions_eagerly(True)"
   ]
  },
  {
   "cell_type": "markdown",
   "metadata": {},
   "source": [
    "## Intro\n",
    "\n",
    "The purpose of this notebook is to make a second attempt at a neural network, following along with what was described in the paper \"Deep Learning Based Pulse Shape Analysis for GERDA\" by Philipp Holl in 2017. This algorithm consists of an autoencoder, decoder, and then classifier.\n",
    "\n",
    "I am also following this guide: https://keras.io/examples/timeseries/timeseries_anomaly_detection/ for the implementation of the layers described in the paper into python"
   ]
  },
  {
   "cell_type": "markdown",
   "metadata": {},
   "source": [
    "### Prep the data"
   ]
  },
  {
   "cell_type": "code",
   "execution_count": 197,
   "metadata": {},
   "outputs": [],
   "source": [
    "n_points = 80\n",
    "\n",
    "with open(directory + 'x.data', 'rb') as xFile:\n",
    "    biggestX = pickle.load(xFile)\n",
    "    x_train = []\n",
    "    x_test = []\n",
    "    for x in biggestX[:n_points]:\n",
    "        x_train.append(x)\n",
    "    for x in biggestX[n_points:]:\n",
    "        x_test.append(x)\n",
    "    xFile.close()\n",
    "\n",
    "with open(directory + 'y.data', 'rb') as yFile:\n",
    "    biggestY = pickle.load(yFile)\n",
    "    y_train = biggestY[:n_points]\n",
    "    y_test = biggestY[n_points:]\n",
    "    yFile.close()\n",
    "    \n",
    "x_train = np.array(x_train)\n",
    "x_test = np.array(x_test)\n",
    "y_train = np.array(y_train)\n",
    "y_test = np.array(y_test)"
   ]
  },
  {
   "cell_type": "code",
   "execution_count": 198,
   "metadata": {},
   "outputs": [],
   "source": [
    "X_train = np.reshape(x_train, (n_points, 21816, 1))\n",
    "Y_train = np.reshape(y_train, (n_points, 1))"
   ]
  },
  {
   "cell_type": "code",
   "execution_count": 199,
   "metadata": {},
   "outputs": [
    {
     "data": {
      "text/plain": [
       "(80, 21816, 1)"
      ]
     },
     "execution_count": 199,
     "metadata": {},
     "output_type": "execute_result"
    }
   ],
   "source": [
    "X_train.shape"
   ]
  },
  {
   "cell_type": "markdown",
   "metadata": {},
   "source": [
    "### Classifier"
   ]
  },
  {
   "cell_type": "code",
   "execution_count": 210,
   "metadata": {},
   "outputs": [],
   "source": [
    "classifier_model = keras.Sequential([\n",
    "    keras.layers.Dense(256, activation='relu', input_shape=(21816,)),\n",
    "    keras.layers.Dense(20, activation='relu'),\n",
    "    keras.layers.Dense(256, activation='relu'),\n",
    "    keras.layers.Dense(20, activation='relu'),\n",
    "    keras.layers.Dense(256, activation='relu'),\n",
    "    keras.layers.Dense(20, activation='relu'),\n",
    "    keras.layers.Dense(256, activation='relu'),\n",
    "    keras.layers.Dense(20, activation='relu'),\n",
    "    keras.layers.Dense(256, activation='relu'),\n",
    "    keras.layers.Dense(20, activation='relu')\n",
    "])"
   ]
  },
  {
   "cell_type": "code",
   "execution_count": 211,
   "metadata": {},
   "outputs": [],
   "source": [
    "classifier_model.compile(optimizer = 'adam', loss=tf.keras.losses.SparseCategoricalCrossentropy(from_logits=True), metrics=['accuracy'])"
   ]
  },
  {
   "cell_type": "code",
   "execution_count": 212,
   "metadata": {},
   "outputs": [
    {
     "name": "stdout",
     "output_type": "stream",
     "text": [
      "(80, 21816, 1)\n",
      "(80, 1)\n"
     ]
    }
   ],
   "source": [
    "print(X_train.shape)\n",
    "print(Y_train.shape)"
   ]
  },
  {
   "cell_type": "code",
   "execution_count": 213,
   "metadata": {},
   "outputs": [
    {
     "name": "stdout",
     "output_type": "stream",
     "text": [
      "Epoch 1/100\n",
      "3/3 [==============================] - 0s 25ms/step - loss: 2.8892 - accuracy: 0.1750\n",
      "Epoch 2/100\n",
      "3/3 [==============================] - 0s 26ms/step - loss: 1.9554 - accuracy: 0.3125\n",
      "Epoch 3/100\n",
      "3/3 [==============================] - 0s 23ms/step - loss: 1.4437 - accuracy: 0.5250\n",
      "Epoch 4/100\n",
      "3/3 [==============================] - 0s 28ms/step - loss: 1.1618 - accuracy: 0.5750\n",
      "Epoch 5/100\n",
      "3/3 [==============================] - 0s 24ms/step - loss: 0.9532 - accuracy: 0.7000\n",
      "Epoch 6/100\n",
      "3/3 [==============================] - 0s 23ms/step - loss: 0.8079 - accuracy: 0.7375\n",
      "Epoch 7/100\n",
      "3/3 [==============================] - 0s 22ms/step - loss: 0.7087 - accuracy: 0.7750\n",
      "Epoch 8/100\n",
      "3/3 [==============================] - 0s 24ms/step - loss: 0.6419 - accuracy: 0.8000\n",
      "Epoch 9/100\n",
      "3/3 [==============================] - 0s 22ms/step - loss: 0.5164 - accuracy: 0.8875\n",
      "Epoch 10/100\n",
      "3/3 [==============================] - 0s 22ms/step - loss: 0.3904 - accuracy: 0.9125\n",
      "Epoch 11/100\n",
      "3/3 [==============================] - 0s 25ms/step - loss: 0.2902 - accuracy: 0.9875\n",
      "Epoch 12/100\n",
      "3/3 [==============================] - 0s 24ms/step - loss: 0.2022 - accuracy: 0.9875\n",
      "Epoch 13/100\n",
      "3/3 [==============================] - 0s 24ms/step - loss: 0.0575 - accuracy: 0.9875\n",
      "Epoch 14/100\n",
      "3/3 [==============================] - 0s 22ms/step - loss: 0.0121 - accuracy: 1.0000\n",
      "Epoch 15/100\n",
      "3/3 [==============================] - 0s 25ms/step - loss: 0.0716 - accuracy: 0.9750\n",
      "Epoch 16/100\n",
      "3/3 [==============================] - 0s 23ms/step - loss: 0.6000 - accuracy: 0.9125\n",
      "Epoch 17/100\n",
      "3/3 [==============================] - 0s 25ms/step - loss: 0.2919 - accuracy: 0.9500\n",
      "Epoch 18/100\n",
      "3/3 [==============================] - 0s 25ms/step - loss: 0.3011 - accuracy: 0.9375\n",
      "Epoch 19/100\n",
      "3/3 [==============================] - 0s 27ms/step - loss: 0.7401 - accuracy: 0.9125\n",
      "Epoch 20/100\n",
      "3/3 [==============================] - 0s 23ms/step - loss: 0.2784 - accuracy: 0.9375\n",
      "Epoch 21/100\n",
      "3/3 [==============================] - 0s 21ms/step - loss: 0.4194 - accuracy: 0.9500\n",
      "Epoch 22/100\n",
      "3/3 [==============================] - 0s 22ms/step - loss: 0.2160 - accuracy: 0.9625\n",
      "Epoch 23/100\n",
      "3/3 [==============================] - 0s 26ms/step - loss: 0.2344 - accuracy: 0.9750\n",
      "Epoch 24/100\n",
      "3/3 [==============================] - 0s 27ms/step - loss: 0.0247 - accuracy: 0.9875\n",
      "Epoch 25/100\n",
      "3/3 [==============================] - 0s 25ms/step - loss: 0.1268 - accuracy: 0.9875\n",
      "Epoch 26/100\n",
      "3/3 [==============================] - 0s 22ms/step - loss: 0.0183 - accuracy: 0.9875\n",
      "Epoch 27/100\n",
      "3/3 [==============================] - 0s 23ms/step - loss: 0.0047 - accuracy: 1.0000\n",
      "Epoch 28/100\n",
      "3/3 [==============================] - 0s 27ms/step - loss: 0.0054 - accuracy: 1.0000\n",
      "Epoch 29/100\n",
      "3/3 [==============================] - 0s 23ms/step - loss: 0.0023 - accuracy: 1.0000\n",
      "Epoch 30/100\n",
      "3/3 [==============================] - 0s 24ms/step - loss: 8.3131e-04 - accuracy: 1.0000\n",
      "Epoch 31/100\n",
      "3/3 [==============================] - 0s 25ms/step - loss: 5.0016e-04 - accuracy: 1.0000\n",
      "Epoch 32/100\n",
      "3/3 [==============================] - 0s 24ms/step - loss: 3.5558e-04 - accuracy: 1.0000\n",
      "Epoch 33/100\n",
      "3/3 [==============================] - 0s 26ms/step - loss: 2.8298e-04 - accuracy: 1.0000\n",
      "Epoch 34/100\n",
      "3/3 [==============================] - 0s 22ms/step - loss: 2.2470e-04 - accuracy: 1.0000\n",
      "Epoch 35/100\n",
      "3/3 [==============================] - 0s 24ms/step - loss: 1.7821e-04 - accuracy: 1.0000\n",
      "Epoch 36/100\n",
      "3/3 [==============================] - 0s 22ms/step - loss: 1.4661e-04 - accuracy: 1.0000\n",
      "Epoch 37/100\n",
      "3/3 [==============================] - 0s 27ms/step - loss: 1.2069e-04 - accuracy: 1.0000\n",
      "Epoch 38/100\n",
      "3/3 [==============================] - 0s 24ms/step - loss: 1.0612e-04 - accuracy: 1.0000\n",
      "Epoch 39/100\n",
      "3/3 [==============================] - 0s 24ms/step - loss: 8.9536e-05 - accuracy: 1.0000\n",
      "Epoch 40/100\n",
      "3/3 [==============================] - 0s 25ms/step - loss: 8.3324e-05 - accuracy: 1.0000\n",
      "Epoch 41/100\n",
      "3/3 [==============================] - 0s 27ms/step - loss: 7.3667e-05 - accuracy: 1.0000\n",
      "Epoch 42/100\n",
      "3/3 [==============================] - 0s 31ms/step - loss: 6.9596e-05 - accuracy: 1.0000\n",
      "Epoch 43/100\n",
      "3/3 [==============================] - 0s 29ms/step - loss: 6.2876e-05 - accuracy: 1.0000\n",
      "Epoch 44/100\n",
      "3/3 [==============================] - 0s 27ms/step - loss: 5.8870e-05 - accuracy: 1.0000\n",
      "Epoch 45/100\n",
      "3/3 [==============================] - 0s 27ms/step - loss: 5.5881e-05 - accuracy: 1.0000\n",
      "Epoch 46/100\n",
      "3/3 [==============================] - 0s 28ms/step - loss: 5.2883e-05 - accuracy: 1.0000\n",
      "Epoch 47/100\n",
      "3/3 [==============================] - 0s 31ms/step - loss: 4.8889e-05 - accuracy: 1.0000\n",
      "Epoch 48/100\n",
      "3/3 [==============================] - 0s 31ms/step - loss: 4.6609e-05 - accuracy: 1.0000\n",
      "Epoch 49/100\n",
      "3/3 [==============================] - 0s 31ms/step - loss: 4.4186e-05 - accuracy: 1.0000\n",
      "Epoch 50/100\n",
      "3/3 [==============================] - 0s 29ms/step - loss: 4.0952e-05 - accuracy: 1.0000\n",
      "Epoch 51/100\n",
      "3/3 [==============================] - 0s 31ms/step - loss: 3.8132e-05 - accuracy: 1.0000\n",
      "Epoch 52/100\n",
      "3/3 [==============================] - 0s 31ms/step - loss: 3.6134e-05 - accuracy: 1.0000\n",
      "Epoch 53/100\n",
      "3/3 [==============================] - 0s 34ms/step - loss: 3.3445e-05 - accuracy: 1.0000\n",
      "Epoch 54/100\n",
      "3/3 [==============================] - 0s 30ms/step - loss: 3.1669e-05 - accuracy: 1.0000\n",
      "Epoch 55/100\n",
      "3/3 [==============================] - 0s 28ms/step - loss: 2.9297e-05 - accuracy: 1.0000\n",
      "Epoch 56/100\n",
      "3/3 [==============================] - 0s 29ms/step - loss: 2.7099e-05 - accuracy: 1.0000\n",
      "Epoch 57/100\n",
      "3/3 [==============================] - 0s 29ms/step - loss: 2.5595e-05 - accuracy: 1.0000\n",
      "Epoch 58/100\n",
      "3/3 [==============================] - 0s 29ms/step - loss: 2.4067e-05 - accuracy: 1.0000\n",
      "Epoch 59/100\n",
      "3/3 [==============================] - 0s 30ms/step - loss: 2.1882e-05 - accuracy: 1.0000\n",
      "Epoch 60/100\n",
      "3/3 [==============================] - 0s 28ms/step - loss: 2.0911e-05 - accuracy: 1.0000\n",
      "Epoch 61/100\n",
      "3/3 [==============================] - 0s 27ms/step - loss: 1.9660e-05 - accuracy: 1.0000\n",
      "Epoch 62/100\n",
      "3/3 [==============================] - 0s 27ms/step - loss: 1.8528e-05 - accuracy: 1.0000\n",
      "Epoch 63/100\n",
      "3/3 [==============================] - 0s 33ms/step - loss: 1.7315e-05 - accuracy: 1.0000\n",
      "Epoch 64/100\n",
      "3/3 [==============================] - 0s 29ms/step - loss: 1.6429e-05 - accuracy: 1.0000\n",
      "Epoch 65/100\n",
      "3/3 [==============================] - 0s 28ms/step - loss: 1.5465e-05 - accuracy: 1.0000\n",
      "Epoch 66/100\n",
      "3/3 [==============================] - 0s 28ms/step - loss: 1.4382e-05 - accuracy: 1.0000\n",
      "Epoch 67/100\n",
      "3/3 [==============================] - 0s 31ms/step - loss: 1.3344e-05 - accuracy: 1.0000\n",
      "Epoch 68/100\n",
      "3/3 [==============================] - 0s 32ms/step - loss: 1.2197e-05 - accuracy: 1.0000\n",
      "Epoch 69/100\n",
      "3/3 [==============================] - 0s 29ms/step - loss: 1.1432e-05 - accuracy: 1.0000\n",
      "Epoch 70/100\n",
      "3/3 [==============================] - 0s 29ms/step - loss: 1.0336e-05 - accuracy: 1.0000\n",
      "Epoch 71/100\n",
      "3/3 [==============================] - 0s 29ms/step - loss: 9.5315e-06 - accuracy: 1.0000\n",
      "Epoch 72/100\n",
      "3/3 [==============================] - 0s 29ms/step - loss: 8.6986e-06 - accuracy: 1.0000\n",
      "Epoch 73/100\n",
      "3/3 [==============================] - 0s 31ms/step - loss: 7.9030e-06 - accuracy: 1.0000\n",
      "Epoch 74/100\n",
      "3/3 [==============================] - 0s 38ms/step - loss: 7.1327e-06 - accuracy: 1.0000\n",
      "Epoch 75/100\n",
      "3/3 [==============================] - 0s 28ms/step - loss: 6.6768e-06 - accuracy: 1.0000\n",
      "Epoch 76/100\n",
      "3/3 [==============================] - 0s 29ms/step - loss: 6.1821e-06 - accuracy: 1.0000\n",
      "Epoch 77/100\n",
      "3/3 [==============================] - 0s 28ms/step - loss: 5.7292e-06 - accuracy: 1.0000\n",
      "Epoch 78/100\n",
      "3/3 [==============================] - 0s 28ms/step - loss: 5.3641e-06 - accuracy: 1.0000\n",
      "Epoch 79/100\n",
      "3/3 [==============================] - 0s 28ms/step - loss: 5.0259e-06 - accuracy: 1.0000\n",
      "Epoch 80/100\n",
      "3/3 [==============================] - 0s 30ms/step - loss: 4.7473e-06 - accuracy: 1.0000\n",
      "Epoch 81/100\n",
      "3/3 [==============================] - 0s 30ms/step - loss: 4.5491e-06 - accuracy: 1.0000\n",
      "Epoch 82/100\n",
      "3/3 [==============================] - 0s 37ms/step - loss: 4.3941e-06 - accuracy: 1.0000\n",
      "Epoch 83/100\n",
      "3/3 [==============================] - 0s 33ms/step - loss: 4.2094e-06 - accuracy: 1.0000\n",
      "Epoch 84/100\n",
      "3/3 [==============================] - 0s 34ms/step - loss: 4.0589e-06 - accuracy: 1.0000\n",
      "Epoch 85/100\n",
      "3/3 [==============================] - 0s 32ms/step - loss: 3.8801e-06 - accuracy: 1.0000\n",
      "Epoch 86/100\n",
      "3/3 [==============================] - 0s 29ms/step - loss: 3.7400e-06 - accuracy: 1.0000\n",
      "Epoch 87/100\n",
      "3/3 [==============================] - 0s 28ms/step - loss: 3.6000e-06 - accuracy: 1.0000\n",
      "Epoch 88/100\n",
      "3/3 [==============================] - 0s 30ms/step - loss: 3.4629e-06 - accuracy: 1.0000\n",
      "Epoch 89/100\n",
      "3/3 [==============================] - 0s 32ms/step - loss: 3.3452e-06 - accuracy: 1.0000\n",
      "Epoch 90/100\n",
      "3/3 [==============================] - 0s 32ms/step - loss: 3.2245e-06 - accuracy: 1.0000\n",
      "Epoch 91/100\n",
      "3/3 [==============================] - 0s 31ms/step - loss: 3.1023e-06 - accuracy: 1.0000\n",
      "Epoch 92/100\n",
      "3/3 [==============================] - 0s 30ms/step - loss: 2.9921e-06 - accuracy: 1.0000\n",
      "Epoch 93/100\n",
      "3/3 [==============================] - 0s 29ms/step - loss: 2.9027e-06 - accuracy: 1.0000\n",
      "Epoch 94/100\n",
      "3/3 [==============================] - 0s 31ms/step - loss: 2.8013e-06 - accuracy: 1.0000\n",
      "Epoch 95/100\n",
      "3/3 [==============================] - 0s 33ms/step - loss: 2.7075e-06 - accuracy: 1.0000\n",
      "Epoch 96/100\n",
      "3/3 [==============================] - 0s 31ms/step - loss: 2.6285e-06 - accuracy: 1.0000\n",
      "Epoch 97/100\n",
      "3/3 [==============================] - 0s 32ms/step - loss: 2.5540e-06 - accuracy: 1.0000\n",
      "Epoch 98/100\n",
      "3/3 [==============================] - 0s 31ms/step - loss: 2.4750e-06 - accuracy: 1.0000\n",
      "Epoch 99/100\n",
      "3/3 [==============================] - 0s 31ms/step - loss: 2.4095e-06 - accuracy: 1.0000\n",
      "Epoch 100/100\n",
      "3/3 [==============================] - 0s 28ms/step - loss: 2.3424e-06 - accuracy: 1.0000\n"
     ]
    }
   ],
   "source": [
    "classifier_history = classifier_model.fit(X_train,\n",
    "                                          Y_train,\n",
    "                                          epochs=100)"
   ]
  },
  {
   "cell_type": "markdown",
   "metadata": {},
   "source": [
    "### Performance Stats"
   ]
  },
  {
   "cell_type": "code",
   "execution_count": 214,
   "metadata": {},
   "outputs": [
    {
     "name": "stderr",
     "output_type": "stream",
     "text": [
      "No handles with labels found to put in legend.\n",
      "No handles with labels found to put in legend.\n"
     ]
    },
    {
     "data": {
      "text/plain": [
       "<matplotlib.legend.Legend at 0x7f9cd0909790>"
      ]
     },
     "execution_count": 214,
     "metadata": {},
     "output_type": "execute_result"
    },
    {
     "data": {
      "image/png": "[encoded data removed]",
      "text/plain": [
       "<Figure size 1008x504 with 2 Axes>"
      ]
     },
     "metadata": {
      "needs_background": "light"
     },
     "output_type": "display_data"
    }
   ],
   "source": [
    "fig, ax = plt.subplots(1,2);\n",
    "fig.set_size_inches(14,7);\n",
    "\n",
    "ax[0].plot(classifier_history.history['accuracy'])\n",
    "\n",
    "ax[0].set_xlabel(\"epoch\", fontsize=20)\n",
    "ax[0].set_ylabel(\"accuracy %\", fontsize=20)\n",
    "ax[0].legend()\n",
    "\n",
    "ax[1].plot(classifier_history.history['loss'])\n",
    "\n",
    "ax[1].set_xlabel(\"epoch\", fontsize=20)\n",
    "ax[1].set_ylabel(\"training loss\", fontsize=20)\n",
    "ax[1].legend()"
   ]
  },
  {
   "cell_type": "code",
   "execution_count": 215,
   "metadata": {},
   "outputs": [],
   "source": [
    "Y_pred = classifier_model.predict(x_test)\n",
    "y_pred = np.argmax(Y_pred, axis=1)\n",
    "\n",
    "matrix = confusion_matrix(y_test, y_pred, normalize='true', labels=[0,1,2,3,4,5,6])"
   ]
  },
  {
   "cell_type": "code",
   "execution_count": 216,
   "metadata": {},
   "outputs": [
    {
     "data": {
      "text/plain": [
       "array([1, 4, 1, 1, 3, 1, 3, 1, 3, 4, 4, 3, 4, 4, 1, 4, 3, 2, 1, 3, 4])"
      ]
     },
     "execution_count": 216,
     "metadata": {},
     "output_type": "execute_result"
    }
   ],
   "source": [
    "y_pred"
   ]
  },
  {
   "cell_type": "code",
   "execution_count": 217,
   "metadata": {},
   "outputs": [
    {
     "data": {
      "image/png": "[encoded data removed]",
      "text/plain": [
       "<Figure size 504x504 with 1 Axes>"
      ]
     },
     "metadata": {
      "needs_background": "light"
     },
     "output_type": "display_data"
    }
   ],
   "source": [
    "fig, ax = plt.subplots(1,1)\n",
    "fig.set_size_inches(7,7)\n",
    "\n",
    "labels = ['0', '1', '2', '3', '4', '5', '6']\n",
    "\n",
    "grid = np.array(matrix)\n",
    "im = ax.imshow(grid)\n",
    "\n",
    "for k in range (0, len(grid)):\n",
    "        for l in range (0, len(grid[0])):\n",
    "            ax.text(l-0.3, k+0.1, str(grid[k][l])[:4], size=20, color='white')\n",
    "            \n",
    "ax.set_xticklabels([''] + labels);\n",
    "ax.set_yticklabels([''] + labels);\n",
    "\n",
    "ax.set_ylabel('True Pulse Number', fontsize=20);\n",
    "ax.set_xlabel('Classified Pulse Number', fontsize=20);\n",
    "\n",
    "#ax.set_title(\"with autoencoder\", fontsize=20)\n"
   ]
  },
  {
   "cell_type": "code",
   "execution_count": null,
   "metadata": {},
   "outputs": [],
   "source": []
  }
 ],
 "metadata": {
  "kernelspec": {
   "display_name": "Python 3",
   "language": "python",
   "name": "python3"
  },
  "language_info": {
   "codemirror_mode": {
    "name": "ipython",
    "version": 3
   },
   "file_extension": ".py",
   "mimetype": "text/x-python",
   "name": "python",
   "nbconvert_exporter": "python",
   "pygments_lexer": "ipython3",
   "version": "3.7.5"
  }
 },
 "nbformat": 4,
 "nbformat_minor": 4
}
