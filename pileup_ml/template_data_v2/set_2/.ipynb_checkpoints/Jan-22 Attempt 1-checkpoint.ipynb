{
 "cells": [
  {
   "cell_type": "code",
   "execution_count": 1,
   "metadata": {},
   "outputs": [
    {
     "name": "stdout",
     "output_type": "stream",
     "text": [
      "Welcome to JupyROOT 6.18/04\n"
     ]
    }
   ],
   "source": [
    "import ROOT as r\n",
    "import pandas as pd\n",
    "import matplotlib.pyplot as plt\n",
    "import numpy as np\n",
    "import sklearn as skl\n",
    "import pickle\n",
    "import spliland\n",
    "import importlib\n",
    "import random\n",
    "import fclParse\n",
    "from scipy import stats\n",
    "from sklearn.metrics import classification_report, confusion_matrix\n",
    "# TensorFlow and tf.keras\n",
    "import tensorflow as tf\n",
    "from tensorflow import keras"
   ]
  },
  {
   "cell_type": "code",
   "execution_count": 38,
   "metadata": {},
   "outputs": [],
   "source": [
    "directory = './template_data_v2/set_2/'"
   ]
  },
  {
   "cell_type": "code",
   "execution_count": 39,
   "metadata": {},
   "outputs": [],
   "source": [
    "tf.config.run_functions_eagerly(True)"
   ]
  },
  {
   "cell_type": "markdown",
   "metadata": {},
   "source": [
    "## Intro\n",
    "\n",
    "The purpose of this notebook is to make a second attempt at a neural network, following along with what was described in the paper \"Deep Learning Based Pulse Shape Analysis for GERDA\" by Philipp Holl in 2017. This algorithm consists of an autoencoder, decoder, and then classifier.\n",
    "\n",
    "I am also following this guide: https://keras.io/examples/timeseries/timeseries_anomaly_detection/ for the implementation of the layers described in the paper into python"
   ]
  },
  {
   "cell_type": "markdown",
   "metadata": {},
   "source": [
    "### Prep the data"
   ]
  },
  {
   "cell_type": "code",
   "execution_count": 40,
   "metadata": {},
   "outputs": [],
   "source": [
    "n_points = 4500\n",
    "\n",
    "with open(directory + 'x.data', 'rb') as xFile:\n",
    "    biggestX = pickle.load(xFile)\n",
    "    x_train = []\n",
    "    x_test = []\n",
    "    for x in biggestX[:n_points]:\n",
    "        x_train.append(x)\n",
    "    for x in biggestX[n_points:n_points+500]:\n",
    "        x_test.append(x)\n",
    "    xFile.close()\n",
    "\n",
    "with open(directory + 'y.data', 'rb') as yFile:\n",
    "    biggestY = pickle.load(yFile)\n",
    "    y_train = biggestY[:n_points]\n",
    "    y_test = biggestY[n_points:n_points+500]\n",
    "    yFile.close()\n",
    "    \n",
    "x_train = np.array(x_train)\n",
    "x_test = np.array(x_test)\n",
    "y_train = np.array(y_train)\n",
    "y_test = np.array(y_test)"
   ]
  },
  {
   "cell_type": "code",
   "execution_count": 41,
   "metadata": {},
   "outputs": [],
   "source": [
    "X_train = np.reshape(x_train, (n_points, 21816, 1))\n",
    "Y_train = np.reshape(y_train, (n_points, 1))"
   ]
  },
  {
   "cell_type": "code",
   "execution_count": 42,
   "metadata": {},
   "outputs": [
    {
     "data": {
      "text/plain": [
       "(4500, 21816, 1)"
      ]
     },
     "execution_count": 42,
     "metadata": {},
     "output_type": "execute_result"
    }
   ],
   "source": [
    "X_train.shape"
   ]
  },
  {
   "cell_type": "markdown",
   "metadata": {},
   "source": [
    "### Classifier"
   ]
  },
  {
   "cell_type": "code",
   "execution_count": 43,
   "metadata": {},
   "outputs": [],
   "source": [
    "classifier_model = keras.Sequential([\n",
    "    keras.layers.Dense(256, activation='relu', input_shape=(21816,)),\n",
    "    keras.layers.Dense(20, activation='relu'),\n",
    "    keras.layers.Dense(256, activation='relu'),\n",
    "    keras.layers.Dense(20, activation='relu'),\n",
    "    keras.layers.Dense(256, activation='relu'),\n",
    "    keras.layers.Dense(20, activation='relu'),\n",
    "    keras.layers.Dense(256, activation='relu'),\n",
    "    keras.layers.Dense(20, activation='relu'),\n",
    "    keras.layers.Dense(256, activation='relu'),\n",
    "    keras.layers.Dense(20, activation='relu')\n",
    "])"
   ]
  },
  {
   "cell_type": "code",
   "execution_count": 44,
   "metadata": {},
   "outputs": [],
   "source": [
    "classifier_model.compile(optimizer = 'adam', loss=tf.keras.losses.SparseCategoricalCrossentropy(from_logits=True), metrics=['accuracy'])"
   ]
  },
  {
   "cell_type": "code",
   "execution_count": 45,
   "metadata": {},
   "outputs": [
    {
     "name": "stdout",
     "output_type": "stream",
     "text": [
      "(4500, 21816, 1)\n",
      "(4500, 1)\n"
     ]
    }
   ],
   "source": [
    "print(X_train.shape)\n",
    "print(Y_train.shape)"
   ]
  },
  {
   "cell_type": "code",
   "execution_count": 46,
   "metadata": {},
   "outputs": [
    {
     "name": "stdout",
     "output_type": "stream",
     "text": [
      "Epoch 1/50\n",
      "141/141 [==============================] - 5s 35ms/step - loss: 2.3088 - accuracy: 0.2953\n",
      "Epoch 2/50\n",
      "141/141 [==============================] - 6s 41ms/step - loss: 1.9166 - accuracy: 0.3662\n",
      "Epoch 3/50\n",
      "141/141 [==============================] - 6s 40ms/step - loss: 1.7206 - accuracy: 0.4296\n",
      "Epoch 4/50\n",
      "141/141 [==============================] - 6s 40ms/step - loss: 1.5448 - accuracy: 0.4996\n",
      "Epoch 5/50\n",
      "141/141 [==============================] - 6s 40ms/step - loss: 1.4488 - accuracy: 0.5291\n",
      "Epoch 6/50\n",
      "141/141 [==============================] - 6s 43ms/step - loss: 1.3454 - accuracy: 0.5784\n",
      "Epoch 7/50\n",
      "141/141 [==============================] - 6s 42ms/step - loss: 1.3124 - accuracy: 0.5969\n",
      "Epoch 8/50\n",
      "141/141 [==============================] - 6s 43ms/step - loss: 1.2744 - accuracy: 0.6087\n",
      "Epoch 9/50\n",
      "141/141 [==============================] - 6s 40ms/step - loss: 1.1847 - accuracy: 0.6324\n",
      "Epoch 10/50\n",
      "141/141 [==============================] - 6s 45ms/step - loss: 1.1118 - accuracy: 0.6502\n",
      "Epoch 11/50\n",
      "141/141 [==============================] - 6s 41ms/step - loss: 1.0915 - accuracy: 0.6662\n",
      "Epoch 12/50\n",
      "141/141 [==============================] - 6s 41ms/step - loss: 1.0732 - accuracy: 0.6638\n",
      "Epoch 13/50\n",
      "141/141 [==============================] - 6s 41ms/step - loss: 1.0609 - accuracy: 0.6676\n",
      "Epoch 14/50\n",
      "141/141 [==============================] - 6s 41ms/step - loss: 1.0436 - accuracy: 0.6771\n",
      "Epoch 15/50\n",
      "141/141 [==============================] - 6s 41ms/step - loss: 0.9912 - accuracy: 0.6847\n",
      "Epoch 16/50\n",
      "141/141 [==============================] - 6s 41ms/step - loss: 0.9437 - accuracy: 0.6967\n",
      "Epoch 17/50\n",
      "141/141 [==============================] - 6s 41ms/step - loss: 0.9348 - accuracy: 0.7038\n",
      "Epoch 18/50\n",
      "141/141 [==============================] - 6s 44ms/step - loss: 1.0048 - accuracy: 0.6871\n",
      "Epoch 19/50\n",
      "141/141 [==============================] - 6s 41ms/step - loss: 1.0112 - accuracy: 0.6958\n",
      "Epoch 20/50\n",
      "141/141 [==============================] - 6s 41ms/step - loss: 1.0198 - accuracy: 0.7031\n",
      "Epoch 21/50\n",
      "141/141 [==============================] - 6s 41ms/step - loss: 1.0247 - accuracy: 0.6924\n",
      "Epoch 22/50\n",
      "141/141 [==============================] - 6s 41ms/step - loss: 0.8979 - accuracy: 0.7198\n",
      "Epoch 23/50\n",
      "141/141 [==============================] - 6s 41ms/step - loss: 0.8694 - accuracy: 0.7169\n",
      "Epoch 24/50\n",
      "141/141 [==============================] - 6s 45ms/step - loss: 0.8854 - accuracy: 0.7129\n",
      "Epoch 25/50\n",
      "141/141 [==============================] - 6s 45ms/step - loss: 0.8695 - accuracy: 0.7204\n",
      "Epoch 26/50\n",
      "141/141 [==============================] - 7s 52ms/step - loss: 0.8646 - accuracy: 0.7202\n",
      "Epoch 27/50\n",
      "141/141 [==============================] - 11s 77ms/step - loss: 0.8118 - accuracy: 0.7338\n",
      "Epoch 28/50\n",
      "141/141 [==============================] - 6s 45ms/step - loss: 0.8883 - accuracy: 0.7267\n",
      "Epoch 29/50\n",
      "141/141 [==============================] - 7s 46ms/step - loss: 0.9127 - accuracy: 0.7211\n",
      "Epoch 30/50\n",
      "141/141 [==============================] - 7s 48ms/step - loss: 0.8733 - accuracy: 0.7258\n",
      "Epoch 31/50\n",
      "141/141 [==============================] - 7s 48ms/step - loss: 0.9093 - accuracy: 0.7153\n",
      "Epoch 32/50\n",
      "141/141 [==============================] - 6s 45ms/step - loss: 0.9064 - accuracy: 0.7162\n",
      "Epoch 33/50\n",
      "141/141 [==============================] - 7s 49ms/step - loss: 0.8952 - accuracy: 0.7096\n",
      "Epoch 34/50\n",
      "141/141 [==============================] - 7s 50ms/step - loss: 0.9401 - accuracy: 0.7024\n",
      "Epoch 35/50\n",
      "141/141 [==============================] - 7s 51ms/step - loss: 0.8859 - accuracy: 0.7156\n",
      "Epoch 36/50\n",
      "141/141 [==============================] - 7s 51ms/step - loss: 0.8730 - accuracy: 0.7238\n",
      "Epoch 37/50\n",
      "141/141 [==============================] - 7s 50ms/step - loss: 0.8345 - accuracy: 0.7313\n",
      "Epoch 38/50\n",
      "141/141 [==============================] - 7s 47ms/step - loss: 0.8604 - accuracy: 0.7267\n",
      "Epoch 39/50\n",
      "141/141 [==============================] - 6s 46ms/step - loss: 0.8889 - accuracy: 0.7224\n",
      "Epoch 40/50\n",
      "141/141 [==============================] - 7s 49ms/step - loss: 0.8629 - accuracy: 0.7289\n",
      "Epoch 41/50\n",
      "141/141 [==============================] - 10s 73ms/step - loss: 0.8391 - accuracy: 0.7296\n",
      "Epoch 42/50\n",
      "141/141 [==============================] - 7s 48ms/step - loss: 0.9189 - accuracy: 0.7262\n",
      "Epoch 43/50\n",
      "141/141 [==============================] - 7s 47ms/step - loss: 0.8287 - accuracy: 0.7349\n",
      "Epoch 44/50\n",
      "141/141 [==============================] - 7s 47ms/step - loss: 0.8192 - accuracy: 0.7364\n",
      "Epoch 45/50\n",
      "141/141 [==============================] - 7s 52ms/step - loss: 1.0060 - accuracy: 0.6771\n",
      "Epoch 46/50\n",
      "141/141 [==============================] - 7s 50ms/step - loss: 0.9668 - accuracy: 0.6922\n",
      "Epoch 47/50\n",
      "141/141 [==============================] - 7s 50ms/step - loss: 0.9496 - accuracy: 0.6996\n",
      "Epoch 48/50\n",
      "141/141 [==============================] - 6s 44ms/step - loss: 0.9102 - accuracy: 0.7080\n",
      "Epoch 49/50\n",
      "141/141 [==============================] - 6s 43ms/step - loss: 0.8389 - accuracy: 0.7304\n",
      "Epoch 50/50\n",
      "141/141 [==============================] - 6s 41ms/step - loss: 0.8139 - accuracy: 0.7380\n"
     ]
    }
   ],
   "source": [
    "classifier_history = classifier_model.fit(X_train,\n",
    "                                          Y_train,\n",
    "                                          epochs=50)"
   ]
  },
  {
   "cell_type": "markdown",
   "metadata": {},
   "source": [
    "### Performance Stats"
   ]
  },
  {
   "cell_type": "code",
   "execution_count": 47,
   "metadata": {},
   "outputs": [
    {
     "name": "stderr",
     "output_type": "stream",
     "text": [
      "No handles with labels found to put in legend.\n",
      "No handles with labels found to put in legend.\n"
     ]
    },
    {
     "data": {
      "text/plain": [
       "<matplotlib.legend.Legend at 0x7fc0815c4f10>"
      ]
     },
     "execution_count": 47,
     "metadata": {},
     "output_type": "execute_result"
    },
    {
     "data": {
      "image/png": "[encoded data removed]",
      "text/plain": [
       "<Figure size 1008x504 with 2 Axes>"
      ]
     },
     "metadata": {
      "needs_background": "light"
     },
     "output_type": "display_data"
    }
   ],
   "source": [
    "fig, ax = plt.subplots(1,2);\n",
    "fig.set_size_inches(14,7);\n",
    "\n",
    "ax[0].plot(classifier_history.history['accuracy'])\n",
    "\n",
    "ax[0].set_xlabel(\"epoch\", fontsize=20)\n",
    "ax[0].set_ylabel(\"accuracy %\", fontsize=20)\n",
    "ax[0].legend()\n",
    "\n",
    "ax[1].plot(classifier_history.history['loss'])\n",
    "\n",
    "ax[1].set_xlabel(\"epoch\", fontsize=20)\n",
    "ax[1].set_ylabel(\"training loss\", fontsize=20)\n",
    "ax[1].legend()"
   ]
  },
  {
   "cell_type": "code",
   "execution_count": 48,
   "metadata": {},
   "outputs": [],
   "source": [
    "Y_pred = classifier_model.predict(x_test)\n",
    "y_pred = np.argmax(Y_pred, axis=1)\n",
    "\n",
    "matrix = confusion_matrix(y_test, y_pred, normalize='true', labels=[0,1,2,3,4,5,6])"
   ]
  },
  {
   "cell_type": "code",
   "execution_count": 49,
   "metadata": {},
   "outputs": [
    {
     "data": {
      "text/plain": [
       "array([1, 2, 0, 0, 1, 0, 0, 0, 0, 0, 1, 2, 0, 0, 2, 2, 3, 1, 2, 2, 3, 1,\n",
       "       0, 1, 2, 2, 2, 2, 0, 0, 3, 2, 1, 0, 2, 3, 2, 0, 1, 0, 2, 1, 2, 0,\n",
       "       0, 2, 2, 3, 3, 2, 3, 2, 3, 3, 0, 3, 0, 2, 3, 0, 1, 0, 3, 1, 3, 0,\n",
       "       0, 0, 3, 2, 3, 1, 0, 1, 2, 1, 3, 0, 2, 1, 2, 3, 1, 2, 0, 2, 0, 1,\n",
       "       1, 2, 3, 1, 0, 0, 0, 3, 0, 1, 1, 0, 2, 1, 0, 2, 2, 1, 1, 3, 1, 2,\n",
       "       0, 0, 3, 0, 0, 0, 0, 2, 0, 2, 3, 0, 1, 1, 3, 1, 3, 1, 0, 0, 2, 2,\n",
       "       0, 0, 2, 0, 1, 0, 3, 1, 0, 0, 2, 1, 1, 2, 1, 3, 0, 3, 0, 1, 3, 3,\n",
       "       3, 2, 2, 3, 0, 1, 1, 2, 1, 1, 0, 2, 0, 0, 0, 1, 0, 0, 3, 0, 3, 3,\n",
       "       2, 1, 0, 1, 2, 1, 1, 2, 0, 3, 3, 3, 3, 2, 0, 0, 1, 2, 2, 3, 3, 0,\n",
       "       0, 2, 3, 0, 1, 0, 3, 0, 0, 2, 0, 2, 0, 0, 2, 3, 2, 2, 0, 2, 0, 2,\n",
       "       3, 1, 0, 2, 1, 3, 1, 3, 3, 3, 2, 1, 0, 2, 2, 1, 2, 3, 0, 1, 0, 0,\n",
       "       1, 2, 2, 1, 3, 3, 0, 3, 0, 3, 1, 3, 3, 2, 1, 0, 3, 0, 0, 3, 1, 2,\n",
       "       2, 2, 1, 0, 2, 0, 3, 2, 3, 2, 2, 1, 2, 1, 2, 0, 2, 0, 2, 2, 1, 3,\n",
       "       2, 2, 3, 1, 0, 2, 3, 2, 1, 3, 1, 2, 0, 1, 3, 0, 2, 2, 0, 3, 2, 2,\n",
       "       2, 0, 1, 1, 2, 1, 3, 0, 0, 0, 2, 3, 2, 3, 3, 2, 3, 1, 0, 1, 2, 0,\n",
       "       0, 2, 0, 2, 2, 2, 1, 2, 0, 3, 2, 2, 0, 3, 1, 1, 2, 0, 1, 1, 1, 3,\n",
       "       1, 0, 2, 0, 1, 2, 2, 1, 3, 0, 0, 3, 3, 1, 2, 3, 0, 1, 2, 1, 0, 2,\n",
       "       2, 1, 3, 0, 2, 1, 3, 2, 0, 0, 3, 3, 2, 0, 3, 2, 3, 3, 0, 2, 0, 0,\n",
       "       3, 3, 3, 0, 2, 0, 3, 0, 1, 2, 1, 2, 0, 1, 0, 2, 0, 2, 3, 2, 2, 3,\n",
       "       0, 2, 2, 0, 1, 2, 3, 2, 1, 1, 2, 1, 2, 3, 2, 1, 3, 1, 3, 3, 2, 2,\n",
       "       1, 0, 0, 3, 3, 1, 3, 1, 2, 2, 0, 0, 2, 3, 1, 1, 0, 3, 2, 2, 2, 2,\n",
       "       2, 2, 0, 0, 3, 3, 3, 2, 2, 2, 2, 1, 0, 0, 2, 2, 0, 0, 1, 1, 0, 0,\n",
       "       0, 1, 3, 0, 2, 1, 3, 2, 0, 0, 2, 0, 2, 3, 3, 2])"
      ]
     },
     "execution_count": 49,
     "metadata": {},
     "output_type": "execute_result"
    }
   ],
   "source": [
    "y_pred"
   ]
  },
  {
   "cell_type": "code",
   "execution_count": 50,
   "metadata": {},
   "outputs": [
    {
     "data": {
      "image/png": "[encoded data removed]",
      "text/plain": [
       "<Figure size 504x504 with 1 Axes>"
      ]
     },
     "metadata": {
      "needs_background": "light"
     },
     "output_type": "display_data"
    }
   ],
   "source": [
    "fig, ax = plt.subplots(1,1)\n",
    "fig.set_size_inches(7,7)\n",
    "\n",
    "labels = ['0', '1', '2', '3', '4', '5', '6']\n",
    "\n",
    "grid = np.array(matrix)\n",
    "im = ax.imshow(grid)\n",
    "\n",
    "for k in range (0, len(grid)):\n",
    "        for l in range (0, len(grid[0])):\n",
    "            ax.text(l-0.3, k+0.1, str(grid[k][l])[:4], size=20, color='white')\n",
    "            \n",
    "ax.set_xticklabels([''] + labels);\n",
    "ax.set_yticklabels([''] + labels);\n",
    "\n",
    "ax.set_ylabel('True Pulse Number', fontsize=20);\n",
    "ax.set_xlabel('Classified Pulse Number', fontsize=20);\n",
    "\n",
    "#ax.set_title(\"with autoencoder\", fontsize=20)\n"
   ]
  },
  {
   "cell_type": "code",
   "execution_count": null,
   "metadata": {},
   "outputs": [],
   "source": []
  },
  {
   "cell_type": "code",
   "execution_count": null,
   "metadata": {},
   "outputs": [],
   "source": []
  }
 ],
 "metadata": {
  "kernelspec": {
   "display_name": "Python 3",
   "language": "python",
   "name": "python3"
  },
  "language_info": {
   "codemirror_mode": {
    "name": "ipython",
    "version": 3
   },
   "file_extension": ".py",
   "mimetype": "text/x-python",
   "name": "python",
   "nbconvert_exporter": "python",
   "pygments_lexer": "ipython3",
   "version": "3.7.5"
  }
 },
 "nbformat": 4,
 "nbformat_minor": 4
}
