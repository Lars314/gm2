{
 "cells": [
  {
   "cell_type": "code",
   "execution_count": 1,
   "metadata": {},
   "outputs": [
    {
     "name": "stdout",
     "output_type": "stream",
     "text": [
      "Welcome to JupyROOT 6.18/04\n"
     ]
    }
   ],
   "source": [
    "import ROOT as r\n",
    "import pandas as pd\n",
    "import matplotlib.pyplot as plt\n",
    "import numpy as np\n",
    "import sklearn as skl\n",
    "import pickle\n",
    "import spliland\n",
    "import importlib\n",
    "import random\n",
    "import fclParse\n",
    "from scipy import stats\n",
    "from sklearn.metrics import classification_report, confusion_matrix\n",
    "# TensorFlow and tf.keras\n",
    "import tensorflow as tf\n",
    "from tensorflow import keras"
   ]
  },
  {
   "cell_type": "code",
   "execution_count": 38,
   "metadata": {},
   "outputs": [],
   "source": [
    "directory = './template_data_v2/set_2/'"
   ]
  },
  {
   "cell_type": "code",
   "execution_count": 39,
   "metadata": {},
   "outputs": [],
   "source": [
    "tf.config.run_functions_eagerly(True)"
   ]
  },
  {
   "cell_type": "markdown",
   "metadata": {},
   "source": [
    "## Intro\n",
    "\n",
    "The purpose of this notebook is to make a second attempt at a neural network, following along with what was described in the paper \"Deep Learning Based Pulse Shape Analysis for GERDA\" by Philipp Holl in 2017. This algorithm consists of an autoencoder, decoder, and then classifier.\n",
    "\n",
    "I am also following this guide: https://keras.io/examples/timeseries/timeseries_anomaly_detection/ for the implementation of the layers described in the paper into python"
   ]
  },
  {
   "cell_type": "markdown",
   "metadata": {},
   "source": [
    "### Prep the data"
   ]
  },
  {
   "cell_type": "code",
   "execution_count": 176,
   "metadata": {},
   "outputs": [],
   "source": [
    "n_points = 1000\n",
    "\n",
    "with open(directory + 'x.data', 'rb') as xFile:\n",
    "    biggestX = pickle.load(xFile)\n",
    "    x_train = []\n",
    "    x_test = []\n",
    "    for x in biggestX[:n_points]:\n",
    "        x_train.append(x)\n",
    "    for x in biggestX[n_points:n_points+500]:\n",
    "        x_test.append(x)\n",
    "    xFile.close()\n",
    "\n",
    "with open(directory + 'y.data', 'rb') as yFile:\n",
    "    biggestY = pickle.load(yFile)\n",
    "    y_train = biggestY[:n_points]\n",
    "    y_test = biggestY[n_points:n_points+500]\n",
    "    yFile.close()\n",
    "    \n",
    "x_train = np.array(x_train)\n",
    "x_test = np.array(x_test)\n",
    "y_train = np.array(y_train)\n",
    "y_test = np.array(y_test)"
   ]
  },
  {
   "cell_type": "code",
   "execution_count": 177,
   "metadata": {},
   "outputs": [],
   "source": [
    "X_train = np.reshape(x_train, (n_points, 21816, 1))\n",
    "Y_train = np.reshape(y_train, (n_points, 1))"
   ]
  },
  {
   "cell_type": "code",
   "execution_count": 178,
   "metadata": {},
   "outputs": [
    {
     "data": {
      "text/plain": [
       "(1000, 21816, 1)"
      ]
     },
     "execution_count": 178,
     "metadata": {},
     "output_type": "execute_result"
    }
   ],
   "source": [
    "X_train.shape"
   ]
  },
  {
   "cell_type": "markdown",
   "metadata": {},
   "source": [
    "### Classifier"
   ]
  },
  {
   "cell_type": "code",
   "execution_count": 179,
   "metadata": {},
   "outputs": [],
   "source": [
    "classifier_model = keras.Sequential([\n",
    "    keras.layers.Dense(256, activation='relu', input_shape=(21816,)),\n",
    "    keras.layers.Dense(20, activation='relu'),\n",
    "    keras.layers.Dense(256, activation='relu'),\n",
    "    keras.layers.Dense(20, activation='relu'),\n",
    "    keras.layers.Dense(256, activation='relu'),\n",
    "    keras.layers.Dense(20, activation='relu'),\n",
    "    keras.layers.Dense(256, activation='relu'),\n",
    "    keras.layers.Dense(20, activation='relu'),\n",
    "    keras.layers.Dense(256, activation='relu'),\n",
    "    keras.layers.Dense(20, activation='relu'),\n",
    "    keras.layers.Dense(256, activation='relu'),\n",
    "    keras.layers.Dense(20, activation='relu'),\n",
    "    keras.layers.Dense(256, activation='relu'),\n",
    "    keras.layers.Dense(20, activation='relu'),\n",
    "    keras.layers.Dense(256, activation='relu'),\n",
    "    keras.layers.Dense(20, activation='relu')\n",
    "])"
   ]
  },
  {
   "cell_type": "code",
   "execution_count": 180,
   "metadata": {},
   "outputs": [],
   "source": [
    "classifier_model.compile(optimizer = 'adam', loss=tf.keras.losses.SparseCategoricalCrossentropy(from_logits=True), metrics=['accuracy'])"
   ]
  },
  {
   "cell_type": "code",
   "execution_count": 181,
   "metadata": {},
   "outputs": [
    {
     "name": "stdout",
     "output_type": "stream",
     "text": [
      "(1000, 21816, 1)\n",
      "(1000, 1)\n"
     ]
    }
   ],
   "source": [
    "print(X_train.shape)\n",
    "print(Y_train.shape)"
   ]
  },
  {
   "cell_type": "code",
   "execution_count": 182,
   "metadata": {},
   "outputs": [
    {
     "name": "stdout",
     "output_type": "stream",
     "text": [
      "Epoch 1/50\n",
      "32/32 [==============================] - 2s 52ms/step - loss: 2.7613 - accuracy: 0.2620\n",
      "Epoch 2/50\n",
      "32/32 [==============================] - 2s 53ms/step - loss: 2.3477 - accuracy: 0.2470\n",
      "Epoch 3/50\n",
      "32/32 [==============================] - 2s 50ms/step - loss: 2.0485 - accuracy: 0.2730\n",
      "Epoch 4/50\n",
      "32/32 [==============================] - 2s 51ms/step - loss: 1.9862 - accuracy: 0.2690 0s - loss: 2.0119 - accu\n",
      "Epoch 5/50\n",
      "32/32 [==============================] - 2s 53ms/step - loss: 1.8189 - accuracy: 0.3940\n",
      "Epoch 6/50\n",
      "32/32 [==============================] - 2s 47ms/step - loss: 1.6150 - accuracy: 0.5180\n",
      "Epoch 7/50\n",
      "32/32 [==============================] - 1s 46ms/step - loss: 1.5902 - accuracy: 0.5590\n",
      "Epoch 8/50\n",
      "32/32 [==============================] - 1s 46ms/step - loss: 1.4451 - accuracy: 0.5820\n",
      "Epoch 9/50\n",
      "32/32 [==============================] - 1s 46ms/step - loss: 1.4461 - accuracy: 0.5730\n",
      "Epoch 10/50\n",
      "32/32 [==============================] - 1s 46ms/step - loss: 1.3799 - accuracy: 0.6280\n",
      "Epoch 11/50\n",
      "32/32 [==============================] - 1s 46ms/step - loss: 1.3577 - accuracy: 0.6250\n",
      "Epoch 12/50\n",
      "32/32 [==============================] - 1s 46ms/step - loss: 1.3263 - accuracy: 0.6720\n",
      "Epoch 13/50\n",
      "32/32 [==============================] - 2s 47ms/step - loss: 1.2596 - accuracy: 0.7010\n",
      "Epoch 14/50\n",
      "32/32 [==============================] - 1s 47ms/step - loss: 1.2353 - accuracy: 0.7150\n",
      "Epoch 15/50\n",
      "32/32 [==============================] - 2s 47ms/step - loss: 1.2429 - accuracy: 0.6970\n",
      "Epoch 16/50\n",
      "32/32 [==============================] - 2s 48ms/step - loss: 1.2061 - accuracy: 0.7150\n",
      "Epoch 17/50\n",
      "32/32 [==============================] - 1s 46ms/step - loss: 1.1855 - accuracy: 0.7200\n",
      "Epoch 18/50\n",
      "32/32 [==============================] - 1s 46ms/step - loss: 1.1585 - accuracy: 0.7390\n",
      "Epoch 19/50\n",
      "32/32 [==============================] - 1s 46ms/step - loss: 1.1659 - accuracy: 0.7260\n",
      "Epoch 20/50\n",
      "32/32 [==============================] - 1s 46ms/step - loss: 1.1886 - accuracy: 0.7190\n",
      "Epoch 21/50\n",
      "32/32 [==============================] - 1s 46ms/step - loss: 1.1434 - accuracy: 0.7250\n",
      "Epoch 22/50\n",
      "32/32 [==============================] - 1s 46ms/step - loss: 1.1020 - accuracy: 0.7440\n",
      "Epoch 23/50\n",
      "32/32 [==============================] - 1s 46ms/step - loss: 1.0790 - accuracy: 0.7530\n",
      "Epoch 24/50\n",
      "32/32 [==============================] - 1s 46ms/step - loss: 1.1160 - accuracy: 0.7560\n",
      "Epoch 25/50\n",
      "32/32 [==============================] - 1s 46ms/step - loss: 1.0854 - accuracy: 0.7580\n",
      "Epoch 26/50\n",
      "32/32 [==============================] - 1s 45ms/step - loss: 1.0456 - accuracy: 0.7630\n",
      "Epoch 27/50\n",
      "32/32 [==============================] - 1s 46ms/step - loss: 1.0287 - accuracy: 0.7660\n",
      "Epoch 28/50\n",
      "32/32 [==============================] - 2s 51ms/step - loss: 1.0480 - accuracy: 0.7640\n",
      "Epoch 29/50\n",
      "32/32 [==============================] - 2s 53ms/step - loss: 1.0332 - accuracy: 0.7660\n",
      "Epoch 30/50\n",
      "32/32 [==============================] - 2s 50ms/step - loss: 1.0390 - accuracy: 0.7640 0s - loss: 1.094\n",
      "Epoch 31/50\n",
      "32/32 [==============================] - 2s 50ms/step - loss: 1.0314 - accuracy: 0.7660\n",
      "Epoch 32/50\n",
      "32/32 [==============================] - 2s 50ms/step - loss: 1.0310 - accuracy: 0.7660\n",
      "Epoch 33/50\n",
      "32/32 [==============================] - 2s 50ms/step - loss: 1.0301 - accuracy: 0.7660\n",
      "Epoch 34/50\n",
      "32/32 [==============================] - 2s 49ms/step - loss: 1.0312 - accuracy: 0.7660\n",
      "Epoch 35/50\n",
      "32/32 [==============================] - 2s 49ms/step - loss: 1.0289 - accuracy: 0.7660\n",
      "Epoch 36/50\n",
      "32/32 [==============================] - 2s 51ms/step - loss: 1.0333 - accuracy: 0.7660\n",
      "Epoch 37/50\n",
      "32/32 [==============================] - 2s 53ms/step - loss: 1.0330 - accuracy: 0.7660\n",
      "Epoch 38/50\n",
      "32/32 [==============================] - 2s 51ms/step - loss: 1.0287 - accuracy: 0.7660\n",
      "Epoch 39/50\n",
      "32/32 [==============================] - 2s 50ms/step - loss: 1.0336 - accuracy: 0.7660\n",
      "Epoch 40/50\n",
      "32/32 [==============================] - 2s 52ms/step - loss: 1.0299 - accuracy: 0.7660\n",
      "Epoch 41/50\n",
      "32/32 [==============================] - 2s 50ms/step - loss: 1.0312 - accuracy: 0.7660\n",
      "Epoch 42/50\n",
      "32/32 [==============================] - 2s 50ms/step - loss: 1.0309 - accuracy: 0.7660\n",
      "Epoch 43/50\n",
      "32/32 [==============================] - 2s 50ms/step - loss: 1.0303 - accuracy: 0.7660\n",
      "Epoch 44/50\n",
      "32/32 [==============================] - 2s 52ms/step - loss: 1.0309 - accuracy: 0.7660\n",
      "Epoch 45/50\n",
      "32/32 [==============================] - 2s 52ms/step - loss: 1.0331 - accuracy: 0.7660\n",
      "Epoch 46/50\n",
      "32/32 [==============================] - 2s 52ms/step - loss: 1.0299 - accuracy: 0.7660\n",
      "Epoch 47/50\n",
      "32/32 [==============================] - 2s 49ms/step - loss: 1.0304 - accuracy: 0.7660\n",
      "Epoch 48/50\n",
      "32/32 [==============================] - 2s 49ms/step - loss: 1.0291 - accuracy: 0.7660\n",
      "Epoch 49/50\n",
      "32/32 [==============================] - 2s 49ms/step - loss: 1.0291 - accuracy: 0.7660\n",
      "Epoch 50/50\n",
      "32/32 [==============================] - 2s 50ms/step - loss: 1.0312 - accuracy: 0.7660\n"
     ]
    }
   ],
   "source": [
    "classifier_history = classifier_model.fit(X_train,\n",
    "                                          Y_train,\n",
    "                                          epochs=50)"
   ]
  },
  {
   "cell_type": "markdown",
   "metadata": {},
   "source": [
    "### Performance Stats"
   ]
  },
  {
   "cell_type": "code",
   "execution_count": 183,
   "metadata": {},
   "outputs": [
    {
     "name": "stderr",
     "output_type": "stream",
     "text": [
      "No handles with labels found to put in legend.\n",
      "No handles with labels found to put in legend.\n"
     ]
    },
    {
     "data": {
      "text/plain": [
       "<matplotlib.legend.Legend at 0x7fc07efe8750>"
      ]
     },
     "execution_count": 183,
     "metadata": {},
     "output_type": "execute_result"
    },
    {
     "data": {
      "image/png": "[encoded data removed]",
      "text/plain": [
       "<Figure size 1008x504 with 2 Axes>"
      ]
     },
     "metadata": {
      "needs_background": "light"
     },
     "output_type": "display_data"
    }
   ],
   "source": [
    "fig, ax = plt.subplots(1,2);\n",
    "fig.set_size_inches(14,7);\n",
    "\n",
    "ax[0].plot(classifier_history.history['accuracy'])\n",
    "\n",
    "ax[0].set_xlabel(\"epoch\", fontsize=20)\n",
    "ax[0].set_ylabel(\"accuracy %\", fontsize=20)\n",
    "ax[0].legend()\n",
    "\n",
    "ax[1].plot(classifier_history.history['loss'])\n",
    "\n",
    "ax[1].set_xlabel(\"epoch\", fontsize=20)\n",
    "ax[1].set_ylabel(\"training loss\", fontsize=20)\n",
    "ax[1].legend()"
   ]
  },
  {
   "cell_type": "code",
   "execution_count": 184,
   "metadata": {},
   "outputs": [],
   "source": [
    "Y_pred = classifier_model.predict(x_test)\n",
    "y_pred = np.argmax(Y_pred, axis=1)\n",
    "\n",
    "matrix = confusion_matrix(y_test, y_pred, normalize='true', labels=[0,1,2,3,4,5,6])"
   ]
  },
  {
   "cell_type": "code",
   "execution_count": 185,
   "metadata": {},
   "outputs": [
    {
     "data": {
      "image/png": "[encoded data removed]",
      "text/plain": [
       "<Figure size 504x504 with 1 Axes>"
      ]
     },
     "metadata": {
      "needs_background": "light"
     },
     "output_type": "display_data"
    }
   ],
   "source": [
    "fig, ax = plt.subplots(1,1)\n",
    "fig.set_size_inches(7,7)\n",
    "\n",
    "labels = ['0', '1', '2', '3', '4', '5', '6']\n",
    "\n",
    "grid = np.array(matrix)\n",
    "im = ax.imshow(grid)\n",
    "\n",
    "for k in range (0, len(grid)):\n",
    "        for l in range (0, len(grid[0])):\n",
    "            ax.text(l-0.3, k+0.1, str(grid[k][l])[:4], size=20, color='white')\n",
    "            \n",
    "ax.set_xticklabels([''] + labels);\n",
    "ax.set_yticklabels([''] + labels);\n",
    "\n",
    "ax.set_ylabel('True Pulse Number', fontsize=20);\n",
    "ax.set_xlabel('Classified Pulse Number', fontsize=20);\n",
    "\n",
    "#ax.set_title(\"with autoencoder\", fontsize=20)\n"
   ]
  },
  {
   "cell_type": "code",
   "execution_count": 186,
   "metadata": {},
   "outputs": [
    {
     "data": {
      "text/plain": [
       "<matplotlib.legend.Legend at 0x7fc07ef77850>"
      ]
     },
     "execution_count": 186,
     "metadata": {},
     "output_type": "execute_result"
    },
    {
     "data": {
      "image/png": "[encoded data removed]",
      "text/plain": [
       "<Figure size 504x504 with 1 Axes>"
      ]
     },
     "metadata": {
      "needs_background": "light"
     },
     "output_type": "display_data"
    }
   ],
   "source": [
    "fig, ax = plt.subplots(1, 1)\n",
    "fig.set_size_inches(7, 7)\n",
    "\n",
    "ax.hist(y_test, alpha=0.5, label='True Pulse Number')\n",
    "ax.hist(y_pred, alpha=0.5, label='Classified Pulse Number')\n",
    "ax.legend()"
   ]
  },
  {
   "cell_type": "code",
   "execution_count": 187,
   "metadata": {},
   "outputs": [
    {
     "data": {
      "text/plain": [
       "<matplotlib.legend.Legend at 0x7fc02cfa7ed0>"
      ]
     },
     "execution_count": 187,
     "metadata": {},
     "output_type": "execute_result"
    },
    {
     "data": {
      "image/png": "[encoded data removed]",
      "text/plain": [
       "<Figure size 504x504 with 1 Axes>"
      ]
     },
     "metadata": {
      "needs_background": "light"
     },
     "output_type": "display_data"
    }
   ],
   "source": [
    "fig, ax = plt.subplots(1, 1)\n",
    "fig.set_size_inches(7, 7)\n",
    "\n",
    "ax.hist(y_train, alpha=0.5, label='y train')\n",
    "ax.hist(y_test, alpha=0.5, label='y test')\n",
    "ax.legend()"
   ]
  },
  {
   "cell_type": "code",
   "execution_count": null,
   "metadata": {},
   "outputs": [],
   "source": []
  },
  {
   "cell_type": "code",
   "execution_count": null,
   "metadata": {},
   "outputs": [],
   "source": []
  }
 ],
 "metadata": {
  "kernelspec": {
   "display_name": "Python 3",
   "language": "python",
   "name": "python3"
  },
  "language_info": {
   "codemirror_mode": {
    "name": "ipython",
    "version": 3
   },
   "file_extension": ".py",
   "mimetype": "text/x-python",
   "name": "python",
   "nbconvert_exporter": "python",
   "pygments_lexer": "ipython3",
   "version": "3.7.5"
  }
 },
 "nbformat": 4,
 "nbformat_minor": 4
}
