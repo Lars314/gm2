{
 "cells": [
  {
   "cell_type": "code",
   "execution_count": 1,
   "metadata": {},
   "outputs": [
    {
     "name": "stdout",
     "output_type": "stream",
     "text": [
      "Welcome to JupyROOT 6.18/04\n"
     ]
    }
   ],
   "source": [
    "import ROOT as r\n",
    "import pandas as pd\n",
    "import matplotlib.pyplot as plt\n",
    "import numpy as np\n",
    "import sklearn as skl\n",
    "import pickle\n",
    "import spliland\n",
    "import importlib\n",
    "import random\n",
    "import fclParse\n",
    "from scipy import stats\n",
    "from sklearn.metrics import classification_report, confusion_matrix\n",
    "# TensorFlow and tf.keras\n",
    "import tensorflow as tf\n",
    "from tensorflow import keras"
   ]
  },
  {
   "cell_type": "code",
   "execution_count": 38,
   "metadata": {},
   "outputs": [],
   "source": [
    "directory = './template_data_v2/set_2/'"
   ]
  },
  {
   "cell_type": "code",
   "execution_count": 39,
   "metadata": {},
   "outputs": [],
   "source": [
    "tf.config.run_functions_eagerly(True)"
   ]
  },
  {
   "cell_type": "markdown",
   "metadata": {},
   "source": [
    "## Intro\n",
    "\n",
    "The purpose of this notebook is to make a second attempt at a neural network, following along with what was described in the paper \"Deep Learning Based Pulse Shape Analysis for GERDA\" by Philipp Holl in 2017. This algorithm consists of an autoencoder, decoder, and then classifier.\n",
    "\n",
    "I am also following this guide: https://keras.io/examples/timeseries/timeseries_anomaly_detection/ for the implementation of the layers described in the paper into python"
   ]
  },
  {
   "cell_type": "markdown",
   "metadata": {},
   "source": [
    "### Prep the data"
   ]
  },
  {
   "cell_type": "code",
   "execution_count": 40,
   "metadata": {},
   "outputs": [],
   "source": [
    "n_points = 4500\n",
    "\n",
    "with open(directory + 'x.data', 'rb') as xFile:\n",
    "    biggestX = pickle.load(xFile)\n",
    "    x_train = []\n",
    "    x_test = []\n",
    "    for x in biggestX[:n_points]:\n",
    "        x_train.append(x)\n",
    "    for x in biggestX[n_points:n_points+500]:\n",
    "        x_test.append(x)\n",
    "    xFile.close()\n",
    "\n",
    "with open(directory + 'y.data', 'rb') as yFile:\n",
    "    biggestY = pickle.load(yFile)\n",
    "    y_train = biggestY[:n_points]\n",
    "    y_test = biggestY[n_points:n_points+500]\n",
    "    yFile.close()\n",
    "    \n",
    "x_train = np.array(x_train)\n",
    "x_test = np.array(x_test)\n",
    "y_train = np.array(y_train)\n",
    "y_test = np.array(y_test)"
   ]
  },
  {
   "cell_type": "code",
   "execution_count": 41,
   "metadata": {},
   "outputs": [],
   "source": [
    "X_train = np.reshape(x_train, (n_points, 21816, 1))\n",
    "Y_train = np.reshape(y_train, (n_points, 1))"
   ]
  },
  {
   "cell_type": "code",
   "execution_count": 42,
   "metadata": {},
   "outputs": [
    {
     "data": {
      "text/plain": [
       "(4500, 21816, 1)"
      ]
     },
     "execution_count": 42,
     "metadata": {},
     "output_type": "execute_result"
    }
   ],
   "source": [
    "X_train.shape"
   ]
  },
  {
   "cell_type": "markdown",
   "metadata": {},
   "source": [
    "### Classifier"
   ]
  },
  {
   "cell_type": "code",
   "execution_count": 51,
   "metadata": {},
   "outputs": [],
   "source": [
    "classifier_model = keras.Sequential([\n",
    "    keras.layers.Dense(256, activation='relu', input_shape=(21816,)),\n",
    "    keras.layers.Dense(20, activation='relu'),\n",
    "    keras.layers.Dense(256, activation='relu'),\n",
    "    keras.layers.Dense(20, activation='relu'),\n",
    "    keras.layers.Dense(256, activation='relu'),\n",
    "    keras.layers.Dense(20, activation='relu'),\n",
    "    keras.layers.Dense(256, activation='relu'),\n",
    "    keras.layers.Dense(20, activation='relu'),\n",
    "    keras.layers.Dense(256, activation='relu'),\n",
    "    keras.layers.Dense(20, activation='relu')\n",
    "])"
   ]
  },
  {
   "cell_type": "code",
   "execution_count": 52,
   "metadata": {},
   "outputs": [],
   "source": [
    "classifier_model.compile(optimizer = 'adam', loss=tf.keras.losses.SparseCategoricalCrossentropy(from_logits=True), metrics=['accuracy'])"
   ]
  },
  {
   "cell_type": "code",
   "execution_count": 53,
   "metadata": {},
   "outputs": [
    {
     "name": "stdout",
     "output_type": "stream",
     "text": [
      "(4500, 21816, 1)\n",
      "(4500, 1)\n"
     ]
    }
   ],
   "source": [
    "print(X_train.shape)\n",
    "print(Y_train.shape)"
   ]
  },
  {
   "cell_type": "code",
   "execution_count": 54,
   "metadata": {},
   "outputs": [
    {
     "name": "stdout",
     "output_type": "stream",
     "text": [
      "Epoch 1/50\n",
      "141/141 [==============================] - 5s 32ms/step - loss: 1.4962 - accuracy: 0.3689\n",
      "Epoch 2/50\n",
      "141/141 [==============================] - 6s 40ms/step - loss: 1.0625 - accuracy: 0.5251\n",
      "Epoch 3/50\n",
      "141/141 [==============================] - 7s 47ms/step - loss: 0.9249 - accuracy: 0.5767\n",
      "Epoch 4/50\n",
      "141/141 [==============================] - 6s 42ms/step - loss: 0.8097 - accuracy: 0.6351\n",
      "Epoch 5/50\n",
      "141/141 [==============================] - 6s 39ms/step - loss: 0.6954 - accuracy: 0.6980\n",
      "Epoch 6/50\n",
      "141/141 [==============================] - 6s 40ms/step - loss: 0.6126 - accuracy: 0.7449\n",
      "Epoch 7/50\n",
      "141/141 [==============================] - 6s 39ms/step - loss: 0.5410 - accuracy: 0.7891\n",
      "Epoch 8/50\n",
      "141/141 [==============================] - 6s 40ms/step - loss: 0.4160 - accuracy: 0.8387\n",
      "Epoch 9/50\n",
      "141/141 [==============================] - 6s 40ms/step - loss: 0.4452 - accuracy: 0.8304\n",
      "Epoch 10/50\n",
      "141/141 [==============================] - 6s 40ms/step - loss: 0.3537 - accuracy: 0.8767\n",
      "Epoch 11/50\n",
      "141/141 [==============================] - 6s 39ms/step - loss: 0.2856 - accuracy: 0.8987\n",
      "Epoch 12/50\n",
      "141/141 [==============================] - 6s 40ms/step - loss: 0.2491 - accuracy: 0.9164\n",
      "Epoch 13/50\n",
      "141/141 [==============================] - 6s 40ms/step - loss: 0.2200 - accuracy: 0.9356\n",
      "Epoch 14/50\n",
      "141/141 [==============================] - 6s 40ms/step - loss: 0.2244 - accuracy: 0.9298\n",
      "Epoch 15/50\n",
      "141/141 [==============================] - 6s 40ms/step - loss: 0.1835 - accuracy: 0.9438\n",
      "Epoch 16/50\n",
      "141/141 [==============================] - 6s 40ms/step - loss: 0.1835 - accuracy: 0.9473\n",
      "Epoch 17/50\n",
      "141/141 [==============================] - 6s 40ms/step - loss: 0.2136 - accuracy: 0.9373\n",
      "Epoch 18/50\n",
      "141/141 [==============================] - 6s 40ms/step - loss: 0.1748 - accuracy: 0.9473\n",
      "Epoch 19/50\n",
      "141/141 [==============================] - 6s 45ms/step - loss: 0.1269 - accuracy: 0.9649\n",
      "Epoch 20/50\n",
      "141/141 [==============================] - 7s 52ms/step - loss: 0.1029 - accuracy: 0.9718\n",
      "Epoch 21/50\n",
      "141/141 [==============================] - 7s 49ms/step - loss: 0.1142 - accuracy: 0.9707\n",
      "Epoch 22/50\n",
      "141/141 [==============================] - 11s 75ms/step - loss: 0.0928 - accuracy: 0.9733\n",
      "Epoch 23/50\n",
      "141/141 [==============================] - 6s 40ms/step - loss: 0.1357 - accuracy: 0.9633\n",
      "Epoch 24/50\n",
      "141/141 [==============================] - 6s 42ms/step - loss: 0.1529 - accuracy: 0.9549\n",
      "Epoch 25/50\n",
      "141/141 [==============================] - 6s 41ms/step - loss: 0.1494 - accuracy: 0.9593\n",
      "Epoch 26/50\n",
      "141/141 [==============================] - 6s 40ms/step - loss: 0.1742 - accuracy: 0.9456\n",
      "Epoch 27/50\n",
      "141/141 [==============================] - 6s 41ms/step - loss: 0.1499 - accuracy: 0.9587\n",
      "Epoch 28/50\n",
      "141/141 [==============================] - 7s 46ms/step - loss: 0.1402 - accuracy: 0.9627\n",
      "Epoch 29/50\n",
      "141/141 [==============================] - 6s 44ms/step - loss: 0.1047 - accuracy: 0.9724\n",
      "Epoch 30/50\n",
      "141/141 [==============================] - 6s 41ms/step - loss: 0.0772 - accuracy: 0.9804\n",
      "Epoch 31/50\n",
      "141/141 [==============================] - 6s 40ms/step - loss: 0.1047 - accuracy: 0.9722\n",
      "Epoch 32/50\n",
      "141/141 [==============================] - 6s 41ms/step - loss: 0.1082 - accuracy: 0.9684\n",
      "Epoch 33/50\n",
      "141/141 [==============================] - 6s 40ms/step - loss: 0.0946 - accuracy: 0.9756\n",
      "Epoch 34/50\n",
      "141/141 [==============================] - 6s 40ms/step - loss: 0.0800 - accuracy: 0.9793\n",
      "Epoch 35/50\n",
      "141/141 [==============================] - 6s 40ms/step - loss: 0.0760 - accuracy: 0.9820\n",
      "Epoch 36/50\n",
      "141/141 [==============================] - 6s 40ms/step - loss: 0.1384 - accuracy: 0.9613\n",
      "Epoch 37/50\n",
      "141/141 [==============================] - 6s 40ms/step - loss: 0.1178 - accuracy: 0.9658\n",
      "Epoch 38/50\n",
      "141/141 [==============================] - 6s 40ms/step - loss: 0.0540 - accuracy: 0.9851\n",
      "Epoch 39/50\n",
      "141/141 [==============================] - 7s 49ms/step - loss: 0.0892 - accuracy: 0.9764\n",
      "Epoch 40/50\n",
      "141/141 [==============================] - 9s 63ms/step - loss: 0.0704 - accuracy: 0.9853\n",
      "Epoch 41/50\n",
      "141/141 [==============================] - 6s 40ms/step - loss: 0.1125 - accuracy: 0.9673\n",
      "Epoch 42/50\n",
      "141/141 [==============================] - 6s 40ms/step - loss: 0.0908 - accuracy: 0.9751\n",
      "Epoch 43/50\n",
      "141/141 [==============================] - 6s 40ms/step - loss: 0.0781 - accuracy: 0.9816\n",
      "Epoch 44/50\n",
      "141/141 [==============================] - 6s 40ms/step - loss: 0.0471 - accuracy: 0.9893\n",
      "Epoch 45/50\n",
      "141/141 [==============================] - 6s 41ms/step - loss: 0.0484 - accuracy: 0.9871\n",
      "Epoch 46/50\n",
      "141/141 [==============================] - 6s 41ms/step - loss: 0.0699 - accuracy: 0.9867\n",
      "Epoch 47/50\n",
      "141/141 [==============================] - 8s 59ms/step - loss: 0.0970 - accuracy: 0.9776\n",
      "Epoch 48/50\n",
      "141/141 [==============================] - 7s 50ms/step - loss: 0.0735 - accuracy: 0.9811\n",
      "Epoch 49/50\n",
      "141/141 [==============================] - 6s 40ms/step - loss: 0.0765 - accuracy: 0.9802\n",
      "Epoch 50/50\n",
      "141/141 [==============================] - 6s 42ms/step - loss: 0.1166 - accuracy: 0.9720\n"
     ]
    }
   ],
   "source": [
    "classifier_history = classifier_model.fit(X_train,\n",
    "                                          Y_train,\n",
    "                                          epochs=50)"
   ]
  },
  {
   "cell_type": "markdown",
   "metadata": {},
   "source": [
    "### Performance Stats"
   ]
  },
  {
   "cell_type": "code",
   "execution_count": 55,
   "metadata": {},
   "outputs": [
    {
     "name": "stderr",
     "output_type": "stream",
     "text": [
      "No handles with labels found to put in legend.\n",
      "No handles with labels found to put in legend.\n"
     ]
    },
    {
     "data": {
      "text/plain": [
       "<matplotlib.legend.Legend at 0x7fbf880dcd90>"
      ]
     },
     "execution_count": 55,
     "metadata": {},
     "output_type": "execute_result"
    },
    {
     "data": {
      "image/png": "[encoded data removed]",
      "text/plain": [
       "<Figure size 1008x504 with 2 Axes>"
      ]
     },
     "metadata": {
      "needs_background": "light"
     },
     "output_type": "display_data"
    }
   ],
   "source": [
    "fig, ax = plt.subplots(1,2);\n",
    "fig.set_size_inches(14,7);\n",
    "\n",
    "ax[0].plot(classifier_history.history['accuracy'])\n",
    "\n",
    "ax[0].set_xlabel(\"epoch\", fontsize=20)\n",
    "ax[0].set_ylabel(\"accuracy %\", fontsize=20)\n",
    "ax[0].legend()\n",
    "\n",
    "ax[1].plot(classifier_history.history['loss'])\n",
    "\n",
    "ax[1].set_xlabel(\"epoch\", fontsize=20)\n",
    "ax[1].set_ylabel(\"training loss\", fontsize=20)\n",
    "ax[1].legend()"
   ]
  },
  {
   "cell_type": "code",
   "execution_count": 56,
   "metadata": {},
   "outputs": [],
   "source": [
    "Y_pred = classifier_model.predict(x_test)\n",
    "y_pred = np.argmax(Y_pred, axis=1)\n",
    "\n",
    "matrix = confusion_matrix(y_test, y_pred, normalize='true', labels=[0,1,2,3,4,5,6])"
   ]
  },
  {
   "cell_type": "code",
   "execution_count": 57,
   "metadata": {},
   "outputs": [
    {
     "data": {
      "image/png": "[encoded data removed]",
      "text/plain": [
       "<Figure size 504x504 with 1 Axes>"
      ]
     },
     "metadata": {
      "needs_background": "light"
     },
     "output_type": "display_data"
    }
   ],
   "source": [
    "fig, ax = plt.subplots(1,1)\n",
    "fig.set_size_inches(7,7)\n",
    "\n",
    "labels = ['0', '1', '2', '3', '4', '5', '6']\n",
    "\n",
    "grid = np.array(matrix)\n",
    "im = ax.imshow(grid)\n",
    "\n",
    "for k in range (0, len(grid)):\n",
    "        for l in range (0, len(grid[0])):\n",
    "            ax.text(l-0.3, k+0.1, str(grid[k][l])[:4], size=20, color='white')\n",
    "            \n",
    "ax.set_xticklabels([''] + labels);\n",
    "ax.set_yticklabels([''] + labels);\n",
    "\n",
    "ax.set_ylabel('True Pulse Number', fontsize=20);\n",
    "ax.set_xlabel('Classified Pulse Number', fontsize=20);\n",
    "\n",
    "#ax.set_title(\"with autoencoder\", fontsize=20)\n"
   ]
  },
  {
   "cell_type": "code",
   "execution_count": 59,
   "metadata": {},
   "outputs": [
    {
     "data": {
      "text/plain": [
       "(array([ 92.,   0.,   0., 106.,   0.,   0., 244.,   0.,   0.,  58.]),\n",
       " array([1. , 1.3, 1.6, 1.9, 2.2, 2.5, 2.8, 3.1, 3.4, 3.7, 4. ]),\n",
       " <a list of 10 Patch objects>)"
      ]
     },
     "execution_count": 59,
     "metadata": {},
     "output_type": "execute_result"
    },
    {
     "data": {
      "image/png": "[encoded data removed]",
      "text/plain": [
       "<Figure size 504x504 with 1 Axes>"
      ]
     },
     "metadata": {
      "needs_background": "light"
     },
     "output_type": "display_data"
    }
   ],
   "source": [
    "fig, ax = plt.subplots(1, 1)\n",
    "fig.set_size_inches(7, 7)\n",
    "\n",
    "ax.hist(y_test, alpha=0.5, label='True Pulse Number')\n",
    "ax.hist(y_pred, alpha=0.5, label='Classified Pulse Number')\n"
   ]
  },
  {
   "cell_type": "code",
   "execution_count": null,
   "metadata": {},
   "outputs": [],
   "source": []
  },
  {
   "cell_type": "code",
   "execution_count": null,
   "metadata": {},
   "outputs": [],
   "source": []
  }
 ],
 "metadata": {
  "kernelspec": {
   "display_name": "Python 3",
   "language": "python",
   "name": "python3"
  },
  "language_info": {
   "codemirror_mode": {
    "name": "ipython",
    "version": 3
   },
   "file_extension": ".py",
   "mimetype": "text/x-python",
   "name": "python",
   "nbconvert_exporter": "python",
   "pygments_lexer": "ipython3",
   "version": "3.7.5"
  }
 },
 "nbformat": 4,
 "nbformat_minor": 4
}
