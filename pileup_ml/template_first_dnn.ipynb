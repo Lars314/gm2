{
 "cells": [
  {
   "cell_type": "code",
   "execution_count": 2,
   "metadata": {},
   "outputs": [
    {
     "name": "stdout",
     "output_type": "stream",
     "text": [
      "Welcome to JupyROOT 6.18/04\n"
     ]
    }
   ],
   "source": [
    "import ROOT as r\n",
    "import pandas as pd\n",
    "import matplotlib.pyplot as plt\n",
    "import numpy as np\n",
    "import sklearn as skl\n",
    "import pickle\n",
    "import spliland\n",
    "import importlib\n",
    "import random\n",
    "import fclParse\n",
    "from scipy import stats\n",
    "from sklearn.metrics import classification_report, confusion_matrix"
   ]
  },
  {
   "cell_type": "code",
   "execution_count": 3,
   "metadata": {},
   "outputs": [],
   "source": [
    "directory = './template_data/set_5/'"
   ]
  },
  {
   "cell_type": "markdown",
   "metadata": {},
   "source": [
    "## Intro\n",
    "\n",
    "The purpose of this notebook is to make a first attempt deep neural network sorta model with keras and tensorflow\n",
    "\n",
    "This is just a \"yes I can make **something**\" sort of model, it is not serious beyond use as a teaching tool for myself. So there is no attention to nuance, I am just blindly following a tutorial to get a feel for using these tools before reading a little deeper.\n",
    "\n",
    "Following along from here: https://www.tensorflow.org/tutorials/keras/classification"
   ]
  },
  {
   "cell_type": "code",
   "execution_count": 5,
   "metadata": {},
   "outputs": [
    {
     "name": "stderr",
     "output_type": "stream",
     "text": [
      "2020-10-06 12:39:57.096117: W tensorflow/stream_executor/platform/default/dso_loader.cc:59] Could not load dynamic library 'libcudart.so.10.1'; dlerror: libcudart.so.10.1: cannot open shared object file: No such file or directory; LD_LIBRARY_PATH: /home/lars/root6/lib\n",
      "2020-10-06 12:39:57.096803: I tensorflow/stream_executor/cuda/cudart_stub.cc:29] Ignore above cudart dlerror if you do not have a GPU set up on your machine.\n"
     ]
    }
   ],
   "source": [
    "# TensorFlow and tf.keras\n",
    "import tensorflow as tf\n",
    "from tensorflow import keras\n",
    "\n",
    "# Helper libraries\n",
    "import numpy as np\n",
    "import matplotlib.pyplot as plt"
   ]
  },
  {
   "cell_type": "code",
   "execution_count": 110,
   "metadata": {},
   "outputs": [],
   "source": [
    "with open(directory + 'x_train.data', 'rb') as xFile:\n",
    "    biggestX = pickle.load(xFile)\n",
    "    x_train = []\n",
    "    for x in biggestX[:60000]:\n",
    "        x_train.append(x[1])\n",
    "    xFile.close()\n",
    "    \n",
    "with open(directory + 'x_test.data', 'rb') as xFile:\n",
    "    biggestX = pickle.load(xFile)\n",
    "    x_test = []\n",
    "    for x in biggestX[:20000]:\n",
    "        x_test.append(x[1])\n",
    "    xFile.close()\n",
    "\n",
    "with open(directory + 'y_train.data', 'rb') as yFile:\n",
    "    biggestY = pickle.load(yFile)\n",
    "    y_train = biggestY[:60000]\n",
    "    yFile.close()\n",
    "    \n",
    "with open(directory + 'y_test.data', 'rb') as yFile:\n",
    "    biggestY = pickle.load(yFile)\n",
    "    y_test = biggestY[:20000]\n",
    "    yFile.close()"
   ]
  },
  {
   "cell_type": "code",
   "execution_count": 111,
   "metadata": {},
   "outputs": [],
   "source": [
    "x_train = np.array(x_train)\n",
    "x_test = np.array(x_test)\n",
    "y_train = np.array(y_train)\n",
    "y_test = np.array(y_test)"
   ]
  },
  {
   "cell_type": "code",
   "execution_count": 119,
   "metadata": {},
   "outputs": [],
   "source": [
    "model = keras.Sequential([\n",
    "    keras.layers.Dense(128, activation='relu'),\n",
    "    keras.layers.Dense(10)\n",
    "])"
   ]
  },
  {
   "cell_type": "code",
   "execution_count": 120,
   "metadata": {},
   "outputs": [],
   "source": [
    "model.compile(# this is how the model is updated based on the data and loss function\n",
    "              optimizer = 'adam',\n",
    "              # the loss function measures how accurate the model is during trianing\n",
    "              # you minimize this function to 'steer' the model in the right direction\n",
    "              loss=tf.keras.losses.SparseCategoricalCrossentropy(from_logits=True),\n",
    "              # monitor the training and testing steps\n",
    "              metrics=['accuracy'])"
   ]
  },
  {
   "cell_type": "code",
   "execution_count": 121,
   "metadata": {
    "collapsed": true,
    "jupyter": {
     "outputs_hidden": true
    }
   },
   "outputs": [
    {
     "name": "stdout",
     "output_type": "stream",
     "text": [
      "Epoch 1/100\n",
      "1875/1875 [==============================] - 2s 870us/step - loss: 1.5772 - accuracy: 0.3225\n",
      "Epoch 2/100\n",
      "1875/1875 [==============================] - 2s 871us/step - loss: 1.3830 - accuracy: 0.3808\n",
      "Epoch 3/100\n",
      "1875/1875 [==============================] - 2s 859us/step - loss: 1.3337 - accuracy: 0.4027\n",
      "Epoch 4/100\n",
      "1875/1875 [==============================] - 2s 864us/step - loss: 1.3053 - accuracy: 0.4138\n",
      "Epoch 5/100\n",
      "1875/1875 [==============================] - 2s 1ms/step - loss: 1.2869 - accuracy: 0.4198\n",
      "Epoch 6/100\n",
      "1875/1875 [==============================] - 2s 1ms/step - loss: 1.2710 - accuracy: 0.4306\n",
      "Epoch 7/100\n",
      "1875/1875 [==============================] - 2s 1ms/step - loss: 1.2583 - accuracy: 0.4327\n",
      "Epoch 8/100\n",
      "1875/1875 [==============================] - 2s 1ms/step - loss: 1.2471 - accuracy: 0.4385\n",
      "Epoch 9/100\n",
      "1875/1875 [==============================] - 2s 1ms/step - loss: 1.2370 - accuracy: 0.4452\n",
      "Epoch 10/100\n",
      "1875/1875 [==============================] - 2s 1ms/step - loss: 1.2289 - accuracy: 0.4467\n",
      "Epoch 11/100\n",
      "1875/1875 [==============================] - 2s 1ms/step - loss: 1.2215 - accuracy: 0.4520\n",
      "Epoch 12/100\n",
      "1875/1875 [==============================] - 2s 1ms/step - loss: 1.2148 - accuracy: 0.4550\n",
      "Epoch 13/100\n",
      "1875/1875 [==============================] - 2s 1ms/step - loss: 1.2087 - accuracy: 0.4620\n",
      "Epoch 14/100\n",
      "1875/1875 [==============================] - 3s 1ms/step - loss: 1.2031 - accuracy: 0.4603\n",
      "Epoch 15/100\n",
      "1875/1875 [==============================] - 3s 1ms/step - loss: 1.1982 - accuracy: 0.4619\n",
      "Epoch 16/100\n",
      "1875/1875 [==============================] - 3s 1ms/step - loss: 1.1932 - accuracy: 0.4663\n",
      "Epoch 17/100\n",
      "1875/1875 [==============================] - 2s 1ms/step - loss: 1.1883 - accuracy: 0.4654\n",
      "Epoch 18/100\n",
      "1875/1875 [==============================] - 2s 1ms/step - loss: 1.1844 - accuracy: 0.4678\n",
      "Epoch 19/100\n",
      "1875/1875 [==============================] - 3s 1ms/step - loss: 1.1797 - accuracy: 0.4720\n",
      "Epoch 20/100\n",
      "1875/1875 [==============================] - 3s 1ms/step - loss: 1.1758 - accuracy: 0.4727\n",
      "Epoch 21/100\n",
      "1875/1875 [==============================] - 3s 1ms/step - loss: 1.1729 - accuracy: 0.4731\n",
      "Epoch 22/100\n",
      "1875/1875 [==============================] - 3s 1ms/step - loss: 1.1692 - accuracy: 0.4769\n",
      "Epoch 23/100\n",
      "1875/1875 [==============================] - 2s 1ms/step - loss: 1.1662 - accuracy: 0.4771\n",
      "Epoch 24/100\n",
      "1875/1875 [==============================] - 3s 1ms/step - loss: 1.1634 - accuracy: 0.4799\n",
      "Epoch 25/100\n",
      "1875/1875 [==============================] - 3s 1ms/step - loss: 1.1606 - accuracy: 0.4785\n",
      "Epoch 26/100\n",
      "1875/1875 [==============================] - 3s 1ms/step - loss: 1.1574 - accuracy: 0.4796\n",
      "Epoch 27/100\n",
      "1875/1875 [==============================] - 2s 1ms/step - loss: 1.1557 - accuracy: 0.4822\n",
      "Epoch 28/100\n",
      "1875/1875 [==============================] - 2s 1ms/step - loss: 1.1532 - accuracy: 0.4811\n",
      "Epoch 29/100\n",
      "1875/1875 [==============================] - 2s 1ms/step - loss: 1.1503 - accuracy: 0.4842\n",
      "Epoch 30/100\n",
      "1875/1875 [==============================] - 2s 1ms/step - loss: 1.1482 - accuracy: 0.4842\n",
      "Epoch 31/100\n",
      "1875/1875 [==============================] - 2s 1ms/step - loss: 1.1465 - accuracy: 0.4855\n",
      "Epoch 32/100\n",
      "1875/1875 [==============================] - 2s 1ms/step - loss: 1.1440 - accuracy: 0.4883\n",
      "Epoch 33/100\n",
      "1875/1875 [==============================] - 2s 1ms/step - loss: 1.1418 - accuracy: 0.4882\n",
      "Epoch 34/100\n",
      "1875/1875 [==============================] - 2s 1ms/step - loss: 1.1395 - accuracy: 0.4891\n",
      "Epoch 35/100\n",
      "1875/1875 [==============================] - 3s 1ms/step - loss: 1.1380 - accuracy: 0.4894\n",
      "Epoch 36/100\n",
      "1875/1875 [==============================] - 3s 1ms/step - loss: 1.1367 - accuracy: 0.4910\n",
      "Epoch 37/100\n",
      "1875/1875 [==============================] - 2s 1ms/step - loss: 1.1345 - accuracy: 0.4920\n",
      "Epoch 38/100\n",
      "1875/1875 [==============================] - 2s 1ms/step - loss: 1.1329 - accuracy: 0.4942\n",
      "Epoch 39/100\n",
      "1875/1875 [==============================] - 2s 1ms/step - loss: 1.1312 - accuracy: 0.4929\n",
      "Epoch 40/100\n",
      "1875/1875 [==============================] - 2s 1ms/step - loss: 1.1296 - accuracy: 0.4934\n",
      "Epoch 41/100\n",
      "1875/1875 [==============================] - 2s 1ms/step - loss: 1.1280 - accuracy: 0.4947\n",
      "Epoch 42/100\n",
      "1875/1875 [==============================] - 2s 1ms/step - loss: 1.1263 - accuracy: 0.4963\n",
      "Epoch 43/100\n",
      "1875/1875 [==============================] - 2s 1ms/step - loss: 1.1250 - accuracy: 0.4955\n",
      "Epoch 44/100\n",
      "1875/1875 [==============================] - 2s 1ms/step - loss: 1.1233 - accuracy: 0.4961\n",
      "Epoch 45/100\n",
      "1875/1875 [==============================] - 2s 1ms/step - loss: 1.1217 - accuracy: 0.4960\n",
      "Epoch 46/100\n",
      "1875/1875 [==============================] - 2s 1ms/step - loss: 1.1209 - accuracy: 0.4974\n",
      "Epoch 47/100\n",
      "1875/1875 [==============================] - 2s 1ms/step - loss: 1.1190 - accuracy: 0.4972\n",
      "Epoch 48/100\n",
      "1875/1875 [==============================] - 2s 1ms/step - loss: 1.1173 - accuracy: 0.4982\n",
      "Epoch 49/100\n",
      "1875/1875 [==============================] - 2s 1ms/step - loss: 1.1166 - accuracy: 0.4990\n",
      "Epoch 50/100\n",
      "1875/1875 [==============================] - 2s 1ms/step - loss: 1.1151 - accuracy: 0.5005\n",
      "Epoch 51/100\n",
      "1875/1875 [==============================] - 2s 1ms/step - loss: 1.1134 - accuracy: 0.5016\n",
      "Epoch 52/100\n",
      "1875/1875 [==============================] - 2s 1ms/step - loss: 1.1123 - accuracy: 0.4996\n",
      "Epoch 53/100\n",
      "1875/1875 [==============================] - 2s 1ms/step - loss: 1.1110 - accuracy: 0.5036\n",
      "Epoch 54/100\n",
      "1875/1875 [==============================] - 2s 1ms/step - loss: 1.1101 - accuracy: 0.5027\n",
      "Epoch 55/100\n",
      "1875/1875 [==============================] - 2s 1ms/step - loss: 1.1085 - accuracy: 0.5034\n",
      "Epoch 56/100\n",
      "1875/1875 [==============================] - 2s 1ms/step - loss: 1.1081 - accuracy: 0.5016\n",
      "Epoch 57/100\n",
      "1875/1875 [==============================] - 3s 1ms/step - loss: 1.1065 - accuracy: 0.5037\n",
      "Epoch 58/100\n",
      "1875/1875 [==============================] - 2s 1ms/step - loss: 1.1052 - accuracy: 0.5052\n",
      "Epoch 59/100\n",
      "1875/1875 [==============================] - 3s 1ms/step - loss: 1.1039 - accuracy: 0.5065\n",
      "Epoch 60/100\n",
      "1875/1875 [==============================] - 3s 1ms/step - loss: 1.1025 - accuracy: 0.5046\n",
      "Epoch 61/100\n",
      "1875/1875 [==============================] - 3s 2ms/step - loss: 1.1017 - accuracy: 0.5062\n",
      "Epoch 62/100\n",
      "1875/1875 [==============================] - 3s 1ms/step - loss: 1.1001 - accuracy: 0.5072\n",
      "Epoch 63/100\n",
      "1875/1875 [==============================] - 3s 1ms/step - loss: 1.0997 - accuracy: 0.5060\n",
      "Epoch 64/100\n",
      "1875/1875 [==============================] - 3s 1ms/step - loss: 1.0987 - accuracy: 0.5076\n",
      "Epoch 65/100\n",
      "1875/1875 [==============================] - 3s 1ms/step - loss: 1.0975 - accuracy: 0.5064\n",
      "Epoch 66/100\n",
      "1875/1875 [==============================] - 3s 1ms/step - loss: 1.0963 - accuracy: 0.5067\n",
      "Epoch 67/100\n",
      "1875/1875 [==============================] - 3s 1ms/step - loss: 1.0952 - accuracy: 0.5099\n",
      "Epoch 68/100\n",
      "1875/1875 [==============================] - 3s 1ms/step - loss: 1.0949 - accuracy: 0.5078\n",
      "Epoch 69/100\n",
      "1875/1875 [==============================] - 3s 2ms/step - loss: 1.0932 - accuracy: 0.5098\n",
      "Epoch 70/100\n",
      "1875/1875 [==============================] - 3s 2ms/step - loss: 1.0918 - accuracy: 0.5104\n",
      "Epoch 71/100\n",
      "1875/1875 [==============================] - 3s 2ms/step - loss: 1.0916 - accuracy: 0.5112\n",
      "Epoch 72/100\n",
      "1875/1875 [==============================] - 3s 2ms/step - loss: 1.0904 - accuracy: 0.5102\n",
      "Epoch 73/100\n",
      "1875/1875 [==============================] - 3s 2ms/step - loss: 1.0900 - accuracy: 0.5102\n",
      "Epoch 74/100\n",
      "1875/1875 [==============================] - 3s 2ms/step - loss: 1.0886 - accuracy: 0.5117\n",
      "Epoch 75/100\n",
      "1875/1875 [==============================] - 3s 2ms/step - loss: 1.0876 - accuracy: 0.5116\n",
      "Epoch 76/100\n",
      "1875/1875 [==============================] - 4s 2ms/step - loss: 1.0869 - accuracy: 0.5125\n",
      "Epoch 77/100\n",
      "1875/1875 [==============================] - 3s 2ms/step - loss: 1.0856 - accuracy: 0.5109\n",
      "Epoch 78/100\n",
      "1875/1875 [==============================] - 3s 2ms/step - loss: 1.0843 - accuracy: 0.5130\n",
      "Epoch 79/100\n",
      "1875/1875 [==============================] - 3s 2ms/step - loss: 1.0839 - accuracy: 0.5128\n",
      "Epoch 80/100\n",
      "1875/1875 [==============================] - 3s 2ms/step - loss: 1.0830 - accuracy: 0.5129\n",
      "Epoch 81/100\n",
      "1875/1875 [==============================] - 3s 2ms/step - loss: 1.0826 - accuracy: 0.5132\n",
      "Epoch 82/100\n",
      "1875/1875 [==============================] - 3s 2ms/step - loss: 1.0812 - accuracy: 0.5154\n",
      "Epoch 83/100\n",
      "1875/1875 [==============================] - 3s 2ms/step - loss: 1.0807 - accuracy: 0.5140\n",
      "Epoch 84/100\n",
      "1875/1875 [==============================] - 3s 2ms/step - loss: 1.0799 - accuracy: 0.5138\n",
      "Epoch 85/100\n",
      "1875/1875 [==============================] - 3s 2ms/step - loss: 1.0790 - accuracy: 0.5157\n",
      "Epoch 86/100\n",
      "1875/1875 [==============================] - 3s 2ms/step - loss: 1.0779 - accuracy: 0.5181\n",
      "Epoch 87/100\n",
      "1875/1875 [==============================] - 3s 2ms/step - loss: 1.0773 - accuracy: 0.5165\n",
      "Epoch 88/100\n",
      "1875/1875 [==============================] - 3s 2ms/step - loss: 1.0763 - accuracy: 0.5170\n",
      "Epoch 89/100\n",
      "1875/1875 [==============================] - 3s 2ms/step - loss: 1.0756 - accuracy: 0.5182\n",
      "Epoch 90/100\n",
      "1875/1875 [==============================] - 3s 2ms/step - loss: 1.0743 - accuracy: 0.5171\n",
      "Epoch 91/100\n",
      "1875/1875 [==============================] - 3s 2ms/step - loss: 1.0734 - accuracy: 0.5188\n",
      "Epoch 92/100\n",
      "1875/1875 [==============================] - 3s 2ms/step - loss: 1.0730 - accuracy: 0.5174\n",
      "Epoch 93/100\n",
      "1875/1875 [==============================] - 3s 2ms/step - loss: 1.0721 - accuracy: 0.5214\n",
      "Epoch 94/100\n",
      "1875/1875 [==============================] - 4s 2ms/step - loss: 1.0713 - accuracy: 0.5183\n",
      "Epoch 95/100\n",
      "1875/1875 [==============================] - 3s 2ms/step - loss: 1.0701 - accuracy: 0.5179\n",
      "Epoch 96/100\n",
      "1875/1875 [==============================] - 3s 2ms/step - loss: 1.0697 - accuracy: 0.5195\n",
      "Epoch 97/100\n",
      "1875/1875 [==============================] - 3s 2ms/step - loss: 1.0692 - accuracy: 0.5193\n",
      "Epoch 98/100\n",
      "1875/1875 [==============================] - 3s 2ms/step - loss: 1.0682 - accuracy: 0.5220\n",
      "Epoch 99/100\n",
      "1875/1875 [==============================] - 3s 2ms/step - loss: 1.0668 - accuracy: 0.5221\n",
      "Epoch 100/100\n",
      "1875/1875 [==============================] - 3s 2ms/step - loss: 1.0666 - accuracy: 0.5208\n"
     ]
    }
   ],
   "source": [
    "history = model.fit(x_train, y_train, epochs=100)"
   ]
  },
  {
   "cell_type": "code",
   "execution_count": 122,
   "metadata": {},
   "outputs": [
    {
     "name": "stdout",
     "output_type": "stream",
     "text": [
      "625/625 - 0s - loss: 1.0676 - accuracy: 0.5314\n",
      "\n",
      "Test accuracy: 0.5313500165939331\n"
     ]
    }
   ],
   "source": [
    "test_loss, test_acc = model.evaluate(x_test, y_test, verbose=2)\n",
    "print('\\nTest accuracy:', test_acc)"
   ]
  },
  {
   "cell_type": "code",
   "execution_count": 123,
   "metadata": {},
   "outputs": [
    {
     "data": {
      "text/plain": [
       "Text(0, 0.5, 'loss')"
      ]
     },
     "execution_count": 123,
     "metadata": {},
     "output_type": "execute_result"
    },
    {
     "data": {
      "image/png": "[encoded data removed]",
      "text/plain": [
       "<Figure size 720x360 with 2 Axes>"
      ]
     },
     "metadata": {
      "needs_background": "light"
     },
     "output_type": "display_data"
    }
   ],
   "source": [
    "fig, ax = plt.subplots(1,2)\n",
    "fig.set_size_inches(10, 5)\n",
    "\n",
    "ax[0].plot(history.history['accuracy'])\n",
    "ax[1].plot(history.history['loss'])\n",
    "\n",
    "ax[0].set_xlabel('epoch', fontsize=20)\n",
    "ax[1].set_xlabel('epoch', fontsize=20)\n",
    "\n",
    "ax[0].set_ylabel('accuracy', fontsize=20)\n",
    "ax[1].set_ylabel('loss', fontsize=20)"
   ]
  },
  {
   "cell_type": "code",
   "execution_count": 124,
   "metadata": {},
   "outputs": [],
   "source": [
    "Y_pred = model.predict(x_test)\n",
    "y_pred = np.argmax(Y_pred, axis=1)\n",
    "\n",
    "matrix = confusion_matrix(y_test, y_pred, normalize='true')"
   ]
  },
  {
   "cell_type": "code",
   "execution_count": 125,
   "metadata": {},
   "outputs": [
    {
     "data": {
      "image/png": "[encoded data removed]",
      "text/plain": [
       "<Figure size 504x504 with 1 Axes>"
      ]
     },
     "metadata": {
      "needs_background": "light"
     },
     "output_type": "display_data"
    }
   ],
   "source": [
    "fig, ax = plt.subplots(1,1)\n",
    "fig.set_size_inches(7,7)\n",
    "\n",
    "labels = ['1', '2', '3', '4', '5', '6']\n",
    "\n",
    "grid = np.array(matrix)\n",
    "im = ax.imshow(grid)\n",
    "\n",
    "for k in range (0, len(grid)):\n",
    "        for l in range (0, len(grid[0])):\n",
    "            ax.text(l-0.3, k+0.1, str(grid[k][l])[:4], size=20, color='white')\n",
    "            \n",
    "ax.set_xticklabels([''] + labels);\n",
    "ax.set_yticklabels([''] + labels);\n",
    "\n",
    "ax.set_ylabel('True Pulse Number', fontsize=20);\n",
    "ax.set_xlabel('Classified Pulse Number', fontsize=20);"
   ]
  },
  {
   "cell_type": "code",
   "execution_count": null,
   "metadata": {},
   "outputs": [],
   "source": []
  }
 ],
 "metadata": {
  "kernelspec": {
   "display_name": "Python 3",
   "language": "python",
   "name": "python3"
  },
  "language_info": {
   "codemirror_mode": {
    "name": "ipython",
    "version": 3
   },
   "file_extension": ".py",
   "mimetype": "text/x-python",
   "name": "python",
   "nbconvert_exporter": "python",
   "pygments_lexer": "ipython3",
   "version": "3.7.5"
  }
 },
 "nbformat": 4,
 "nbformat_minor": 4
}
