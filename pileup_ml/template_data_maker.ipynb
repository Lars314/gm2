{
 "cells": [
  {
   "cell_type": "markdown",
   "metadata": {},
   "source": [
    "#### The purpose of this notebook is to produce train and test data for the ML algorithm using template pulses"
   ]
  },
  {
   "cell_type": "code",
   "execution_count": 1,
   "metadata": {},
   "outputs": [
    {
     "name": "stdout",
     "output_type": "stream",
     "text": [
      "Welcome to JupyROOT 6.18/04\n"
     ]
    }
   ],
   "source": [
    "import ROOT as r\n",
    "import pandas as pd\n",
    "import matplotlib.pyplot as plt\n",
    "import numpy as np\n",
    "import sklearn as skl\n",
    "import pickle\n",
    "import spliland\n",
    "import importlib\n",
    "import random\n",
    "import fclParse\n",
    "from scipy import stats"
   ]
  },
  {
   "cell_type": "code",
   "execution_count": 2,
   "metadata": {},
   "outputs": [],
   "source": [
    "# run this to make printing cleaner\n",
    "np.set_printoptions(precision=None)"
   ]
  },
  {
   "cell_type": "code",
   "execution_count": 1,
   "metadata": {},
   "outputs": [
    {
     "ename": "NameError",
     "evalue": "name 'importlib' is not defined",
     "output_type": "error",
     "traceback": [
      "\u001b[0;31m---------------------------------------------------------------------------\u001b[0m",
      "\u001b[0;31mNameError\u001b[0m                                 Traceback (most recent call last)",
      "\u001b[0;32m<ipython-input-1-05e1354d5778>\u001b[0m in \u001b[0;36m<module>\u001b[0;34m\u001b[0m\n\u001b[1;32m      1\u001b[0m \u001b[0;31m# Reload stuff in case you make changes!\u001b[0m\u001b[0;34m\u001b[0m\u001b[0;34m\u001b[0m\u001b[0;34m\u001b[0m\u001b[0m\n\u001b[1;32m      2\u001b[0m \u001b[0;34m\u001b[0m\u001b[0m\n\u001b[0;32m----> 3\u001b[0;31m \u001b[0mimportlib\u001b[0m\u001b[0;34m.\u001b[0m\u001b[0mreload\u001b[0m\u001b[0;34m(\u001b[0m\u001b[0mspliland\u001b[0m\u001b[0;34m)\u001b[0m\u001b[0;34m;\u001b[0m\u001b[0;34m\u001b[0m\u001b[0;34m\u001b[0m\u001b[0m\n\u001b[0m",
      "\u001b[0;31mNameError\u001b[0m: name 'importlib' is not defined"
     ]
    }
   ],
   "source": [
    "# Reload stuff in case you make changes!\n",
    "\n",
    "importlib.reload(spliland);"
   ]
  },
  {
   "cell_type": "code",
   "execution_count": 2,
   "metadata": {},
   "outputs": [
    {
     "ename": "NameError",
     "evalue": "name 'r' is not defined",
     "output_type": "error",
     "traceback": [
      "\u001b[0;31m---------------------------------------------------------------------------\u001b[0m",
      "\u001b[0;31mNameError\u001b[0m                                 Traceback (most recent call last)",
      "\u001b[0;32m<ipython-input-2-e377744b1d28>\u001b[0m in \u001b[0;36m<module>\u001b[0;34m\u001b[0m\n\u001b[0;32m----> 1\u001b[0;31m \u001b[0mf\u001b[0m \u001b[0;34m=\u001b[0m \u001b[0mr\u001b[0m\u001b[0;34m.\u001b[0m\u001b[0mTFile\u001b[0m\u001b[0;34m(\u001b[0m\u001b[0;34m\"./calotemplate15.root\"\u001b[0m\u001b[0;34m)\u001b[0m\u001b[0;34m\u001b[0m\u001b[0;34m\u001b[0m\u001b[0m\n\u001b[0m\u001b[1;32m      2\u001b[0m \u001b[0mnoiseDict\u001b[0m \u001b[0;34m=\u001b[0m \u001b[0mfclParse\u001b[0m\u001b[0;34m.\u001b[0m\u001b[0mfclReader\u001b[0m\u001b[0;34m(\u001b[0m\u001b[0;34m\"gm2pedestals_run3formatRE.fcl\"\u001b[0m\u001b[0;34m)\u001b[0m\u001b[0;34m\u001b[0m\u001b[0;34m\u001b[0m\u001b[0m\n\u001b[1;32m      3\u001b[0m \u001b[0menCalDict\u001b[0m \u001b[0;34m=\u001b[0m \u001b[0mfclParse\u001b[0m\u001b[0;34m.\u001b[0m\u001b[0mfclReader\u001b[0m\u001b[0;34m(\u001b[0m\u001b[0;34m\"mipEnergyCalibration_PostDisk_CoincidencNumber_2.fcl\"\u001b[0m\u001b[0;34m)\u001b[0m\u001b[0;34m\u001b[0m\u001b[0;34m\u001b[0m\u001b[0m\n",
      "\u001b[0;31mNameError\u001b[0m: name 'r' is not defined"
     ]
    }
   ],
   "source": [
    "f = r.TFile(\"./calotemplate15.root\")\n",
    "noiseDict = fclParse.fclReader(\"gm2pedestals_run3formatRE.fcl\")\n",
    "enCalDict = fclParse.fclReader(\"mipEnergyCalibration_PostDisk_CoincidencNumber_2.fcl\")"
   ]
  },
  {
   "cell_type": "code",
   "execution_count": 10,
   "metadata": {},
   "outputs": [
    {
     "name": "stdout",
     "output_type": "stream",
     "text": [
      "index 0\n",
      "index 1000\n",
      "index 2000\n"
     ]
    }
   ],
   "source": [
    "nIslands = 2000\n",
    "\n",
    "x = []\n",
    "y = []\n",
    "x_delta = []\n",
    "\n",
    "for index in range(0, nIslands+1):\n",
    "    xtalNum = str(np.random.randint(low=0, high=54))\n",
    "    thisNoise = noiseDict['pedestalConstantsLaserRun3']['calo15']['xtal' + xtalNum]['noiseLevel']\n",
    "    thisEnCal = enCalDict['absolute_calibration_constants']['calo15']['xtal' + xtalNum]\n",
    "\n",
    "    indexSpline = spliland.Spline(f.Get(\"masterSpline_xtal\" + xtalNum), xtalNum, 15)\n",
    "    indexIsland = spliland.Island(referenceSpline=indexSpline,\n",
    "                                  minPulses = 1, maxPulses = 4,\n",
    "                                  useUniformEscale = False,\n",
    "                                  energyCalibrationVal = thisEnCal,\n",
    "                                  energyPeak = 0, energyScale = 600,\n",
    "                                  minEscale = 1, maxEscale=1,\n",
    "                                  deltaTmin=0, deltaTmax=25,\n",
    "                                  minTimeOffset=3,\n",
    "                                  verbosity=False,\n",
    "                                  normalize=True,\n",
    "                                  chop = False,\n",
    "                                  chopThreshold = 50,\n",
    "                                  nPreSamples = 8, nPostSamples = 18,\n",
    "                                  noise=True, noiseLevel=thisNoise,\n",
    "                                  randomizeTailLength=False)\n",
    "\n",
    "    x.append([indexIsland.time, indexIsland.yValues])\n",
    "    y.append(indexIsland.nPulses)\n",
    "    x_delta.append([indexIsland.time, indexIsland.simple_ys])\n",
    "\n",
    "    if (index % 1000 == 0):\n",
    "        print(\"index {0}\".format(index))\n",
    "\n",
    "with open('./template_data/set_7/x_test.data', 'wb') as xFile:\n",
    "    pickle.dump(x, xFile)\n",
    "    xFile.close()\n",
    "\n",
    "with open('./template_data/set_7/x_delta_test.data', 'wb') as x_deltaFile:\n",
    "    pickle.dump(x_delta, x_deltaFile)\n",
    "    x_deltaFile.close()\n",
    "\n",
    "with open('./template_data/set_7/y_test.data', 'wb') as yFile:\n",
    "    pickle.dump(y, yFile)\n",
    "    yFile.close()"
   ]
  },
  {
   "cell_type": "code",
   "execution_count": null,
   "metadata": {},
   "outputs": [],
   "source": []
  }
 ],
 "metadata": {
  "kernelspec": {
   "display_name": "Python 3",
   "language": "python",
   "name": "python3"
  },
  "language_info": {
   "codemirror_mode": {
    "name": "ipython",
    "version": 3
   },
   "file_extension": ".py",
   "mimetype": "text/x-python",
   "name": "python",
   "nbconvert_exporter": "python",
   "pygments_lexer": "ipython3",
   "version": "3.7.5"
  }
 },
 "nbformat": 4,
 "nbformat_minor": 4
}
