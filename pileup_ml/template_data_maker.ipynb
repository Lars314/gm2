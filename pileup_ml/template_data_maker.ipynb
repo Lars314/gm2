{
 "cells": [
  {
   "cell_type": "markdown",
   "metadata": {},
   "source": [
    "#### The purpose of this notebook is to produce train and test data for the ML algorithm using template pulses"
   ]
  },
  {
   "cell_type": "code",
   "execution_count": 1,
   "metadata": {},
   "outputs": [
    {
     "name": "stdout",
     "output_type": "stream",
     "text": [
      "Welcome to JupyROOT 6.18/04\n"
     ]
    }
   ],
   "source": [
    "import ROOT as r\n",
    "import pandas as pd\n",
    "import matplotlib.pyplot as plt\n",
    "import numpy as np\n",
    "import sklearn as skl\n",
    "import pickle\n",
    "import spliland\n",
    "import importlib\n",
    "import random\n",
    "import fclParse\n",
    "from scipy import stats"
   ]
  },
  {
   "cell_type": "code",
   "execution_count": 2,
   "metadata": {},
   "outputs": [],
   "source": [
    "# run this to make printing cleaner\n",
    "np.set_printoptions(precision=None)"
   ]
  },
  {
   "cell_type": "code",
   "execution_count": 3,
   "metadata": {},
   "outputs": [],
   "source": [
    "# Reload stuff in case you make changes!\n",
    "\n",
    "importlib.reload(spliland);"
   ]
  },
  {
   "cell_type": "code",
   "execution_count": 4,
   "metadata": {},
   "outputs": [],
   "source": [
    "f = r.TFile(\"./calotemplate15.root\")\n",
    "noiseDict = fclParse.fclReader(\"gm2pedestals_run3formatRE.fcl\")\n",
    "enCalDict = fclParse.fclReader(\"mipEnergyCalibration_PostDisk_CoincidencNumber_2.fcl\")"
   ]
  },
  {
   "cell_type": "markdown",
   "metadata": {},
   "source": [
    "### Make a bunch of islands for set_4, use different minTimeOffset values for each"
   ]
  },
  {
   "cell_type": "code",
   "execution_count": 7,
   "metadata": {},
   "outputs": [
    {
     "name": "stdout",
     "output_type": "stream",
     "text": [
      "index 0\n",
      "index 10000\n",
      "index 20000\n",
      "index 30000\n",
      "index 40000\n",
      "index 50000\n",
      "index 60000\n",
      "index 70000\n",
      "index 80000\n",
      "index 90000\n",
      "index 100000\n",
      "index 110000\n",
      "index 120000\n",
      "index 130000\n",
      "index 140000\n",
      "index 150000\n",
      "index 160000\n",
      "index 170000\n",
      "index 180000\n",
      "index 190000\n",
      "index 200000\n",
      "index 210000\n",
      "index 220000\n",
      "index 230000\n",
      "index 240000\n",
      "index 250000\n",
      "index 260000\n",
      "index 270000\n",
      "index 280000\n",
      "index 290000\n",
      "index 300000\n",
      "index 310000\n",
      "index 320000\n",
      "index 330000\n",
      "index 340000\n",
      "index 350000\n",
      "index 360000\n",
      "index 370000\n",
      "index 380000\n",
      "index 390000\n",
      "index 400000\n",
      "index 410000\n",
      "index 420000\n",
      "index 430000\n",
      "index 440000\n",
      "index 450000\n",
      "index 460000\n",
      "index 470000\n",
      "index 480000\n",
      "index 490000\n",
      "index 500000\n",
      "index 510000\n",
      "index 520000\n",
      "index 530000\n",
      "index 540000\n",
      "index 550000\n",
      "index 560000\n",
      "index 570000\n",
      "index 580000\n",
      "index 590000\n",
      "index 600000\n"
     ]
    }
   ],
   "source": [
    "nIslands = 600000\n",
    "\n",
    "#for minTime in np.linspace(0.0, 4.5, num=10):\n",
    "#\n",
    "#    if(minTime < 1):\n",
    "#        name = '0' + str(int(minTime*10))\n",
    "#    else:\n",
    "#        name = str(int(minTime*10))\n",
    "#\n",
    "x = []\n",
    "y = []\n",
    "\n",
    "for index in range(0, nIslands+1):\n",
    "    xtalNum = str(np.random.randint(low=0, high=54))\n",
    "    thisNoise = noiseDict['pedestalConstantsLaserRun3']['calo15']['xtal' + xtalNum]['noiseLevel']\n",
    "    thisEnCal = enCalDict['absolute_calibration_constants']['calo15']['xtal' + xtalNum]\n",
    "\n",
    "    indexSpline = spliland.Spline(f.Get(\"masterSpline_xtal\" + xtalNum), xtalNum, 15)\n",
    "    indexIsland = spliland.Island(referenceSpline=indexSpline,\n",
    "                                  minPulses = 1, maxPulses = 6,\n",
    "                                  useUniformEscale = False,\n",
    "                                  energyCalibrationVal = thisEnCal,\n",
    "                                  energyPeak = 0, energyScale = 600,\n",
    "                                  minEscale = 1, maxEscale=1,\n",
    "                                  deltaTmin=0, deltaTmax=25,\n",
    "                                  minTimeOffset=0,\n",
    "                                  verbosity=False,\n",
    "                                  normalize=True,\n",
    "                                  chop = False,\n",
    "                                  chopThreshold = 50,\n",
    "                                  nPreSamples = 8, nPostSamples = 18,\n",
    "                                  noise=True, noiseLevel=thisNoise,\n",
    "                                  randomizeTailLength=False)\n",
    "\n",
    "    x.append([indexIsland.time, indexIsland.yValues])\n",
    "    y.append(indexIsland.nPulses)\n",
    "\n",
    "    if (index % 10000 == 0):\n",
    "        print(\"index {0}\".format(index))\n",
    "\n",
    "with open('./template_data/set_5/x_train.data', 'wb') as xFile:\n",
    "    pickle.dump(x, xFile)\n",
    "    xFile.close()\n",
    "with open('./template_data/set_5/y_train.data', 'wb') as yFile:\n",
    "    pickle.dump(y, yFile)\n",
    "    yFile.close()"
   ]
  },
  {
   "cell_type": "code",
   "execution_count": null,
   "metadata": {},
   "outputs": [],
   "source": []
  }
 ],
 "metadata": {
  "kernelspec": {
   "display_name": "Python 3",
   "language": "python",
   "name": "python3"
  },
  "language_info": {
   "codemirror_mode": {
    "name": "ipython",
    "version": 3
   },
   "file_extension": ".py",
   "mimetype": "text/x-python",
   "name": "python",
   "nbconvert_exporter": "python",
   "pygments_lexer": "ipython3",
   "version": "3.7.5"
  }
 },
 "nbformat": 4,
 "nbformat_minor": 4
}
