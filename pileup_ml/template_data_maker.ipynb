{
 "cells": [
  {
   "cell_type": "markdown",
   "metadata": {},
   "source": [
    "#### The purpose of this notebook is to produce train and test data for the ML algorithm using template pulses"
   ]
  },
  {
   "cell_type": "code",
   "execution_count": 2,
   "metadata": {},
   "outputs": [
    {
     "name": "stdout",
     "output_type": "stream",
     "text": [
      "Welcome to JupyROOT 6.18/04\n"
     ]
    }
   ],
   "source": [
    "import ROOT as r\n",
    "import pandas as pd\n",
    "import matplotlib.pyplot as plt\n",
    "import numpy as np\n",
    "import sklearn as skl\n",
    "import pickle\n",
    "import spliland\n",
    "import importlib\n",
    "import random"
   ]
  },
  {
   "cell_type": "code",
   "execution_count": 3,
   "metadata": {},
   "outputs": [],
   "source": [
    "# run this to make printing cleaner\n",
    "np.set_printoptions(precision=None)"
   ]
  },
  {
   "cell_type": "code",
   "execution_count": 4,
   "metadata": {},
   "outputs": [],
   "source": [
    "# Reload stuff in case you make changes!\n",
    "\n",
    "importlib.reload(spliland);"
   ]
  },
  {
   "cell_type": "code",
   "execution_count": 5,
   "metadata": {},
   "outputs": [],
   "source": [
    "f = r.TFile(\"./calotemplate15.root\")\n",
    "spline0 = spliland.Spline(f.Get(\"masterSpline_xtal0\"))"
   ]
  },
  {
   "cell_type": "markdown",
   "metadata": {},
   "source": [
    "### Make a bunch of islands for set_4, use different minTimeOffset values for each"
   ]
  },
  {
   "cell_type": "code",
   "execution_count": 6,
   "metadata": {},
   "outputs": [
    {
     "name": "stdout",
     "output_type": "stream",
     "text": [
      "minTime 00 index 0\n",
      "minTime 00 index 10000\n",
      "minTime 00 index 20000\n",
      "minTime 00 index 30000\n",
      "minTime 00 index 40000\n",
      "minTime 00 index 50000\n",
      "minTime 00 index 60000\n",
      "minTime 00 index 70000\n",
      "minTime 00 index 80000\n",
      "minTime 00 index 90000\n",
      "minTime 00 index 100000\n",
      "minTime 00 index 110000\n",
      "minTime 00 index 120000\n",
      "minTime 00 index 130000\n",
      "minTime 00 index 140000\n",
      "minTime 00 index 150000\n",
      "minTime 00 index 160000\n",
      "minTime 00 index 170000\n",
      "minTime 00 index 180000\n",
      "minTime 00 index 190000\n",
      "minTime 00 index 200000\n",
      "minTime 00 index 210000\n",
      "minTime 00 index 220000\n",
      "minTime 00 index 230000\n",
      "minTime 00 index 240000\n",
      "minTime 00 index 250000\n"
     ]
    },
    {
     "ename": "KeyboardInterrupt",
     "evalue": "",
     "output_type": "error",
     "traceback": [
      "\u001b[0;31m---------------------------------------------------------------------------\u001b[0m",
      "\u001b[0;31mKeyboardInterrupt\u001b[0m                         Traceback (most recent call last)",
      "\u001b[0;32m<ipython-input-6-8fad7fcdd121>\u001b[0m in \u001b[0;36m<module>\u001b[0;34m\u001b[0m\n\u001b[1;32m     13\u001b[0m     \u001b[0;32mfor\u001b[0m \u001b[0mindex\u001b[0m \u001b[0;32min\u001b[0m \u001b[0mrange\u001b[0m\u001b[0;34m(\u001b[0m\u001b[0;36m0\u001b[0m\u001b[0;34m,\u001b[0m \u001b[0mnIslands\u001b[0m\u001b[0;34m+\u001b[0m\u001b[0;36m1\u001b[0m\u001b[0;34m)\u001b[0m\u001b[0;34m:\u001b[0m\u001b[0;34m\u001b[0m\u001b[0;34m\u001b[0m\u001b[0m\n\u001b[1;32m     14\u001b[0m         \u001b[0msplineNum\u001b[0m \u001b[0;34m=\u001b[0m \u001b[0mnp\u001b[0m\u001b[0;34m.\u001b[0m\u001b[0mrandom\u001b[0m\u001b[0;34m.\u001b[0m\u001b[0mrandint\u001b[0m\u001b[0;34m(\u001b[0m\u001b[0mlow\u001b[0m\u001b[0;34m=\u001b[0m\u001b[0;36m0\u001b[0m\u001b[0;34m,\u001b[0m \u001b[0mhigh\u001b[0m\u001b[0;34m=\u001b[0m\u001b[0;36m54\u001b[0m\u001b[0;34m)\u001b[0m\u001b[0;34m\u001b[0m\u001b[0;34m\u001b[0m\u001b[0m\n\u001b[0;32m---> 15\u001b[0;31m         \u001b[0mindexSpline\u001b[0m \u001b[0;34m=\u001b[0m \u001b[0mspliland\u001b[0m\u001b[0;34m.\u001b[0m\u001b[0mSpline\u001b[0m\u001b[0;34m(\u001b[0m\u001b[0mf\u001b[0m\u001b[0;34m.\u001b[0m\u001b[0mGet\u001b[0m\u001b[0;34m(\u001b[0m\u001b[0;34m\"masterSpline_xtal\"\u001b[0m \u001b[0;34m+\u001b[0m \u001b[0mstr\u001b[0m\u001b[0;34m(\u001b[0m\u001b[0msplineNum\u001b[0m\u001b[0;34m)\u001b[0m\u001b[0;34m)\u001b[0m\u001b[0;34m)\u001b[0m\u001b[0;34m\u001b[0m\u001b[0;34m\u001b[0m\u001b[0m\n\u001b[0m\u001b[1;32m     16\u001b[0m         indexIsland = spliland.Island(referenceSpline=indexSpline,\n\u001b[1;32m     17\u001b[0m                                       \u001b[0mminPulses\u001b[0m \u001b[0;34m=\u001b[0m \u001b[0;36m0\u001b[0m\u001b[0;34m,\u001b[0m \u001b[0mmaxPulses\u001b[0m \u001b[0;34m=\u001b[0m \u001b[0;36m4\u001b[0m\u001b[0;34m,\u001b[0m\u001b[0;34m\u001b[0m\u001b[0;34m\u001b[0m\u001b[0m\n",
      "\u001b[0;32m~/g-2/pileup_ml/spliland.py\u001b[0m in \u001b[0;36m__init__\u001b[0;34m(self, rSpline)\u001b[0m\n\u001b[1;32m     38\u001b[0m \u001b[0;34m\u001b[0m\u001b[0m\n\u001b[1;32m     39\u001b[0m         \u001b[0;32mfor\u001b[0m \u001b[0mi\u001b[0m \u001b[0;32min\u001b[0m \u001b[0mnp\u001b[0m\u001b[0;34m.\u001b[0m\u001b[0mlinspace\u001b[0m\u001b[0;34m(\u001b[0m\u001b[0mrSpline\u001b[0m\u001b[0;34m.\u001b[0m\u001b[0mGetXmin\u001b[0m\u001b[0;34m(\u001b[0m\u001b[0;34m)\u001b[0m\u001b[0;34m,\u001b[0m \u001b[0mrSpline\u001b[0m\u001b[0;34m.\u001b[0m\u001b[0mGetXmax\u001b[0m\u001b[0;34m(\u001b[0m\u001b[0;34m)\u001b[0m\u001b[0;34m,\u001b[0m \u001b[0mrSpline\u001b[0m\u001b[0;34m.\u001b[0m\u001b[0mGetNpx\u001b[0m\u001b[0;34m(\u001b[0m\u001b[0;34m)\u001b[0m\u001b[0;34m)\u001b[0m\u001b[0;34m:\u001b[0m\u001b[0;34m\u001b[0m\u001b[0;34m\u001b[0m\u001b[0m\n\u001b[0;32m---> 40\u001b[0;31m             \u001b[0mspline\u001b[0m\u001b[0;34m.\u001b[0m\u001b[0mappend\u001b[0m\u001b[0;34m(\u001b[0m\u001b[0mrSpline\u001b[0m\u001b[0;34m.\u001b[0m\u001b[0mEval\u001b[0m\u001b[0;34m(\u001b[0m\u001b[0mi\u001b[0m\u001b[0;34m)\u001b[0m\u001b[0;34m)\u001b[0m\u001b[0;34m\u001b[0m\u001b[0;34m\u001b[0m\u001b[0m\n\u001b[0m\u001b[1;32m     41\u001b[0m             \u001b[0mtimes\u001b[0m\u001b[0;34m.\u001b[0m\u001b[0mappend\u001b[0m\u001b[0;34m(\u001b[0m\u001b[0mi\u001b[0m\u001b[0;34m)\u001b[0m\u001b[0;34m\u001b[0m\u001b[0;34m\u001b[0m\u001b[0m\n\u001b[1;32m     42\u001b[0m \u001b[0;34m\u001b[0m\u001b[0m\n",
      "\u001b[0;31mKeyboardInterrupt\u001b[0m: "
     ]
    }
   ],
   "source": [
    "nIslands = 500000\n",
    "\n",
    "for minTime in np.linspace(0.0, 4.5, num=10):\n",
    "\n",
    "    if(minTime < 1):\n",
    "        name = '0' + str(int(minTime*10))\n",
    "    else:\n",
    "        name = str(int(minTime*10))\n",
    "\n",
    "    x = []\n",
    "    y = []\n",
    "\n",
    "    for index in range(0, nIslands+1):\n",
    "        splineNum = np.random.randint(low=0, high=54)\n",
    "        indexSpline = spliland.Spline(f.Get(\"masterSpline_xtal\" + str(splineNum)))\n",
    "        indexIsland = spliland.Island(referenceSpline=indexSpline,\n",
    "                                      minPulses = 0, maxPulses = 4,\n",
    "                                      minEscale = 1, maxEscale=10,\n",
    "                                      deltaTmin = 0, deltaTmax = 25,\n",
    "                                      minTimeOffset = minTime,\n",
    "                                      gainSag = None,\n",
    "                                      verbosity = False,\n",
    "                                      normalize = True,\n",
    "                                      noise = True, noiseLevel = 0.001,\n",
    "                                      nTailSamples = 150,\n",
    "                                      randomizeTailLength = False,\n",
    "                                      samplingRateArtificial = 1.25)\n",
    "\n",
    "        x.append([indexIsland.time, indexIsland.energy])\n",
    "        y.append(indexIsland.nPulses)\n",
    "        \n",
    "        if (index % 10000 == 0):\n",
    "            print(\"minTime {0} index {1}\".format(name, index))\n",
    "\n",
    "    with open('./template_data/set_4/x_' + name + '.data', 'wb') as xFile:\n",
    "        pickle.dump(x, xFile)\n",
    "        xFile.close()\n",
    "    with open('./template_data/set_4/y_' + name + '.data', 'wb') as yFile:\n",
    "        pickle.dump(y, yFile)\n",
    "        yFile.close()"
   ]
  },
  {
   "cell_type": "code",
   "execution_count": null,
   "metadata": {},
   "outputs": [],
   "source": []
  }
 ],
 "metadata": {
  "kernelspec": {
   "display_name": "Python 3",
   "language": "python",
   "name": "python3"
  },
  "language_info": {
   "codemirror_mode": {
    "name": "ipython",
    "version": 3
   },
   "file_extension": ".py",
   "mimetype": "text/x-python",
   "name": "python",
   "nbconvert_exporter": "python",
   "pygments_lexer": "ipython3",
   "version": "3.7.5"
  }
 },
 "nbformat": 4,
 "nbformat_minor": 4
}
