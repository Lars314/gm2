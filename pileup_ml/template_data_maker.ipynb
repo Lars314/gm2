{
 "cells": [
  {
   "cell_type": "markdown",
   "metadata": {},
   "source": [
    "#### The purpose of this notebook is to produce train and test data for the ML algorithm using template pulses"
   ]
  },
  {
   "cell_type": "markdown",
   "metadata": {},
   "source": [
    "### Setup"
   ]
  },
  {
   "cell_type": "code",
   "execution_count": 1,
   "metadata": {},
   "outputs": [
    {
     "name": "stdout",
     "output_type": "stream",
     "text": [
      "Welcome to JupyROOT 6.18/04\n"
     ]
    }
   ],
   "source": [
    "import ROOT as r\n",
    "import pandas as pd\n",
    "import matplotlib.pyplot as plt\n",
    "import numpy as np\n",
    "import sklearn as skl\n",
    "import pickle"
   ]
  },
  {
   "cell_type": "code",
   "execution_count": 2,
   "metadata": {},
   "outputs": [],
   "source": [
    "# run this to make printing cleaner\n",
    "np.set_printoptions(precision=None)"
   ]
  },
  {
   "cell_type": "code",
   "execution_count": 3,
   "metadata": {},
   "outputs": [],
   "source": [
    "# set a seed if you want to make things repeatable\n",
    "np.random.seed(420)"
   ]
  },
  {
   "cell_type": "markdown",
   "metadata": {},
   "source": [
    "### Definitions"
   ]
  },
  {
   "cell_type": "code",
   "execution_count": 4,
   "metadata": {},
   "outputs": [],
   "source": [
    "class Spline:\n",
    "    \"\"\"\n",
    "    Take a root spline and make a cleaner object with two np arrays\n",
    "    \"\"\"\n",
    "    def __init__(self, rSpline):\n",
    "        spline = []\n",
    "        times = []\n",
    "        \n",
    "        for i in np.linspace(rSpline.GetXmin(), rSpline.GetXmax(), rSpline.GetNpx()):\n",
    "            spline.append(rSpline.Eval(i))\n",
    "            times.append(i)\n",
    "\n",
    "        self.spline = np.array(spline)\n",
    "        self.times = np.array(times)\n",
    "        \n",
    "        self.samplingRate = times[2] - times[1]\n",
    "        \n",
    "    def peakTime(self):\n",
    "        index = np.argmax(self.spline)\n",
    "        return(self.times[index])"
   ]
  },
  {
   "cell_type": "code",
   "execution_count": 5,
   "metadata": {},
   "outputs": [],
   "source": [
    "class Island:\n",
    "    def __init__(self, nPulses=None, pulseEnergies=[], pulseTimes=[], noise=None, time=[], energy=[]):\n",
    "        \"\"\"\n",
    "        nPulses: int, the number of pulses in this island\n",
    "        pulseEnegies: np.array, the relative energies of each pulse\n",
    "        pulseTimes: np.array, the time offset of each pulse\n",
    "        noise: boolean, artificial noise off->false, on->true\n",
    "        time: np.array, the time axis values\n",
    "        energy: np.array, the energy axis values\n",
    "        \"\"\"\n",
    "        \n",
    "        self.nPulses = nPulses\n",
    "        self.pulseEnergies = pulseEnergies\n",
    "        self.pulseTimes = pulseTimes\n",
    "        self.noise = noise\n",
    "        self.time = time\n",
    "        self.energy = energy\n",
    "        \n",
    "    def makeDF(self):\n",
    "        d = {'time': self.time,\n",
    "             'energy': self.energy}\n",
    "        df = pd.DataFrame(data = d)\n",
    "        return(df)"
   ]
  },
  {
   "cell_type": "code",
   "execution_count": 6,
   "metadata": {},
   "outputs": [],
   "source": [
    "def buildIsland(referenceSpline,\n",
    "                minPulses = 0, maxPulses = 4,\n",
    "                minEscale = 1, maxEscale=10,\n",
    "                deltaTmin = 0, deltaTmax = 25,\n",
    "                gainSag = None,\n",
    "                verbosity = False,\n",
    "                normalize = True,\n",
    "                noise = False, noiseLevel = 0.001,\n",
    "                nTailSamples = 150, randomizeTailLength = True):\n",
    "    \"\"\"\n",
    "    Sets up a single randomized Island object\n",
    "    \"\"\"\n",
    "    spline = referenceSpline.spline\n",
    "    times = referenceSpline.times\n",
    "    samplingRate = referenceSpline.samplingRate\n",
    "    \n",
    "    # figure out how many pulses there will be\n",
    "    nPulses = np.random.randint(minPulses, maxPulses+1)\n",
    "    if(verbosity): print(nPulses, \"pulses in this island\")\n",
    "             \n",
    "    # randomize the length of the tail samples\n",
    "    if(randomizeTailLength):\n",
    "        nTailSamples = nTailSamples + np.random.randint(-50, 100)\n",
    "        if(verbosity): print(nTailSamples, \"samples in this island\")\n",
    "            \n",
    "    # define the y and t arrays that you see in the plot before filling them\n",
    "    thisIsland = np.append(np.zeros_like(spline), np.zeros(nTailSamples))\n",
    "    # the time array is the original one, plus however much else we want based on nTailSamples\n",
    "    theseTimes = np.append(times, np.array([times[times.size-1] + samplingRate*i for i in range(1, nTailSamples+1)]))\n",
    "    \n",
    "    \n",
    "    # add gaussian noise to each sample\n",
    "    if(noise):\n",
    "        thisIsland += np.random.normal(0, gaussianNoiseLevel, size=thisIsland.size)\n",
    "        \n",
    "    # if nPulses is zero, we already have what we want and can end it here\n",
    "    if(nPulses == 0):\n",
    "        return Island(nPulses=nPulses, noise=noise, time=theseTimes, energy=thisIsland)\n",
    "    \n",
    "    # create the energy scaling values\n",
    "    energyScaleFactors = np.random.uniform(minEscale, maxEscale, size=nPulses)\n",
    "    if(verbosity): print(\"The energy scale factors are: {0}\".format(energyScaleFactors))\n",
    "    \n",
    "    # create the time offsets\n",
    "    timeOffsets = np.random.uniform(deltaTmin, deltaTmax, size=nPulses)\n",
    "    if(verbosity): print(\"The time offsets are: {0}\".format(timeOffsets))\n",
    "\n",
    "    # put the pulses together into thisIsland\n",
    "    for pulseIndex, deltaT in enumerate(timeOffsets):\n",
    "        sample_offset = int(np.floor(deltaT))\n",
    "        splineI = np.interp(times+deltaT-sample_offset, times, spline) * energyScaleFactors[pulseIndex]\n",
    "        thisIsland[sample_offset:sample_offset + len(splineI)] += splineI\n",
    "        \n",
    "    # normalize if needed:\n",
    "    if(normalize):\n",
    "        thisIsland /= np.sum(thisIsland)\n",
    "        \n",
    "    # now we are good to go\n",
    "    return Island(nPulses=nPulses, pulseEnergies=energyScaleFactors, pulseTimes=timeOffsets,\n",
    "                  noise=noise, time=theseTimes, energy=thisIsland)"
   ]
  },
  {
   "cell_type": "markdown",
   "metadata": {},
   "source": [
    "### Make a single island for testing"
   ]
  },
  {
   "cell_type": "code",
   "execution_count": 23,
   "metadata": {},
   "outputs": [
    {
     "name": "stdout",
     "output_type": "stream",
     "text": [
      "3 pulses in this island\n",
      "The energy scale factors are: [2.67202367 6.96252498 2.56645636]\n",
      "The time offsets are: [22.11752598 20.33795238  5.22748727]\n"
     ]
    },
    {
     "data": {
      "image/png": "[encoded data removed]",
      "text/plain": [
       "<Figure size 360x360 with 1 Axes>"
      ]
     },
     "metadata": {
      "needs_background": "light"
     },
     "output_type": "display_data"
    }
   ],
   "source": [
    "f = r.TFile(\"./calotemplate15.root\")\n",
    "spline0 = Spline(f.Get(\"masterSpline_xtal0\"))\n",
    "\n",
    "testIsland = buildIsland(referenceSpline=spline0,\n",
    "                      verbosity=True, randomizeTailLength=False)\n",
    "\n",
    "fig, ax = plt.subplots(1,1);\n",
    "fig.set_size_inches(5,5);\n",
    "\n",
    "ax.plot(testIsland.time, testIsland.energy);\n",
    "ax.set_xlim(-20, 300);"
   ]
  },
  {
   "cell_type": "markdown",
   "metadata": {},
   "source": [
    "### Make a bunch of islands, and save them to x and y files for our ML"
   ]
  },
  {
   "cell_type": "code",
   "execution_count": 33,
   "metadata": {},
   "outputs": [],
   "source": [
    "nIslands = 100000\n",
    "\n",
    "f = r.TFile(\"./calotemplate15.root\")\n",
    "\n",
    "x = []\n",
    "y = []\n",
    "\n",
    "for index in range(0, nIslands+1):\n",
    "    splineNum = np.random.randint(low=0, high=54)\n",
    "    indexSpline = Spline(f.Get(\"masterSpline_xtal\" + str(splineNum)))\n",
    "    indexIsland = buildIsland(referenceSpline=indexSpline,\n",
    "                              minPulses = 0, maxPulses = 4,\n",
    "                              minEscale = 1, maxEscale=10,\n",
    "                              deltaTmin = 0, deltaTmax = 25,\n",
    "                              gainSag = None,\n",
    "                              verbosity = False,\n",
    "                              normalize = True,\n",
    "                              noise = False, noiseLevel = 0.001,\n",
    "                              nTailSamples = 150, randomizeTailLength = False)\n",
    "    \n",
    "    x.append([indexIsland.time, indexIsland.energy])\n",
    "    y.append(indexIsland.nPulses)\n",
    "    \n",
    "with open('./template_data/set_2/x.data', 'wb') as xFile:\n",
    "    pickle.dump(x, xFile)\n",
    "    xFile.close()\n",
    "with open('./template_data/set_2/y.data', 'wb') as yFile:\n",
    "    pickle.dump(y, yFile)\n",
    "    yFile.close()"
   ]
  },
  {
   "cell_type": "markdown",
   "metadata": {},
   "source": [
    "Just a quick test that we actually got something:"
   ]
  },
  {
   "cell_type": "code",
   "execution_count": 34,
   "metadata": {},
   "outputs": [
    {
     "name": "stdout",
     "output_type": "stream",
     "text": [
      "250\n",
      "250\n",
      "250\n",
      "250\n",
      "250\n",
      "250\n",
      "250\n",
      "250\n",
      "250\n",
      "250\n",
      "250\n",
      "250\n",
      "250\n",
      "250\n",
      "250\n",
      "250\n",
      "250\n",
      "250\n",
      "250\n",
      "250\n",
      "250\n",
      "250\n",
      "250\n",
      "250\n",
      "250\n",
      "250\n",
      "250\n",
      "250\n",
      "250\n",
      "250\n",
      "250\n",
      "250\n",
      "250\n",
      "250\n",
      "250\n",
      "250\n",
      "250\n",
      "250\n",
      "250\n",
      "250\n",
      "250\n",
      "250\n",
      "250\n",
      "250\n",
      "250\n",
      "250\n",
      "250\n",
      "250\n",
      "250\n",
      "250\n",
      "250\n",
      "250\n",
      "250\n",
      "250\n",
      "250\n",
      "250\n",
      "250\n",
      "250\n",
      "250\n",
      "250\n",
      "250\n",
      "250\n",
      "250\n",
      "250\n",
      "250\n",
      "250\n",
      "250\n",
      "250\n",
      "250\n",
      "250\n",
      "250\n",
      "250\n",
      "250\n",
      "250\n",
      "250\n",
      "250\n",
      "250\n",
      "250\n",
      "250\n",
      "250\n",
      "250\n",
      "250\n",
      "250\n",
      "250\n",
      "250\n",
      "250\n",
      "250\n",
      "250\n",
      "250\n",
      "250\n",
      "250\n",
      "250\n",
      "250\n",
      "250\n",
      "250\n",
      "250\n",
      "250\n",
      "250\n",
      "250\n",
      "250\n"
     ]
    }
   ],
   "source": [
    "with open('./template_data/set_2/x.data', 'rb') as xFile:\n",
    "    x = pickle.load(xFile)\n",
    "    for pair in x[:100]:\n",
    "        print(len(pair[0]))\n",
    "    xFile.close()"
   ]
  },
  {
   "cell_type": "code",
   "execution_count": null,
   "metadata": {},
   "outputs": [],
   "source": []
  }
 ],
 "metadata": {
  "kernelspec": {
   "display_name": "Python 3",
   "language": "python",
   "name": "python3"
  },
  "language_info": {
   "codemirror_mode": {
    "name": "ipython",
    "version": 3
   },
   "file_extension": ".py",
   "mimetype": "text/x-python",
   "name": "python",
   "nbconvert_exporter": "python",
   "pygments_lexer": "ipython3",
   "version": "3.7.5"
  }
 },
 "nbformat": 4,
 "nbformat_minor": 4
}
