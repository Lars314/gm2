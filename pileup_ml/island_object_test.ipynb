{
 "cells": [
  {
   "cell_type": "code",
   "execution_count": 1,
   "metadata": {},
   "outputs": [
    {
     "name": "stdout",
     "output_type": "stream",
     "text": [
      "Welcome to JupyROOT 6.18/04\n"
     ]
    }
   ],
   "source": [
    "import ROOT as r\n",
    "import pandas as pd\n",
    "import matplotlib.pyplot as plt\n",
    "import numpy as np\n",
    "import sklearn as skl\n",
    "import pickle\n",
    "import spliland\n",
    "import importlib\n",
    "import random"
   ]
  },
  {
   "cell_type": "code",
   "execution_count": 2,
   "metadata": {},
   "outputs": [],
   "source": [
    "# Reload stuff in case you make changes!\n",
    "\n",
    "importlib.reload(spliland);"
   ]
  },
  {
   "cell_type": "markdown",
   "metadata": {},
   "source": [
    "### Just make and display one island"
   ]
  },
  {
   "cell_type": "code",
   "execution_count": 3,
   "metadata": {},
   "outputs": [],
   "source": [
    "f = r.TFile(\"./calotemplate15.root\")\n",
    "spline0 = spliland.Spline(f.Get(\"masterSpline_xtal0\"))"
   ]
  },
  {
   "cell_type": "code",
   "execution_count": 26,
   "metadata": {},
   "outputs": [
    {
     "name": "stdout",
     "output_type": "stream",
     "text": [
      "4 pulses in this island\n",
      "The energy scale factors are: [8.71030189 5.92936012 2.53431723 3.45242892]\n",
      "The time offsets are: [16.81404017  1.40504065  6.44133887 11.10195736]\n",
      "Sampling this spline with a deltaT of 1.25 ns\n",
      "            \n"
     ]
    },
    {
     "data": {
      "image/png": "[encoded data removed]",
      "text/plain": [
       "<Figure size 360x360 with 1 Axes>"
      ]
     },
     "metadata": {
      "needs_background": "light"
     },
     "output_type": "display_data"
    }
   ],
   "source": [
    "testIsland = spliland.Island(referenceSpline=spline0,\n",
    "                             minPulses = 4, maxPulses = 4,\n",
    "                             deltaTmin=0, deltaTmax=25,\n",
    "                             minTimeOffset=4.5,\n",
    "                             verbosity=True, noise=True,\n",
    "                             randomizeTailLength=False)\n",
    "\n",
    "fig, ax = plt.subplots(1,1);\n",
    "fig.set_size_inches(5,5);\n",
    "\n",
    "ax.plot(testIsland.time, testIsland.energy);\n",
    "ax.set_xlim(-20, 300);\n",
    "plt.savefig('./template_data/set_4/figures/demo_with_sep45.png', bbox_inches='tight')"
   ]
  },
  {
   "cell_type": "markdown",
   "metadata": {},
   "source": [
    "### Make a bunch of islands to make sure it doesn't take a million years to do more than one"
   ]
  },
  {
   "cell_type": "code",
   "execution_count": 96,
   "metadata": {},
   "outputs": [
    {
     "name": "stdout",
     "output_type": "stream",
     "text": [
      "0\n",
      "1000\n",
      "2000\n",
      "3000\n",
      "4000\n",
      "5000\n",
      "6000\n",
      "7000\n",
      "8000\n",
      "9000\n"
     ]
    }
   ],
   "source": [
    "for index in range(0, 10000):\n",
    "    testIsland = spliland.Island(referenceSpline=spline0,\n",
    "                             deltaTmin=0, deltaTmax=25,\n",
    "                             minTimeOffset=4.5,\n",
    "                             verbosity=False, noise=True, randomizeTailLength=False)\n",
    "    if(index % 1000 == 0): print(index)"
   ]
  },
  {
   "cell_type": "code",
   "execution_count": null,
   "metadata": {},
   "outputs": [],
   "source": []
  }
 ],
 "metadata": {
  "kernelspec": {
   "display_name": "Python 3",
   "language": "python",
   "name": "python3"
  },
  "language_info": {
   "codemirror_mode": {
    "name": "ipython",
    "version": 3
   },
   "file_extension": ".py",
   "mimetype": "text/x-python",
   "name": "python",
   "nbconvert_exporter": "python",
   "pygments_lexer": "ipython3",
   "version": "3.7.5"
  }
 },
 "nbformat": 4,
 "nbformat_minor": 4
}
