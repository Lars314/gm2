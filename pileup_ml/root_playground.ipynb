{
 "cells": [
  {
   "cell_type": "code",
   "execution_count": 1,
   "metadata": {},
   "outputs": [
    {
     "name": "stdout",
     "output_type": "stream",
     "text": [
      "Welcome to JupyROOT 6.18/04\n"
     ]
    }
   ],
   "source": [
    "import ROOT as r\n",
    "import pandas as pd\n",
    "import matplotlib.pyplot as plt\n",
    "import numpy as np"
   ]
  },
  {
   "cell_type": "code",
   "execution_count": 2,
   "metadata": {},
   "outputs": [],
   "source": [
    "f = r.TFile(\"./sample_data_4.root\")"
   ]
  },
  {
   "cell_type": "code",
   "execution_count": 3,
   "metadata": {},
   "outputs": [
    {
     "name": "stdout",
     "output_type": "stream",
     "text": [
      "TFile**\t\t./sample_data_4.root\t\n",
      " TFile*\t\t./sample_data_4.root\t\n",
      "  TDirectoryFile*\t\tislandFits1\tislandFits1 (IslandFitDisplayTree) folder\n",
      "   TDirectoryFile*\t\tfits\tfits\n",
      "    KEY: TTree\tfitTree;1\tfitTree\n",
      "   KEY: TDirectoryFile\tsplines;1\tsplines\n",
      "   KEY: TDirectoryFile\tfits;1\tfits\n",
      "  KEY: TDirectoryFile\tislands;1\tislands (CaloIslandAnalyzer) folder\n",
      "  KEY: TDirectoryFile\tislandFits1;1\tislandFits1 (IslandFitDisplayTree) folder\n"
     ]
    }
   ],
   "source": [
    "f.cd(\"islandFits1/fits\")\n",
    "f.ls()"
   ]
  },
  {
   "cell_type": "code",
   "execution_count": 4,
   "metadata": {},
   "outputs": [],
   "source": [
    "tree = f.Get(\"islandFits1/fits/fitTree\")"
   ]
  },
  {
   "cell_type": "code",
   "execution_count": 5,
   "metadata": {},
   "outputs": [
    {
     "name": "stdout",
     "output_type": "stream",
     "text": [
      "******************************************************************************\n",
      "*Tree    :fitTree   : fitTree                                                *\n",
      "*Entries :      422 : Total =          124670 bytes  File  Size =      45482 *\n",
      "*        :          : Tree compression factor =   2.65                       *\n",
      "******************************************************************************\n",
      "*Br    0 :caloNum   : caloNum/I                                              *\n",
      "*Entries :      422 : Total  Size=       2258 bytes  File Size  =        117 *\n",
      "*Baskets :        1 : Basket Size=      32000 bytes  Compression=  15.09     *\n",
      "*............................................................................*\n",
      "*Br    1 :xtalNum   : xtalNum/I                                              *\n",
      "*Entries :      422 : Total  Size=       2258 bytes  File Size  =        591 *\n",
      "*Baskets :        1 : Basket Size=      32000 bytes  Compression=   2.99     *\n",
      "*............................................................................*\n",
      "*Br    2 :fillNum   : fillNum/I                                              *\n",
      "*Entries :      422 : Total  Size=       2258 bytes  File Size  =        284 *\n",
      "*Baskets :        1 : Basket Size=      32000 bytes  Compression=   6.21     *\n",
      "*............................................................................*\n",
      "*Br    3 :subRunNum : subRunNum/I                                            *\n",
      "*Entries :      422 : Total  Size=       2268 bytes  File Size  =        119 *\n",
      "*Baskets :        1 : Basket Size=      32000 bytes  Compression=  14.85     *\n",
      "*............................................................................*\n",
      "*Br    4 :runNum    : runNum/I                                               *\n",
      "*Entries :      422 : Total  Size=       2253 bytes  File Size  =        116 *\n",
      "*Baskets :        1 : Basket Size=      32000 bytes  Compression=  15.21     *\n",
      "*............................................................................*\n",
      "*Br    5 :islandNums : vector<int>                                           *\n",
      "*Entries :      422 : Total  Size=       8193 bytes  File Size  =       1263 *\n",
      "*Baskets :        1 : Basket Size=      32000 bytes  Compression=   6.08     *\n",
      "*............................................................................*\n",
      "*Br    6 :chainedIslandNums : vector<int>                                    *\n",
      "*Entries :      422 : Total  Size=       8228 bytes  File Size  =       1272 *\n",
      "*Baskets :        1 : Basket Size=      32000 bytes  Compression=   6.05     *\n",
      "*............................................................................*\n",
      "*Br    7 :firstSampleNums : vector<int>                                      *\n",
      "*Entries :      422 : Total  Size=       8218 bytes  File Size  =       1503 *\n",
      "*Baskets :        1 : Basket Size=      32000 bytes  Compression=   5.12     *\n",
      "*............................................................................*\n",
      "*Br    8 :islandLengths : vector<int>                                        *\n",
      "*Entries :      422 : Total  Size=       8208 bytes  File Size  =       1198 *\n",
      "*Baskets :        1 : Basket Size=      32000 bytes  Compression=   6.42     *\n",
      "*............................................................................*\n",
      "*Br    9 :chi2      : chi2/D                                                 *\n",
      "*Entries :      422 : Total  Size=       3939 bytes  File Size  =       3302 *\n",
      "*Baskets :        1 : Basket Size=      32000 bytes  Compression=   1.04     *\n",
      "*............................................................................*\n",
      "*Br   10 :pedestal  : pedestal/D                                             *\n",
      "*Entries :      422 : Total  Size=       3959 bytes  File Size  =       3159 *\n",
      "*Baskets :        1 : Basket Size=      32000 bytes  Compression=   1.09     *\n",
      "*............................................................................*\n",
      "*Br   11 :energies  : vector<double>                                         *\n",
      "*Entries :      422 : Total  Size=       9879 bytes  File Size  =       4561 *\n",
      "*Baskets :        1 : Basket Size=      32000 bytes  Compression=   2.06     *\n",
      "*............................................................................*\n",
      "*Br   12 :times     : vector<double>                                         *\n",
      "*Entries :      422 : Total  Size=       9864 bytes  File Size  =       4110 *\n",
      "*Baskets :        1 : Basket Size=      32000 bytes  Compression=   2.28     *\n",
      "*............................................................................*\n",
      "*Br   13 :statuses  : vector<int>                                            *\n",
      "*Entries :      422 : Total  Size=       8187 bytes  File Size  =        877 *\n",
      "*Baskets :        1 : Basket Size=      32000 bytes  Compression=   8.76     *\n",
      "*............................................................................*\n",
      "*Br   14 :trace     : vector<short>                                          *\n",
      "*Entries :      422 : Total  Size=      36489 bytes  File Size  =      20476 *\n",
      "*Baskets :        2 : Basket Size=      32000 bytes  Compression=   1.76     *\n",
      "*............................................................................*\n",
      "*Br   15 :laserHits : vector<short>                                          *\n",
      "*Entries :      422 : Total  Size=       7346 bytes  File Size  =        801 *\n",
      "*Baskets :        1 : Basket Size=      32000 bytes  Compression=   8.54     *\n",
      "*............................................................................*\n"
     ]
    }
   ],
   "source": [
    "tree.Print()"
   ]
  },
  {
   "cell_type": "code",
   "execution_count": 6,
   "metadata": {},
   "outputs": [
    {
     "data": {
      "image/png": "[encoded data removed]",
      "text/plain": [
       "<IPython.core.display.Image object>"
      ]
     },
     "metadata": {},
     "output_type": "display_data"
    }
   ],
   "source": [
    "c = r.TCanvas()\n",
    "tree.Draw(\"times\", \"\", \"colz\")\n",
    "c.SetLogy()\n",
    "c.Draw()"
   ]
  },
  {
   "cell_type": "code",
   "execution_count": 29,
   "metadata": {},
   "outputs": [
    {
     "data": {
      "image/png": "[encoded data removed]",
      "text/plain": [
       "<IPython.core.display.Image object>"
      ]
     },
     "metadata": {},
     "output_type": "display_data"
    }
   ],
   "source": [
    "c = r.TCanvas()\n",
    "tree.Draw(\"times:laserHits\", \"\", \"colz\")\n",
    "c.Draw()"
   ]
  },
  {
   "cell_type": "code",
   "execution_count": 30,
   "metadata": {},
   "outputs": [
    {
     "data": {
      "image/png": "[encoded data removed]",
      "text/plain": [
       "<IPython.core.display.Image object>"
      ]
     },
     "metadata": {},
     "output_type": "display_data"
    }
   ],
   "source": [
    "c = r.TCanvas()\n",
    "tree.Draw(\"laserHits:@laserHits.size()\", \"\", \"colz\")\n",
    "c.Draw()"
   ]
  },
  {
   "cell_type": "code",
   "execution_count": 31,
   "metadata": {},
   "outputs": [
    {
     "data": {
      "text/plain": [
       "276156"
      ]
     },
     "execution_count": 31,
     "metadata": {},
     "output_type": "execute_result"
    }
   ],
   "source": [
    "tree.BuildIndex(\"laserHits\")"
   ]
  },
  {
   "cell_type": "code",
   "execution_count": 38,
   "metadata": {},
   "outputs": [],
   "source": [
    "bruh = []\n",
    "for i in range(0, 276156):\n",
    "    bruh.append(tree.GetEntryWithIndex(i))"
   ]
  },
  {
   "cell_type": "code",
   "execution_count": 43,
   "metadata": {},
   "outputs": [
    {
     "data": {
      "text/plain": [
       "(array([2.76154e+05, 0.00000e+00, 0.00000e+00, 0.00000e+00, 0.00000e+00,\n",
       "        1.00000e+00, 0.00000e+00, 0.00000e+00, 0.00000e+00, 1.00000e+00]),\n",
       " array([ -1. ,  23.5,  48. ,  72.5,  97. , 121.5, 146. , 170.5, 195. ,\n",
       "        219.5, 244. ]),\n",
       " <a list of 10 Patch objects>)"
      ]
     },
     "execution_count": 43,
     "metadata": {},
     "output_type": "execute_result"
    },
    {
     "data": {
      "image/png": "[encoded data removed]",
      "text/plain": [
       "<Figure size 504x504 with 1 Axes>"
      ]
     },
     "metadata": {
      "needs_background": "light"
     },
     "output_type": "display_data"
    }
   ],
   "source": [
    "fig, ax = plt.subplots(1,1)\n",
    "fig.set_size_inches(7,7)\n",
    "\n",
    "ax.hist(bruh)"
   ]
  },
  {
   "cell_type": "markdown",
   "metadata": {},
   "source": [
    "### Haha yes uproot exists"
   ]
  },
  {
   "cell_type": "code",
   "execution_count": 2,
   "metadata": {},
   "outputs": [],
   "source": [
    "import uproot"
   ]
  },
  {
   "cell_type": "code",
   "execution_count": 3,
   "metadata": {},
   "outputs": [],
   "source": [
    "file = uproot.open(\"sample_data_4.root\")\n",
    "tree = file[\"islandFits1/fits/fitTree\"]"
   ]
  },
  {
   "cell_type": "code",
   "execution_count": 4,
   "metadata": {},
   "outputs": [
    {
     "data": {
      "text/plain": [
       "[b'caloNum',\n",
       " b'xtalNum',\n",
       " b'fillNum',\n",
       " b'subRunNum',\n",
       " b'runNum',\n",
       " b'islandNums',\n",
       " b'chainedIslandNums',\n",
       " b'firstSampleNums',\n",
       " b'islandLengths',\n",
       " b'chi2',\n",
       " b'pedestal',\n",
       " b'energies',\n",
       " b'times',\n",
       " b'statuses',\n",
       " b'trace',\n",
       " b'laserHits']"
      ]
     },
     "execution_count": 4,
     "metadata": {},
     "output_type": "execute_result"
    }
   ],
   "source": [
    "tree.keys()"
   ]
  },
  {
   "cell_type": "code",
   "execution_count": 5,
   "metadata": {},
   "outputs": [
    {
     "name": "stdout",
     "output_type": "stream",
     "text": [
      "Looking at energy...\n",
      "Found bad index 6 with 2 pulses\n"
     ]
    }
   ],
   "source": [
    "traces = tree['trace'].array()\n",
    "energies = tree['energies'].array()\n",
    "times = tree['times'].array()\n",
    "pedestals = tree['pedestal'].array()\n",
    "\n",
    "bruh_indices = []\n",
    "print(\"Looking at energy...\")\n",
    "i = 0\n",
    "for energy in energies:\n",
    "    if(len(energy) != 1):\n",
    "        print(\"Found bad index {0} with {1} pulses\".format(i, len(energy)))\n",
    "        bruh_indices.append(i)\n",
    "    i += 1"
   ]
  },
  {
   "cell_type": "code",
   "execution_count": 6,
   "metadata": {},
   "outputs": [],
   "source": [
    "df = pd.DataFrame(columns=('time','energy','pedestal','trace'))\n",
    "i = 0\n",
    "for j in range(0, len(energies)):\n",
    "    if(j in bruh_indices):\n",
    "        continue\n",
    "    \n",
    "    this_energy = float(energies[j])\n",
    "    this_trace = np.array(traces[j])\n",
    "    this_time = float(times[j])\n",
    "    this_pedestal = float(pedestals[j])\n",
    "    df.loc[i] = [this_time, this_energy,this_pedestal, this_trace]\n",
    "    i += 1"
   ]
  },
  {
   "cell_type": "code",
   "execution_count": 7,
   "metadata": {},
   "outputs": [
    {
     "data": {
      "text/html": [
       "<div>\n",
       "<style scoped>\n",
       "    .dataframe tbody tr th:only-of-type {\n",
       "        vertical-align: middle;\n",
       "    }\n",
       "\n",
       "    .dataframe tbody tr th {\n",
       "        vertical-align: top;\n",
       "    }\n",
       "\n",
       "    .dataframe thead th {\n",
       "        text-align: right;\n",
       "    }\n",
       "</style>\n",
       "<table border=\"1\" class=\"dataframe\">\n",
       "  <thead>\n",
       "    <tr style=\"text-align: right;\">\n",
       "      <th></th>\n",
       "      <th>time</th>\n",
       "      <th>energy</th>\n",
       "      <th>pedestal</th>\n",
       "      <th>trace</th>\n",
       "    </tr>\n",
       "  </thead>\n",
       "  <tbody>\n",
       "    <tr>\n",
       "      <th>0</th>\n",
       "      <td>327055.691186</td>\n",
       "      <td>190.713001</td>\n",
       "      <td>-1764.531319</td>\n",
       "      <td>[-1764, -1767, -1761, -1770, -1765, -1763, -17...</td>\n",
       "    </tr>\n",
       "    <tr>\n",
       "      <th>1</th>\n",
       "      <td>327055.387862</td>\n",
       "      <td>87.732285</td>\n",
       "      <td>-1797.883538</td>\n",
       "      <td>[-1798, -1795, -1800, -1799, -1802, -1796, -18...</td>\n",
       "    </tr>\n",
       "    <tr>\n",
       "      <th>2</th>\n",
       "      <td>327056.264074</td>\n",
       "      <td>2898.905221</td>\n",
       "      <td>-1798.199782</td>\n",
       "      <td>[-1796, -1795, -1799, -1798, -1802, -1797, -17...</td>\n",
       "    </tr>\n",
       "    <tr>\n",
       "      <th>3</th>\n",
       "      <td>327056.588284</td>\n",
       "      <td>348.623868</td>\n",
       "      <td>-1765.523640</td>\n",
       "      <td>[-1765, -1764, -1778, -1762, -1767, -1758, -17...</td>\n",
       "    </tr>\n",
       "    <tr>\n",
       "      <th>4</th>\n",
       "      <td>406465.561623</td>\n",
       "      <td>81.521892</td>\n",
       "      <td>-1794.700957</td>\n",
       "      <td>[-1783, -1797, -1793, -1800, -1793, -1799, -17...</td>\n",
       "    </tr>\n",
       "  </tbody>\n",
       "</table>\n",
       "</div>"
      ],
      "text/plain": [
       "            time       energy     pedestal  \\\n",
       "0  327055.691186   190.713001 -1764.531319   \n",
       "1  327055.387862    87.732285 -1797.883538   \n",
       "2  327056.264074  2898.905221 -1798.199782   \n",
       "3  327056.588284   348.623868 -1765.523640   \n",
       "4  406465.561623    81.521892 -1794.700957   \n",
       "\n",
       "                                               trace  \n",
       "0  [-1764, -1767, -1761, -1770, -1765, -1763, -17...  \n",
       "1  [-1798, -1795, -1800, -1799, -1802, -1796, -18...  \n",
       "2  [-1796, -1795, -1799, -1798, -1802, -1797, -17...  \n",
       "3  [-1765, -1764, -1778, -1762, -1767, -1758, -17...  \n",
       "4  [-1783, -1797, -1793, -1800, -1793, -1799, -17...  "
      ]
     },
     "execution_count": 7,
     "metadata": {},
     "output_type": "execute_result"
    }
   ],
   "source": [
    "df.head()"
   ]
  },
  {
   "cell_type": "code",
   "execution_count": 15,
   "metadata": {},
   "outputs": [],
   "source": [
    "df = pd.read_csv(\"sample_data_4.csv\")"
   ]
  },
  {
   "cell_type": "code",
   "execution_count": 17,
   "metadata": {},
   "outputs": [
    {
     "data": {
      "text/plain": [
       "<matplotlib.legend.Legend at 0x7f02a8ccb850>"
      ]
     },
     "execution_count": 17,
     "metadata": {},
     "output_type": "execute_result"
    },
    {
     "data": {
      "image/png": "[encoded data removed]",
      "text/plain": [
       "<Figure size 432x288 with 1 Axes>"
      ]
     },
     "metadata": {
      "needs_background": "light"
     },
     "output_type": "display_data"
    }
   ],
   "source": [
    "fig, ax = plt.subplots(1,1)\n",
    "\n",
    "index = np.random.randint(low=0, high=420)\n",
    "\n",
    "stuff = df.loc[index]\n",
    "thing = \\\n",
    "\"time: {0:.0f} \\n\\\n",
    "energy: {1:.0f} \\n\\\n",
    "pedestal: {2:.0f} \\\n",
    "\".format(stuff['time'], stuff['energy'], stuff['pedestal'])\n",
    "\n",
    "ax.plot(stuff['trace'], label=thing)\n",
    "ax.legend(fontsize='large')"
   ]
  },
  {
   "cell_type": "code",
   "execution_count": 113,
   "metadata": {},
   "outputs": [],
   "source": [
    "smh = np.ndarray(shape=(2,3))"
   ]
  },
  {
   "cell_type": "code",
   "execution_count": 114,
   "metadata": {},
   "outputs": [
    {
     "data": {
      "text/plain": [
       "array([[ 0., 30.,  0.],\n",
       "       [15.,  0.,  0.]])"
      ]
     },
     "execution_count": 114,
     "metadata": {},
     "output_type": "execute_result"
    }
   ],
   "source": [
    "smh"
   ]
  },
  {
   "cell_type": "code",
   "execution_count": 20,
   "metadata": {},
   "outputs": [],
   "source": [
    "energy_distribution = df['energy']"
   ]
  },
  {
   "cell_type": "code",
   "execution_count": 24,
   "metadata": {},
   "outputs": [
    {
     "data": {
      "text/plain": [
       "87.7322852709117"
      ]
     },
     "execution_count": 24,
     "metadata": {},
     "output_type": "execute_result"
    }
   ],
   "source": [
    "df['energy'][1]"
   ]
  },
  {
   "cell_type": "code",
   "execution_count": 2,
   "metadata": {},
   "outputs": [],
   "source": [
    "import calospliland as csi\n",
    "import importlib\n",
    "import ROOT as r\n",
    "import pandas as pd\n",
    "import matplotlib.pyplot as plt\n",
    "import numpy as np"
   ]
  },
  {
   "cell_type": "code",
   "execution_count": 98,
   "metadata": {},
   "outputs": [],
   "source": [
    "# Reload stuff in case you make changes!\n",
    "importlib.reload(csi);"
   ]
  },
  {
   "cell_type": "code",
   "execution_count": 3,
   "metadata": {},
   "outputs": [
    {
     "data": {
      "image/png": "[encoded data removed]",
      "text/plain": [
       "<Figure size 648x432 with 1 Axes>"
      ]
     },
     "metadata": {
      "needs_background": "light"
     },
     "output_type": "display_data"
    }
   ],
   "source": [
    "calo = csi.Calorimeter(caloNum=1)\n",
    "df = pd.read_csv(\"sample_data_4.csv\")\n",
    "calo.draw(legend=False)"
   ]
  },
  {
   "cell_type": "code",
   "execution_count": 14,
   "metadata": {},
   "outputs": [
    {
     "name": "stdout",
     "output_type": "stream",
     "text": [
      "p1 x: 4.79 \n",
      "p1 y: 1.15\n",
      "p1 energy: 195.43 MeV\n",
      "p1 time: 20.09 ns\n"
     ]
    },
    {
     "data": {
      "image/png": "[encoded data removed]",
      "text/plain": [
       "<Figure size 648x432 with 1 Axes>"
      ]
     },
     "metadata": {
      "needs_background": "light"
     },
     "output_type": "display_data"
    }
   ],
   "source": [
    "p1 = csi.Particle(e_df=df['energy'])\n",
    "print(\"p1 x: {0:.2f} \\np1 y: {1:.2f}\".format(p1.x, p1.y) + \n",
    "      \"\\np1 energy: {0:.2f} MeV\".format(p1.energy) +\n",
    "      \"\\np1 time: {0:.2f} ns\".format(p1.time))\n",
    "calo.impact(p1)\n",
    "calo.get_hit_crystals_()\n",
    "calo.draw(legend=False, do_moliere_radius=True, show_hit_xtals=True)"
   ]
  },
  {
   "cell_type": "code",
   "execution_count": 12,
   "metadata": {},
   "outputs": [
    {
     "ename": "AttributeError",
     "evalue": "'Calorimeter' object has no attribute 'get_hit_crystals'",
     "output_type": "error",
     "traceback": [
      "\u001b[0;31m---------------------------------------------------------------------------\u001b[0m",
      "\u001b[0;31mAttributeError\u001b[0m                            Traceback (most recent call last)",
      "\u001b[0;32m<ipython-input-12-53a8fa97023a>\u001b[0m in \u001b[0;36m<module>\u001b[0;34m\u001b[0m\n\u001b[0;32m----> 1\u001b[0;31m \u001b[0mcalo\u001b[0m\u001b[0;34m.\u001b[0m\u001b[0mget_hit_crystals\u001b[0m\u001b[0;34m(\u001b[0m\u001b[0;34m)\u001b[0m\u001b[0;34m\u001b[0m\u001b[0;34m\u001b[0m\u001b[0m\n\u001b[0m",
      "\u001b[0;31mAttributeError\u001b[0m: 'Calorimeter' object has no attribute 'get_hit_crystals'"
     ]
    }
   ],
   "source": [
    "calo.get_hit_crystals()"
   ]
  },
  {
   "cell_type": "code",
   "execution_count": null,
   "metadata": {},
   "outputs": [],
   "source": [
    "calo.impacts"
   ]
  },
  {
   "cell_type": "code",
   "execution_count": null,
   "metadata": {},
   "outputs": [],
   "source": [
    "p2 = csi.Particle(e_df=df['energy'])\n",
    "print(\"p2 x: {0:.2f} \\np2 y: {1:.2f}\".format(p2.x, p2.y) + \n",
    "      \"\\np2 energy: {0:.2f} MeV\".format(p2.energy) +\n",
    "      \"\\np2 time: {0:.2f} ns\".format(p2.time))\n",
    "calo.impact(p2)\n",
    "calo.draw(legend=True, do_moliere_radius=True, show_hit_xtals=True)"
   ]
  },
  {
   "cell_type": "code",
   "execution_count": null,
   "metadata": {},
   "outputs": [],
   "source": [
    "calo.impacts"
   ]
  },
  {
   "cell_type": "code",
   "execution_count": 10,
   "metadata": {},
   "outputs": [
    {
     "data": {
      "image/png": "[encoded data removed]",
      "text/plain": [
       "<Figure size 648x432 with 1 Axes>"
      ]
     },
     "metadata": {
      "needs_background": "light"
     },
     "output_type": "display_data"
    }
   ],
   "source": [
    "calo.clear()\n",
    "calo.draw()"
   ]
  },
  {
   "cell_type": "code",
   "execution_count": 16,
   "metadata": {},
   "outputs": [],
   "source": [
    "for i in range(0, 100):\n",
    "    p = csi.Particle(e_df=df['energy'])\n",
    "    calo.impact(p)"
   ]
  },
  {
   "cell_type": "code",
   "execution_count": null,
   "metadata": {},
   "outputs": [],
   "source": [
    "calo.draw(legend=False, do_moliere_radius=True, show_hit_xtals=True)"
   ]
  },
  {
   "cell_type": "code",
   "execution_count": null,
   "metadata": {},
   "outputs": [],
   "source": [
    "calo.xtalGrid"
   ]
  },
  {
   "cell_type": "code",
   "execution_count": null,
   "metadata": {},
   "outputs": [],
   "source": []
  }
 ],
 "metadata": {
  "kernelspec": {
   "display_name": "Python 3",
   "language": "python",
   "name": "python3"
  },
  "language_info": {
   "codemirror_mode": {
    "name": "ipython",
    "version": 3
   },
   "file_extension": ".py",
   "mimetype": "text/x-python",
   "name": "python",
   "nbconvert_exporter": "python",
   "pygments_lexer": "ipython3",
   "version": "3.7.5"
  }
 },
 "nbformat": 4,
 "nbformat_minor": 4
}
