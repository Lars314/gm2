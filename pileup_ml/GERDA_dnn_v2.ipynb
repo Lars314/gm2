{
 "cells": [
  {
   "cell_type": "code",
   "execution_count": 131,
   "metadata": {},
   "outputs": [],
   "source": [
    "import ROOT as r\n",
    "import pandas as pd\n",
    "import matplotlib.pyplot as plt\n",
    "import numpy as np\n",
    "import sklearn as skl\n",
    "import pickle\n",
    "import spliland\n",
    "import importlib\n",
    "import random\n",
    "import fclParse\n",
    "from scipy import stats\n",
    "from sklearn.metrics import classification_report, confusion_matrix\n",
    "# TensorFlow and tf.keras\n",
    "import tensorflow as tf\n",
    "from tensorflow import keras"
   ]
  },
  {
   "cell_type": "code",
   "execution_count": 132,
   "metadata": {},
   "outputs": [],
   "source": [
    "directory = './template_data_v2/set_1/'"
   ]
  },
  {
   "cell_type": "code",
   "execution_count": 133,
   "metadata": {},
   "outputs": [],
   "source": [
    "tf.config.run_functions_eagerly(True)"
   ]
  },
  {
   "cell_type": "markdown",
   "metadata": {},
   "source": [
    "## Intro\n",
    "\n",
    "The purpose of this notebook is to make a second attempt at a neural network, following along with what was described in the paper \"Deep Learning Based Pulse Shape Analysis for GERDA\" by Philipp Holl in 2017. This algorithm consists of an autoencoder, decoder, and then classifier.\n",
    "\n",
    "I am also following this guide: https://keras.io/examples/timeseries/timeseries_anomaly_detection/ for the implementation of the layers described in the paper into python"
   ]
  },
  {
   "cell_type": "markdown",
   "metadata": {},
   "source": [
    "### Prep the data"
   ]
  },
  {
   "cell_type": "code",
   "execution_count": 135,
   "metadata": {},
   "outputs": [],
   "source": [
    "n_points = 4000\n",
    "\n",
    "with open(directory + 'x.data', 'rb') as xFile:\n",
    "    biggestX = pickle.load(xFile)\n",
    "    x_train = []\n",
    "    x_test = []\n",
    "    for x in biggestX[:n_points]:\n",
    "        x_train.append(x)\n",
    "    for x in biggestX[n_points:]:\n",
    "        x_test.append(x)\n",
    "    xFile.close()\n",
    "\n",
    "with open(directory + 'y.data', 'rb') as yFile:\n",
    "    biggestY = pickle.load(yFile)\n",
    "    y_train = biggestY[:n_points]\n",
    "    y_test = biggestY[n_points:]\n",
    "    yFile.close()\n",
    "    \n",
    "x_train = np.array(x_train)\n",
    "x_test = np.array(x_test)\n",
    "y_train = np.array(y_train)\n",
    "y_test = np.array(y_test)"
   ]
  },
  {
   "cell_type": "code",
   "execution_count": 136,
   "metadata": {},
   "outputs": [],
   "source": [
    "X_train = np.reshape(x_train, (n_points, 21816, 1))\n",
    "Y_train = np.reshape(y_train, (n_points, 1))"
   ]
  },
  {
   "cell_type": "code",
   "execution_count": 137,
   "metadata": {},
   "outputs": [
    {
     "data": {
      "text/plain": [
       "(4000, 21816, 1)"
      ]
     },
     "execution_count": 137,
     "metadata": {},
     "output_type": "execute_result"
    }
   ],
   "source": [
    "X_train.shape"
   ]
  },
  {
   "cell_type": "code",
   "execution_count": 33,
   "metadata": {
    "collapsed": true,
    "jupyter": {
     "outputs_hidden": true
    }
   },
   "outputs": [
    {
     "data": {
      "text/plain": [
       "array([[[-2.56401213],\n",
       "        [ 5.45288027],\n",
       "        [ 1.50660863],\n",
       "        ...,\n",
       "        [-1.29995602],\n",
       "        [-1.26773059],\n",
       "        [ 5.85253821]],\n",
       "\n",
       "       [[-1.36441837],\n",
       "        [ 7.8328658 ],\n",
       "        [ 5.07596373],\n",
       "        ...,\n",
       "        [ 0.        ],\n",
       "        [ 0.        ],\n",
       "        [ 0.        ]],\n",
       "\n",
       "       [[ 0.        ],\n",
       "        [ 0.        ],\n",
       "        [ 0.        ],\n",
       "        ...,\n",
       "        [ 1.80412268],\n",
       "        [ 0.60695902],\n",
       "        [-1.83547117]],\n",
       "\n",
       "       ...,\n",
       "\n",
       "       [[-0.71470354],\n",
       "        [-0.90348691],\n",
       "        [ 4.88418815],\n",
       "        ...,\n",
       "        [ 0.        ],\n",
       "        [ 0.        ],\n",
       "        [ 0.        ]],\n",
       "\n",
       "       [[ 0.        ],\n",
       "        [ 0.        ],\n",
       "        [ 0.        ],\n",
       "        ...,\n",
       "        [ 0.        ],\n",
       "        [ 0.        ],\n",
       "        [ 0.        ]],\n",
       "\n",
       "       [[ 0.        ],\n",
       "        [ 0.        ],\n",
       "        [ 0.        ],\n",
       "        ...,\n",
       "        [-8.75419927],\n",
       "        [ 5.47735899],\n",
       "        [ 0.00878131]]])"
      ]
     },
     "execution_count": 33,
     "metadata": {},
     "output_type": "execute_result"
    }
   ],
   "source": [
    "X_train"
   ]
  },
  {
   "cell_type": "code",
   "execution_count": 65,
   "metadata": {
    "collapsed": true,
    "jupyter": {
     "outputs_hidden": true
    }
   },
   "outputs": [
    {
     "data": {
      "text/plain": [
       "array([[3],\n",
       "       [3],\n",
       "       [3],\n",
       "       [1],\n",
       "       [1],\n",
       "       [2],\n",
       "       [3],\n",
       "       [2],\n",
       "       [2],\n",
       "       [2],\n",
       "       [1],\n",
       "       [1],\n",
       "       [3],\n",
       "       [1],\n",
       "       [1],\n",
       "       [3],\n",
       "       [3],\n",
       "       [4],\n",
       "       [2],\n",
       "       [1],\n",
       "       [1],\n",
       "       [1],\n",
       "       [4],\n",
       "       [3],\n",
       "       [1],\n",
       "       [2],\n",
       "       [3],\n",
       "       [3],\n",
       "       [3],\n",
       "       [2],\n",
       "       [4],\n",
       "       [1],\n",
       "       [2],\n",
       "       [4],\n",
       "       [3],\n",
       "       [2],\n",
       "       [3],\n",
       "       [1],\n",
       "       [4],\n",
       "       [4],\n",
       "       [1],\n",
       "       [3],\n",
       "       [2],\n",
       "       [3],\n",
       "       [4],\n",
       "       [1],\n",
       "       [1],\n",
       "       [4],\n",
       "       [3],\n",
       "       [1],\n",
       "       [4],\n",
       "       [4],\n",
       "       [4],\n",
       "       [2],\n",
       "       [1],\n",
       "       [2],\n",
       "       [1],\n",
       "       [2],\n",
       "       [2],\n",
       "       [1],\n",
       "       [4],\n",
       "       [3],\n",
       "       [4],\n",
       "       [3],\n",
       "       [4],\n",
       "       [1],\n",
       "       [1],\n",
       "       [1],\n",
       "       [2],\n",
       "       [3],\n",
       "       [4],\n",
       "       [4],\n",
       "       [3],\n",
       "       [2],\n",
       "       [1],\n",
       "       [1],\n",
       "       [3],\n",
       "       [4],\n",
       "       [1],\n",
       "       [4]])"
      ]
     },
     "execution_count": 65,
     "metadata": {},
     "output_type": "execute_result"
    }
   ],
   "source": [
    "Y_train"
   ]
  },
  {
   "cell_type": "markdown",
   "metadata": {},
   "source": [
    "### Classifier"
   ]
  },
  {
   "cell_type": "code",
   "execution_count": 138,
   "metadata": {},
   "outputs": [],
   "source": [
    "classifier_model = keras.Sequential([\n",
    "    keras.layers.Dense(256, activation='relu', input_shape=(21816,)),\n",
    "    keras.layers.Dense(20, activation='relu'),\n",
    "    keras.layers.Dense(256, activation='relu'),\n",
    "    keras.layers.Dense(20, activation='relu'),\n",
    "    keras.layers.Dense(256, activation='relu'),\n",
    "    keras.layers.Dense(20, activation='relu'),\n",
    "    keras.layers.Dense(256, activation='relu'),\n",
    "    keras.layers.Dense(20, activation='relu'),\n",
    "    keras.layers.Dense(256, activation='relu'),\n",
    "    keras.layers.Dense(20, activation='relu')\n",
    "])"
   ]
  },
  {
   "cell_type": "code",
   "execution_count": 139,
   "metadata": {},
   "outputs": [],
   "source": [
    "classifier_model.compile(optimizer = 'adam', loss=tf.keras.losses.SparseCategoricalCrossentropy(from_logits=True), metrics=['accuracy'])"
   ]
  },
  {
   "cell_type": "code",
   "execution_count": 140,
   "metadata": {},
   "outputs": [
    {
     "name": "stdout",
     "output_type": "stream",
     "text": [
      "(4000, 21816, 1)\n",
      "(4000, 1)\n"
     ]
    }
   ],
   "source": [
    "print(X_train.shape)\n",
    "print(Y_train.shape)"
   ]
  },
  {
   "cell_type": "code",
   "execution_count": 141,
   "metadata": {},
   "outputs": [
    {
     "name": "stdout",
     "output_type": "stream",
     "text": [
      "Epoch 1/100\n",
      "125/125 [==============================] - 5s 38ms/step - loss: 1.9571 - accuracy: 0.4035\n",
      "Epoch 2/100\n",
      "125/125 [==============================] - 4s 33ms/step - loss: 1.6010 - accuracy: 0.5188\n",
      "Epoch 3/100\n",
      "125/125 [==============================] - 4s 33ms/step - loss: 1.3112 - accuracy: 0.6135\n",
      "Epoch 4/100\n",
      "125/125 [==============================] - 5s 40ms/step - loss: 1.1704 - accuracy: 0.6492\n",
      "Epoch 5/100\n",
      "125/125 [==============================] - 5s 40ms/step - loss: 1.0419 - accuracy: 0.6860\n",
      "Epoch 6/100\n",
      "125/125 [==============================] - 5s 40ms/step - loss: 0.9939 - accuracy: 0.6873\n",
      "Epoch 7/100\n",
      "125/125 [==============================] - 5s 39ms/step - loss: 0.9530 - accuracy: 0.7113\n",
      "Epoch 8/100\n",
      "125/125 [==============================] - 5s 42ms/step - loss: 0.8858 - accuracy: 0.7215\n",
      "Epoch 9/100\n",
      "125/125 [==============================] - 5s 39ms/step - loss: 0.8845 - accuracy: 0.7215\n",
      "Epoch 10/100\n",
      "125/125 [==============================] - 5s 40ms/step - loss: 0.8640 - accuracy: 0.7337\n",
      "Epoch 11/100\n",
      "125/125 [==============================] - 5s 39ms/step - loss: 0.7969 - accuracy: 0.7423\n",
      "Epoch 12/100\n",
      "125/125 [==============================] - 5s 43ms/step - loss: 0.7755 - accuracy: 0.7448\n",
      "Epoch 13/100\n",
      "125/125 [==============================] - 5s 38ms/step - loss: 0.7667 - accuracy: 0.7450\n",
      "Epoch 14/100\n",
      "125/125 [==============================] - 5s 38ms/step - loss: 0.7686 - accuracy: 0.7450\n",
      "Epoch 15/100\n",
      "125/125 [==============================] - 5s 38ms/step - loss: 0.7713 - accuracy: 0.7450\n",
      "Epoch 16/100\n",
      "125/125 [==============================] - 5s 38ms/step - loss: 0.7990 - accuracy: 0.7405\n",
      "Epoch 17/100\n",
      "125/125 [==============================] - 5s 38ms/step - loss: 1.0758 - accuracy: 0.6802\n",
      "Epoch 18/100\n",
      "125/125 [==============================] - 5s 38ms/step - loss: 0.8691 - accuracy: 0.7350\n",
      "Epoch 19/100\n",
      "125/125 [==============================] - 5s 38ms/step - loss: 0.7910 - accuracy: 0.7433\n",
      "Epoch 20/100\n",
      "125/125 [==============================] - 5s 38ms/step - loss: 0.7709 - accuracy: 0.7448\n",
      "Epoch 21/100\n",
      "125/125 [==============================] - 5s 43ms/step - loss: 0.7674 - accuracy: 0.7445\n",
      "Epoch 22/100\n",
      "125/125 [==============================] - 5s 41ms/step - loss: 0.7673 - accuracy: 0.7445\n",
      "Epoch 23/100\n",
      "125/125 [==============================] - 5s 42ms/step - loss: 0.7796 - accuracy: 0.7430\n",
      "Epoch 24/100\n",
      "125/125 [==============================] - 5s 38ms/step - loss: 0.7799 - accuracy: 0.7427\n",
      "Epoch 25/100\n",
      "125/125 [==============================] - 5s 38ms/step - loss: 0.8779 - accuracy: 0.7207\n",
      "Epoch 26/100\n",
      "125/125 [==============================] - 5s 38ms/step - loss: 0.8404 - accuracy: 0.7337\n",
      "Epoch 27/100\n",
      "125/125 [==============================] - 5s 38ms/step - loss: 0.8324 - accuracy: 0.7335\n",
      "Epoch 28/100\n",
      "125/125 [==============================] - 5s 38ms/step - loss: 0.8266 - accuracy: 0.7347\n",
      "Epoch 29/100\n",
      "125/125 [==============================] - 5s 38ms/step - loss: 0.7938 - accuracy: 0.7405\n",
      "Epoch 30/100\n",
      "125/125 [==============================] - 5s 39ms/step - loss: 0.7765 - accuracy: 0.7435\n",
      "Epoch 31/100\n",
      "125/125 [==============================] - 5s 38ms/step - loss: 0.7748 - accuracy: 0.7450\n",
      "Epoch 32/100\n",
      "125/125 [==============================] - 5s 38ms/step - loss: 0.7683 - accuracy: 0.7448\n",
      "Epoch 33/100\n",
      "125/125 [==============================] - 5s 38ms/step - loss: 0.7737 - accuracy: 0.7440\n",
      "Epoch 34/100\n",
      "125/125 [==============================] - 5s 38ms/step - loss: 0.7709 - accuracy: 0.7448\n",
      "Epoch 35/100\n",
      "125/125 [==============================] - 5s 43ms/step - loss: 0.7655 - accuracy: 0.7448\n",
      "Epoch 36/100\n",
      "125/125 [==============================] - 5s 41ms/step - loss: 0.7649 - accuracy: 0.7448\n",
      "Epoch 37/100\n",
      "125/125 [==============================] - 5s 39ms/step - loss: 0.7648 - accuracy: 0.7448\n",
      "Epoch 38/100\n",
      "125/125 [==============================] - 5s 43ms/step - loss: 0.7648 - accuracy: 0.7448\n",
      "Epoch 39/100\n",
      "125/125 [==============================] - 5s 39ms/step - loss: 0.7647 - accuracy: 0.7448\n",
      "Epoch 40/100\n",
      "125/125 [==============================] - 5s 39ms/step - loss: 0.7647 - accuracy: 0.7448\n",
      "Epoch 41/100\n",
      "125/125 [==============================] - 5s 42ms/step - loss: 0.7647 - accuracy: 0.7448\n",
      "Epoch 42/100\n",
      "125/125 [==============================] - 5s 39ms/step - loss: 0.7647 - accuracy: 0.7448\n",
      "Epoch 43/100\n",
      "125/125 [==============================] - 5s 38ms/step - loss: 0.7647 - accuracy: 0.7448\n",
      "Epoch 44/100\n",
      "125/125 [==============================] - 5s 38ms/step - loss: 0.7647 - accuracy: 0.7448\n",
      "Epoch 45/100\n",
      "125/125 [==============================] - 5s 38ms/step - loss: 0.7647 - accuracy: 0.7448\n",
      "Epoch 46/100\n",
      "125/125 [==============================] - 5s 43ms/step - loss: 0.7647 - accuracy: 0.7448\n",
      "Epoch 47/100\n",
      "125/125 [==============================] - 5s 40ms/step - loss: 0.7647 - accuracy: 0.7448\n",
      "Epoch 48/100\n",
      "125/125 [==============================] - 5s 40ms/step - loss: 0.7647 - accuracy: 0.7448\n",
      "Epoch 49/100\n",
      "125/125 [==============================] - 5s 39ms/step - loss: 0.7647 - accuracy: 0.7448\n",
      "Epoch 50/100\n",
      "125/125 [==============================] - 5s 39ms/step - loss: 0.7647 - accuracy: 0.7448\n",
      "Epoch 51/100\n",
      "125/125 [==============================] - 5s 40ms/step - loss: 0.7647 - accuracy: 0.7448\n",
      "Epoch 52/100\n",
      "125/125 [==============================] - 5s 39ms/step - loss: 0.7647 - accuracy: 0.7448\n",
      "Epoch 53/100\n",
      "125/125 [==============================] - 5s 40ms/step - loss: 0.7647 - accuracy: 0.7448\n",
      "Epoch 54/100\n",
      "125/125 [==============================] - 5s 40ms/step - loss: 0.7647 - accuracy: 0.7448\n",
      "Epoch 55/100\n",
      "125/125 [==============================] - 5s 42ms/step - loss: 0.8050 - accuracy: 0.7412\n",
      "Epoch 56/100\n",
      "125/125 [==============================] - 5s 38ms/step - loss: 1.2984 - accuracy: 0.6747\n",
      "Epoch 57/100\n",
      "125/125 [==============================] - 5s 38ms/step - loss: 0.8647 - accuracy: 0.7372\n",
      "Epoch 58/100\n",
      "125/125 [==============================] - 5s 38ms/step - loss: 0.7951 - accuracy: 0.7435\n",
      "Epoch 59/100\n",
      "125/125 [==============================] - 5s 38ms/step - loss: 0.7760 - accuracy: 0.7445\n",
      "Epoch 60/100\n",
      "125/125 [==============================] - 5s 38ms/step - loss: 0.7698 - accuracy: 0.7445\n",
      "Epoch 61/100\n",
      "125/125 [==============================] - 5s 38ms/step - loss: 0.7667 - accuracy: 0.7448\n",
      "Epoch 62/100\n",
      "125/125 [==============================] - 5s 38ms/step - loss: 0.7659 - accuracy: 0.7448\n",
      "Epoch 63/100\n",
      "125/125 [==============================] - 5s 38ms/step - loss: 0.7655 - accuracy: 0.7448\n",
      "Epoch 64/100\n",
      "125/125 [==============================] - 5s 38ms/step - loss: 0.7653 - accuracy: 0.7448\n",
      "Epoch 65/100\n",
      "125/125 [==============================] - 5s 38ms/step - loss: 0.7652 - accuracy: 0.7448\n",
      "Epoch 66/100\n",
      "125/125 [==============================] - 5s 38ms/step - loss: 0.7651 - accuracy: 0.7448\n",
      "Epoch 67/100\n",
      "125/125 [==============================] - 5s 38ms/step - loss: 0.7650 - accuracy: 0.7448\n",
      "Epoch 68/100\n",
      "125/125 [==============================] - 5s 38ms/step - loss: 0.7650 - accuracy: 0.7448\n",
      "Epoch 69/100\n",
      "125/125 [==============================] - 5s 43ms/step - loss: 0.7650 - accuracy: 0.7448\n",
      "Epoch 70/100\n",
      "125/125 [==============================] - 5s 41ms/step - loss: 0.7650 - accuracy: 0.7448\n",
      "Epoch 71/100\n",
      "125/125 [==============================] - 5s 41ms/step - loss: 0.7649 - accuracy: 0.7448\n",
      "Epoch 72/100\n",
      "125/125 [==============================] - 5s 39ms/step - loss: 0.7649 - accuracy: 0.7448\n",
      "Epoch 73/100\n",
      "125/125 [==============================] - 5s 41ms/step - loss: 0.7649 - accuracy: 0.7448\n",
      "Epoch 74/100\n",
      "125/125 [==============================] - 5s 40ms/step - loss: 0.7649 - accuracy: 0.7448\n",
      "Epoch 75/100\n",
      "125/125 [==============================] - 5s 39ms/step - loss: 0.7649 - accuracy: 0.7448\n",
      "Epoch 76/100\n",
      "125/125 [==============================] - 5s 39ms/step - loss: 0.7653 - accuracy: 0.7448\n",
      "Epoch 77/100\n",
      "125/125 [==============================] - 5s 43ms/step - loss: 0.8982 - accuracy: 0.7283\n",
      "Epoch 78/100\n",
      "125/125 [==============================] - 5s 38ms/step - loss: 0.8762 - accuracy: 0.7278\n",
      "Epoch 79/100\n",
      "125/125 [==============================] - 5s 38ms/step - loss: 0.7930 - accuracy: 0.7423\n",
      "Epoch 80/100\n",
      "125/125 [==============================] - 5s 42ms/step - loss: 0.7706 - accuracy: 0.7445\n",
      "Epoch 81/100\n",
      "125/125 [==============================] - 5s 39ms/step - loss: 0.7661 - accuracy: 0.7450\n",
      "Epoch 82/100\n",
      "125/125 [==============================] - 5s 39ms/step - loss: 0.7653 - accuracy: 0.7450\n",
      "Epoch 83/100\n",
      "125/125 [==============================] - 5s 39ms/step - loss: 0.7645 - accuracy: 0.7450\n",
      "Epoch 84/100\n",
      "125/125 [==============================] - 5s 41ms/step - loss: 0.7643 - accuracy: 0.7450\n",
      "Epoch 85/100\n",
      "125/125 [==============================] - 5s 41ms/step - loss: 0.7642 - accuracy: 0.7450\n",
      "Epoch 86/100\n",
      "125/125 [==============================] - 5s 42ms/step - loss: 0.7642 - accuracy: 0.7450\n",
      "Epoch 87/100\n",
      "125/125 [==============================] - 5s 38ms/step - loss: 0.7641 - accuracy: 0.7450\n",
      "Epoch 88/100\n",
      "125/125 [==============================] - 5s 38ms/step - loss: 0.7641 - accuracy: 0.7450\n",
      "Epoch 89/100\n",
      "125/125 [==============================] - 5s 38ms/step - loss: 0.7641 - accuracy: 0.7450\n",
      "Epoch 90/100\n",
      "125/125 [==============================] - 5s 43ms/step - loss: 0.7641 - accuracy: 0.7450\n",
      "Epoch 91/100\n",
      "125/125 [==============================] - 5s 41ms/step - loss: 0.7640 - accuracy: 0.7450\n",
      "Epoch 92/100\n",
      "125/125 [==============================] - 5s 41ms/step - loss: 0.7640 - accuracy: 0.7450\n",
      "Epoch 93/100\n",
      "125/125 [==============================] - 5s 40ms/step - loss: 0.7640 - accuracy: 0.7450\n",
      "Epoch 94/100\n",
      "125/125 [==============================] - 5s 41ms/step - loss: 0.7640 - accuracy: 0.7450\n",
      "Epoch 95/100\n",
      "125/125 [==============================] - 5s 42ms/step - loss: 0.7640 - accuracy: 0.7450\n",
      "Epoch 96/100\n",
      "125/125 [==============================] - 5s 39ms/step - loss: 0.7640 - accuracy: 0.7450\n",
      "Epoch 97/100\n",
      "125/125 [==============================] - 5s 39ms/step - loss: 0.7640 - accuracy: 0.7450\n",
      "Epoch 98/100\n",
      "125/125 [==============================] - 6s 45ms/step - loss: 0.7640 - accuracy: 0.7450\n",
      "Epoch 99/100\n",
      "125/125 [==============================] - 6s 44ms/step - loss: 0.7640 - accuracy: 0.7450\n",
      "Epoch 100/100\n",
      "125/125 [==============================] - 5s 40ms/step - loss: 0.7640 - accuracy: 0.7450\n"
     ]
    }
   ],
   "source": [
    "classifier_history = classifier_model.fit(X_train,\n",
    "                                          Y_train,\n",
    "                                          epochs=100)"
   ]
  },
  {
   "cell_type": "markdown",
   "metadata": {},
   "source": [
    "### Performance Stats"
   ]
  },
  {
   "cell_type": "code",
   "execution_count": 142,
   "metadata": {},
   "outputs": [
    {
     "name": "stderr",
     "output_type": "stream",
     "text": [
      "No handles with labels found to put in legend.\n",
      "No handles with labels found to put in legend.\n"
     ]
    },
    {
     "data": {
      "text/plain": [
       "<matplotlib.legend.Legend at 0x7f9cce412e50>"
      ]
     },
     "execution_count": 142,
     "metadata": {},
     "output_type": "execute_result"
    },
    {
     "data": {
      "image/png": "[encoded data removed]",
      "text/plain": [
       "<Figure size 1008x504 with 2 Axes>"
      ]
     },
     "metadata": {
      "needs_background": "light"
     },
     "output_type": "display_data"
    }
   ],
   "source": [
    "fig, ax = plt.subplots(1,2);\n",
    "fig.set_size_inches(14,7);\n",
    "\n",
    "ax[0].plot(classifier_history.history['accuracy'])\n",
    "\n",
    "ax[0].set_xlabel(\"epoch\", fontsize=20)\n",
    "ax[0].set_ylabel(\"accuracy %\", fontsize=20)\n",
    "ax[0].legend()\n",
    "\n",
    "ax[1].plot(classifier_history.history['loss'])\n",
    "\n",
    "ax[1].set_xlabel(\"epoch\", fontsize=20)\n",
    "ax[1].set_ylabel(\"training loss\", fontsize=20)\n",
    "ax[1].legend()"
   ]
  },
  {
   "cell_type": "code",
   "execution_count": 143,
   "metadata": {},
   "outputs": [],
   "source": [
    "Y_pred = classifier_model.predict(x_test)\n",
    "y_pred = np.argmax(Y_pred, axis=1)\n",
    "\n",
    "matrix = confusion_matrix(y_test, y_pred, normalize='true', labels=[0,1,2,3,4,5,6])"
   ]
  },
  {
   "cell_type": "code",
   "execution_count": 144,
   "metadata": {},
   "outputs": [
    {
     "data": {
      "text/plain": [
       "array([1, 1, 0, ..., 1, 3, 1])"
      ]
     },
     "execution_count": 144,
     "metadata": {},
     "output_type": "execute_result"
    }
   ],
   "source": [
    "y_pred"
   ]
  },
  {
   "cell_type": "code",
   "execution_count": 145,
   "metadata": {},
   "outputs": [
    {
     "data": {
      "image/png": "[encoded data removed]",
      "text/plain": [
       "<Figure size 504x504 with 1 Axes>"
      ]
     },
     "metadata": {
      "needs_background": "light"
     },
     "output_type": "display_data"
    }
   ],
   "source": [
    "fig, ax = plt.subplots(1,1)\n",
    "fig.set_size_inches(7,7)\n",
    "\n",
    "labels = ['0', '1', '2', '3', '4', '5', '6']\n",
    "\n",
    "grid = np.array(matrix)\n",
    "im = ax.imshow(grid)\n",
    "\n",
    "for k in range (0, len(grid)):\n",
    "        for l in range (0, len(grid[0])):\n",
    "            ax.text(l-0.3, k+0.1, str(grid[k][l])[:4], size=20, color='white')\n",
    "            \n",
    "ax.set_xticklabels([''] + labels);\n",
    "ax.set_yticklabels([''] + labels);\n",
    "\n",
    "ax.set_ylabel('True Pulse Number', fontsize=20);\n",
    "ax.set_xlabel('Classified Pulse Number', fontsize=20);\n",
    "\n",
    "#ax.set_title(\"with autoencoder\", fontsize=20)\n"
   ]
  },
  {
   "cell_type": "code",
   "execution_count": null,
   "metadata": {},
   "outputs": [],
   "source": []
  }
 ],
 "metadata": {
  "kernelspec": {
   "display_name": "Python 3",
   "language": "python",
   "name": "python3"
  },
  "language_info": {
   "codemirror_mode": {
    "name": "ipython",
    "version": 3
   },
   "file_extension": ".py",
   "mimetype": "text/x-python",
   "name": "python",
   "nbconvert_exporter": "python",
   "pygments_lexer": "ipython3",
   "version": "3.7.5"
  }
 },
 "nbformat": 4,
 "nbformat_minor": 4
}
