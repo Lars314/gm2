{
 "cells": [
  {
   "cell_type": "code",
   "execution_count": 1,
   "metadata": {},
   "outputs": [
    {
     "name": "stdout",
     "output_type": "stream",
     "text": [
      "Welcome to JupyROOT 6.18/04\n"
     ]
    }
   ],
   "source": [
    "import ROOT as r\n",
    "import pandas as pd\n",
    "import matplotlib.pyplot as plt\n",
    "import numpy as np\n",
    "import sklearn as skl\n",
    "import pickle\n",
    "import spliland\n",
    "import importlib\n",
    "import random"
   ]
  },
  {
   "cell_type": "code",
   "execution_count": 59,
   "metadata": {},
   "outputs": [],
   "source": [
    "# Reload stuff in case you make changes!\n",
    "\n",
    "importlib.reload(spliland);"
   ]
  },
  {
   "cell_type": "code",
   "execution_count": null,
   "metadata": {},
   "outputs": [],
   "source": [
    "f = r.TFile(\"./calotemplate15.root\")\n",
    "spline0 = spliland.Spline(f.Get(\"masterSpline_xtal0\"))"
   ]
  },
  {
   "cell_type": "code",
   "execution_count": 90,
   "metadata": {},
   "outputs": [
    {
     "name": "stdout",
     "output_type": "stream",
     "text": [
      "3 pulses in this island\n",
      "The energy scale factors are: [9.44284245 8.98786523 3.86277434]\n",
      "The time offsets are: [22.50401511 13.57318785  7.44418878]\n",
      "Sampling this spline with a deltaT of 1.25 ns\n",
      "            \n"
     ]
    },
    {
     "data": {
      "image/png": "[encoded data removed]",
      "text/plain": [
       "<Figure size 360x360 with 1 Axes>"
      ]
     },
     "metadata": {
      "needs_background": "light"
     },
     "output_type": "display_data"
    }
   ],
   "source": [
    "testIsland = spliland.Island(referenceSpline=spline0,\n",
    "                             deltaTmin=0, deltaTmax=25,\n",
    "                             minTimeOffset=4,\n",
    "                             verbosity=True, noise=True, randomizeTailLength=False)\n",
    "\n",
    "fig, ax = plt.subplots(1,1);\n",
    "fig.set_size_inches(5,5);\n",
    "\n",
    "ax.plot(testIsland.time, testIsland.energy);\n",
    "ax.set_xlim(-20, 300);"
   ]
  },
  {
   "cell_type": "code",
   "execution_count": 81,
   "metadata": {},
   "outputs": [
    {
     "name": "stdout",
     "output_type": "stream",
     "text": [
      "0\n",
      "1000\n",
      "2000\n",
      "3000\n",
      "4000\n",
      "5000\n",
      "6000\n",
      "7000\n",
      "8000\n",
      "9000\n"
     ]
    }
   ],
   "source": [
    "for index in range(0, 10000):\n",
    "    testIsland = spliland.Island(referenceSpline=spline0,\n",
    "                             deltaTmin=0, deltaTmax=25,\n",
    "                             minTimeOffset=4,\n",
    "                             verbosity=False, noise=True, randomizeTailLength=False)\n",
    "    if(index % 1000 == 0): print(index)"
   ]
  },
  {
   "cell_type": "code",
   "execution_count": 140,
   "metadata": {},
   "outputs": [
    {
     "name": "stdout",
     "output_type": "stream",
     "text": [
      "[10.80431238]\n"
     ]
    }
   ],
   "source": [
    "offsets = [np.random.uniform(0, 23, size=1)]\n",
    "for offset in offsets:\n",
    "    print(offset)"
   ]
  },
  {
   "cell_type": "code",
   "execution_count": null,
   "metadata": {},
   "outputs": [],
   "source": [
    "initialOffsets = np.linspace(start=deltaTmin, stop=deltaTmax, num=self.nPulses)\n",
    "        \n",
    "        init_dist = initialOffsets[1] - initialOffsets[0]\n",
    "        \n",
    "        assert init_dist > self.minTimeOffset, print(\"\"\"\n",
    "        deltaTmax of {0} is not large enough to accomodate minTimeOffset of {1} for {3} pulses!\n",
    "        \"\"\".format(deltaTmax, self.minTimeOffset, self.nPulses))\n",
    "        \n",
    "        max_movement = (init_dist - self.minTimeOffset)/2\n",
    "        \n",
    "        \n",
    "        noise = np.random.uniform(\n",
    "            low=-max_movement,\n",
    "            high=max_movement,\n",
    "            size=(len(coords), 2))\n",
    "        coords += noise"
   ]
  },
  {
   "cell_type": "code",
   "execution_count": 234,
   "metadata": {},
   "outputs": [],
   "source": [
    "deltaTmin = 0\n",
    "deltaTmax = 25\n",
    "nPulses = 4\n",
    "minTimeOffset = 0"
   ]
  },
  {
   "cell_type": "code",
   "execution_count": 206,
   "metadata": {},
   "outputs": [
    {
     "name": "stdout",
     "output_type": "stream",
     "text": [
      "1.7362546992559853\n",
      "[1.7362546992559853, 6.239387488911066]\n",
      "[1.7362546992559853, 6.239387488911066, 9.760118028391144]\n",
      "[1.7362546992559853, 6.239387488911066, 9.760118028391144, 11.101031796546085]\n"
     ]
    }
   ],
   "source": [
    "# get the first value, limited to the lower section\n",
    "\n",
    "first = np.random.uniform(deltaTmin, (deltaTmax - deltaTmin) / nPulses)\n",
    "offsets = [float(first)]\n",
    "print(first)\n",
    "\n",
    "for num in range(1, nPulses):\n",
    "    \n",
    "    offsets_left = nPulses + 1 - len(offsets)\n",
    "    new_min = offsets[-1] + minTimeOffset\n",
    "    space_left = (deltaTmax - new_min)\n",
    "    new_max = space_left / offsets_left + new_min\n",
    "    \n",
    "    offset = np.random.uniform(new_min, new_max)\n",
    "    \n",
    "    offsets.append(float(offset))\n",
    "    print(offsets)"
   ]
  },
  {
   "cell_type": "code",
   "execution_count": 237,
   "metadata": {},
   "outputs": [
    {
     "name": "stdout",
     "output_type": "stream",
     "text": [
      "[17.17132438  4.70675476 21.65348286  3.16147822]\n"
     ]
    }
   ],
   "source": [
    "offsets = np.random.uniform(deltaTmin, deltaTmax, size=nPulses)\n",
    "\n",
    "check = 0\n",
    "while(check < nPulses ** 2):\n",
    "    for i in range(0, len(offsets)):\n",
    "        for j in range(0, len(offsets)):\n",
    "            if(i != j):\n",
    "                separation = offsets[i] - offsets[j]\n",
    "                if(abs(separation) < minTimeOffset):\n",
    "                    check = 0\n",
    "                    if(offsets[i] + minTimeOffset <= deltaTmax):\n",
    "                        offsets[i] += minTimeOffset\n",
    "                    elif(offsets[i] - minTimeOffset >= deltaTmin):\n",
    "                        offsets[i] -= minTimeOffset\n",
    "                    elif(offsets[j] + minTimeOffset <= deltaTmax):\n",
    "                        offsets[j] += minTimeOffset\n",
    "                    elif(offsets[j] - minTimeOffset >= deltaTmin):\n",
    "                        offsets[j] -= minTimeOffset\n",
    "                else:\n",
    "                    check += 1\n",
    "            else:\n",
    "                check += 1\n",
    "\n",
    "print(offsets)"
   ]
  },
  {
   "cell_type": "code",
   "execution_count": null,
   "metadata": {},
   "outputs": [],
   "source": []
  }
 ],
 "metadata": {
  "kernelspec": {
   "display_name": "Python 3",
   "language": "python",
   "name": "python3"
  },
  "language_info": {
   "codemirror_mode": {
    "name": "ipython",
    "version": 3
   },
   "file_extension": ".py",
   "mimetype": "text/x-python",
   "name": "python",
   "nbconvert_exporter": "python",
   "pygments_lexer": "ipython3",
   "version": "3.7.5"
  }
 },
 "nbformat": 4,
 "nbformat_minor": 4
}
