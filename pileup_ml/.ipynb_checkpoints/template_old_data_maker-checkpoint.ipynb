{
 "cells": [
  {
   "cell_type": "markdown",
   "metadata": {},
   "source": [
    "#### The purpose of this notebook is to produce train and test data for the ML algorithm using template pulses"
   ]
  },
  {
   "cell_type": "markdown",
   "metadata": {},
   "source": [
    "### Setup"
   ]
  },
  {
   "cell_type": "code",
   "execution_count": 18,
   "metadata": {},
   "outputs": [],
   "source": [
    "import ROOT as r\n",
    "import pandas as pd\n",
    "import matplotlib.pyplot as plt\n",
    "import numpy as np\n",
    "import sklearn as skl\n",
    "import pickle"
   ]
  },
  {
   "cell_type": "code",
   "execution_count": 3,
   "metadata": {},
   "outputs": [],
   "source": [
    "# run this to make printing cleaner\n",
    "np.set_printoptions(precision=None)"
   ]
  },
  {
   "cell_type": "code",
   "execution_count": 4,
   "metadata": {},
   "outputs": [],
   "source": [
    "# set a seed if you want to make things repeatable\n",
    "np.random.seed(420)"
   ]
  },
  {
   "cell_type": "markdown",
   "metadata": {},
   "source": [
    "### Definitions"
   ]
  },
  {
   "cell_type": "code",
   "execution_count": 5,
   "metadata": {},
   "outputs": [],
   "source": [
    "class Spline:\n",
    "    \"\"\"\n",
    "    Take a root spline and make a cleaner object with two np arrays\n",
    "    \"\"\"\n",
    "    def __init__(self, rSpline):\n",
    "        spline = []\n",
    "        times = []\n",
    "        \n",
    "        for i in np.linspace(rSpline.GetXmin(), rSpline.GetXmax(), rSpline.GetNpx()):\n",
    "            spline.append(rSpline.Eval(i))\n",
    "            times.append(i)\n",
    "\n",
    "        self.spline = np.array(spline)\n",
    "        self.times = np.array(times)\n",
    "        \n",
    "        self.samplingRate = times[2] - times[1]\n",
    "        \n",
    "    def peakTime(self):\n",
    "        index = np.argmax(self.spline)\n",
    "        return(self.times[index])"
   ]
  },
  {
   "cell_type": "code",
   "execution_count": 10,
   "metadata": {},
   "outputs": [],
   "source": [
    "class Island:\n",
    "    def __init__(self, nPulses=None, pulseEnergies=[], pulseTimes=[], noise=None, time=[], energy=[]):\n",
    "        \"\"\"\n",
    "        nPulses: int, the number of pulses in this island\n",
    "        pulseEnegies: np.array, the relative energies of each pulse\n",
    "        pulseTimes: np.array, the time offset of each pulse\n",
    "        noise: boolean, artificial noise off->false, on->true\n",
    "        time: np.array, the time axis values\n",
    "        energy: np.array, the energy axis values\n",
    "        \"\"\"\n",
    "        \n",
    "        self.nPulses = nPulses\n",
    "        self.pulseEnergies = pulseEnergies\n",
    "        self.pulseTimes = pulseTimes\n",
    "        self.noise = noise\n",
    "        self.time = time\n",
    "        self.energy = energy\n",
    "        \n",
    "    def makeDF(self):\n",
    "        d = {'time': self.time,\n",
    "             'energy': self.energy}\n",
    "        df = pd.DataFrame(data = d)\n",
    "        return(df)"
   ]
  },
  {
   "cell_type": "code",
   "execution_count": 11,
   "metadata": {},
   "outputs": [],
   "source": [
    "def buildIsland(referenceSpline,\n",
    "                minPulses = 0, maxPulses = 4,\n",
    "                minEscale = 1, maxEscale=10,\n",
    "                deltaTmin = 0, deltaTmax = 25,\n",
    "                gainSag = None,\n",
    "                verbosity = False,\n",
    "                normalize = True,\n",
    "                noise = False, noiseLevel = 0.001,\n",
    "                nTailSamples = 150, randomizeTailLength = True):\n",
    "    \"\"\"\n",
    "    Sets up a single randomized Island object\n",
    "    \"\"\"\n",
    "    spline = referenceSpline.spline\n",
    "    times = referenceSpline.times\n",
    "    samplingRate = referenceSpline.samplingRate\n",
    "    \n",
    "    # figure out how many pulses there will be\n",
    "    nPulses = np.random.randint(minPulses, maxPulses+1)\n",
    "    if(verbosity): print(nPulses, \"pulses in this island\")\n",
    "             \n",
    "    # randomize the length of the tail samples\n",
    "    if(randomizeTailLength):\n",
    "        nTailSamples = nTailSamples + np.random.randint(-50, 100)\n",
    "        if(verbosity): print(nTailSamples, \"samples in this island\")\n",
    "            \n",
    "    # define the y and t arrays that you see in the plot before filling them\n",
    "    thisIsland = np.append(np.zeros_like(spline), np.zeros(nTailSamples))\n",
    "    # the time array is the original one, plus however much else we want based on nTailSamples\n",
    "    theseTimes = np.append(times, np.array([times[times.size-1] + samplingRate*i for i in range(1, nTailSamples+1)]))\n",
    "    \n",
    "    \n",
    "    # add gaussian noise to each sample\n",
    "    if(noise):\n",
    "        thisIsland += np.random.normal(0, gaussianNoiseLevel, size=thisIsland.size)\n",
    "        \n",
    "    # if nPulses is zero, we already have what we want and can end it here\n",
    "    if(nPulses == 0):\n",
    "        return Island(nPulses=nPulses, noise=noise, time=theseTimes, energy=thisIsland)\n",
    "    \n",
    "    # create the energy scaling values\n",
    "    energyScaleFactors = np.random.uniform(minEscale, maxEscale, size=nPulses)\n",
    "    if(verbosity): print(\"The energy scale factors are: {0}\".format(energyScaleFactors))\n",
    "    \n",
    "    # create the time offsets\n",
    "    timeOffsets = np.random.uniform(deltaTmin, deltaTmax, size=nPulses)\n",
    "    if(verbosity): print(\"The time offsets are: {0}\".format(timeOffsets))\n",
    "\n",
    "    # put the pulses together into thisIsland\n",
    "    for pulseIndex, deltaT in enumerate(timeOffsets):\n",
    "        sample_offset = int(np.floor(deltaT))\n",
    "        splineI = np.interp(times+deltaT-sample_offset, times, spline) * energyScaleFactors[pulseIndex]\n",
    "        thisIsland[sample_offset:sample_offset + len(splineI)] += splineI\n",
    "        \n",
    "    # normalize if needed:\n",
    "    if(normalize):\n",
    "        thisIsland /= np.sum(thisIsland)\n",
    "        \n",
    "    # now we are good to go\n",
    "    return Island(nPulses=nPulses, pulseEnergies=energyScaleFactors, pulseTimes=timeOffsets,\n",
    "                  noise=noise, time=theseTimes, energy=thisIsland)"
   ]
  },
  {
   "cell_type": "markdown",
   "metadata": {},
   "source": [
    "### Make a single island for testing"
   ]
  },
  {
   "cell_type": "code",
   "execution_count": 16,
   "metadata": {},
   "outputs": [
    {
     "name": "stdout",
     "output_type": "stream",
     "text": [
      "2 pulses in this island\n",
      "221 samples in this island\n",
      "The energy scale factors are: [6.32383311 8.69261246]\n",
      "The time offsets are: [ 5.44029396 14.50982955]\n"
     ]
    },
    {
     "data": {
      "image/png": "[encoded data removed]",
      "text/plain": [
       "<Figure size 360x360 with 1 Axes>"
      ]
     },
     "metadata": {
      "needs_background": "light"
     },
     "output_type": "display_data"
    }
   ],
   "source": [
    "f = r.TFile(\"./calotemplate15.root\")\n",
    "spline0 = Spline(f.Get(\"masterSpline_xtal0\"))\n",
    "\n",
    "testIsland = buildIsland(referenceSpline=spline0,\n",
    "                      verbosity=True, randomizeTailLength=True)\n",
    "\n",
    "fig, ax = plt.subplots(1,1);\n",
    "fig.set_size_inches(5,5);\n",
    "\n",
    "ax.plot(testIsland.time, testIsland.energy);\n",
    "ax.set_xlim(-20, 300);"
   ]
  },
  {
   "cell_type": "code",
   "execution_count": 17,
   "metadata": {},
   "outputs": [
    {
     "data": {
      "text/html": [
       "<div>\n",
       "<style scoped>\n",
       "    .dataframe tbody tr th:only-of-type {\n",
       "        vertical-align: middle;\n",
       "    }\n",
       "\n",
       "    .dataframe tbody tr th {\n",
       "        vertical-align: top;\n",
       "    }\n",
       "\n",
       "    .dataframe thead th {\n",
       "        text-align: right;\n",
       "    }\n",
       "</style>\n",
       "<table border=\"1\" class=\"dataframe\">\n",
       "  <thead>\n",
       "    <tr style=\"text-align: right;\">\n",
       "      <th></th>\n",
       "      <th>time</th>\n",
       "      <th>energy</th>\n",
       "    </tr>\n",
       "  </thead>\n",
       "  <tbody>\n",
       "    <tr>\n",
       "      <th>0</th>\n",
       "      <td>-20.476190</td>\n",
       "      <td>0.0</td>\n",
       "    </tr>\n",
       "    <tr>\n",
       "      <th>1</th>\n",
       "      <td>-18.456469</td>\n",
       "      <td>0.0</td>\n",
       "    </tr>\n",
       "    <tr>\n",
       "      <th>2</th>\n",
       "      <td>-16.436748</td>\n",
       "      <td>0.0</td>\n",
       "    </tr>\n",
       "    <tr>\n",
       "      <th>3</th>\n",
       "      <td>-14.417027</td>\n",
       "      <td>0.0</td>\n",
       "    </tr>\n",
       "    <tr>\n",
       "      <th>4</th>\n",
       "      <td>-12.397306</td>\n",
       "      <td>0.0</td>\n",
       "    </tr>\n",
       "    <tr>\n",
       "      <th>...</th>\n",
       "      <td>...</td>\n",
       "      <td>...</td>\n",
       "    </tr>\n",
       "    <tr>\n",
       "      <th>316</th>\n",
       "      <td>617.755652</td>\n",
       "      <td>0.0</td>\n",
       "    </tr>\n",
       "    <tr>\n",
       "      <th>317</th>\n",
       "      <td>619.775373</td>\n",
       "      <td>0.0</td>\n",
       "    </tr>\n",
       "    <tr>\n",
       "      <th>318</th>\n",
       "      <td>621.795094</td>\n",
       "      <td>0.0</td>\n",
       "    </tr>\n",
       "    <tr>\n",
       "      <th>319</th>\n",
       "      <td>623.814815</td>\n",
       "      <td>0.0</td>\n",
       "    </tr>\n",
       "    <tr>\n",
       "      <th>320</th>\n",
       "      <td>625.834536</td>\n",
       "      <td>0.0</td>\n",
       "    </tr>\n",
       "  </tbody>\n",
       "</table>\n",
       "<p>321 rows × 2 columns</p>\n",
       "</div>"
      ],
      "text/plain": [
       "           time  energy\n",
       "0    -20.476190     0.0\n",
       "1    -18.456469     0.0\n",
       "2    -16.436748     0.0\n",
       "3    -14.417027     0.0\n",
       "4    -12.397306     0.0\n",
       "..          ...     ...\n",
       "316  617.755652     0.0\n",
       "317  619.775373     0.0\n",
       "318  621.795094     0.0\n",
       "319  623.814815     0.0\n",
       "320  625.834536     0.0\n",
       "\n",
       "[321 rows x 2 columns]"
      ]
     },
     "execution_count": 17,
     "metadata": {},
     "output_type": "execute_result"
    }
   ],
   "source": [
    "testIsland.makeDF()"
   ]
  },
  {
   "cell_type": "markdown",
   "metadata": {},
   "source": [
    "### Make a bunch of islands, and save them to x and y files for our ML"
   ]
  },
  {
   "cell_type": "code",
   "execution_count": 28,
   "metadata": {},
   "outputs": [],
   "source": [
    "nIslands = 100000\n",
    "\n",
    "f = r.TFile(\"./calotemplate15.root\")\n",
    "\n",
    "x = []\n",
    "y = []\n",
    "\n",
    "for index in range(0, nIslands+1):\n",
    "    splineNum = np.random.randint(low=0, high=54)\n",
    "    indexSpline = Spline(f.Get(\"masterSpline_xtal\" + str(splineNum)))\n",
    "    indexIsland = buildIsland(referenceSpline=indexSpline,\n",
    "                              minPulses = 0, maxPulses = 4,\n",
    "                              minEscale = 1, maxEscale=10,\n",
    "                              deltaTmin = 0, deltaTmax = 25,\n",
    "                              gainSag = None,\n",
    "                              verbosity = False,\n",
    "                              normalize = True,\n",
    "                              noise = False, noiseLevel = 0.001,\n",
    "                              nTailSamples = 150, randomizeTailLength = True)\n",
    "    \n",
    "    x.append([indexIsland.time, indexIsland.energy])\n",
    "    y.append(indexIsland.nPulses)\n",
    "    \n",
    "with open('./template_data/set_1/x.data', 'wb') as xFile:\n",
    "    pickle.dump(x, xFile)\n",
    "    xFile.close()\n",
    "with open('./template_data/set_1/y.data', 'wb') as yFile:\n",
    "    pickle.dump(y, yFile)\n",
    "    yFile.close()"
   ]
  },
  {
   "cell_type": "markdown",
   "metadata": {},
   "source": [
    "Just a quick test that we actually got something:"
   ]
  },
  {
   "cell_type": "code",
   "execution_count": 31,
   "metadata": {},
   "outputs": [
    {
     "name": "stdout",
     "output_type": "stream",
     "text": [
      "[3, 2, 2, 1, 4, 4, 0, 0, 2, 4, 1, 4, 3, 0, 0, 3, 3, 3, 3, 1, 0, 4, 2, 3, 3, 1, 4, 1, 4, 2, 2, 0, 4, 0, 4, 1, 1, 1, 0, 1, 4, 2, 1, 0, 4, 1, 2, 1, 1, 0, 2, 1, 0, 1, 1, 3, 2, 0, 0, 4, 0, 2, 3, 3, 2, 2, 3, 3, 2, 1, 1, 3, 1, 4, 3, 1, 3, 1, 3, 2, 4, 3, 1, 4, 2, 1, 2, 3, 2, 0, 1, 3, 4, 3, 2, 1, 4, 0, 3, 0]\n"
     ]
    }
   ],
   "source": [
    "with open('./template_data/set_1/y.data', 'rb') as yFile:\n",
    "    y = pickle.load(yFile)\n",
    "    print(y[:100])\n",
    "    yFile.close()"
   ]
  },
  {
   "cell_type": "code",
   "execution_count": null,
   "metadata": {},
   "outputs": [],
   "source": []
  }
 ],
 "metadata": {
  "kernelspec": {
   "display_name": "Python 3",
   "language": "python",
   "name": "python3"
  },
  "language_info": {
   "codemirror_mode": {
    "name": "ipython",
    "version": 3
   },
   "file_extension": ".py",
   "mimetype": "text/x-python",
   "name": "python",
   "nbconvert_exporter": "python",
   "pygments_lexer": "ipython3",
   "version": "3.7.5"
  }
 },
 "nbformat": 4,
 "nbformat_minor": 4
}
