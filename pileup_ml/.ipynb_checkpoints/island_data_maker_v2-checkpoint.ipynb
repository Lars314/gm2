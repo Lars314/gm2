{
 "cells": [
  {
   "cell_type": "markdown",
   "metadata": {},
   "source": [
    "#### The purpose of this notebook is to produce train and test data for the ML algorithm using template pulses"
   ]
  },
  {
   "cell_type": "code",
   "execution_count": 1,
   "metadata": {},
   "outputs": [
    {
     "name": "stdout",
     "output_type": "stream",
     "text": [
      "Welcome to JupyROOT 6.18/04\n"
     ]
    }
   ],
   "source": [
    "import ROOT as r\n",
    "import pandas as pd\n",
    "import matplotlib.pyplot as plt\n",
    "import numpy as np\n",
    "import sklearn as skl\n",
    "import pickle\n",
    "import spliland_v2 as spl\n",
    "import importlib\n",
    "import random\n",
    "import fclParse\n",
    "from scipy import stats\n",
    "from datetime import datetime, time"
   ]
  },
  {
   "cell_type": "code",
   "execution_count": 2,
   "metadata": {},
   "outputs": [],
   "source": [
    "# run this to make printing cleaner\n",
    "np.set_printoptions(precision=None)"
   ]
  },
  {
   "cell_type": "code",
   "execution_count": 5,
   "metadata": {},
   "outputs": [],
   "source": [
    "# Reload stuff in case you make changes!\n",
    "\n",
    "importlib.reload(spl);"
   ]
  },
  {
   "cell_type": "code",
   "execution_count": 6,
   "metadata": {},
   "outputs": [
    {
     "name": "stdout",
     "output_type": "stream",
     "text": [
      "index 0\n",
      "index 1000\n",
      "index 2000\n",
      "index 3000\n",
      "index 4000\n",
      "index 5000\n",
      "\n",
      "time:\n",
      "3731.062841\n"
     ]
    }
   ],
   "source": [
    "nIslands = 1000\n",
    "directory = './template_data_v2/set_2/'\n",
    "\n",
    "x = []\n",
    "y = []\n",
    "x_delta = []\n",
    "\n",
    "start = datetime.now()\n",
    "\n",
    "for index in range(0, nIslands+1):\n",
    "    indexIsland = spl.Island()\n",
    "\n",
    "    x.append(indexIsland.island_trace)\n",
    "    y.append(indexIsland.nParticles)\n",
    "\n",
    "    if (index % 1000 == 0):\n",
    "        print(\"index {0}\".format(index))\n",
    "        \n",
    "end = datetime.now()\n",
    "diff = end - start\n",
    "print(\"\\ntime:\")\n",
    "print(diff.total_seconds())\n",
    "\n",
    "with open(directory + 'x_test.data', 'wb') as xFile:\n",
    "    pickle.dump(x, xFile)\n",
    "    xFile.close()\n",
    "\n",
    "with open(directory + 'y_test.data', 'wb') as yFile:\n",
    "    pickle.dump(y, yFile)\n",
    "    yFile.close()"
   ]
  },
  {
   "cell_type": "code",
   "execution_count": null,
   "metadata": {},
   "outputs": [],
   "source": []
  }
 ],
 "metadata": {
  "kernelspec": {
   "display_name": "Python 3",
   "language": "python",
   "name": "python3"
  },
  "language_info": {
   "codemirror_mode": {
    "name": "ipython",
    "version": 3
   },
   "file_extension": ".py",
   "mimetype": "text/x-python",
   "name": "python",
   "nbconvert_exporter": "python",
   "pygments_lexer": "ipython3",
   "version": "3.7.5"
  }
 },
 "nbformat": 4,
 "nbformat_minor": 4
}
