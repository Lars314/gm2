{
 "cells": [
  {
   "cell_type": "markdown",
   "metadata": {},
   "source": [
    "### Island Object Test v2\n",
    "\n",
    "The purpose of this notebook is to test the second major version of the island creation. This version is focused on a calorimeter wide approach much more accurate to the actual experimental design."
   ]
  },
  {
   "cell_type": "code",
   "execution_count": 123,
   "metadata": {},
   "outputs": [],
   "source": [
    "import spliland_v2 as csi\n",
    "import importlib\n",
    "import ROOT as r\n",
    "import pandas as pd\n",
    "import matplotlib.pyplot as plt\n",
    "import numpy as np"
   ]
  },
  {
   "cell_type": "code",
   "execution_count": 238,
   "metadata": {},
   "outputs": [],
   "source": [
    "# Reload stuff in case you make changes!\n",
    "importlib.reload(csi);"
   ]
  },
  {
   "cell_type": "code",
   "execution_count": 239,
   "metadata": {},
   "outputs": [],
   "source": [
    "calo = csi.Calorimeter(caloNum=1, verbosity=False)"
   ]
  },
  {
   "cell_type": "raw",
   "metadata": {},
   "source": [
    "calo.clear()"
   ]
  },
  {
   "cell_type": "code",
   "execution_count": 240,
   "metadata": {},
   "outputs": [
    {
     "name": "stdout",
     "output_type": "stream",
     "text": [
      "No particle energy provided, defaulting to energy of 3.094 GeV\n",
      "\n",
      "----- New Particle -----\n",
      "(x, y) : (1.50, 1.50)\n",
      "Energy : 3094.00 MeV\n",
      "Time : 22.85 ns\n",
      "\n",
      "No particle energy provided, defaulting to energy of 3.094 GeV\n",
      "\n",
      "----- New Particle -----\n",
      "(x, y) : (1.50, 1.50)\n",
      "Energy : 3094.00 MeV\n",
      "Time : 0.98 ns\n",
      "\n"
     ]
    }
   ],
   "source": [
    "nParticles = 2\n",
    "for i in range(0, nParticles):\n",
    "    p1 = csi.Particle(x=1.5, y=1.5)\n",
    "    print(p1)\n",
    "    calo.impact(p1)\n",
    "calo.get_hit_crystals_()\n",
    "calo.build_crystal_impacts_()"
   ]
  },
  {
   "cell_type": "code",
   "execution_count": 241,
   "metadata": {},
   "outputs": [
    {
     "data": {
      "image/png": "[encoded data removed]",
      "text/plain": [
       "<Figure size 648x432 with 1 Axes>"
      ]
     },
     "metadata": {
      "needs_background": "light"
     },
     "output_type": "display_data"
    }
   ],
   "source": [
    "calo.draw(legend=True, show_moliere_radius=True,\n",
    "          show_hit_xtals=True, show_xtal_energies=True)"
   ]
  },
  {
   "cell_type": "code",
   "execution_count": 242,
   "metadata": {},
   "outputs": [
    {
     "name": "stdout",
     "output_type": "stream",
     "text": [
      "[[22.848026084766808, 114.03197243945222], [0.9759820702045952, 114.03197243945222]]\n"
     ]
    }
   ],
   "source": [
    "print(calo.xtalGrid[0][0].impacts)"
   ]
  },
  {
   "cell_type": "code",
   "execution_count": 243,
   "metadata": {},
   "outputs": [
    {
     "name": "stdout",
     "output_type": "stream",
     "text": [
      "10\n",
      "-0.2789802789802778\n",
      "22.848026084766808 11\n",
      "0.9759820702045952 0\n",
      "10\n",
      "-0.2789802789802778\n",
      "22.848026084766808 11\n",
      "0.9759820702045952 0\n",
      "10\n",
      "-0.2789802789802778\n",
      "22.848026084766808 11\n",
      "The history saving thread hit an unexpected error (OperationalError('unable to open database file')).History will not be written to the database.0.9759820702045952 0\n",
      "10\n",
      "-0.2789802789802778\n",
      "22.848026084766808 11\n",
      "0.9759820702045952 0\n",
      "10\n",
      "-0.2789802789802778\n",
      "22.848026084766808 11\n",
      "0.9759820702045952 0\n",
      "10\n",
      "-0.2789802789802778\n",
      "22.848026084766808 11\n",
      "0.9759820702045952 0\n",
      "10\n",
      "-0.2789802789802778\n",
      "22.848026084766808 11\n",
      "0.9759820702045952 0\n",
      "10\n",
      "-0.2789802789802778\n",
      "22.848026084766808 11\n",
      "0.9759820702045952 0\n",
      "10\n",
      "-0.2789802789802778\n",
      "22.848026084766808 11\n",
      "0.9759820702045952 0\n"
     ]
    },
    {
     "name": "stderr",
     "output_type": "stream",
     "text": [
      "Exception in thread IPythonHistorySavingThread:\n",
      "Traceback (most recent call last):\n",
      "  File \"/home/lars/miniconda3/lib/python3.7/site-packages/IPython/core/history.py\", line 834, in run\n",
      "  File \"</home/lars/miniconda3/lib/python3.7/site-packages/decorator.py:decorator-gen-23>\", line 2, in writeout_cache\n",
      "  File \"/home/lars/miniconda3/lib/python3.7/site-packages/IPython/core/history.py\", line 58, in needs_sqlite\n",
      "  File \"/home/lars/miniconda3/lib/python3.7/site-packages/IPython/core/history.py\", line 780, in writeout_cache\n",
      "  File \"/home/lars/miniconda3/lib/python3.7/site-packages/IPython/core/history.py\", line 764, in _writeout_input_cache\n",
      "sqlite3.OperationalError: unable to open database file\n",
      "\n",
      "During handling of the above exception, another exception occurred:\n",
      "\n",
      "Traceback (most recent call last):\n",
      "  File \"/home/lars/miniconda3/lib/python3.7/site-packages/ipykernel/iostream.py\", line 97, in _event_pipe\n",
      "AttributeError: '_thread._local' object has no attribute 'event_pipe'\n",
      "\n",
      "During handling of the above exception, another exception occurred:\n",
      "\n",
      "Traceback (most recent call last):\n",
      "  File \"/home/lars/miniconda3/lib/python3.7/threading.py\", line 926, in _bootstrap_inner\n",
      "  File \"</home/lars/miniconda3/lib/python3.7/site-packages/decorator.py:decorator-gen-24>\", line 2, in run\n",
      "  File \"/home/lars/miniconda3/lib/python3.7/site-packages/IPython/core/history.py\", line 58, in needs_sqlite\n",
      "  File \"/home/lars/miniconda3/lib/python3.7/site-packages/IPython/core/history.py\", line 837, in run\n",
      "  File \"/home/lars/miniconda3/lib/python3.7/site-packages/ipykernel/iostream.py\", line 402, in write\n",
      "  File \"/home/lars/miniconda3/lib/python3.7/site-packages/ipykernel/iostream.py\", line 205, in schedule\n",
      "  File \"/home/lars/miniconda3/lib/python3.7/site-packages/ipykernel/iostream.py\", line 101, in _event_pipe\n",
      "  File \"/home/lars/miniconda3/lib/python3.7/site-packages/zmq/sugar/context.py\", line 204, in socket\n",
      "  File \"/home/lars/miniconda3/lib/python3.7/site-packages/zmq/sugar/socket.py\", line 59, in __init__\n",
      "  File \"zmq/backend/cython/socket.pyx\", line 328, in zmq.backend.cython.socket.Socket.__init__\n",
      "zmq.error.ZMQError: Too many open files\n",
      "Unhandled exception in thread started by <bound method Thread._bootstrap of <HistorySavingThread(IPythonHistorySavingThread, started 140516893124352)>>\n",
      "Error in sys.excepthook:\n",
      "Traceback (most recent call last):\n",
      "\n",
      "\n",
      "During handling of the above exception, another exception occurred:\n",
      "\n",
      "\n",
      "\n",
      "Original exception was:\n",
      "Traceback (most recent call last):\n",
      "\n",
      "\n",
      "During handling of the above exception, another exception occurred:\n",
      "\n",
      "\n",
      "\n",
      "During handling of the above exception, another exception occurred:\n",
      "\n",
      "\n",
      "\n",
      "During handling of the above exception, another exception occurred:\n",
      "\n",
      "\n",
      "\n",
      "During handling of the above exception, another exception occurred:\n",
      "\n",
      "\n"
     ]
    }
   ],
   "source": [
    "calo.build_impacted_crystals_()"
   ]
  },
  {
   "cell_type": "raw",
   "metadata": {},
   "source": [
    "calo.xtalGrid[0][0].build_trace()"
   ]
  },
  {
   "cell_type": "code",
   "execution_count": 237,
   "metadata": {},
   "outputs": [
    {
     "data": {
      "text/plain": [
       "[<matplotlib.lines.Line2D at 0x7fcc7012e990>]"
      ]
     },
     "execution_count": 237,
     "metadata": {},
     "output_type": "execute_result"
    },
    {
     "data": {
      "image/png": "[encoded data removed]",
      "text/plain": [
       "<Figure size 432x288 with 1 Axes>"
      ]
     },
     "metadata": {
      "needs_background": "light"
     },
     "output_type": "display_data"
    }
   ],
   "source": [
    "fig, ax = plt.subplots(1,1)\n",
    "\n",
    "ax.plot(calo.xtalGrid[0][0].choppedTime, calo.xtalGrid[0][0].choppedTrace)"
   ]
  },
  {
   "cell_type": "code",
   "execution_count": 187,
   "metadata": {},
   "outputs": [
    {
     "name": "stdout",
     "output_type": "stream",
     "text": [
      "(100,)\n",
      "(100,)\n"
     ]
    },
    {
     "data": {
      "image/png": "[encoded data removed]",
      "text/plain": [
       "<Figure size 720x360 with 2 Axes>"
      ]
     },
     "metadata": {
      "needs_background": "light"
     },
     "output_type": "display_data"
    }
   ],
   "source": [
    "fig, ax = plt.subplots(1,2)\n",
    "fig.set_size_inches(10,5)\n",
    "\n",
    "ax[0].plot(calo.xtalGrid[0][0].template.trace)\n",
    "ax[1].plot(calo.xtalGrid[0][0].template.time)\n",
    "\n",
    "print(calo.xtalGrid[0][0].template.trace.shape)\n",
    "print(calo.xtalGrid[0][0].template.time.shape)"
   ]
  },
  {
   "cell_type": "code",
   "execution_count": 25,
   "metadata": {},
   "outputs": [
    {
     "name": "stdout",
     "output_type": "stream",
     "text": [
      "Crystal 0 at (1, 1) has [time (ns), energy (MeV)]: []\n",
      "\n",
      "Crystal 9 at (1, 2) has [time (ns), energy (MeV)]: []\n",
      "\n",
      "Crystal 18 at (1, 3) has [time (ns), energy (MeV)]: []\n",
      "\n",
      "Crystal 27 at (1, 4) has [time (ns), energy (MeV)]: []\n",
      "\n",
      "Crystal 36 at (1, 5) has [time (ns), energy (MeV)]: []\n",
      "\n",
      "Crystal 45 at (1, 6) has [time (ns), energy (MeV)]: []\n",
      "\n",
      "Crystal 1 at (2, 1) has [time (ns), energy (MeV)]: []\n",
      "\n",
      "Crystal 10 at (2, 2) has [time (ns), energy (MeV)]: []\n",
      "\n",
      "Crystal 19 at (2, 3) has [time (ns), energy (MeV)]: []\n",
      "\n",
      "Crystal 28 at (2, 4) has [time (ns), energy (MeV)]: []\n",
      "\n",
      "Crystal 37 at (2, 5) has [time (ns), energy (MeV)]: []\n",
      "\n",
      "Crystal 46 at (2, 6) has [time (ns), energy (MeV)]: []\n",
      "\n",
      "Crystal 2 at (3, 1) has [time (ns), energy (MeV)]: []\n",
      "\n",
      "Crystal 11 at (3, 2) has [time (ns), energy (MeV)]: []\n",
      "\n",
      "Crystal 20 at (3, 3) has [time (ns), energy (MeV)]: []\n",
      "\n",
      "Crystal 29 at (3, 4) has [time (ns), energy (MeV)]: []\n",
      "\n",
      "Crystal 38 at (3, 5) has [time (ns), energy (MeV)]: []\n",
      "\n",
      "Crystal 47 at (3, 6) has [time (ns), energy (MeV)]: []\n",
      "\n",
      "Crystal 3 at (4, 1) has [time (ns), energy (MeV)]: []\n",
      "\n",
      "Crystal 12 at (4, 2) has [time (ns), energy (MeV)]: []\n",
      "\n",
      "Crystal 21 at (4, 3) has [time (ns), energy (MeV)]: []\n",
      "\n",
      "Crystal 30 at (4, 4) has [time (ns), energy (MeV)]: []\n",
      "\n",
      "Crystal 39 at (4, 5) has [time (ns), energy (MeV)]: []\n",
      "\n",
      "Crystal 48 at (4, 6) has [time (ns), energy (MeV)]: []\n",
      "\n",
      "Crystal 4 at (5, 1) has [time (ns), energy (MeV)]: []\n",
      "\n",
      "Crystal 13 at (5, 2) has [time (ns), energy (MeV)]: []\n",
      "\n",
      "Crystal 22 at (5, 3) has [time (ns), energy (MeV)]: []\n",
      "\n",
      "Crystal 31 at (5, 4) has [time (ns), energy (MeV)]: []\n",
      "\n",
      "Crystal 40 at (5, 5) has [time (ns), energy (MeV)]: []\n",
      "\n",
      "Crystal 49 at (5, 6) has [time (ns), energy (MeV)]: []\n",
      "\n",
      "Crystal 5 at (6, 1) has [time (ns), energy (MeV)]: []\n",
      "\n",
      "Crystal 14 at (6, 2) has [time (ns), energy (MeV)]: []\n",
      "\n",
      "Crystal 23 at (6, 3) has [time (ns), energy (MeV)]: []\n",
      "\n",
      "Crystal 32 at (6, 4) has [time (ns), energy (MeV)]: []\n",
      "\n",
      "Crystal 41 at (6, 5) has [time (ns), energy (MeV)]: []\n",
      "\n",
      "Crystal 50 at (6, 6) has [time (ns), energy (MeV)]: []\n",
      "\n",
      "Crystal 6 at (7, 1) has [time (ns), energy (MeV)]: []\n",
      "\n",
      "Crystal 15 at (7, 2) has [time (ns), energy (MeV)]: []\n",
      "\n",
      "Crystal 24 at (7, 3) has [time (ns), energy (MeV)]: []\n",
      "\n",
      "Crystal 33 at (7, 4) has [time (ns), energy (MeV)]: []\n",
      "\n",
      "Crystal 42 at (7, 5) has [time (ns), energy (MeV)]: [[1.268505757240751, 121.16477473865594]]\n",
      "\n",
      "Crystal 51 at (7, 6) has [time (ns), energy (MeV)]: [[1.268505757240751, 136.91480888765673]]\n",
      "\n",
      "Crystal 7 at (8, 1) has [time (ns), energy (MeV)]: []\n",
      "\n",
      "Crystal 16 at (8, 2) has [time (ns), energy (MeV)]: []\n",
      "\n",
      "Crystal 25 at (8, 3) has [time (ns), energy (MeV)]: []\n",
      "\n",
      "Crystal 34 at (8, 4) has [time (ns), energy (MeV)]: [[1.268505757240751, 91.33925850759977]]\n",
      "\n",
      "Crystal 43 at (8, 5) has [time (ns), energy (MeV)]: [[1.268505757240751, 533.127198847228]]\n",
      "\n",
      "Crystal 52 at (8, 6) has [time (ns), energy (MeV)]: [[1.268505757240751, 1079.5486857406324]]\n",
      "\n",
      "Crystal 8 at (9, 1) has [time (ns), energy (MeV)]: []\n",
      "\n",
      "Crystal 17 at (9, 2) has [time (ns), energy (MeV)]: []\n",
      "\n",
      "Crystal 26 at (9, 3) has [time (ns), energy (MeV)]: []\n",
      "\n",
      "Crystal 35 at (9, 4) has [time (ns), energy (MeV)]: [[1.268505757240751, 78.7789019651351]]\n",
      "\n",
      "Crystal 44 at (9, 5) has [time (ns), energy (MeV)]: [[1.268505757240751, 276.1451392336661]]\n",
      "\n",
      "Crystal 53 at (9, 6) has [time (ns), energy (MeV)]: [[1.268505757240751, 374.26940676019956]]\n",
      "\n",
      "\n"
     ]
    }
   ],
   "source": [
    "print(calo)"
   ]
  },
  {
   "cell_type": "code",
   "execution_count": 239,
   "metadata": {},
   "outputs": [],
   "source": [
    "calo.clear()"
   ]
  },
  {
   "cell_type": "code",
   "execution_count": null,
   "metadata": {},
   "outputs": [],
   "source": []
  }
 ],
 "metadata": {
  "kernelspec": {
   "display_name": "Python 3",
   "language": "python",
   "name": "python3"
  },
  "language_info": {
   "codemirror_mode": {
    "name": "ipython",
    "version": 3
   },
   "file_extension": ".py",
   "mimetype": "text/x-python",
   "name": "python",
   "nbconvert_exporter": "python",
   "pygments_lexer": "ipython3",
   "version": "3.7.5"
  }
 },
 "nbformat": 4,
 "nbformat_minor": 4
}
