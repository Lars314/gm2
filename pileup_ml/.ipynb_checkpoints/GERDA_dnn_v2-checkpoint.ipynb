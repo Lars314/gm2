{
 "cells": [
  {
   "cell_type": "code",
   "execution_count": 1,
   "metadata": {},
   "outputs": [],
   "source": [
    "import pandas as pd\n",
    "import matplotlib.pyplot as plt\n",
    "import numpy as np\n",
    "import sklearn as skl\n",
    "import pickle\n",
    "import spliland\n",
    "import importlib\n",
    "import random\n",
    "import fclParse\n",
    "from scipy import stats\n",
    "from sklearn.metrics import classification_report, confusion_matrix\n",
    "# TensorFlow and tf.keras\n",
    "import tensorflow as tf\n",
    "from tensorflow import keras\n",
    "from keras_lr_finder import LRFinder"
   ]
  },
  {
   "cell_type": "code",
   "execution_count": 2,
   "metadata": {},
   "outputs": [],
   "source": [
    "directory = './template_data_v2/set_3/'\n",
    "n_epochs = 100"
   ]
  },
  {
   "cell_type": "code",
   "execution_count": 3,
   "metadata": {},
   "outputs": [],
   "source": [
    "tf.config.run_functions_eagerly(True)"
   ]
  },
  {
   "cell_type": "markdown",
   "metadata": {},
   "source": [
    "## Intro\n",
    "\n",
    "The purpose of this notebook is to make a second attempt at a neural network, following along with what was described in the paper \"Deep Learning Based Pulse Shape Analysis for GERDA\" by Philipp Holl in 2017. This algorithm consists of an autoencoder, decoder, and then classifier.\n",
    "\n",
    "I am also following this guide: https://keras.io/examples/timeseries/timeseries_anomaly_detection/ for the implementation of the layers described in the paper into python"
   ]
  },
  {
   "cell_type": "markdown",
   "metadata": {},
   "source": [
    "### Prep the data"
   ]
  },
  {
   "cell_type": "raw",
   "metadata": {},
   "source": [
    "n_points = 4500\n",
    "\n",
    "with open(directory + 'x.data', 'rb') as xFile:\n",
    "    biggestX = pickle.load(xFile)\n",
    "    x_train = []\n",
    "    x_test = []\n",
    "    for x in biggestX[:n_points]:\n",
    "        x_train.append(x)\n",
    "    for x in biggestX[n_points:n_points+500]:\n",
    "        x_test.append(x)\n",
    "    xFile.close()\n",
    "\n",
    "with open(directory + 'y.data', 'rb') as yFile:\n",
    "    biggestY = pickle.load(yFile)\n",
    "    y_train = biggestY[:n_points]\n",
    "    y_test = biggestY[n_points:n_points+500]\n",
    "    yFile.close()\n",
    "    \n",
    "x_train = np.array(x_train)\n",
    "x_test = np.array(x_test)\n",
    "y_train = np.array(y_train)\n",
    "y_test = np.array(y_test)"
   ]
  },
  {
   "cell_type": "code",
   "execution_count": 4,
   "metadata": {},
   "outputs": [],
   "source": [
    "n_train_points = 5000\n",
    "n_test_points = 1000\n",
    "\n",
    "with open(directory + 'x_train.data', 'rb') as xFile:\n",
    "    biggestX = pickle.load(xFile)\n",
    "    x_train = []\n",
    "    for x in biggestX[:n_train_points]:\n",
    "        x_train.append(x)\n",
    "    xFile.close()\n",
    "\n",
    "with open(directory + 'y_train.data', 'rb') as yFile:\n",
    "    biggestY = pickle.load(yFile)\n",
    "    y_train = biggestY[:n_train_points]\n",
    "    yFile.close()\n",
    "    \n",
    "with open(directory + 'x_test.data', 'rb') as xFile:\n",
    "    biggestX = pickle.load(xFile)\n",
    "    x_test = []\n",
    "    for x in biggestX[:n_test_points]:\n",
    "        x_test.append(x)\n",
    "    xFile.close()\n",
    "\n",
    "with open(directory + 'y_test.data', 'rb') as yFile:\n",
    "    biggestY = pickle.load(yFile)\n",
    "    y_test = biggestY[:n_test_points]\n",
    "    yFile.close()\n",
    "    \n",
    "x_train = np.array(x_train)\n",
    "x_test = np.array(x_test)\n",
    "y_train = np.array(y_train)\n",
    "y_test = np.array(y_test)"
   ]
  },
  {
   "cell_type": "code",
   "execution_count": 5,
   "metadata": {},
   "outputs": [],
   "source": [
    "X_train = np.reshape(x_train, (n_train_points, 21816, 1))\n",
    "Y_train = np.reshape(y_train, (n_train_points, 1))"
   ]
  },
  {
   "cell_type": "code",
   "execution_count": 6,
   "metadata": {},
   "outputs": [
    {
     "data": {
      "text/plain": [
       "(5000, 21816, 1)"
      ]
     },
     "execution_count": 6,
     "metadata": {},
     "output_type": "execute_result"
    }
   ],
   "source": [
    "X_train.shape"
   ]
  },
  {
   "cell_type": "markdown",
   "metadata": {},
   "source": [
    "### Classifier"
   ]
  },
  {
   "cell_type": "code",
   "execution_count": 7,
   "metadata": {},
   "outputs": [],
   "source": [
    "classifier_model = keras.Sequential([\n",
    "    keras.layers.Dense(256, activation='relu', input_shape=(21816,)),\n",
    "    keras.layers.Dense(20, activation='relu'),\n",
    "    keras.layers.Dense(256, activation='relu'),\n",
    "    keras.layers.Dense(20, activation='relu'),\n",
    "    keras.layers.Dense(256, activation='relu'),\n",
    "    keras.layers.Dense(20, activation='relu'),\n",
    "    keras.layers.Dense(256, activation='relu'),\n",
    "    keras.layers.Dense(20, activation='relu'),\n",
    "    keras.layers.Dense(256, activation='relu'),\n",
    "    keras.layers.Dense(20, activation='relu')\n",
    "])"
   ]
  },
  {
   "cell_type": "code",
   "execution_count": 8,
   "metadata": {},
   "outputs": [],
   "source": [
    "classifier_model.compile(optimizer = 'adam', loss=tf.keras.losses.SparseCategoricalCrossentropy(from_logits=True), metrics=['accuracy'])"
   ]
  },
  {
   "cell_type": "code",
   "execution_count": 9,
   "metadata": {},
   "outputs": [
    {
     "name": "stdout",
     "output_type": "stream",
     "text": [
      "(5000, 21816, 1)\n",
      "(5000, 1)\n"
     ]
    }
   ],
   "source": [
    "print(X_train.shape)\n",
    "print(Y_train.shape)"
   ]
  },
  {
   "cell_type": "code",
   "execution_count": 35,
   "metadata": {},
   "outputs": [
    {
     "name": "stdout",
     "output_type": "stream",
     "text": [
      "Epoch 1/50\n",
      "10/10 [==============================] - 1s 74ms/step - loss: 2.9972 - accuracy: 0.0638\n",
      "Epoch 2/50\n",
      "10/10 [==============================] - 1s 74ms/step - loss: 2.8317 - accuracy: 0.1966\n",
      "Epoch 3/50\n",
      "10/10 [==============================] - 1s 76ms/step - loss: 2.6423 - accuracy: 0.1996\n",
      "Epoch 4/50\n",
      "10/10 [==============================] - 1s 74ms/step - loss: 2.5342 - accuracy: 0.2266\n",
      "Epoch 5/50\n",
      "10/10 [==============================] - 1s 74ms/step - loss: 2.3667 - accuracy: 0.3534\n",
      "Epoch 6/50\n",
      "10/10 [==============================] - 1s 74ms/step - loss: 2.0664 - accuracy: 0.4610\n",
      "Epoch 7/50\n",
      "10/10 [==============================] - 1s 76ms/step - loss: 1.8948 - accuracy: 0.4720\n",
      "Epoch 8/50\n",
      "10/10 [==============================] - 1s 75ms/step - loss: 1.8411 - accuracy: 0.4824\n",
      "Epoch 9/50\n",
      "10/10 [==============================] - 1s 76ms/step - loss: 1.7712 - accuracy: 0.4938\n",
      "Epoch 10/50\n",
      "10/10 [==============================] - 1s 74ms/step - loss: 1.4261 - accuracy: 0.5958\n",
      "Epoch 11/50\n",
      "10/10 [==============================] - 1s 78ms/step - loss: 1.3119 - accuracy: 0.6446\n",
      "Epoch 12/50\n",
      "10/10 [==============================] - 1s 77ms/step - loss: 1.2925 - accuracy: 0.6482\n",
      "Epoch 13/50\n",
      "10/10 [==============================] - 1s 78ms/step - loss: 1.2115 - accuracy: 0.6746\n",
      "Epoch 14/50\n",
      "10/10 [==============================] - 1s 77ms/step - loss: 1.0929 - accuracy: 0.7052\n",
      "Epoch 15/50\n",
      "10/10 [==============================] - 1s 78ms/step - loss: 1.0896 - accuracy: 0.7058\n",
      "Epoch 16/50\n",
      "10/10 [==============================] - 1s 110ms/step - loss: 1.0650 - accuracy: 0.7246\n",
      "Epoch 17/50\n",
      "10/10 [==============================] - 1s 107ms/step - loss: 1.0504 - accuracy: 0.7220\n",
      "Epoch 18/50\n",
      "10/10 [==============================] - 1s 107ms/step - loss: 1.0762 - accuracy: 0.7130\n",
      "Epoch 19/50\n",
      "10/10 [==============================] - 1s 113ms/step - loss: 1.1141 - accuracy: 0.7040\n",
      "Epoch 20/50\n",
      "10/10 [==============================] - 1s 107ms/step - loss: 2.1206 - accuracy: 0.4764\n",
      "Epoch 21/50\n",
      "10/10 [==============================] - 1s 107ms/step - loss: 2.5119 - accuracy: 0.3148\n",
      "Epoch 22/50\n",
      "10/10 [==============================] - 1s 111ms/step - loss: 2.3144 - accuracy: 0.3708\n",
      "Epoch 23/50\n",
      "10/10 [==============================] - 1s 109ms/step - loss: 2.2154 - accuracy: 0.4014\n",
      "Epoch 24/50\n",
      "10/10 [==============================] - 1s 108ms/step - loss: 2.6616 - accuracy: 0.2132\n",
      "Epoch 25/50\n",
      "10/10 [==============================] - 1s 111ms/step - loss: 2.5152 - accuracy: 0.1958\n",
      "Epoch 26/50\n",
      "10/10 [==============================] - 1s 106ms/step - loss: 2.4979 - accuracy: 0.1956\n",
      "Epoch 27/50\n",
      "10/10 [==============================] - 1s 110ms/step - loss: 2.4959 - accuracy: 0.1984\n",
      "Epoch 28/50\n",
      "10/10 [==============================] - 1s 103ms/step - loss: 2.4941 - accuracy: 0.1884\n",
      "Epoch 29/50\n",
      "10/10 [==============================] - 1s 110ms/step - loss: 2.4926 - accuracy: 0.1980\n",
      "Epoch 30/50\n",
      "10/10 [==============================] - 1s 104ms/step - loss: 2.4925 - accuracy: 0.1980\n",
      "Epoch 31/50\n",
      "10/10 [==============================] - 1s 102ms/step - loss: 2.4979 - accuracy: 0.1948\n",
      "Epoch 32/50\n",
      "10/10 [==============================] - 1s 135ms/step - loss: 2.4959 - accuracy: 0.1896\n",
      "Epoch 33/50\n",
      "10/10 [==============================] - 1s 139ms/step - loss: 2.4964 - accuracy: 0.1958\n",
      "Epoch 34/50\n",
      "10/10 [==============================] - 1s 121ms/step - loss: 2.4963 - accuracy: 0.1874\n",
      "Epoch 35/50\n",
      "10/10 [==============================] - 1s 116ms/step - loss: 2.4986 - accuracy: 0.1958\n",
      "Epoch 36/50\n",
      "10/10 [==============================] - 1s 105ms/step - loss: 2.5022 - accuracy: 0.1908\n",
      "Epoch 37/50\n",
      "10/10 [==============================] - 1s 119ms/step - loss: 2.5035 - accuracy: 0.1858\n",
      "Epoch 38/50\n",
      "10/10 [==============================] - 1s 114ms/step - loss: 2.4964 - accuracy: 0.1912\n",
      "Epoch 39/50\n",
      "10/10 [==============================] - 1s 110ms/step - loss: 2.6108 - accuracy: 0.1942\n",
      "Epoch 40/50\n",
      "10/10 [==============================] - 1s 106ms/step - loss: 2.5738 - accuracy: 0.1934\n",
      "Epoch 41/50\n",
      "10/10 [==============================] - 1s 107ms/step - loss: 2.5930 - accuracy: 0.2016\n",
      "Epoch 42/50\n",
      "10/10 [==============================] - 1s 108ms/step - loss: 2.5615 - accuracy: 0.1956\n",
      "Epoch 43/50\n",
      "10/10 [==============================] - 1s 108ms/step - loss: 2.4992 - accuracy: 0.2026\n",
      "Epoch 44/50\n",
      "10/10 [==============================] - 1s 108ms/step - loss: 2.4800 - accuracy: 0.2010\n",
      "Epoch 45/50\n",
      "10/10 [==============================] - 1s 106ms/step - loss: 2.4748 - accuracy: 0.2056\n",
      "Epoch 46/50\n",
      "10/10 [==============================] - 1s 110ms/step - loss: 2.4750 - accuracy: 0.2108\n",
      "Epoch 47/50\n",
      "10/10 [==============================] - 1s 108ms/step - loss: 2.4752 - accuracy: 0.1974\n",
      "Epoch 48/50\n",
      "10/10 [==============================] - 1s 107ms/step - loss: 2.4759 - accuracy: 0.2026\n",
      "Epoch 49/50\n",
      "10/10 [==============================] - 1s 105ms/step - loss: 2.4735 - accuracy: 0.2014\n",
      "Epoch 50/50\n",
      "10/10 [==============================] - 1s 107ms/step - loss: 2.4790 - accuracy: 0.1968\n"
     ]
    }
   ],
   "source": [
    "# model is a Keras model\n",
    "lr_finder = LRFinder(classifier_model)\n",
    "\n",
    "# Train a model with batch size 512 for 5 epochs\n",
    "# with learning rate growing exponentially from 0.0001 to 1\n",
    "lr_finder.find(x_train, y_train, start_lr=0.0001, end_lr=1, batch_size=512, epochs=50)"
   ]
  },
  {
   "cell_type": "code",
   "execution_count": 36,
   "metadata": {},
   "outputs": [
    {
     "data": {
      "image/png": "[encoded data removed]",
      "text/plain": [
       "<Figure size 432x288 with 1 Axes>"
      ]
     },
     "metadata": {
      "needs_background": "light"
     },
     "output_type": "display_data"
    }
   ],
   "source": [
    "# Plot the loss, ignore 20 batches in the beginning and 5 in the end\n",
    "lr_finder.plot_loss(n_skip_beginning=20, n_skip_end=5)"
   ]
  },
  {
   "cell_type": "code",
   "execution_count": 38,
   "metadata": {},
   "outputs": [
    {
     "data": {
      "image/png": "[encoded data removed]",
      "text/plain": [
       "<Figure size 432x288 with 1 Axes>"
      ]
     },
     "metadata": {
      "needs_background": "light"
     },
     "output_type": "display_data"
    }
   ],
   "source": [
    "# Plot rate of change of the loss\n",
    "# Ignore 20 batches in the beginning and 5 in the end\n",
    "# Smooth the curve using simple moving average of 20 batches\n",
    "# Limit the range for y axis to (-0.02, 0.01)\n",
    "lr_finder.plot_loss_change(sma=20, n_skip_beginning=20, n_skip_end=5, y_lim=(-0.05, 0.02))"
   ]
  },
  {
   "cell_type": "code",
   "execution_count": 10,
   "metadata": {},
   "outputs": [
    {
     "name": "stderr",
     "output_type": "stream",
     "text": [
      "/home/lars/miniconda3/lib/python3.7/site-packages/tensorflow/python/data/ops/dataset_ops.py:3350: UserWarning: Even though the tf.config.experimental_run_functions_eagerly option is set, this option does not apply to tf.data functions. tf.data functions are still traced and executed as graphs.\n",
      "  \"Even though the tf.config.experimental_run_functions_eagerly \"\n"
     ]
    },
    {
     "name": "stdout",
     "output_type": "stream",
     "text": [
      "Epoch 1/200\n",
      "157/157 [==============================] - 6s 38ms/step - loss: 2.5179 - accuracy: 0.2492\n",
      "Epoch 2/200\n",
      "157/157 [==============================] - 6s 39ms/step - loss: 2.3560 - accuracy: 0.3156\n",
      "Epoch 3/200\n",
      "157/157 [==============================] - 6s 38ms/step - loss: 2.2479 - accuracy: 0.3656\n",
      "Epoch 4/200\n",
      "157/157 [==============================] - 6s 38ms/step - loss: 2.0963 - accuracy: 0.4238\n",
      "Epoch 5/200\n",
      "157/157 [==============================] - 6s 38ms/step - loss: 1.6909 - accuracy: 0.4666\n",
      "Epoch 6/200\n",
      "157/157 [==============================] - 6s 38ms/step - loss: 1.3809 - accuracy: 0.5514\n",
      "Epoch 7/200\n",
      "157/157 [==============================] - 6s 39ms/step - loss: 1.2435 - accuracy: 0.6042\n",
      "Epoch 8/200\n",
      "157/157 [==============================] - 6s 39ms/step - loss: 1.1649 - accuracy: 0.6428\n",
      "Epoch 9/200\n",
      "157/157 [==============================] - 6s 39ms/step - loss: 1.0213 - accuracy: 0.6864\n",
      "Epoch 10/200\n",
      "157/157 [==============================] - 6s 38ms/step - loss: 0.9726 - accuracy: 0.7022\n",
      "Epoch 11/200\n",
      "157/157 [==============================] - 6s 38ms/step - loss: 0.8954 - accuracy: 0.7252\n",
      "Epoch 12/200\n",
      "157/157 [==============================] - 6s 38ms/step - loss: 0.8525 - accuracy: 0.7344\n",
      "Epoch 13/200\n",
      "157/157 [==============================] - 6s 38ms/step - loss: 0.7958 - accuracy: 0.7494\n",
      "Epoch 14/200\n",
      "157/157 [==============================] - 6s 38ms/step - loss: 0.7802 - accuracy: 0.7560\n",
      "Epoch 15/200\n",
      "157/157 [==============================] - 6s 38ms/step - loss: 0.7597 - accuracy: 0.7638\n",
      "Epoch 16/200\n",
      "157/157 [==============================] - 6s 38ms/step - loss: 0.7339 - accuracy: 0.7672\n",
      "Epoch 17/200\n",
      "157/157 [==============================] - 6s 38ms/step - loss: 0.7297 - accuracy: 0.7658\n",
      "Epoch 18/200\n",
      "157/157 [==============================] - 6s 38ms/step - loss: 0.7659 - accuracy: 0.7570\n",
      "Epoch 19/200\n",
      "157/157 [==============================] - 6s 38ms/step - loss: 0.7193 - accuracy: 0.7728\n",
      "Epoch 20/200\n",
      "157/157 [==============================] - 6s 39ms/step - loss: 0.6928 - accuracy: 0.7790\n",
      "Epoch 21/200\n",
      "157/157 [==============================] - 6s 38ms/step - loss: 0.7417 - accuracy: 0.7672\n",
      "Epoch 22/200\n",
      "157/157 [==============================] - 6s 38ms/step - loss: 0.7443 - accuracy: 0.7674\n",
      "Epoch 23/200\n",
      "157/157 [==============================] - 6s 38ms/step - loss: 0.6862 - accuracy: 0.7820\n",
      "Epoch 24/200\n",
      "157/157 [==============================] - 6s 38ms/step - loss: 0.6821 - accuracy: 0.7826\n",
      "Epoch 25/200\n",
      "157/157 [==============================] - 6s 38ms/step - loss: 0.7239 - accuracy: 0.7688\n",
      "Epoch 26/200\n",
      "157/157 [==============================] - 6s 38ms/step - loss: 0.7388 - accuracy: 0.7684\n",
      "Epoch 27/200\n",
      "157/157 [==============================] - 6s 39ms/step - loss: 0.6859 - accuracy: 0.7832\n",
      "Epoch 28/200\n",
      "157/157 [==============================] - 6s 39ms/step - loss: 0.6791 - accuracy: 0.7836\n",
      "Epoch 29/200\n",
      "157/157 [==============================] - 6s 38ms/step - loss: 0.6736 - accuracy: 0.7832\n",
      "Epoch 30/200\n",
      "157/157 [==============================] - 6s 38ms/step - loss: 0.6904 - accuracy: 0.7836\n",
      "Epoch 31/200\n",
      "157/157 [==============================] - 6s 38ms/step - loss: 0.6595 - accuracy: 0.7886\n",
      "Epoch 32/200\n",
      "157/157 [==============================] - 6s 38ms/step - loss: 0.7132 - accuracy: 0.7738\n",
      "Epoch 33/200\n",
      "157/157 [==============================] - 6s 38ms/step - loss: 0.6806 - accuracy: 0.7818\n",
      "Epoch 34/200\n",
      "157/157 [==============================] - 6s 38ms/step - loss: 0.6904 - accuracy: 0.7774\n",
      "Epoch 35/200\n",
      "157/157 [==============================] - 6s 38ms/step - loss: 0.6772 - accuracy: 0.7832\n",
      "Epoch 36/200\n",
      "157/157 [==============================] - 6s 39ms/step - loss: 0.6662 - accuracy: 0.7864\n",
      "Epoch 37/200\n",
      "157/157 [==============================] - 6s 38ms/step - loss: 0.6296 - accuracy: 0.7950\n",
      "Epoch 38/200\n",
      "157/157 [==============================] - 6s 41ms/step - loss: 0.6866 - accuracy: 0.7822\n",
      "Epoch 39/200\n",
      "157/157 [==============================] - 6s 41ms/step - loss: 0.6606 - accuracy: 0.7852\n",
      "Epoch 40/200\n",
      "157/157 [==============================] - 7s 41ms/step - loss: 0.6692 - accuracy: 0.7828\n",
      "Epoch 41/200\n",
      "157/157 [==============================] - 6s 39ms/step - loss: 0.6529 - accuracy: 0.7896\n",
      "Epoch 42/200\n",
      "157/157 [==============================] - 6s 38ms/step - loss: 0.6313 - accuracy: 0.7916\n",
      "Epoch 43/200\n",
      "157/157 [==============================] - 6s 38ms/step - loss: 0.6442 - accuracy: 0.7898\n",
      "Epoch 44/200\n",
      "157/157 [==============================] - 6s 38ms/step - loss: 0.7283 - accuracy: 0.7690\n",
      "Epoch 45/200\n",
      "157/157 [==============================] - 6s 39ms/step - loss: 0.6771 - accuracy: 0.7842\n",
      "Epoch 46/200\n",
      "157/157 [==============================] - 6s 38ms/step - loss: 0.6750 - accuracy: 0.7808\n",
      "Epoch 47/200\n",
      "157/157 [==============================] - 6s 39ms/step - loss: 0.6771 - accuracy: 0.7846\n",
      "Epoch 48/200\n",
      "157/157 [==============================] - 6s 39ms/step - loss: 0.6884 - accuracy: 0.7812\n",
      "Epoch 49/200\n",
      "157/157 [==============================] - 7s 42ms/step - loss: 0.6692 - accuracy: 0.7838\n",
      "Epoch 50/200\n",
      "157/157 [==============================] - 6s 41ms/step - loss: 0.6493 - accuracy: 0.7890\n",
      "Epoch 51/200\n",
      "157/157 [==============================] - 6s 38ms/step - loss: 0.6277 - accuracy: 0.7944\n",
      "Epoch 52/200\n",
      "157/157 [==============================] - 6s 38ms/step - loss: 0.6483 - accuracy: 0.7898\n",
      "Epoch 53/200\n",
      "157/157 [==============================] - 6s 38ms/step - loss: 0.6311 - accuracy: 0.7930\n",
      "Epoch 54/200\n",
      "157/157 [==============================] - 6s 38ms/step - loss: 0.6683 - accuracy: 0.7864\n",
      "Epoch 55/200\n",
      "157/157 [==============================] - 6s 38ms/step - loss: 0.6651 - accuracy: 0.7822\n",
      "Epoch 56/200\n",
      "157/157 [==============================] - 6s 38ms/step - loss: 0.7169 - accuracy: 0.7792\n",
      "Epoch 57/200\n",
      "157/157 [==============================] - 6s 38ms/step - loss: 0.6637 - accuracy: 0.7866\n",
      "Epoch 58/200\n",
      "157/157 [==============================] - 6s 38ms/step - loss: 0.6813 - accuracy: 0.7862\n",
      "Epoch 59/200\n",
      "157/157 [==============================] - 6s 38ms/step - loss: 0.6672 - accuracy: 0.7896\n",
      "Epoch 60/200\n",
      "157/157 [==============================] - 6s 38ms/step - loss: 0.6487 - accuracy: 0.7924\n",
      "Epoch 61/200\n",
      "157/157 [==============================] - 6s 38ms/step - loss: 0.6262 - accuracy: 0.7960\n",
      "Epoch 62/200\n",
      "157/157 [==============================] - 6s 38ms/step - loss: 0.6198 - accuracy: 0.7972\n",
      "Epoch 63/200\n",
      "157/157 [==============================] - 6s 38ms/step - loss: 0.6167 - accuracy: 0.7974\n",
      "Epoch 64/200\n",
      "157/157 [==============================] - 6s 39ms/step - loss: 0.6114 - accuracy: 0.7982\n",
      "Epoch 65/200\n",
      "157/157 [==============================] - 6s 38ms/step - loss: 0.6111 - accuracy: 0.7986\n",
      "Epoch 66/200\n",
      "157/157 [==============================] - 6s 38ms/step - loss: 0.6108 - accuracy: 0.7976\n",
      "Epoch 67/200\n",
      "157/157 [==============================] - 6s 38ms/step - loss: 0.6634 - accuracy: 0.7882\n",
      "Epoch 68/200\n",
      "157/157 [==============================] - 6s 39ms/step - loss: 0.7014 - accuracy: 0.7764\n",
      "Epoch 69/200\n",
      "157/157 [==============================] - 6s 39ms/step - loss: 0.6856 - accuracy: 0.7810\n",
      "Epoch 70/200\n",
      "157/157 [==============================] - 6s 38ms/step - loss: 0.6762 - accuracy: 0.7852\n",
      "Epoch 71/200\n",
      "157/157 [==============================] - 6s 38ms/step - loss: 0.6684 - accuracy: 0.7858\n",
      "Epoch 72/200\n",
      "157/157 [==============================] - 6s 38ms/step - loss: 0.6621 - accuracy: 0.7858\n",
      "Epoch 73/200\n",
      "157/157 [==============================] - 7s 41ms/step - loss: 0.6583 - accuracy: 0.7852\n",
      "Epoch 74/200\n",
      "157/157 [==============================] - 7s 42ms/step - loss: 0.6323 - accuracy: 0.7934\n",
      "Epoch 75/200\n",
      "157/157 [==============================] - 6s 38ms/step - loss: 0.6349 - accuracy: 0.7924\n",
      "Epoch 76/200\n",
      "157/157 [==============================] - 6s 38ms/step - loss: 0.6580 - accuracy: 0.7866\n",
      "Epoch 77/200\n",
      "157/157 [==============================] - 6s 39ms/step - loss: 0.6573 - accuracy: 0.7850\n",
      "Epoch 78/200\n",
      "157/157 [==============================] - 6s 38ms/step - loss: 0.6400 - accuracy: 0.7906\n",
      "Epoch 79/200\n",
      "157/157 [==============================] - 6s 38ms/step - loss: 0.6330 - accuracy: 0.7926\n",
      "Epoch 80/200\n",
      "157/157 [==============================] - 6s 38ms/step - loss: 0.6173 - accuracy: 0.7962\n",
      "Epoch 81/200\n",
      "157/157 [==============================] - 6s 38ms/step - loss: 0.6279 - accuracy: 0.7930\n",
      "Epoch 82/200\n",
      "157/157 [==============================] - 6s 38ms/step - loss: 0.6857 - accuracy: 0.7766\n",
      "Epoch 83/200\n",
      "157/157 [==============================] - 6s 38ms/step - loss: 0.6645 - accuracy: 0.7826\n",
      "Epoch 84/200\n",
      "157/157 [==============================] - 6s 39ms/step - loss: 0.6578 - accuracy: 0.7856\n",
      "Epoch 85/200\n",
      "157/157 [==============================] - 6s 38ms/step - loss: 0.6604 - accuracy: 0.7856\n",
      "Epoch 86/200\n",
      "157/157 [==============================] - 6s 38ms/step - loss: 0.6452 - accuracy: 0.7870\n",
      "Epoch 87/200\n",
      "157/157 [==============================] - 6s 38ms/step - loss: 0.6499 - accuracy: 0.7856\n",
      "Epoch 88/200\n",
      "157/157 [==============================] - 6s 40ms/step - loss: 0.6431 - accuracy: 0.7868\n",
      "Epoch 89/200\n",
      "157/157 [==============================] - 6s 39ms/step - loss: 0.6395 - accuracy: 0.7882\n",
      "Epoch 90/200\n",
      "157/157 [==============================] - 6s 38ms/step - loss: 0.6423 - accuracy: 0.7882\n",
      "Epoch 91/200\n",
      "157/157 [==============================] - 6s 38ms/step - loss: 0.6336 - accuracy: 0.7902\n",
      "Epoch 92/200\n",
      "157/157 [==============================] - 6s 40ms/step - loss: 0.6315 - accuracy: 0.7912\n",
      "Epoch 93/200\n",
      "157/157 [==============================] - 7s 42ms/step - loss: 0.6298 - accuracy: 0.7910\n",
      "Epoch 94/200\n",
      "157/157 [==============================] - 6s 41ms/step - loss: 0.6347 - accuracy: 0.7886\n",
      "Epoch 95/200\n",
      "157/157 [==============================] - 6s 38ms/step - loss: 0.6305 - accuracy: 0.7898\n",
      "Epoch 96/200\n",
      "157/157 [==============================] - 6s 40ms/step - loss: 0.6345 - accuracy: 0.7886\n",
      "Epoch 97/200\n",
      "157/157 [==============================] - 7s 44ms/step - loss: 0.6342 - accuracy: 0.7888\n",
      "Epoch 98/200\n",
      "157/157 [==============================] - 6s 37ms/step - loss: 0.6375 - accuracy: 0.7880\n",
      "Epoch 99/200\n",
      "157/157 [==============================] - 7s 43ms/step - loss: 0.7610 - accuracy: 0.7622\n",
      "Epoch 100/200\n",
      "157/157 [==============================] - 6s 36ms/step - loss: 0.8351 - accuracy: 0.7376\n",
      "Epoch 101/200\n",
      "157/157 [==============================] - 6s 35ms/step - loss: 0.7291 - accuracy: 0.7698\n",
      "Epoch 102/200\n",
      "157/157 [==============================] - 6s 35ms/step - loss: 0.6952 - accuracy: 0.7762\n",
      "Epoch 103/200\n",
      "157/157 [==============================] - 6s 37ms/step - loss: 0.6742 - accuracy: 0.7844\n",
      "Epoch 104/200\n",
      "157/157 [==============================] - 6s 36ms/step - loss: 0.6612 - accuracy: 0.7876\n",
      "Epoch 105/200\n",
      "157/157 [==============================] - 6s 37ms/step - loss: 0.6647 - accuracy: 0.7862\n",
      "Epoch 106/200\n",
      "157/157 [==============================] - 6s 37ms/step - loss: 0.6546 - accuracy: 0.7870\n",
      "Epoch 107/200\n",
      "157/157 [==============================] - 6s 40ms/step - loss: 0.6384 - accuracy: 0.7908\n",
      "Epoch 108/200\n",
      "157/157 [==============================] - 7s 43ms/step - loss: 0.6378 - accuracy: 0.7906\n",
      "Epoch 109/200\n",
      "157/157 [==============================] - 7s 46ms/step - loss: 0.6710 - accuracy: 0.7858\n",
      "Epoch 110/200\n",
      "157/157 [==============================] - 7s 43ms/step - loss: 0.6440 - accuracy: 0.7910\n",
      "Epoch 111/200\n",
      "157/157 [==============================] - 6s 38ms/step - loss: 0.6823 - accuracy: 0.7850\n",
      "Epoch 112/200\n",
      "157/157 [==============================] - 6s 37ms/step - loss: 0.6420 - accuracy: 0.7916\n",
      "Epoch 113/200\n",
      "157/157 [==============================] - 6s 40ms/step - loss: 0.6324 - accuracy: 0.7914\n",
      "Epoch 114/200\n",
      "157/157 [==============================] - 6s 37ms/step - loss: 0.6280 - accuracy: 0.7926\n",
      "Epoch 115/200\n",
      "157/157 [==============================] - 7s 44ms/step - loss: 0.6213 - accuracy: 0.7944\n",
      "Epoch 116/200\n",
      "157/157 [==============================] - 6s 39ms/step - loss: 0.6230 - accuracy: 0.7934\n",
      "Epoch 117/200\n",
      "157/157 [==============================] - 6s 38ms/step - loss: 0.6281 - accuracy: 0.7930\n",
      "Epoch 118/200\n",
      "157/157 [==============================] - 6s 37ms/step - loss: 0.6255 - accuracy: 0.7932\n",
      "Epoch 119/200\n",
      "157/157 [==============================] - 6s 36ms/step - loss: 0.6208 - accuracy: 0.7942\n",
      "Epoch 120/200\n",
      "157/157 [==============================] - 6s 36ms/step - loss: 0.6191 - accuracy: 0.7940\n",
      "Epoch 121/200\n",
      "157/157 [==============================] - 6s 37ms/step - loss: 0.6375 - accuracy: 0.7898\n",
      "Epoch 122/200\n",
      "157/157 [==============================] - 6s 38ms/step - loss: 0.6684 - accuracy: 0.7818\n",
      "Epoch 123/200\n",
      "157/157 [==============================] - 6s 38ms/step - loss: 0.6520 - accuracy: 0.7848\n",
      "Epoch 124/200\n",
      "157/157 [==============================] - 6s 37ms/step - loss: 0.6678 - accuracy: 0.7812\n",
      "Epoch 125/200\n",
      "157/157 [==============================] - 6s 39ms/step - loss: 0.6537 - accuracy: 0.7850\n",
      "Epoch 126/200\n",
      "157/157 [==============================] - 6s 37ms/step - loss: 0.6395 - accuracy: 0.7874\n",
      "Epoch 127/200\n",
      "157/157 [==============================] - 6s 37ms/step - loss: 0.6381 - accuracy: 0.7880\n",
      "Epoch 128/200\n",
      "157/157 [==============================] - 6s 37ms/step - loss: 0.6420 - accuracy: 0.7872\n",
      "Epoch 129/200\n",
      "157/157 [==============================] - 6s 39ms/step - loss: 0.6399 - accuracy: 0.7872\n",
      "Epoch 130/200\n",
      "157/157 [==============================] - 6s 38ms/step - loss: 0.6351 - accuracy: 0.7884\n",
      "Epoch 131/200\n",
      "157/157 [==============================] - 6s 36ms/step - loss: 0.6324 - accuracy: 0.7894\n",
      "Epoch 132/200\n",
      "157/157 [==============================] - 7s 42ms/step - loss: 0.6388 - accuracy: 0.7878\n",
      "Epoch 133/200\n",
      "157/157 [==============================] - 6s 39ms/step - loss: 0.6420 - accuracy: 0.7874\n",
      "Epoch 134/200\n",
      "157/157 [==============================] - 6s 37ms/step - loss: 0.6552 - accuracy: 0.7828\n",
      "Epoch 135/200\n",
      "157/157 [==============================] - 6s 37ms/step - loss: 0.7026 - accuracy: 0.7690\n",
      "Epoch 136/200\n",
      "157/157 [==============================] - 6s 37ms/step - loss: 0.7343 - accuracy: 0.7584\n",
      "Epoch 137/200\n",
      "157/157 [==============================] - 6s 37ms/step - loss: 0.7035 - accuracy: 0.7662\n",
      "Epoch 138/200\n",
      "157/157 [==============================] - 6s 37ms/step - loss: 0.6891 - accuracy: 0.7720\n",
      "Epoch 139/200\n",
      "157/157 [==============================] - 6s 37ms/step - loss: 0.7082 - accuracy: 0.7652\n",
      "Epoch 140/200\n",
      "157/157 [==============================] - 6s 37ms/step - loss: 0.6974 - accuracy: 0.7680\n",
      "Epoch 141/200\n",
      "157/157 [==============================] - 6s 37ms/step - loss: 0.7374 - accuracy: 0.7550\n",
      "Epoch 142/200\n",
      "157/157 [==============================] - 7s 47ms/step - loss: 0.7336 - accuracy: 0.7554\n",
      "Epoch 143/200\n",
      "157/157 [==============================] - 6s 40ms/step - loss: 0.7293 - accuracy: 0.7614\n",
      "Epoch 144/200\n",
      "157/157 [==============================] - 6s 40ms/step - loss: 0.7165 - accuracy: 0.7618\n",
      "Epoch 145/200\n",
      "157/157 [==============================] - 6s 41ms/step - loss: 0.7050 - accuracy: 0.7654\n",
      "Epoch 146/200\n",
      "157/157 [==============================] - 6s 39ms/step - loss: 0.6973 - accuracy: 0.7678\n",
      "Epoch 147/200\n",
      "157/157 [==============================] - 6s 35ms/step - loss: 0.6906 - accuracy: 0.7700\n",
      "Epoch 148/200\n",
      "157/157 [==============================] - 6s 35ms/step - loss: 0.7393 - accuracy: 0.7708\n",
      "Epoch 149/200\n",
      "157/157 [==============================] - 6s 35ms/step - loss: 0.7199 - accuracy: 0.7690\n",
      "Epoch 150/200\n",
      "157/157 [==============================] - 6s 35ms/step - loss: 0.7059 - accuracy: 0.7712\n",
      "Epoch 151/200\n",
      "157/157 [==============================] - 6s 35ms/step - loss: 0.6725 - accuracy: 0.7798\n",
      "Epoch 152/200\n",
      "157/157 [==============================] - 6s 37ms/step - loss: 0.6632 - accuracy: 0.7802\n",
      "Epoch 153/200\n",
      "157/157 [==============================] - 6s 38ms/step - loss: 0.6624 - accuracy: 0.7816\n",
      "Epoch 154/200\n",
      "157/157 [==============================] - 7s 42ms/step - loss: 0.6560 - accuracy: 0.7820\n",
      "Epoch 155/200\n",
      "157/157 [==============================] - 6s 39ms/step - loss: 0.6460 - accuracy: 0.7856\n",
      "Epoch 156/200\n",
      "157/157 [==============================] - 6s 36ms/step - loss: 0.6461 - accuracy: 0.7850\n",
      "Epoch 157/200\n",
      "157/157 [==============================] - 6s 38ms/step - loss: 0.6415 - accuracy: 0.7864\n",
      "Epoch 158/200\n",
      "157/157 [==============================] - 6s 38ms/step - loss: 0.6433 - accuracy: 0.7864\n",
      "Epoch 159/200\n",
      "157/157 [==============================] - 6s 37ms/step - loss: 0.6416 - accuracy: 0.7864\n",
      "Epoch 160/200\n",
      "157/157 [==============================] - 6s 39ms/step - loss: 0.6408 - accuracy: 0.7868\n",
      "Epoch 161/200\n",
      "157/157 [==============================] - 6s 41ms/step - loss: 0.6503 - accuracy: 0.7842\n",
      "Epoch 162/200\n",
      "157/157 [==============================] - 6s 37ms/step - loss: 0.6859 - accuracy: 0.7760\n",
      "Epoch 163/200\n",
      "157/157 [==============================] - 6s 37ms/step - loss: 0.7197 - accuracy: 0.7760\n",
      "Epoch 164/200\n",
      "157/157 [==============================] - 6s 37ms/step - loss: 0.6842 - accuracy: 0.7856\n",
      "Epoch 165/200\n",
      "157/157 [==============================] - 6s 38ms/step - loss: 0.6649 - accuracy: 0.7844\n",
      "Epoch 166/200\n",
      "157/157 [==============================] - 6s 37ms/step - loss: 0.6595 - accuracy: 0.7864\n",
      "Epoch 167/200\n",
      "157/157 [==============================] - 6s 37ms/step - loss: 0.6560 - accuracy: 0.7880\n",
      "Epoch 168/200\n",
      "157/157 [==============================] - 6s 37ms/step - loss: 0.6426 - accuracy: 0.7912\n",
      "Epoch 169/200\n",
      "157/157 [==============================] - 6s 37ms/step - loss: 0.6345 - accuracy: 0.7930\n",
      "Epoch 170/200\n",
      "157/157 [==============================] - 6s 37ms/step - loss: 0.6233 - accuracy: 0.7946\n",
      "Epoch 171/200\n",
      "157/157 [==============================] - 6s 36ms/step - loss: 0.6192 - accuracy: 0.7946\n",
      "Epoch 172/200\n",
      "157/157 [==============================] - 6s 36ms/step - loss: 0.6198 - accuracy: 0.7952\n",
      "Epoch 173/200\n",
      "157/157 [==============================] - 6s 38ms/step - loss: 0.6196 - accuracy: 0.7962\n",
      "Epoch 174/200\n",
      "157/157 [==============================] - 6s 40ms/step - loss: 0.6133 - accuracy: 0.7966\n",
      "Epoch 175/200\n",
      "157/157 [==============================] - 6s 38ms/step - loss: 0.6129 - accuracy: 0.7966\n",
      "Epoch 176/200\n",
      "157/157 [==============================] - 6s 36ms/step - loss: 0.6125 - accuracy: 0.7964\n",
      "Epoch 177/200\n",
      "157/157 [==============================] - 6s 36ms/step - loss: 0.6146 - accuracy: 0.7964\n",
      "Epoch 178/200\n",
      "157/157 [==============================] - 6s 36ms/step - loss: 0.6224 - accuracy: 0.7934\n",
      "Epoch 179/200\n",
      "157/157 [==============================] - 6s 36ms/step - loss: 0.6206 - accuracy: 0.7950\n",
      "Epoch 180/200\n",
      "157/157 [==============================] - 6s 36ms/step - loss: 0.6174 - accuracy: 0.7962\n",
      "Epoch 181/200\n",
      "157/157 [==============================] - 6s 38ms/step - loss: 0.6560 - accuracy: 0.7918\n",
      "Epoch 182/200\n",
      "157/157 [==============================] - 6s 37ms/step - loss: 0.6815 - accuracy: 0.7832\n",
      "Epoch 183/200\n",
      "157/157 [==============================] - 6s 36ms/step - loss: 0.6519 - accuracy: 0.7904\n",
      "Epoch 184/200\n",
      "157/157 [==============================] - 6s 36ms/step - loss: 0.6337 - accuracy: 0.7926\n",
      "Epoch 185/200\n",
      "157/157 [==============================] - 6s 36ms/step - loss: 0.6235 - accuracy: 0.7944\n",
      "Epoch 186/200\n",
      "157/157 [==============================] - 6s 37ms/step - loss: 0.6227 - accuracy: 0.7962\n",
      "Epoch 187/200\n",
      "157/157 [==============================] - 6s 38ms/step - loss: 0.6265 - accuracy: 0.7966\n",
      "Epoch 188/200\n",
      "157/157 [==============================] - 6s 39ms/step - loss: 0.6115 - accuracy: 0.7988\n",
      "Epoch 189/200\n",
      "157/157 [==============================] - 6s 38ms/step - loss: 0.6093 - accuracy: 0.7986\n",
      "Epoch 190/200\n",
      "157/157 [==============================] - 6s 38ms/step - loss: 0.6277 - accuracy: 0.7930\n",
      "Epoch 191/200\n",
      "157/157 [==============================] - 6s 39ms/step - loss: 0.6192 - accuracy: 0.7948\n",
      "Epoch 192/200\n",
      "157/157 [==============================] - 6s 37ms/step - loss: 0.6099 - accuracy: 0.7974\n",
      "Epoch 193/200\n",
      "157/157 [==============================] - 6s 37ms/step - loss: 0.6135 - accuracy: 0.7964\n",
      "Epoch 194/200\n",
      "157/157 [==============================] - 6s 41ms/step - loss: 0.6338 - accuracy: 0.7916\n",
      "Epoch 195/200\n",
      "157/157 [==============================] - 6s 39ms/step - loss: 0.6408 - accuracy: 0.7908\n",
      "Epoch 196/200\n",
      "157/157 [==============================] - 6s 39ms/step - loss: 0.6115 - accuracy: 0.7970\n",
      "Epoch 197/200\n",
      "157/157 [==============================] - 6s 39ms/step - loss: 0.6194 - accuracy: 0.7992\n",
      "Epoch 198/200\n",
      "157/157 [==============================] - 6s 39ms/step - loss: 0.6107 - accuracy: 0.7990\n",
      "Epoch 199/200\n",
      "157/157 [==============================] - 6s 40ms/step - loss: 0.6315 - accuracy: 0.7926\n",
      "Epoch 200/200\n",
      "157/157 [==============================] - 6s 39ms/step - loss: 0.6198 - accuracy: 0.7952\n"
     ]
    }
   ],
   "source": [
    "classifier_history = classifier_model.fit(X_train,\n",
    "                                          Y_train,\n",
    "                                          epochs=n_epochs)"
   ]
  },
  {
   "cell_type": "code",
   "execution_count": 11,
   "metadata": {},
   "outputs": [],
   "source": [
    "h_df = pd.DataFrame(classifier_history.history)\n",
    "h_df.to_csv(directory + 'e{0}.csv'.format(n_epochs))"
   ]
  },
  {
   "cell_type": "markdown",
   "metadata": {},
   "source": [
    "### Performance Stats"
   ]
  },
  {
   "cell_type": "code",
   "execution_count": 12,
   "metadata": {},
   "outputs": [
    {
     "name": "stderr",
     "output_type": "stream",
     "text": [
      "No handles with labels found to put in legend.\n",
      "No handles with labels found to put in legend.\n"
     ]
    },
    {
     "data": {
      "text/plain": [
       "<matplotlib.legend.Legend at 0x7f350d5db950>"
      ]
     },
     "execution_count": 12,
     "metadata": {},
     "output_type": "execute_result"
    },
    {
     "data": {
      "image/png": "[encoded data removed]",
      "text/plain": [
       "<Figure size 1008x504 with 2 Axes>"
      ]
     },
     "metadata": {
      "needs_background": "light"
     },
     "output_type": "display_data"
    }
   ],
   "source": [
    "fig, ax = plt.subplots(1,2);\n",
    "fig.set_size_inches(14,7);\n",
    "\n",
    "ax[0].plot(classifier_history.history['accuracy'])\n",
    "\n",
    "ax[0].set_xlabel(\"epoch\", fontsize=20)\n",
    "ax[0].set_ylabel(\"accuracy %\", fontsize=20)\n",
    "ax[0].legend()\n",
    "\n",
    "ax[1].plot(classifier_history.history['loss'])\n",
    "\n",
    "ax[1].set_xlabel(\"epoch\", fontsize=20)\n",
    "ax[1].set_ylabel(\"training loss\", fontsize=20)\n",
    "ax[1].legend()"
   ]
  },
  {
   "cell_type": "code",
   "execution_count": 13,
   "metadata": {},
   "outputs": [],
   "source": [
    "Y_pred = classifier_model.predict(x_test)\n",
    "y_pred = np.argmax(Y_pred, axis=1)\n",
    "\n",
    "matrix = confusion_matrix(y_test, y_pred, normalize='true', labels=[0,1,2,3,4,5,6])"
   ]
  },
  {
   "cell_type": "code",
   "execution_count": 14,
   "metadata": {},
   "outputs": [
    {
     "data": {
      "image/png": "[encoded data removed]",
      "text/plain": [
       "<Figure size 504x504 with 1 Axes>"
      ]
     },
     "metadata": {
      "needs_background": "light"
     },
     "output_type": "display_data"
    }
   ],
   "source": [
    "fig, ax = plt.subplots(1,1)\n",
    "fig.set_size_inches(7,7)\n",
    "\n",
    "labels = ['0', '1', '2', '3', '4', '5', '6']\n",
    "\n",
    "grid = np.array(matrix)\n",
    "im = ax.imshow(grid)\n",
    "\n",
    "for k in range (0, len(grid)):\n",
    "        for l in range (0, len(grid[0])):\n",
    "            ax.text(l-0.3, k+0.1, str(grid[k][l])[:4], size=20, color='white')\n",
    "            \n",
    "ax.set_xticklabels([''] + labels);\n",
    "ax.set_yticklabels([''] + labels);\n",
    "\n",
    "ax.set_ylabel('True Pulse Number', fontsize=20);\n",
    "ax.set_xlabel('Classified Pulse Number', fontsize=20);\n",
    "ax.set_title('{0} epochs'.format(n_epochs))\n",
    "\n",
    "fig.tight_layout()\n",
    "\n",
    "#ax.set_title(\"with autoencoder\", fontsize=20)\n",
    "plt.savefig(directory + \"e{0}.png\".format(n_epochs))"
   ]
  },
  {
   "cell_type": "code",
   "execution_count": 15,
   "metadata": {},
   "outputs": [
    {
     "data": {
      "text/plain": [
       "<matplotlib.legend.Legend at 0x7f350ce7fad0>"
      ]
     },
     "execution_count": 15,
     "metadata": {},
     "output_type": "execute_result"
    },
    {
     "data": {
      "image/png": "[encoded data removed]",
      "text/plain": [
       "<Figure size 504x504 with 1 Axes>"
      ]
     },
     "metadata": {
      "needs_background": "light"
     },
     "output_type": "display_data"
    }
   ],
   "source": [
    "fig, ax = plt.subplots(1, 1)\n",
    "fig.set_size_inches(7, 7)\n",
    "\n",
    "ax.hist(y_test, alpha=0.5, label='True Pulse Number')\n",
    "ax.hist(y_pred, alpha=0.5, label='Classified Pulse Number')\n",
    "ax.legend()"
   ]
  },
  {
   "cell_type": "code",
   "execution_count": 16,
   "metadata": {},
   "outputs": [
    {
     "data": {
      "text/plain": [
       "<matplotlib.legend.Legend at 0x7f350f7bff10>"
      ]
     },
     "execution_count": 16,
     "metadata": {},
     "output_type": "execute_result"
    },
    {
     "data": {
      "image/png": "[encoded data removed]",
      "text/plain": [
       "<Figure size 504x504 with 1 Axes>"
      ]
     },
     "metadata": {
      "needs_background": "light"
     },
     "output_type": "display_data"
    }
   ],
   "source": [
    "fig, ax = plt.subplots(1, 1)\n",
    "fig.set_size_inches(7, 7)\n",
    "\n",
    "ax.hist(y_train, alpha=0.5, label='y train')\n",
    "ax.hist(y_test, alpha=0.5, label='y test')\n",
    "ax.legend()"
   ]
  },
  {
   "cell_type": "code",
   "execution_count": 17,
   "metadata": {},
   "outputs": [
    {
     "data": {
      "text/plain": [
       "array([4, 4, 2, 5, 1, 1, 4, 5, 2, 3, 2, 1, 4, 4, 1, 1, 3, 3, 1, 4, 2, 5,\n",
       "       1, 1, 3, 5, 2, 3, 3, 5, 3, 1, 2, 4, 1, 3, 4, 1, 5, 4, 4, 3, 2, 4,\n",
       "       2, 4, 5, 3, 1, 3, 4, 4, 4, 2, 1, 4, 3, 4, 1, 3, 5, 1, 3, 5, 2, 3,\n",
       "       3, 1, 1, 5, 3, 4, 4, 2, 1, 3, 2, 1, 5, 5, 1, 5, 3, 1, 1, 3, 1, 5,\n",
       "       5, 3, 1, 2, 1, 1, 4, 3, 3, 1, 2, 5])"
      ]
     },
     "execution_count": 17,
     "metadata": {},
     "output_type": "execute_result"
    }
   ],
   "source": []
  },
  {
   "cell_type": "code",
   "execution_count": null,
   "metadata": {},
   "outputs": [],
   "source": []
  }
 ],
 "metadata": {
  "kernelspec": {
   "display_name": "Python 3",
   "language": "python",
   "name": "python3"
  },
  "language_info": {
   "codemirror_mode": {
    "name": "ipython",
    "version": 3
   },
   "file_extension": ".py",
   "mimetype": "text/x-python",
   "name": "python",
   "nbconvert_exporter": "python",
   "pygments_lexer": "ipython3",
   "version": "3.7.5"
  }
 },
 "nbformat": 4,
 "nbformat_minor": 4
}
