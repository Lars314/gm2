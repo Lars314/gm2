{
 "cells": [
  {
   "cell_type": "code",
   "execution_count": 1,
   "metadata": {},
   "outputs": [
    {
     "name": "stdout",
     "output_type": "stream",
     "text": [
      "Welcome to JupyROOT 6.18/04\n"
     ]
    }
   ],
   "source": [
    "import ROOT as r\n",
    "import pandas as pd\n",
    "import matplotlib.pyplot as plt\n",
    "import numpy as np\n",
    "import sklearn as skl\n",
    "import pickle\n",
    "\n",
    "from sklearn.model_selection import train_test_split"
   ]
  },
  {
   "cell_type": "markdown",
   "metadata": {},
   "source": [
    "## Intro\n",
    "\n",
    "The purpose of this notebook is to train and test a machine learning algorithm to determine the number of pulses in an island. It should be able to look at an island and tells us with x% confidence that it is a single, double, triple, or quadruple pile up event"
   ]
  },
  {
   "cell_type": "markdown",
   "metadata": {},
   "source": [
    "## Load in the data"
   ]
  },
  {
   "cell_type": "code",
   "execution_count": 2,
   "metadata": {},
   "outputs": [],
   "source": [
    "directory = './template_data/set_2/'\n",
    "\n",
    "with open(directory + 'x.data', 'rb') as xFile:\n",
    "    biggestX = pickle.load(xFile)\n",
    "    bigX = []\n",
    "    for x in biggestX:\n",
    "        bigX.append(x[1])\n",
    "    xFile.close()\n",
    "    \n",
    "with open(directory + 'y.data', 'rb') as yFile:\n",
    "    bigY = pickle.load(yFile)\n",
    "    yFile.close()"
   ]
  },
  {
   "cell_type": "code",
   "execution_count": 3,
   "metadata": {},
   "outputs": [],
   "source": [
    "x_train, x_test, y_train, y_test = train_test_split(bigX, bigY, test_size=0.2)"
   ]
  },
  {
   "cell_type": "markdown",
   "metadata": {},
   "source": [
    "In order to test accuracy for a given number of pulses, split the test data by pulse number"
   ]
  },
  {
   "cell_type": "code",
   "execution_count": 4,
   "metadata": {},
   "outputs": [],
   "source": [
    "test_data = pd.DataFrame({'x_test': x_test, 'y_test': y_test})\n",
    "split_test_data = {}\n",
    "for index in range(0, 5):\n",
    "    split_test_data[index] = (test_data[test_data['y_test'] == index])"
   ]
  },
  {
   "cell_type": "code",
   "execution_count": 5,
   "metadata": {},
   "outputs": [],
   "source": [
    "results_table = pd.DataFrame({'nPulses': ['0', '1', '2', '3', '4']})"
   ]
  },
  {
   "cell_type": "markdown",
   "metadata": {},
   "source": [
    "## ML Time\n",
    "\n",
    "I only kind of know what I am doing, so let's just use every model from https://scikit-learn.org/stable/_images/sphx_glr_plot_classifier_comparison_001.png and see what happens"
   ]
  },
  {
   "cell_type": "markdown",
   "metadata": {},
   "source": [
    "### Nearest Neighbors"
   ]
  },
  {
   "cell_type": "code",
   "execution_count": 6,
   "metadata": {},
   "outputs": [
    {
     "data": {
      "text/plain": [
       "KNeighborsClassifier()"
      ]
     },
     "execution_count": 6,
     "metadata": {},
     "output_type": "execute_result"
    }
   ],
   "source": [
    "from sklearn.neighbors import KNeighborsClassifier\n",
    "neigh = KNeighborsClassifier(n_neighbors=5)\n",
    "neigh.fit(x_train, y_train)"
   ]
  },
  {
   "cell_type": "code",
   "execution_count": 7,
   "metadata": {},
   "outputs": [
    {
     "name": "stdout",
     "output_type": "stream",
     "text": [
      "0.7295635218239088\n"
     ]
    }
   ],
   "source": [
    "from sklearn.metrics import accuracy_score\n",
    "nnScore = accuracy_score(y_test, neigh.predict(x_test))\n",
    "print(nnScore)"
   ]
  },
  {
   "cell_type": "markdown",
   "metadata": {},
   "source": [
    "Ok cool beans, but what if as example the ~27% it misses are because 25% are quadruples and are hard, and it is getting everything else right? Probably not, but still we should check. Split the test set into n=0, 1, 2, 3, 4 and get accuracy scores for each to see what things look like"
   ]
  },
  {
   "cell_type": "code",
   "execution_count": 10,
   "metadata": {},
   "outputs": [],
   "source": [
    "nums = []\n",
    "nnSplitScores = []\n",
    "for nPulses, thing in split_test_data.items():\n",
    "    nums.append(nPulses)\n",
    "    nnSplitScores.append(accuracy_score(list(thing['y_test']), neigh.predict(list(thing['x_test']))))\n",
    "\n",
    "results_table = pd.read_csv('./template_results/results.csv')\n",
    "results_table['NN'] = nnSplitScores\n",
    "results_table.to_csv('./template_results/results.csv')"
   ]
  },
  {
   "cell_type": "code",
   "execution_count": 11,
   "metadata": {},
   "outputs": [
    {
     "data": {
      "text/plain": [
       "Text(0.5, 1.0, 'Nearest Neighbors')"
      ]
     },
     "execution_count": 11,
     "metadata": {},
     "output_type": "execute_result"
    },
    {
     "data": {
      "image/png": "[encoded data removed]",
      "text/plain": [
       "<Figure size 360x360 with 1 Axes>"
      ]
     },
     "metadata": {
      "needs_background": "light"
     },
     "output_type": "display_data"
    }
   ],
   "source": [
    "fig, ax = plt.subplots(1,1)\n",
    "fig.set_size_inches(5,5)\n",
    "\n",
    "ax.plot(nums, nnSplitScores, linestyle='None', marker='o')\n",
    "\n",
    "ax.set_ylabel('Accuracy Score %', fontsize=20)\n",
    "ax.set_xlabel('Number of Pulses', fontsize=20)\n",
    "ax.set_ylim(0, 1.05)\n",
    "ax.set_title(\"Nearest Neighbors\", fontsize=20)"
   ]
  },
  {
   "cell_type": "markdown",
   "metadata": {},
   "source": [
    "### SVC\n",
    "\n",
    "This took a *long* time to run, as did linear svc. Worse predictions than nearest neighbor too, so probably not what we want"
   ]
  },
  {
   "cell_type": "code",
   "execution_count": 12,
   "metadata": {},
   "outputs": [
    {
     "data": {
      "text/plain": [
       "Pipeline(steps=[('standardscaler', StandardScaler()),\n",
       "                ('svc', SVC(gamma='auto'))])"
      ]
     },
     "execution_count": 12,
     "metadata": {},
     "output_type": "execute_result"
    }
   ],
   "source": [
    "from sklearn.pipeline import make_pipeline\n",
    "from sklearn.preprocessing import StandardScaler\n",
    "from sklearn.svm import SVC\n",
    "\n",
    "clf = make_pipeline(StandardScaler(), SVC(gamma='auto'))\n",
    "clf.fit(x_train, y_train)"
   ]
  },
  {
   "cell_type": "code",
   "execution_count": 55,
   "metadata": {},
   "outputs": [
    {
     "name": "stdout",
     "output_type": "stream",
     "text": [
      "0.743662816859157\n"
     ]
    }
   ],
   "source": [
    "from sklearn.metrics import accuracy_score\n",
    "svcScore = accuracy_score(y_test, clf.predict(x_test))\n",
    "print(svcScore)"
   ]
  },
  {
   "cell_type": "code",
   "execution_count": 13,
   "metadata": {},
   "outputs": [
    {
     "data": {
      "text/plain": [
       "Text(0.5, 1.0, 'Support Vector Classification')"
      ]
     },
     "execution_count": 13,
     "metadata": {},
     "output_type": "execute_result"
    },
    {
     "data": {
      "image/png": "[encoded data removed]",
      "text/plain": [
       "<Figure size 360x360 with 1 Axes>"
      ]
     },
     "metadata": {
      "needs_background": "light"
     },
     "output_type": "display_data"
    }
   ],
   "source": [
    "nums = []\n",
    "svcSplitScores = []\n",
    "for nPulses, thing in split_test_data.items():\n",
    "    nums.append(nPulses)\n",
    "    svcSplitScores.append(accuracy_score(list(thing['y_test']), clf.predict(list(thing['x_test']))))\n",
    "    \n",
    "results_table = pd.read_csv('./template_results/results.csv')\n",
    "results_table['SVC'] = svcSplitScores\n",
    "results_table.to_csv('./template_results/results.csv')\n",
    "    \n",
    "fig, ax = plt.subplots(1,1)\n",
    "fig.set_size_inches(5,5)\n",
    "\n",
    "ax.plot(nums, svcSplitScores, linestyle='None', marker='o')\n",
    "\n",
    "ax.set_ylabel('Accuracy Score %', fontsize=20)\n",
    "ax.set_xlabel('Number of Pulses', fontsize=20)\n",
    "ax.set_ylim(0, 1.05)\n",
    "ax.set_title(\"Support Vector Classification\", fontsize=20)"
   ]
  },
  {
   "cell_type": "markdown",
   "metadata": {},
   "source": [
    "### Linear SVC\n",
    "\n",
    "by default, max_iter=1000 and we failed to converge.\n",
    "still fails at 10000, so maybe don't use this one"
   ]
  },
  {
   "cell_type": "code",
   "execution_count": 14,
   "metadata": {},
   "outputs": [
    {
     "name": "stderr",
     "output_type": "stream",
     "text": [
      "/home/lars/miniconda3/lib/python3.7/site-packages/sklearn/svm/_base.py:977: ConvergenceWarning: Liblinear failed to converge, increase the number of iterations.\n",
      "  \"the number of iterations.\", ConvergenceWarning)\n"
     ]
    },
    {
     "data": {
      "text/plain": [
       "Pipeline(steps=[('standardscaler', StandardScaler()),\n",
       "                ('linearsvc',\n",
       "                 LinearSVC(max_iter=100, random_state=0, tol=1e-05))])"
      ]
     },
     "execution_count": 14,
     "metadata": {},
     "output_type": "execute_result"
    }
   ],
   "source": [
    "from sklearn.svm import LinearSVC\n",
    "from sklearn.pipeline import make_pipeline\n",
    "from sklearn.preprocessing import StandardScaler\n",
    "\n",
    "linclf = make_pipeline(StandardScaler(), LinearSVC(random_state=0, tol=1e-5, max_iter=100))\n",
    "linclf.fit(x_train, y_train)\n",
    "\n",
    "#from sklearn.metrics import accuracy_score\n",
    "#linsvcScore = accuracy_score(y_test, linclf.predict(x_test))\n",
    "#print(linsvcScore)"
   ]
  },
  {
   "cell_type": "code",
   "execution_count": 15,
   "metadata": {},
   "outputs": [
    {
     "data": {
      "text/plain": [
       "Text(0.5, 1.0, 'Linear Support Vector Classification')"
      ]
     },
     "execution_count": 15,
     "metadata": {},
     "output_type": "execute_result"
    },
    {
     "data": {
      "image/png": "[encoded data removed]",
      "text/plain": [
       "<Figure size 360x360 with 1 Axes>"
      ]
     },
     "metadata": {
      "needs_background": "light"
     },
     "output_type": "display_data"
    }
   ],
   "source": [
    "nums = []\n",
    "linsvcSplitScores = []\n",
    "for nPulses, thing in split_test_data.items():\n",
    "    nums.append(nPulses)\n",
    "    linsvcSplitScores.append(accuracy_score(list(thing['y_test']), linclf.predict(list(thing['x_test']))))\n",
    "\n",
    "results_table = pd.read_csv('./template_results/results.csv')\n",
    "results_table['LSVC'] = linsvcSplitScores\n",
    "results_table.to_csv('./template_results/results.csv')\n",
    "    \n",
    "fig, ax = plt.subplots(1,1)\n",
    "fig.set_size_inches(5,5)\n",
    "\n",
    "ax.plot(nums, linsvcSplitScores, linestyle='None', marker='o')\n",
    "\n",
    "ax.set_ylabel('Accuracy Score %', fontsize=20)\n",
    "ax.set_xlabel('Number of Pulses', fontsize=20)\n",
    "ax.set_ylim(0, 1.05)\n",
    "ax.set_title(\"Linear Support Vector Classification\", fontsize=20)"
   ]
  },
  {
   "cell_type": "markdown",
   "metadata": {},
   "source": [
    "### Gaussian Process Classifier\n",
    "\n",
    "This one is crazy memory intensive. Using the full 80,000 train data memory usage went to 25gb from this alone. Understandable tbh but maybe dial it back usually\n",
    "\n",
    "Dial it back a lot. 1,000 train points works pretty fast and is what was used here"
   ]
  },
  {
   "cell_type": "code",
   "execution_count": 5,
   "metadata": {},
   "outputs": [
    {
     "data": {
      "text/plain": [
       "0.82"
      ]
     },
     "execution_count": 5,
     "metadata": {},
     "output_type": "execute_result"
    }
   ],
   "source": [
    "from sklearn.gaussian_process import GaussianProcessClassifier\n",
    "from sklearn.gaussian_process.kernels import RBF\n",
    "\n",
    "kernel = 1.0 * RBF(1.0)\n",
    "gpc = GaussianProcessClassifier(kernel=kernel, random_state=0).fit(x_train[0:(len(x_train)//80)], y_train[0:(len(y_train)//80)])\n",
    "gpc.score(x_train[0:(len(x_train)//80)], y_train[0:(len(y_train)//80)])\n",
    "\n",
    "#from sklearn.metrics import accuracy_score\n",
    "#gpcScore = accuracy_score(y_test, gpc.predict(x_test))\n",
    "#print(gpcScore)"
   ]
  },
  {
   "cell_type": "code",
   "execution_count": 8,
   "metadata": {},
   "outputs": [
    {
     "data": {
      "text/plain": [
       "Text(0.5, 1.0, 'Gaussian Process Classifier')"
      ]
     },
     "execution_count": 8,
     "metadata": {},
     "output_type": "execute_result"
    },
    {
     "data": {
      "image/png": "[encoded data removed]",
      "text/plain": [
       "<Figure size 360x360 with 1 Axes>"
      ]
     },
     "metadata": {
      "needs_background": "light"
     },
     "output_type": "display_data"
    }
   ],
   "source": [
    "from sklearn.metrics import accuracy_score\n",
    "nums = []\n",
    "gpcSplitScores = []\n",
    "for nPulses, thing in split_test_data.items():\n",
    "    nums.append(nPulses)\n",
    "    gpcSplitScores.append(accuracy_score(list(thing['y_test'][:1000]), gpc.predict(list(thing['x_test'][:1000]))))\n",
    "\n",
    "results_table = pd.read_csv('./template_results/results.csv')\n",
    "results_table['GPC'] = gpcSplitScores\n",
    "results_table.to_csv('./template_results/results.csv')\n",
    "    \n",
    "fig, ax = plt.subplots(1,1)\n",
    "fig.set_size_inches(5,5)\n",
    "\n",
    "ax.plot(nums, gpcSplitScores, linestyle='None', marker='o')\n",
    "\n",
    "ax.set_ylabel('Accuracy Score %', fontsize=20)\n",
    "ax.set_xlabel('Number of Pulses', fontsize=20)\n",
    "ax.set_ylim(0, 1.05)\n",
    "ax.set_title(\"Gaussian Process Classifier\", fontsize=20)"
   ]
  },
  {
   "cell_type": "markdown",
   "metadata": {},
   "source": [
    "### Decision Tree Classifier\n",
    "\n",
    "this one went very quickly"
   ]
  },
  {
   "cell_type": "code",
   "execution_count": 9,
   "metadata": {},
   "outputs": [
    {
     "data": {
      "text/plain": [
       "DecisionTreeClassifier()"
      ]
     },
     "execution_count": 9,
     "metadata": {},
     "output_type": "execute_result"
    }
   ],
   "source": [
    "from sklearn.tree import DecisionTreeClassifier\n",
    "model = DecisionTreeClassifier()\n",
    "model.fit(x_train, y_train)\n",
    "\n",
    "#from sklearn.metrics import accuracy_score\n",
    "#dtcScore = accuracy_score(y_test, model.predict(x_test))\n",
    "#print(dtcScore)"
   ]
  },
  {
   "cell_type": "code",
   "execution_count": 10,
   "metadata": {},
   "outputs": [
    {
     "data": {
      "text/plain": [
       "Text(0.5, 1.0, 'Decision Tree Classifier')"
      ]
     },
     "execution_count": 10,
     "metadata": {},
     "output_type": "execute_result"
    },
    {
     "data": {
      "image/png": "[encoded data removed]",
      "text/plain": [
       "<Figure size 360x360 with 1 Axes>"
      ]
     },
     "metadata": {
      "needs_background": "light"
     },
     "output_type": "display_data"
    }
   ],
   "source": [
    "nums = []\n",
    "dctSplitScores = []\n",
    "for nPulses, thing in split_test_data.items():\n",
    "    nums.append(nPulses)\n",
    "    dctSplitScores.append(accuracy_score(list(thing['y_test']), model.predict(list(thing['x_test']))))\n",
    "\n",
    "results_table = pd.read_csv('./template_results/results.csv')\n",
    "results_table['DCT'] = dctSplitScores\n",
    "results_table.to_csv('./template_results/results.csv')\n",
    "    \n",
    "fig, ax = plt.subplots(1,1)\n",
    "fig.set_size_inches(5,5)\n",
    "\n",
    "ax.plot(nums, dctSplitScores, linestyle='None', marker='o')\n",
    "\n",
    "ax.set_ylabel('Accuracy Score %', fontsize=20)\n",
    "ax.set_xlabel('Number of Pulses', fontsize=20)\n",
    "ax.set_ylim(0, 1.05)\n",
    "ax.set_title(\"Decision Tree Classifier\", fontsize=20)"
   ]
  },
  {
   "cell_type": "markdown",
   "metadata": {},
   "source": [
    "### Random Forest Classifier\n",
    "\n",
    "this one also went very quickly"
   ]
  },
  {
   "cell_type": "code",
   "execution_count": 11,
   "metadata": {},
   "outputs": [
    {
     "data": {
      "text/plain": [
       "RandomForestClassifier()"
      ]
     },
     "execution_count": 11,
     "metadata": {},
     "output_type": "execute_result"
    }
   ],
   "source": [
    "from sklearn.ensemble import RandomForestClassifier\n",
    "rfc = RandomForestClassifier()\n",
    "rfc.fit(x_train, y_train)\n",
    "\n",
    "#from sklearn.metrics import accuracy_score\n",
    "#dtcScore = accuracy_score(y_test, model.predict(x_test))\n",
    "#print(dtcScore)"
   ]
  },
  {
   "cell_type": "code",
   "execution_count": 13,
   "metadata": {},
   "outputs": [
    {
     "data": {
      "text/plain": [
       "Text(0.5, 1.0, 'Random Forest Classifier')"
      ]
     },
     "execution_count": 13,
     "metadata": {},
     "output_type": "execute_result"
    },
    {
     "data": {
      "image/png": "[encoded data removed]",
      "text/plain": [
       "<Figure size 360x360 with 1 Axes>"
      ]
     },
     "metadata": {
      "needs_background": "light"
     },
     "output_type": "display_data"
    }
   ],
   "source": [
    "nums = []\n",
    "rfcSplitScores = []\n",
    "for nPulses, thing in split_test_data.items():\n",
    "    nums.append(nPulses)\n",
    "    rfcSplitScores.append(accuracy_score(list(thing['y_test']), rfc.predict(list(thing['x_test']))))\n",
    "\n",
    "results_table = pd.read_csv('./template_results/results.csv')\n",
    "results_table['RFC'] = rfcSplitScores\n",
    "results_table.to_csv('./template_results/results.csv')\n",
    "    \n",
    "fig, ax = plt.subplots(1,1)\n",
    "fig.set_size_inches(5,5)\n",
    "\n",
    "ax.plot(nums, rfcSplitScores, linestyle='None', marker='o')\n",
    "\n",
    "ax.set_ylabel('Accuracy Score %', fontsize=20)\n",
    "ax.set_xlabel('Number of Pulses', fontsize=20)\n",
    "ax.set_ylim(0, 1.05)\n",
    "ax.set_title(\"Random Forest Classifier\", fontsize=20)"
   ]
  },
  {
   "cell_type": "markdown",
   "metadata": {},
   "source": [
    "### MLP Classifier\n",
    "\n",
    "didn't converge with default 200 iterations, and took around 10 minutes"
   ]
  },
  {
   "cell_type": "code",
   "execution_count": 14,
   "metadata": {},
   "outputs": [
    {
     "name": "stderr",
     "output_type": "stream",
     "text": [
      "/home/lars/miniconda3/lib/python3.7/site-packages/sklearn/neural_network/_multilayer_perceptron.py:585: ConvergenceWarning: Stochastic Optimizer: Maximum iterations (200) reached and the optimization hasn't converged yet.\n",
      "  % self.max_iter, ConvergenceWarning)\n"
     ]
    },
    {
     "data": {
      "text/plain": [
       "MLPClassifier()"
      ]
     },
     "execution_count": 14,
     "metadata": {},
     "output_type": "execute_result"
    }
   ],
   "source": [
    "from sklearn.neural_network import MLPClassifier\n",
    "\n",
    "mlp = MLPClassifier()\n",
    "mlp.fit(x_train, y_train)"
   ]
  },
  {
   "cell_type": "code",
   "execution_count": 15,
   "metadata": {},
   "outputs": [
    {
     "data": {
      "text/plain": [
       "Text(0.5, 1.0, 'Multi-Layer Perceptron Classifier')"
      ]
     },
     "execution_count": 15,
     "metadata": {},
     "output_type": "execute_result"
    },
    {
     "data": {
      "image/png": "[encoded data removed]",
      "text/plain": [
       "<Figure size 360x360 with 1 Axes>"
      ]
     },
     "metadata": {
      "needs_background": "light"
     },
     "output_type": "display_data"
    }
   ],
   "source": [
    "nums = []\n",
    "mlpSplitScores = []\n",
    "for nPulses, thing in split_test_data.items():\n",
    "    nums.append(nPulses)\n",
    "    mlpSplitScores.append(accuracy_score(list(thing['y_test']), mlp.predict(list(thing['x_test']))))\n",
    "\n",
    "results_table = pd.read_csv('./template_results/results.csv')\n",
    "results_table['MLP'] = mlpSplitScores\n",
    "results_table.to_csv('./template_results/results.csv')\n",
    "    \n",
    "fig, ax = plt.subplots(1,1)\n",
    "fig.set_size_inches(5,5)\n",
    "\n",
    "ax.plot(nums, mlpSplitScores, linestyle='None', marker='o')\n",
    "\n",
    "ax.set_ylabel('Accuracy Score %', fontsize=20)\n",
    "ax.set_xlabel('Number of Pulses', fontsize=20)\n",
    "ax.set_ylim(0, 1.05)\n",
    "ax.set_title(\"Multi-Layer Perceptron Classifier\", fontsize=20)"
   ]
  },
  {
   "cell_type": "markdown",
   "metadata": {},
   "source": [
    "### Ada Boost Classifier"
   ]
  },
  {
   "cell_type": "code",
   "execution_count": 16,
   "metadata": {},
   "outputs": [
    {
     "data": {
      "text/plain": [
       "AdaBoostClassifier()"
      ]
     },
     "execution_count": 16,
     "metadata": {},
     "output_type": "execute_result"
    }
   ],
   "source": [
    "from sklearn.ensemble import AdaBoostClassifier\n",
    "\n",
    "adacl = AdaBoostClassifier()\n",
    "adacl.fit(x_train, y_train)"
   ]
  },
  {
   "cell_type": "code",
   "execution_count": 17,
   "metadata": {},
   "outputs": [
    {
     "data": {
      "text/plain": [
       "Text(0.5, 1.0, 'AdaBoost Classifier')"
      ]
     },
     "execution_count": 17,
     "metadata": {},
     "output_type": "execute_result"
    },
    {
     "data": {
      "image/png": "[encoded data removed]",
      "text/plain": [
       "<Figure size 360x360 with 1 Axes>"
      ]
     },
     "metadata": {
      "needs_background": "light"
     },
     "output_type": "display_data"
    }
   ],
   "source": [
    "nums = []\n",
    "adaclSplitScores = []\n",
    "for nPulses, thing in split_test_data.items():\n",
    "    nums.append(nPulses)\n",
    "    adaclSplitScores.append(accuracy_score(list(thing['y_test']), adacl.predict(list(thing['x_test']))))\n",
    "\n",
    "results_table = pd.read_csv('./template_results/results.csv')\n",
    "results_table['ADA'] = adaclSplitScores\n",
    "results_table.to_csv('./template_results/results.csv')\n",
    "    \n",
    "fig, ax = plt.subplots(1,1)\n",
    "fig.set_size_inches(5,5)\n",
    "\n",
    "ax.plot(nums, adaclSplitScores, linestyle='None', marker='o')\n",
    "\n",
    "ax.set_ylabel('Accuracy Score %', fontsize=20)\n",
    "ax.set_xlabel('Number of Pulses', fontsize=20)\n",
    "ax.set_ylim(0, 1.05)\n",
    "ax.set_title(\"AdaBoost Classifier\", fontsize=20)"
   ]
  },
  {
   "cell_type": "markdown",
   "metadata": {},
   "source": [
    "### Gaussian NB\n",
    "\n",
    "alarmingly fast"
   ]
  },
  {
   "cell_type": "code",
   "execution_count": 18,
   "metadata": {},
   "outputs": [
    {
     "data": {
      "text/plain": [
       "GaussianNB()"
      ]
     },
     "execution_count": 18,
     "metadata": {},
     "output_type": "execute_result"
    }
   ],
   "source": [
    "from sklearn.naive_bayes import GaussianNB\n",
    "\n",
    "gnb = GaussianNB()\n",
    "gnb.fit(x_train, y_train)"
   ]
  },
  {
   "cell_type": "code",
   "execution_count": 19,
   "metadata": {},
   "outputs": [
    {
     "data": {
      "text/plain": [
       "Text(0.5, 1.0, 'Gaussian Naive Bayes Classifier')"
      ]
     },
     "execution_count": 19,
     "metadata": {},
     "output_type": "execute_result"
    },
    {
     "data": {
      "image/png": "[encoded data removed]",
      "text/plain": [
       "<Figure size 360x360 with 1 Axes>"
      ]
     },
     "metadata": {
      "needs_background": "light"
     },
     "output_type": "display_data"
    }
   ],
   "source": [
    "nums = []\n",
    "gnbSplitScores = []\n",
    "for nPulses, thing in split_test_data.items():\n",
    "    nums.append(nPulses)\n",
    "    gnbSplitScores.append(accuracy_score(list(thing['y_test']), gnb.predict(list(thing['x_test']))))\n",
    "\n",
    "results_table = pd.read_csv('./template_results/results.csv')\n",
    "results_table['GNB'] = gnbSplitScores\n",
    "results_table.to_csv('./template_results/results.csv')\n",
    "    \n",
    "fig, ax = plt.subplots(1,1)\n",
    "fig.set_size_inches(5,5)\n",
    "\n",
    "ax.plot(nums, gnbSplitScores, linestyle='None', marker='o')\n",
    "\n",
    "ax.set_ylabel('Accuracy Score %', fontsize=20)\n",
    "ax.set_xlabel('Number of Pulses', fontsize=20)\n",
    "ax.set_ylim(0, 1.05)\n",
    "ax.set_title(\"Gaussian Naive Bayes Classifier\", fontsize=20)"
   ]
  },
  {
   "cell_type": "markdown",
   "metadata": {},
   "source": [
    "## Put it all together for an overview"
   ]
  },
  {
   "cell_type": "code",
   "execution_count": 9,
   "metadata": {},
   "outputs": [
    {
     "data": {
      "text/html": [
       "<div>\n",
       "<style scoped>\n",
       "    .dataframe tbody tr th:only-of-type {\n",
       "        vertical-align: middle;\n",
       "    }\n",
       "\n",
       "    .dataframe tbody tr th {\n",
       "        vertical-align: top;\n",
       "    }\n",
       "\n",
       "    .dataframe thead th {\n",
       "        text-align: right;\n",
       "    }\n",
       "</style>\n",
       "<table border=\"1\" class=\"dataframe\">\n",
       "  <thead>\n",
       "    <tr style=\"text-align: right;\">\n",
       "      <th></th>\n",
       "      <th>nPulses</th>\n",
       "      <th>NN</th>\n",
       "      <th>SVC</th>\n",
       "      <th>LSVC</th>\n",
       "      <th>GPC</th>\n",
       "      <th>DCT</th>\n",
       "      <th>RFC</th>\n",
       "      <th>MLP</th>\n",
       "      <th>ADA</th>\n",
       "      <th>GNB</th>\n",
       "    </tr>\n",
       "  </thead>\n",
       "  <tbody>\n",
       "    <tr>\n",
       "      <th>0</th>\n",
       "      <td>0</td>\n",
       "      <td>1</td>\n",
       "      <td>1</td>\n",
       "      <td>1</td>\n",
       "      <td>1</td>\n",
       "      <td>1</td>\n",
       "      <td>1</td>\n",
       "      <td>1</td>\n",
       "      <td>1</td>\n",
       "      <td>1</td>\n",
       "    </tr>\n",
       "    <tr>\n",
       "      <th>1</th>\n",
       "      <td>1</td>\n",
       "      <td>0.999265</td>\n",
       "      <td>0.98237</td>\n",
       "      <td>0.0940255</td>\n",
       "      <td>0.931</td>\n",
       "      <td>0.953269</td>\n",
       "      <td>0.969923</td>\n",
       "      <td>0.97738</td>\n",
       "      <td>0.340045</td>\n",
       "      <td>0.628138</td>\n",
       "    </tr>\n",
       "    <tr>\n",
       "      <th>2</th>\n",
       "      <td>2</td>\n",
       "      <td>0.847399</td>\n",
       "      <td>0.727409</td>\n",
       "      <td>0.31292</td>\n",
       "      <td>0.518</td>\n",
       "      <td>0.693284</td>\n",
       "      <td>0.855189</td>\n",
       "      <td>0.786813</td>\n",
       "      <td>0.322344</td>\n",
       "      <td>0.32967</td>\n",
       "    </tr>\n",
       "    <tr>\n",
       "      <th>3</th>\n",
       "      <td>3</td>\n",
       "      <td>0.348673</td>\n",
       "      <td>0.335019</td>\n",
       "      <td>0.298104</td>\n",
       "      <td>0.147</td>\n",
       "      <td>0.44943</td>\n",
       "      <td>0.40583</td>\n",
       "      <td>0.367554</td>\n",
       "      <td>0.162738</td>\n",
       "      <td>0.226869</td>\n",
       "    </tr>\n",
       "    <tr>\n",
       "      <th>4</th>\n",
       "      <td>4</td>\n",
       "      <td>0.438592</td>\n",
       "      <td>0.677133</td>\n",
       "      <td>0.327425</td>\n",
       "      <td>0.743</td>\n",
       "      <td>0.580035</td>\n",
       "      <td>0.642047</td>\n",
       "      <td>0.74666</td>\n",
       "      <td>0.549786</td>\n",
       "      <td>0.700277</td>\n",
       "    </tr>\n",
       "  </tbody>\n",
       "</table>\n",
       "</div>"
      ],
      "text/plain": [
       "  nPulses        NN       SVC       LSVC    GPC       DCT       RFC       MLP  \\\n",
       "0       0         1         1          1      1         1         1         1   \n",
       "1       1  0.999265   0.98237  0.0940255  0.931  0.953269  0.969923   0.97738   \n",
       "2       2  0.847399  0.727409    0.31292  0.518  0.693284  0.855189  0.786813   \n",
       "3       3  0.348673  0.335019   0.298104  0.147   0.44943   0.40583  0.367554   \n",
       "4       4  0.438592  0.677133   0.327425  0.743  0.580035  0.642047   0.74666   \n",
       "\n",
       "        ADA       GNB  \n",
       "0         1         1  \n",
       "1  0.340045  0.628138  \n",
       "2  0.322344   0.32967  \n",
       "3  0.162738  0.226869  \n",
       "4  0.549786  0.700277  "
      ]
     },
     "execution_count": 9,
     "metadata": {},
     "output_type": "execute_result"
    }
   ],
   "source": [
    "data = pd.DataFrame(columns=['nPulses','NN','SVC','LSVC','GPC','DCT','RFC','MLP','ADA','GNB'])\n",
    "data.loc[0] = [0,1,1,1,1,1,1,1,1,1]\n",
    "data.loc[1] = [1,0.999265426,0.982370225,0.094025465,0.931,0.953268705,0.969922943,0.977380065,0.340044743,0.628138205]\n",
    "data.loc[2] = [2,0.847398556,0.727408514,0.31292009,0.518,0.693284493,0.855189255,0.786813187,0.322344322,0.32967033]\n",
    "data.loc[3] = [3,0.348672566,0.335018963,0.298103666,0.147,0.449429658,0.405830165,0.367553866,0.162737643,0.226869455]\n",
    "data.loc[4] = [4,0.438592049,0.677133452,0.327424664,0.743,0.580035291,0.642046887,0.746659945,0.549785732,0.700277288]\n",
    "\n",
    "\n",
    "data"
   ]
  },
  {
   "cell_type": "code",
   "execution_count": 6,
   "metadata": {},
   "outputs": [
    {
     "ename": "OSError",
     "evalue": "Initializing from file failed",
     "output_type": "error",
     "traceback": [
      "\u001b[0;31m---------------------------------------------------------------------------\u001b[0m",
      "\u001b[0;31mOSError\u001b[0m                                   Traceback (most recent call last)",
      "\u001b[0;32m<ipython-input-6-b5781ef3f8d8>\u001b[0m in \u001b[0;36m<module>\u001b[0;34m\u001b[0m\n\u001b[1;32m      2\u001b[0m \u001b[0mfig\u001b[0m\u001b[0;34m.\u001b[0m\u001b[0mset_size_inches\u001b[0m\u001b[0;34m(\u001b[0m\u001b[0;36m12\u001b[0m\u001b[0;34m,\u001b[0m\u001b[0;36m12\u001b[0m\u001b[0;34m)\u001b[0m\u001b[0;34m;\u001b[0m\u001b[0;34m\u001b[0m\u001b[0;34m\u001b[0m\u001b[0m\n\u001b[1;32m      3\u001b[0m \u001b[0;34m\u001b[0m\u001b[0m\n\u001b[0;32m----> 4\u001b[0;31m \u001b[0mdata\u001b[0m \u001b[0;34m=\u001b[0m \u001b[0mpd\u001b[0m\u001b[0;34m.\u001b[0m\u001b[0mread_csv\u001b[0m\u001b[0;34m(\u001b[0m\u001b[0mdirectory\u001b[0m \u001b[0;34m+\u001b[0m \u001b[0;34m'results.csv'\u001b[0m\u001b[0;34m)\u001b[0m\u001b[0;34m\u001b[0m\u001b[0;34m\u001b[0m\u001b[0m\n\u001b[0m\u001b[1;32m      5\u001b[0m \u001b[0;34m\u001b[0m\u001b[0m\n\u001b[1;32m      6\u001b[0m labels = {\n",
      "\u001b[0;32m~/miniconda3/lib/python3.7/site-packages/pandas/io/parsers.py\u001b[0m in \u001b[0;36mparser_f\u001b[0;34m(filepath_or_buffer, sep, delimiter, header, names, index_col, usecols, squeeze, prefix, mangle_dupe_cols, dtype, engine, converters, true_values, false_values, skipinitialspace, skiprows, skipfooter, nrows, na_values, keep_default_na, na_filter, verbose, skip_blank_lines, parse_dates, infer_datetime_format, keep_date_col, date_parser, dayfirst, cache_dates, iterator, chunksize, compression, thousands, decimal, lineterminator, quotechar, quoting, doublequote, escapechar, comment, encoding, dialect, error_bad_lines, warn_bad_lines, delim_whitespace, low_memory, memory_map, float_precision)\u001b[0m\n\u001b[1;32m    683\u001b[0m         )\n\u001b[1;32m    684\u001b[0m \u001b[0;34m\u001b[0m\u001b[0m\n\u001b[0;32m--> 685\u001b[0;31m         \u001b[0;32mreturn\u001b[0m \u001b[0m_read\u001b[0m\u001b[0;34m(\u001b[0m\u001b[0mfilepath_or_buffer\u001b[0m\u001b[0;34m,\u001b[0m \u001b[0mkwds\u001b[0m\u001b[0;34m)\u001b[0m\u001b[0;34m\u001b[0m\u001b[0;34m\u001b[0m\u001b[0m\n\u001b[0m\u001b[1;32m    686\u001b[0m \u001b[0;34m\u001b[0m\u001b[0m\n\u001b[1;32m    687\u001b[0m     \u001b[0mparser_f\u001b[0m\u001b[0;34m.\u001b[0m\u001b[0m__name__\u001b[0m \u001b[0;34m=\u001b[0m \u001b[0mname\u001b[0m\u001b[0;34m\u001b[0m\u001b[0;34m\u001b[0m\u001b[0m\n",
      "\u001b[0;32m~/miniconda3/lib/python3.7/site-packages/pandas/io/parsers.py\u001b[0m in \u001b[0;36m_read\u001b[0;34m(filepath_or_buffer, kwds)\u001b[0m\n\u001b[1;32m    455\u001b[0m \u001b[0;34m\u001b[0m\u001b[0m\n\u001b[1;32m    456\u001b[0m     \u001b[0;31m# Create the parser.\u001b[0m\u001b[0;34m\u001b[0m\u001b[0;34m\u001b[0m\u001b[0;34m\u001b[0m\u001b[0m\n\u001b[0;32m--> 457\u001b[0;31m     \u001b[0mparser\u001b[0m \u001b[0;34m=\u001b[0m \u001b[0mTextFileReader\u001b[0m\u001b[0;34m(\u001b[0m\u001b[0mfp_or_buf\u001b[0m\u001b[0;34m,\u001b[0m \u001b[0;34m**\u001b[0m\u001b[0mkwds\u001b[0m\u001b[0;34m)\u001b[0m\u001b[0;34m\u001b[0m\u001b[0;34m\u001b[0m\u001b[0m\n\u001b[0m\u001b[1;32m    458\u001b[0m \u001b[0;34m\u001b[0m\u001b[0m\n\u001b[1;32m    459\u001b[0m     \u001b[0;32mif\u001b[0m \u001b[0mchunksize\u001b[0m \u001b[0;32mor\u001b[0m \u001b[0miterator\u001b[0m\u001b[0;34m:\u001b[0m\u001b[0;34m\u001b[0m\u001b[0;34m\u001b[0m\u001b[0m\n",
      "\u001b[0;32m~/miniconda3/lib/python3.7/site-packages/pandas/io/parsers.py\u001b[0m in \u001b[0;36m__init__\u001b[0;34m(self, f, engine, **kwds)\u001b[0m\n\u001b[1;32m    893\u001b[0m             \u001b[0mself\u001b[0m\u001b[0;34m.\u001b[0m\u001b[0moptions\u001b[0m\u001b[0;34m[\u001b[0m\u001b[0;34m\"has_index_names\"\u001b[0m\u001b[0;34m]\u001b[0m \u001b[0;34m=\u001b[0m \u001b[0mkwds\u001b[0m\u001b[0;34m[\u001b[0m\u001b[0;34m\"has_index_names\"\u001b[0m\u001b[0;34m]\u001b[0m\u001b[0;34m\u001b[0m\u001b[0;34m\u001b[0m\u001b[0m\n\u001b[1;32m    894\u001b[0m \u001b[0;34m\u001b[0m\u001b[0m\n\u001b[0;32m--> 895\u001b[0;31m         \u001b[0mself\u001b[0m\u001b[0;34m.\u001b[0m\u001b[0m_make_engine\u001b[0m\u001b[0;34m(\u001b[0m\u001b[0mself\u001b[0m\u001b[0;34m.\u001b[0m\u001b[0mengine\u001b[0m\u001b[0;34m)\u001b[0m\u001b[0;34m\u001b[0m\u001b[0;34m\u001b[0m\u001b[0m\n\u001b[0m\u001b[1;32m    896\u001b[0m \u001b[0;34m\u001b[0m\u001b[0m\n\u001b[1;32m    897\u001b[0m     \u001b[0;32mdef\u001b[0m \u001b[0mclose\u001b[0m\u001b[0;34m(\u001b[0m\u001b[0mself\u001b[0m\u001b[0;34m)\u001b[0m\u001b[0;34m:\u001b[0m\u001b[0;34m\u001b[0m\u001b[0;34m\u001b[0m\u001b[0m\n",
      "\u001b[0;32m~/miniconda3/lib/python3.7/site-packages/pandas/io/parsers.py\u001b[0m in \u001b[0;36m_make_engine\u001b[0;34m(self, engine)\u001b[0m\n\u001b[1;32m   1133\u001b[0m     \u001b[0;32mdef\u001b[0m \u001b[0m_make_engine\u001b[0m\u001b[0;34m(\u001b[0m\u001b[0mself\u001b[0m\u001b[0;34m,\u001b[0m \u001b[0mengine\u001b[0m\u001b[0;34m=\u001b[0m\u001b[0;34m\"c\"\u001b[0m\u001b[0;34m)\u001b[0m\u001b[0;34m:\u001b[0m\u001b[0;34m\u001b[0m\u001b[0;34m\u001b[0m\u001b[0m\n\u001b[1;32m   1134\u001b[0m         \u001b[0;32mif\u001b[0m \u001b[0mengine\u001b[0m \u001b[0;34m==\u001b[0m \u001b[0;34m\"c\"\u001b[0m\u001b[0;34m:\u001b[0m\u001b[0;34m\u001b[0m\u001b[0;34m\u001b[0m\u001b[0m\n\u001b[0;32m-> 1135\u001b[0;31m             \u001b[0mself\u001b[0m\u001b[0;34m.\u001b[0m\u001b[0m_engine\u001b[0m \u001b[0;34m=\u001b[0m \u001b[0mCParserWrapper\u001b[0m\u001b[0;34m(\u001b[0m\u001b[0mself\u001b[0m\u001b[0;34m.\u001b[0m\u001b[0mf\u001b[0m\u001b[0;34m,\u001b[0m \u001b[0;34m**\u001b[0m\u001b[0mself\u001b[0m\u001b[0;34m.\u001b[0m\u001b[0moptions\u001b[0m\u001b[0;34m)\u001b[0m\u001b[0;34m\u001b[0m\u001b[0;34m\u001b[0m\u001b[0m\n\u001b[0m\u001b[1;32m   1136\u001b[0m         \u001b[0;32melse\u001b[0m\u001b[0;34m:\u001b[0m\u001b[0;34m\u001b[0m\u001b[0;34m\u001b[0m\u001b[0m\n\u001b[1;32m   1137\u001b[0m             \u001b[0;32mif\u001b[0m \u001b[0mengine\u001b[0m \u001b[0;34m==\u001b[0m \u001b[0;34m\"python\"\u001b[0m\u001b[0;34m:\u001b[0m\u001b[0;34m\u001b[0m\u001b[0;34m\u001b[0m\u001b[0m\n",
      "\u001b[0;32m~/miniconda3/lib/python3.7/site-packages/pandas/io/parsers.py\u001b[0m in \u001b[0;36m__init__\u001b[0;34m(self, src, **kwds)\u001b[0m\n\u001b[1;32m   1915\u001b[0m         \u001b[0mkwds\u001b[0m\u001b[0;34m[\u001b[0m\u001b[0;34m\"usecols\"\u001b[0m\u001b[0;34m]\u001b[0m \u001b[0;34m=\u001b[0m \u001b[0mself\u001b[0m\u001b[0;34m.\u001b[0m\u001b[0musecols\u001b[0m\u001b[0;34m\u001b[0m\u001b[0;34m\u001b[0m\u001b[0m\n\u001b[1;32m   1916\u001b[0m \u001b[0;34m\u001b[0m\u001b[0m\n\u001b[0;32m-> 1917\u001b[0;31m         \u001b[0mself\u001b[0m\u001b[0;34m.\u001b[0m\u001b[0m_reader\u001b[0m \u001b[0;34m=\u001b[0m \u001b[0mparsers\u001b[0m\u001b[0;34m.\u001b[0m\u001b[0mTextReader\u001b[0m\u001b[0;34m(\u001b[0m\u001b[0msrc\u001b[0m\u001b[0;34m,\u001b[0m \u001b[0;34m**\u001b[0m\u001b[0mkwds\u001b[0m\u001b[0;34m)\u001b[0m\u001b[0;34m\u001b[0m\u001b[0;34m\u001b[0m\u001b[0m\n\u001b[0m\u001b[1;32m   1918\u001b[0m         \u001b[0mself\u001b[0m\u001b[0;34m.\u001b[0m\u001b[0munnamed_cols\u001b[0m \u001b[0;34m=\u001b[0m \u001b[0mself\u001b[0m\u001b[0;34m.\u001b[0m\u001b[0m_reader\u001b[0m\u001b[0;34m.\u001b[0m\u001b[0munnamed_cols\u001b[0m\u001b[0;34m\u001b[0m\u001b[0;34m\u001b[0m\u001b[0m\n\u001b[1;32m   1919\u001b[0m \u001b[0;34m\u001b[0m\u001b[0m\n",
      "\u001b[0;32mpandas/_libs/parsers.pyx\u001b[0m in \u001b[0;36mpandas._libs.parsers.TextReader.__cinit__\u001b[0;34m()\u001b[0m\n",
      "\u001b[0;32mpandas/_libs/parsers.pyx\u001b[0m in \u001b[0;36mpandas._libs.parsers.TextReader._setup_parser_source\u001b[0;34m()\u001b[0m\n",
      "\u001b[0;31mOSError\u001b[0m: Initializing from file failed"
     ]
    },
    {
     "data": {
      "image/png": "[encoded data removed]",
      "text/plain": [
       "<Figure size 864x864 with 1 Axes>"
      ]
     },
     "metadata": {
      "needs_background": "light"
     },
     "output_type": "display_data"
    }
   ],
   "source": [
    "fig, ax = plt.subplots(1,1);\n",
    "fig.set_size_inches(12,12);\n",
    "\n",
    "#data = pd.read_csv(directory + 'results.csv')\n",
    "\n",
    "\n",
    "\n",
    "\n",
    "labels = {\n",
    "    'NN': 'Nearest Neighbor',\n",
    "    'SVC': 'Support Vector',\n",
    "    'LSVC': 'Linear Support Vector',\n",
    "    'GPC': 'Gaussian Process',\n",
    "    'DCT': 'Decission Tree',\n",
    "    'RFC': 'Random Forest',\n",
    "    'MLP': 'Multi-Layer Perceptron',\n",
    "    'ADA': 'AdaBoost',\n",
    "    'GNB': 'Gaussian Naive Bayes'\n",
    "}\n",
    "\n",
    "for s, l in labels.items():\n",
    "    ax.plot(data['nPulses'], data[s], marker='o', label=l);\n",
    "\n",
    "ax.set_ylabel('Accuracy Score %', fontsize=25);\n",
    "ax.set_xlabel('Number of Pulses', fontsize=25);\n",
    "plt.xticks([0, 1, 2, 3, 4])\n",
    "ax.set_ylim(0, 1.05);\n",
    "ax.legend(loc=(1.1, 0.5), fontsize='large');"
   ]
  },
  {
   "cell_type": "code",
   "execution_count": null,
   "metadata": {},
   "outputs": [],
   "source": []
  }
 ],
 "metadata": {
  "kernelspec": {
   "display_name": "Python 3",
   "language": "python",
   "name": "python3"
  },
  "language_info": {
   "codemirror_mode": {
    "name": "ipython",
    "version": 3
   },
   "file_extension": ".py",
   "mimetype": "text/x-python",
   "name": "python",
   "nbconvert_exporter": "python",
   "pygments_lexer": "ipython3",
   "version": "3.7.5"
  }
 },
 "nbformat": 4,
 "nbformat_minor": 4
}
