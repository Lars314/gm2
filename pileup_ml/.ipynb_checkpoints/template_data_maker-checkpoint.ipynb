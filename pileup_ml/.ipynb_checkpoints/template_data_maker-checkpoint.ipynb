{
 "cells": [
  {
   "cell_type": "markdown",
   "metadata": {},
   "source": [
    "#### The purpose of this notebook is to produce train and test data for the ML algorithm using template pulses"
   ]
  },
  {
   "cell_type": "code",
   "execution_count": 10,
   "metadata": {},
   "outputs": [],
   "source": [
    "import ROOT as r\n",
    "import pandas as pd\n",
    "import matplotlib.pyplot as plt\n",
    "import numpy as np\n",
    "import sklearn as skl\n",
    "import pickle\n",
    "import spliland\n",
    "import importlib\n",
    "import random\n",
    "import fclParse\n",
    "from scipy import stats"
   ]
  },
  {
   "cell_type": "code",
   "execution_count": 3,
   "metadata": {},
   "outputs": [],
   "source": [
    "# run this to make printing cleaner\n",
    "np.set_printoptions(precision=None)"
   ]
  },
  {
   "cell_type": "code",
   "execution_count": 4,
   "metadata": {},
   "outputs": [],
   "source": [
    "# Reload stuff in case you make changes!\n",
    "\n",
    "importlib.reload(spliland);"
   ]
  },
  {
   "cell_type": "code",
   "execution_count": 11,
   "metadata": {},
   "outputs": [],
   "source": [
    "f = r.TFile(\"./calotemplate15.root\")\n",
    "noiseDict = fclParse.fclReader(\"gm2pedestals_run3formatRE.fcl\")\n",
    "enCalDict = fclParse.fclReader(\"mipEnergyCalibration_PostDisk_CoincidencNumber_2.fcl\")"
   ]
  },
  {
   "cell_type": "markdown",
   "metadata": {},
   "source": [
    "### Make a bunch of islands for set_4, use different minTimeOffset values for each"
   ]
  },
  {
   "cell_type": "code",
   "execution_count": 12,
   "metadata": {},
   "outputs": [
    {
     "ename": "TypeError",
     "evalue": "can only concatenate str (not \"int\") to str",
     "output_type": "error",
     "traceback": [
      "\u001b[0;31m---------------------------------------------------------------------------\u001b[0m",
      "\u001b[0;31mTypeError\u001b[0m                                 Traceback (most recent call last)",
      "\u001b[0;32m<ipython-input-12-2d4c6ce9804b>\u001b[0m in \u001b[0;36m<module>\u001b[0;34m\u001b[0m\n\u001b[1;32m     13\u001b[0m \u001b[0;32mfor\u001b[0m \u001b[0mindex\u001b[0m \u001b[0;32min\u001b[0m \u001b[0mrange\u001b[0m\u001b[0;34m(\u001b[0m\u001b[0;36m0\u001b[0m\u001b[0;34m,\u001b[0m \u001b[0mnIslands\u001b[0m\u001b[0;34m+\u001b[0m\u001b[0;36m1\u001b[0m\u001b[0;34m)\u001b[0m\u001b[0;34m:\u001b[0m\u001b[0;34m\u001b[0m\u001b[0;34m\u001b[0m\u001b[0m\n\u001b[1;32m     14\u001b[0m     \u001b[0mxtalNum\u001b[0m \u001b[0;34m=\u001b[0m \u001b[0mnp\u001b[0m\u001b[0;34m.\u001b[0m\u001b[0mrandom\u001b[0m\u001b[0;34m.\u001b[0m\u001b[0mrandint\u001b[0m\u001b[0;34m(\u001b[0m\u001b[0mlow\u001b[0m\u001b[0;34m=\u001b[0m\u001b[0;36m0\u001b[0m\u001b[0;34m,\u001b[0m \u001b[0mhigh\u001b[0m\u001b[0;34m=\u001b[0m\u001b[0;36m54\u001b[0m\u001b[0;34m)\u001b[0m\u001b[0;34m\u001b[0m\u001b[0;34m\u001b[0m\u001b[0m\n\u001b[0;32m---> 15\u001b[0;31m     \u001b[0mthisSpline\u001b[0m \u001b[0;34m=\u001b[0m \u001b[0mspliland\u001b[0m\u001b[0;34m.\u001b[0m\u001b[0mSpline\u001b[0m\u001b[0;34m(\u001b[0m\u001b[0mf\u001b[0m\u001b[0;34m.\u001b[0m\u001b[0mGet\u001b[0m\u001b[0;34m(\u001b[0m\u001b[0;34m\"masterSpline_xtal\"\u001b[0m \u001b[0;34m+\u001b[0m \u001b[0mxtalNum\u001b[0m\u001b[0;34m)\u001b[0m\u001b[0;34m,\u001b[0m \u001b[0mxtalNum\u001b[0m\u001b[0;34m)\u001b[0m\u001b[0;34m\u001b[0m\u001b[0;34m\u001b[0m\u001b[0m\n\u001b[0m\u001b[1;32m     16\u001b[0m     \u001b[0mthisNoise\u001b[0m \u001b[0;34m=\u001b[0m \u001b[0mnoiseDict\u001b[0m\u001b[0;34m[\u001b[0m\u001b[0;34m'pedestalConstantsLaserRun3'\u001b[0m\u001b[0;34m]\u001b[0m\u001b[0;34m[\u001b[0m\u001b[0;34m'calo15'\u001b[0m\u001b[0;34m]\u001b[0m\u001b[0;34m[\u001b[0m\u001b[0;34m'xtal'\u001b[0m \u001b[0;34m+\u001b[0m \u001b[0mxtalNum\u001b[0m\u001b[0;34m]\u001b[0m\u001b[0;34m[\u001b[0m\u001b[0;34m'noiseLevel'\u001b[0m\u001b[0;34m]\u001b[0m\u001b[0;34m\u001b[0m\u001b[0;34m\u001b[0m\u001b[0m\n\u001b[1;32m     17\u001b[0m     \u001b[0mthisEnCal\u001b[0m \u001b[0;34m=\u001b[0m \u001b[0menCalDict\u001b[0m\u001b[0;34m[\u001b[0m\u001b[0;34m'absolute_calibration_constants'\u001b[0m\u001b[0;34m]\u001b[0m\u001b[0;34m[\u001b[0m\u001b[0;34m'calo15'\u001b[0m\u001b[0;34m]\u001b[0m\u001b[0;34m[\u001b[0m\u001b[0;34m'xtal'\u001b[0m \u001b[0;34m+\u001b[0m \u001b[0mxtalNum\u001b[0m\u001b[0;34m]\u001b[0m\u001b[0;34m\u001b[0m\u001b[0;34m\u001b[0m\u001b[0m\n",
      "\u001b[0;31mTypeError\u001b[0m: can only concatenate str (not \"int\") to str"
     ]
    }
   ],
   "source": [
    "nIslands = 500000\n",
    "\n",
    "#for minTime in np.linspace(0.0, 4.5, num=10):\n",
    "#\n",
    "#    if(minTime < 1):\n",
    "#        name = '0' + str(int(minTime*10))\n",
    "#    else:\n",
    "#        name = str(int(minTime*10))\n",
    "#\n",
    "#    x = []\n",
    "#    y = []\n",
    "\n",
    "for index in range(0, nIslands+1):\n",
    "    xtalNum = str(np.random.randint(low=0, high=54))\n",
    "    thisSpline = spliland.Spline(f.Get(\"masterSpline_xtal\" + xtalNum), xtalNum)\n",
    "    thisNoise = noiseDict['pedestalConstantsLaserRun3']['calo15']['xtal' + xtalNum]['noiseLevel']\n",
    "    thisEnCal = enCalDict['absolute_calibration_constants']['calo15']['xtal' + xtalNum]\n",
    "\n",
    "    indexSpline = spliland.Spline(f.Get(\"masterSpline_xtal\" + xtalNum), xtalNum, 15)\n",
    "    indexIsland = spliland.Island(referenceSpline=indexSpline,\n",
    "                                  minPulses = 1, maxPulses = 6,\n",
    "                                  useUniformEscale = False,\n",
    "                                  energyCalibrationVal = thisEnCal,\n",
    "                                  energyPeak = 0, energyScale = 600,\n",
    "                                  minEscale = 1, maxEscale=1,\n",
    "                                  deltaTmin=0, deltaTmax=25,\n",
    "                                  minTimeOffset=0,\n",
    "                                  verbosity=False,\n",
    "                                  normalize=False,\n",
    "                                  chop = True,\n",
    "                                  chopThreshold = 50,\n",
    "                                  nPreSamples = 8, nPostSamples = 18,\n",
    "                                  noise=True, noiseLevel=thisNoise,\n",
    "                                  randomizeTailLength=False)\n",
    "\n",
    "    x.append([indexIsland.choppedTime, indexIsland.choppedYValues])\n",
    "    y.append(indexIsland.nPulses)\n",
    "\n",
    "    if (index % 10000 == 0):\n",
    "        print(\"index {1}\".format(index))\n",
    "\n",
    "with open('./template_data/set_5/x_train.data', 'wb') as xFile:\n",
    "    pickle.dump(x, xFile)\n",
    "    xFile.close()\n",
    "with open('./template_data/set_5/y_train.data', 'wb') as yFile:\n",
    "    pickle.dump(y, yFile)\n",
    "    yFile.close()"
   ]
  },
  {
   "cell_type": "code",
   "execution_count": null,
   "metadata": {},
   "outputs": [],
   "source": []
  }
 ],
 "metadata": {
  "kernelspec": {
   "display_name": "Python 3",
   "language": "python",
   "name": "python3"
  },
  "language_info": {
   "codemirror_mode": {
    "name": "ipython",
    "version": 3
   },
   "file_extension": ".py",
   "mimetype": "text/x-python",
   "name": "python",
   "nbconvert_exporter": "python",
   "pygments_lexer": "ipython3",
   "version": "3.7.5"
  }
 },
 "nbformat": 4,
 "nbformat_minor": 4
}
