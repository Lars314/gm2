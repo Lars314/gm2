{
 "cells": [
  {
   "cell_type": "markdown",
   "metadata": {},
   "source": [
    "## Set 1"
   ]
  },
  {
   "cell_type": "raw",
   "metadata": {},
   "source": [
    "nIslands = 100000\n",
    "\n",
    "referenceSpline=indexSpline,\n",
    "minPulses = 0, maxPulses = 4,\n",
    "minEscale = 1, maxEscale=10,\n",
    "deltaTmin = 0, deltaTmax = 25,\n",
    "gainSag = None,\n",
    "verbosity = False,\n",
    "normalize = True,\n",
    "noise = False, noiseLevel = 0.001,\n",
    "nTailSamples = 150, randomizeTailLength = True"
   ]
  },
  {
   "cell_type": "markdown",
   "metadata": {},
   "source": [
    "## Set 2"
   ]
  },
  {
   "cell_type": "raw",
   "metadata": {},
   "source": [
    "nIslands = 100000\n",
    "\n",
    "f = r.TFile(\"./calotemplate15.root\")\n",
    "\n",
    "x = []\n",
    "y = []\n",
    "\n",
    "for index in range(0, nIslands+1):\n",
    "    splineNum = np.random.randint(low=0, high=54)\n",
    "    indexSpline = Spline(f.Get(\"masterSpline_xtal\" + str(splineNum)))\n",
    "    indexIsland = buildIsland(referenceSpline=indexSpline,\n",
    "                              minPulses = 0, maxPulses = 4,\n",
    "                              minEscale = 1, maxEscale=10,\n",
    "                              deltaTmin = 0, deltaTmax = 25,\n",
    "                              gainSag = None,\n",
    "                              verbosity = False,\n",
    "                              normalize = True,\n",
    "                              noise = False, noiseLevel = 0.001,\n",
    "                              nTailSamples = 150, randomizeTailLength = False)\n",
    "    \n",
    "    x.append([indexIsland.time, indexIsland.energy])\n",
    "    y.append(indexIsland.nPulses)\n",
    "    \n",
    "with open('./template_data/set_2/x.data', 'wb') as xFile:\n",
    "    pickle.dump(x, xFile)\n",
    "    xFile.close()\n",
    "with open('./template_data/set_2/y.data', 'wb') as yFile:\n",
    "    pickle.dump(y, yFile)\n",
    "    yFile.close()"
   ]
  },
  {
   "cell_type": "markdown",
   "metadata": {},
   "source": [
    "## Set 3"
   ]
  },
  {
   "cell_type": "raw",
   "metadata": {},
   "source": [
    "nIslands = 100000\n",
    "\n",
    "f = r.TFile(\"./calotemplate15.root\")\n",
    "\n",
    "x = []\n",
    "y = []\n",
    "\n",
    "for index in range(0, nIslands+1):\n",
    "    splineNum = np.random.randint(low=0, high=54)\n",
    "    indexSpline = Spline(f.Get(\"masterSpline_xtal\" + str(splineNum)))\n",
    "    indexIsland = buildIsland(referenceSpline=indexSpline,\n",
    "                              minPulses = 0, maxPulses = 4,\n",
    "                              minEscale = 1, maxEscale=10,\n",
    "                              deltaTmin = 0, deltaTmax = 25,\n",
    "                              gainSag = None,\n",
    "                              verbosity = False,\n",
    "                              normalize = True,\n",
    "                              noise = True, noiseLevel = 0.001,\n",
    "                              nTailSamples = 150, randomizeTailLength = False)\n",
    "    \n",
    "    x.append([indexIsland.time, indexIsland.energy])\n",
    "    y.append(indexIsland.nPulses)\n",
    "    \n",
    "with open('./template_data/set_2/x.data', 'wb') as xFile:\n",
    "    pickle.dump(x, xFile)\n",
    "    xFile.close()\n",
    "with open('./template_data/set_2/y.data', 'wb') as yFile:\n",
    "    pickle.dump(y, yFile)\n",
    "    yFile.close()"
   ]
  },
  {
   "cell_type": "markdown",
   "metadata": {},
   "source": [
    "## Set 4\n",
    "\n",
    "Set 4 is actually 10 sets, with different minTimeOffset values ranging from 0 to 4.5 ns\n",
    "\n",
    "[0.0, 0.5, 1.0, 1.5, 2.0, 2.5, 3.0, 3.5, 4.0, 4.5]"
   ]
  },
  {
   "cell_type": "markdown",
   "metadata": {},
   "source": [
    "## Set 5\n",
    "\n",
    "This set uses the new spliland, and is pretty generic. Just meant to be a first run with a new keras / tensorflow based model. But off of feedback from a friday meeting, the training pulses go up to 6, test pulses are made separately with only up to 4\n",
    "\n",
    "Note that for the deep learning stuff, you gotta normalize"
   ]
  },
  {
   "cell_type": "code",
   "execution_count": null,
   "metadata": {},
   "outputs": [],
   "source": [
    "indexIsland = spliland.Island(referenceSpline=thisSpline,\n",
    "                                  minPulses = 1, maxPulses = 6,\n",
    "                                  useUniformEscale = False,\n",
    "                                  energyCalibrationVal = thisEnCal,\n",
    "                                  energyPeak = 0, energyScale = 600,\n",
    "                                  minEscale = 1, maxEscale=1,\n",
    "                                  deltaTmin=0, deltaTmax=25,\n",
    "                                  minTimeOffset=0,\n",
    "                                  verbosity=False,\n",
    "                                  normalize=True,\n",
    "                                  chop = True,\n",
    "                                  chopThreshold = 50,\n",
    "                                  nPreSamples = 8, nPostSamples = 18,\n",
    "                                  noise=True, noiseLevel=thisNoise,\n",
    "                                  randomizeTailLength=False)"
   ]
  },
  {
   "cell_type": "markdown",
   "metadata": {},
   "source": [
    "## Set 6\n",
    "\n",
    "This set was set up just like 5, but smaller. After having trouble with GERDA_dnn on set 5, I wondered if the data had gotten messed up"
   ]
  },
  {
   "cell_type": "raw",
   "metadata": {},
   "source": [
    "nIslands = 10000\n",
    "\n",
    "for index in range(0, nIslands+1):\n",
    "    xtalNum = str(np.random.randint(low=0, high=54))\n",
    "    thisNoise = noiseDict['pedestalConstantsLaserRun3']['calo15']['xtal' + xtalNum]['noiseLevel']\n",
    "    thisEnCal = enCalDict['absolute_calibration_constants']['calo15']['xtal' + xtalNum]\n",
    "\n",
    "    indexSpline = spliland.Spline(f.Get(\"masterSpline_xtal\" + xtalNum), xtalNum, 15)\n",
    "    indexIsland = spliland.Island(referenceSpline=indexSpline,\n",
    "                                  minPulses = 1, maxPulses = 4,\n",
    "                                  useUniformEscale = False,\n",
    "                                  energyCalibrationVal = thisEnCal,\n",
    "                                  energyPeak = 0, energyScale = 600,\n",
    "                                  minEscale = 1, maxEscale=1,\n",
    "                                  deltaTmin=0, deltaTmax=25,\n",
    "                                  minTimeOffset=3,\n",
    "                                  verbosity=False,\n",
    "                                  normalize=True,\n",
    "                                  chop = False,\n",
    "                                  chopThreshold = 50,\n",
    "                                  nPreSamples = 8, nPostSamples = 18,\n",
    "                                  noise=True, noiseLevel=thisNoise,\n",
    "                                  randomizeTailLength=False)\n",
    "\n",
    "    x.append([indexIsland.time, indexIsland.yValues])\n",
    "    y.append(indexIsland.nPulses)\n",
    "\n",
    "    if (index % 1000 == 0):\n",
    "        print(\"index {0}\".format(index))\n",
    "\n",
    "with open('./template_data/set_6/x_test.data', 'wb') as xFile:\n",
    "    pickle.dump(x, xFile)\n",
    "    xFile.close()\n",
    "with open('./template_data/set_6/y_test.data', 'wb') as yFile:\n",
    "    pickle.dump(y, yFile)\n",
    "    yFile.close()"
   ]
  },
  {
   "cell_type": "markdown",
   "metadata": {},
   "source": [
    "## Set 7\n",
    "\n",
    "This set was created to include a different version of the island that is 0, or the value of the normalized energy scale factor of a pulse, at that pulses location. The motivation is to provide a target for the autoencoder."
   ]
  },
  {
   "cell_type": "raw",
   "metadata": {},
   "source": [
    "nIslands = 8000\n",
    "\n",
    "x = []\n",
    "y = []\n",
    "x_delta = []\n",
    "\n",
    "for index in range(0, nIslands+1):\n",
    "    xtalNum = str(np.random.randint(low=0, high=54))\n",
    "    thisNoise = noiseDict['pedestalConstantsLaserRun3']['calo15']['xtal' + xtalNum]['noiseLevel']\n",
    "    thisEnCal = enCalDict['absolute_calibration_constants']['calo15']['xtal' + xtalNum]\n",
    "\n",
    "    indexSpline = spliland.Spline(f.Get(\"masterSpline_xtal\" + xtalNum), xtalNum, 15)\n",
    "    indexIsland = spliland.Island(referenceSpline=indexSpline,\n",
    "                                  minPulses = 1, maxPulses = 6,\n",
    "                                  useUniformEscale = False,\n",
    "                                  energyCalibrationVal = thisEnCal,\n",
    "                                  energyPeak = 0, energyScale = 600,\n",
    "                                  minEscale = 1, maxEscale=1,\n",
    "                                  deltaTmin=0, deltaTmax=25,\n",
    "                                  minTimeOffset=3,\n",
    "                                  verbosity=False,\n",
    "                                  normalize=True,\n",
    "                                  chop = False,\n",
    "                                  chopThreshold = 50,\n",
    "                                  nPreSamples = 8, nPostSamples = 18,\n",
    "                                  noise=True, noiseLevel=thisNoise,\n",
    "                                  randomizeTailLength=False)\n",
    "\n",
    "    x.append([indexIsland.time, indexIsland.yValues])\n",
    "    y.append(indexIsland.nPulses)\n",
    "    x_delta.append([indexIsland.time, indexIsland.simple_ys])\n",
    "\n",
    "    if (index % 1000 == 0):\n",
    "        print(\"index {0}\".format(index))\n",
    "\n",
    "with open('./template_data/set_7/x_train.data', 'wb') as xFile:\n",
    "    pickle.dump(x, xFile)\n",
    "    xFile.close()\n",
    "\n",
    "with open('./template_data/set_7/x_delta_train.data', 'wb') as x_deltaFile:\n",
    "    pickle.dump(x_delta, x_deltaFile)\n",
    "    x_deltaFile.close()\n",
    "\n",
    "with open('./template_data/set_7/y_train.data', 'wb') as yFile:\n",
    "    pickle.dump(y, yFile)\n",
    "    yFile.close()"
   ]
  },
  {
   "cell_type": "code",
   "execution_count": null,
   "metadata": {},
   "outputs": [],
   "source": []
  }
 ],
 "metadata": {
  "kernelspec": {
   "display_name": "Python 3",
   "language": "python",
   "name": "python3"
  },
  "language_info": {
   "codemirror_mode": {
    "name": "ipython",
    "version": 3
   },
   "file_extension": ".py",
   "mimetype": "text/x-python",
   "name": "python",
   "nbconvert_exporter": "python",
   "pygments_lexer": "ipython3",
   "version": "3.7.5"
  }
 },
 "nbformat": 4,
 "nbformat_minor": 4
}
