{
 "cells": [
  {
   "cell_type": "markdown",
   "metadata": {},
   "source": [
    "## Set 1"
   ]
  },
  {
   "cell_type": "raw",
   "metadata": {},
   "source": [
    "nIslands = 100000\n",
    "\n",
    "referenceSpline=indexSpline,\n",
    "minPulses = 0, maxPulses = 4,\n",
    "minEscale = 1, maxEscale=10,\n",
    "deltaTmin = 0, deltaTmax = 25,\n",
    "gainSag = None,\n",
    "verbosity = False,\n",
    "normalize = True,\n",
    "noise = False, noiseLevel = 0.001,\n",
    "nTailSamples = 150, randomizeTailLength = True"
   ]
  },
  {
   "cell_type": "markdown",
   "metadata": {},
   "source": [
    "## Set 2"
   ]
  },
  {
   "cell_type": "raw",
   "metadata": {},
   "source": [
    "nIslands = 100000\n",
    "\n",
    "f = r.TFile(\"./calotemplate15.root\")\n",
    "\n",
    "x = []\n",
    "y = []\n",
    "\n",
    "for index in range(0, nIslands+1):\n",
    "    splineNum = np.random.randint(low=0, high=54)\n",
    "    indexSpline = Spline(f.Get(\"masterSpline_xtal\" + str(splineNum)))\n",
    "    indexIsland = buildIsland(referenceSpline=indexSpline,\n",
    "                              minPulses = 0, maxPulses = 4,\n",
    "                              minEscale = 1, maxEscale=10,\n",
    "                              deltaTmin = 0, deltaTmax = 25,\n",
    "                              gainSag = None,\n",
    "                              verbosity = False,\n",
    "                              normalize = True,\n",
    "                              noise = False, noiseLevel = 0.001,\n",
    "                              nTailSamples = 150, randomizeTailLength = False)\n",
    "    \n",
    "    x.append([indexIsland.time, indexIsland.energy])\n",
    "    y.append(indexIsland.nPulses)\n",
    "    \n",
    "with open('./template_data/set_2/x.data', 'wb') as xFile:\n",
    "    pickle.dump(x, xFile)\n",
    "    xFile.close()\n",
    "with open('./template_data/set_2/y.data', 'wb') as yFile:\n",
    "    pickle.dump(y, yFile)\n",
    "    yFile.close()"
   ]
  },
  {
   "cell_type": "markdown",
   "metadata": {},
   "source": [
    "## Set 3"
   ]
  },
  {
   "cell_type": "raw",
   "metadata": {},
   "source": [
    "nIslands = 100000\n",
    "\n",
    "f = r.TFile(\"./calotemplate15.root\")\n",
    "\n",
    "x = []\n",
    "y = []\n",
    "\n",
    "for index in range(0, nIslands+1):\n",
    "    splineNum = np.random.randint(low=0, high=54)\n",
    "    indexSpline = Spline(f.Get(\"masterSpline_xtal\" + str(splineNum)))\n",
    "    indexIsland = buildIsland(referenceSpline=indexSpline,\n",
    "                              minPulses = 0, maxPulses = 4,\n",
    "                              minEscale = 1, maxEscale=10,\n",
    "                              deltaTmin = 0, deltaTmax = 25,\n",
    "                              gainSag = None,\n",
    "                              verbosity = False,\n",
    "                              normalize = True,\n",
    "                              noise = True, noiseLevel = 0.001,\n",
    "                              nTailSamples = 150, randomizeTailLength = False)\n",
    "    \n",
    "    x.append([indexIsland.time, indexIsland.energy])\n",
    "    y.append(indexIsland.nPulses)\n",
    "    \n",
    "with open('./template_data/set_2/x.data', 'wb') as xFile:\n",
    "    pickle.dump(x, xFile)\n",
    "    xFile.close()\n",
    "with open('./template_data/set_2/y.data', 'wb') as yFile:\n",
    "    pickle.dump(y, yFile)\n",
    "    yFile.close()"
   ]
  },
  {
   "cell_type": "markdown",
   "metadata": {},
   "source": [
    "## Set 4\n",
    "\n",
    "Set 4 is actually 10 sets, with different minTimeOffset values ranging from 0 to 4.5 ns\n",
    "\n",
    "[0.0, 0.5, 1.0, 1.5, 2.0, 2.5, 3.0, 3.5, 4.0, 4.5]"
   ]
  },
  {
   "cell_type": "markdown",
   "metadata": {},
   "source": [
    "## Set 5\n",
    "\n",
    "This set uses the new spliland, and is pretty generic. Just meant to be a first run with a new keras / tensorflow based model. But off of feedback from a friday meeting, the training pulses go up to 6, test pulses are made separately with only up to 4"
   ]
  },
  {
   "cell_type": "code",
   "execution_count": null,
   "metadata": {},
   "outputs": [],
   "source": [
    "indexIsland = spliland.Island(referenceSpline=thisSpline,\n",
    "                                  minPulses = 1, maxPulses = 6,\n",
    "                                  useUniformEscale = False,\n",
    "                                  energyCalibrationVal = thisEnCal,\n",
    "                                  energyPeak = 0, energyScale = 600,\n",
    "                                  minEscale = 1, maxEscale=1,\n",
    "                                  deltaTmin=0, deltaTmax=25,\n",
    "                                  minTimeOffset=0,\n",
    "                                  verbosity=False,\n",
    "                                  normalize=False,\n",
    "                                  chop = True,\n",
    "                                  chopThreshold = 50,\n",
    "                                  nPreSamples = 8, nPostSamples = 18,\n",
    "                                  noise=True, noiseLevel=thisNoise,\n",
    "                                  randomizeTailLength=False)"
   ]
  }
 ],
 "metadata": {
  "kernelspec": {
   "display_name": "Python 3",
   "language": "python",
   "name": "python3"
  },
  "language_info": {
   "codemirror_mode": {
    "name": "ipython",
    "version": 3
   },
   "file_extension": ".py",
   "mimetype": "text/x-python",
   "name": "python",
   "nbconvert_exporter": "python",
   "pygments_lexer": "ipython3",
   "version": "3.7.5"
  }
 },
 "nbformat": 4,
 "nbformat_minor": 4
}
