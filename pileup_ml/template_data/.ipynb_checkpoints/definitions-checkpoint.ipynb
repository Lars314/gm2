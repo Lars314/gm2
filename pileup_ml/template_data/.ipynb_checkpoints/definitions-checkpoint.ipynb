{
 "cells": [
  {
   "cell_type": "markdown",
   "metadata": {},
   "source": [
    "## Set 1"
   ]
  },
  {
   "cell_type": "raw",
   "metadata": {},
   "source": [
    "nIslands = 100000\n",
    "\n",
    "referenceSpline=indexSpline,\n",
    "minPulses = 0, maxPulses = 4,\n",
    "minEscale = 1, maxEscale=10,\n",
    "deltaTmin = 0, deltaTmax = 25,\n",
    "gainSag = None,\n",
    "verbosity = False,\n",
    "normalize = True,\n",
    "noise = False, noiseLevel = 0.001,\n",
    "nTailSamples = 150, randomizeTailLength = True"
   ]
  },
  {
   "cell_type": "code",
   "execution_count": null,
   "metadata": {},
   "outputs": [],
   "source": []
  }
 ],
 "metadata": {
  "kernelspec": {
   "display_name": "Python 3",
   "language": "python",
   "name": "python3"
  },
  "language_info": {
   "codemirror_mode": {
    "name": "ipython",
    "version": 3
   },
   "file_extension": ".py",
   "mimetype": "text/x-python",
   "name": "python",
   "nbconvert_exporter": "python",
   "pygments_lexer": "ipython3",
   "version": "3.7.5"
  }
 },
 "nbformat": 4,
 "nbformat_minor": 4
}
