{
 "cells": [
  {
   "cell_type": "markdown",
   "metadata": {},
   "source": [
    "### Island Object Test v2\n",
    "\n",
    "The purpose of this notebook is to test the second major version of the island creation. This version is focused on a calorimeter wide approach much more accurate to the actual experimental design."
   ]
  },
  {
   "cell_type": "code",
   "execution_count": 1,
   "metadata": {},
   "outputs": [
    {
     "name": "stdout",
     "output_type": "stream",
     "text": [
      "Welcome to JupyROOT 6.18/04\n"
     ]
    }
   ],
   "source": [
    "import spliland_v2 as csi\n",
    "import importlib\n",
    "import ROOT as r\n",
    "import pandas as pd\n",
    "import matplotlib.pyplot as plt\n",
    "import numpy as np"
   ]
  },
  {
   "cell_type": "code",
   "execution_count": 196,
   "metadata": {},
   "outputs": [],
   "source": [
    "# Reload stuff in case you make changes!\n",
    "importlib.reload(csi);"
   ]
  },
  {
   "cell_type": "code",
   "execution_count": 221,
   "metadata": {},
   "outputs": [],
   "source": [
    "calo = csi.Calorimeter(caloNum=1)"
   ]
  },
  {
   "cell_type": "code",
   "execution_count": 217,
   "metadata": {},
   "outputs": [
    {
     "name": "stdout",
     "output_type": "stream",
     "text": [
      "No particle energy provided, defaulting to energy of 3.094 GeV\n",
      "\n",
      "----- New Particle -----\n",
      "(x, y) : (6.75, 0.42)\n",
      "Energy : 3094.00 MeV\n",
      "Time : 19.98 ns\n",
      "\n"
     ]
    }
   ],
   "source": [
    "p1 = csi.Particle()\n",
    "print(p1)\n",
    "calo.impact(p1)\n",
    "calo.get_hit_crystals_()\n",
    "calo.build_crystals_()"
   ]
  },
  {
   "cell_type": "code",
   "execution_count": 218,
   "metadata": {},
   "outputs": [
    {
     "data": {
      "image/png": "[encoded data removed]",
      "text/plain": [
       "<Figure size 648x432 with 1 Axes>"
      ]
     },
     "metadata": {
      "needs_background": "light"
     },
     "output_type": "display_data"
    }
   ],
   "source": [
    "calo.draw(legend=True, show_moliere_radius=True,\n",
    "          show_hit_xtals=True, show_xtal_energies=True)"
   ]
  },
  {
   "cell_type": "code",
   "execution_count": 219,
   "metadata": {},
   "outputs": [
    {
     "name": "stdout",
     "output_type": "stream",
     "text": [
      "Crystal 0 at (1, 1) has [time (ns), energy (MeV)]: []\n",
      "\n",
      "Crystal 1 at (1, 2) has [time (ns), energy (MeV)]: []\n",
      "\n",
      "Crystal 2 at (1, 3) has [time (ns), energy (MeV)]: []\n",
      "\n",
      "Crystal 3 at (1, 4) has [time (ns), energy (MeV)]: []\n",
      "\n",
      "Crystal 4 at (1, 5) has [time (ns), energy (MeV)]: []\n",
      "\n",
      "Crystal 5 at (1, 6) has [time (ns), energy (MeV)]: []\n",
      "\n",
      "Crystal 6 at (2, 1) has [time (ns), energy (MeV)]: []\n",
      "\n",
      "Crystal 7 at (2, 2) has [time (ns), energy (MeV)]: []\n",
      "\n",
      "Crystal 8 at (2, 3) has [time (ns), energy (MeV)]: []\n",
      "\n",
      "Crystal 9 at (2, 4) has [time (ns), energy (MeV)]: []\n",
      "\n",
      "Crystal 10 at (2, 5) has [time (ns), energy (MeV)]: []\n",
      "\n",
      "Crystal 11 at (2, 6) has [time (ns), energy (MeV)]: []\n",
      "\n",
      "Crystal 12 at (3, 1) has [time (ns), energy (MeV)]: []\n",
      "\n",
      "Crystal 13 at (3, 2) has [time (ns), energy (MeV)]: []\n",
      "\n",
      "Crystal 14 at (3, 3) has [time (ns), energy (MeV)]: []\n",
      "\n",
      "Crystal 15 at (3, 4) has [time (ns), energy (MeV)]: []\n",
      "\n",
      "Crystal 16 at (3, 5) has [time (ns), energy (MeV)]: []\n",
      "\n",
      "Crystal 17 at (3, 6) has [time (ns), energy (MeV)]: []\n",
      "\n",
      "Crystal 18 at (4, 1) has [time (ns), energy (MeV)]: []\n",
      "\n",
      "Crystal 19 at (4, 2) has [time (ns), energy (MeV)]: []\n",
      "\n",
      "Crystal 20 at (4, 3) has [time (ns), energy (MeV)]: []\n",
      "\n",
      "Crystal 21 at (4, 4) has [time (ns), energy (MeV)]: []\n",
      "\n",
      "Crystal 22 at (4, 5) has [time (ns), energy (MeV)]: []\n",
      "\n",
      "Crystal 23 at (4, 6) has [time (ns), energy (MeV)]: []\n",
      "\n",
      "Crystal 24 at (5, 1) has [time (ns), energy (MeV)]: []\n",
      "\n",
      "Crystal 25 at (5, 2) has [time (ns), energy (MeV)]: []\n",
      "\n",
      "Crystal 26 at (5, 3) has [time (ns), energy (MeV)]: []\n",
      "\n",
      "Crystal 27 at (5, 4) has [time (ns), energy (MeV)]: []\n",
      "\n",
      "Crystal 28 at (5, 5) has [time (ns), energy (MeV)]: []\n",
      "\n",
      "Crystal 29 at (5, 6) has [time (ns), energy (MeV)]: []\n",
      "\n",
      "Crystal 30 at (6, 1) has [time (ns), energy (MeV)]: [[19.978521033516408, 158.1177891668723]]\n",
      "\n",
      "Crystal 31 at (6, 2) has [time (ns), energy (MeV)]: [[19.978521033516408, 90.66396164299866]]\n",
      "\n",
      "Crystal 32 at (6, 3) has [time (ns), energy (MeV)]: []\n",
      "\n",
      "Crystal 33 at (6, 4) has [time (ns), energy (MeV)]: []\n",
      "\n",
      "Crystal 34 at (6, 5) has [time (ns), energy (MeV)]: []\n",
      "\n",
      "Crystal 35 at (6, 6) has [time (ns), energy (MeV)]: []\n",
      "\n",
      "Crystal 36 at (7, 1) has [time (ns), energy (MeV)]: [[19.978521033516408, 3703.991932868667]]\n",
      "\n",
      "Crystal 37 at (7, 2) has [time (ns), energy (MeV)]: [[19.978521033516408, 200.99206681732326]]\n",
      "\n",
      "Crystal 38 at (7, 3) has [time (ns), energy (MeV)]: []\n",
      "\n",
      "Crystal 39 at (7, 4) has [time (ns), energy (MeV)]: []\n",
      "\n",
      "Crystal 40 at (7, 5) has [time (ns), energy (MeV)]: []\n",
      "\n",
      "Crystal 41 at (7, 6) has [time (ns), energy (MeV)]: []\n",
      "\n",
      "Crystal 42 at (8, 1) has [time (ns), energy (MeV)]: [[19.978521033516408, 427.6031829644888]]\n",
      "\n",
      "Crystal 43 at (8, 2) has [time (ns), energy (MeV)]: [[19.978521033516408, 141.9656273818372]]\n",
      "\n",
      "Crystal 44 at (8, 3) has [time (ns), energy (MeV)]: []\n",
      "\n",
      "Crystal 45 at (8, 4) has [time (ns), energy (MeV)]: []\n",
      "\n",
      "Crystal 46 at (8, 5) has [time (ns), energy (MeV)]: []\n",
      "\n",
      "Crystal 47 at (8, 6) has [time (ns), energy (MeV)]: []\n",
      "\n",
      "Crystal 48 at (9, 1) has [time (ns), energy (MeV)]: [[19.978521033516408, 79.80646869429916]]\n",
      "\n",
      "Crystal 49 at (9, 2) has [time (ns), energy (MeV)]: []\n",
      "\n",
      "Crystal 50 at (9, 3) has [time (ns), energy (MeV)]: []\n",
      "\n",
      "Crystal 51 at (9, 4) has [time (ns), energy (MeV)]: []\n",
      "\n",
      "Crystal 52 at (9, 5) has [time (ns), energy (MeV)]: []\n",
      "\n",
      "Crystal 53 at (9, 6) has [time (ns), energy (MeV)]: []\n",
      "\n",
      "\n"
     ]
    }
   ],
   "source": [
    "print(calo)"
   ]
  },
  {
   "cell_type": "code",
   "execution_count": 220,
   "metadata": {},
   "outputs": [
    {
     "data": {
      "text/plain": [
       "[{'x': 6.745337549223169,\n",
       "  'y': 0.420742557915869,\n",
       "  'time': 19.978521033516408,\n",
       "  'energy': 3094,\n",
       "  'ring_x': array([8.16266038, 8.05477311, 7.74753614, 7.28772352, 6.74533755,\n",
       "         6.20295158, 5.74313896, 5.43590199, 5.32801471, 5.43590199,\n",
       "         5.74313896, 6.20295158, 6.74533755, 7.28772352, 7.74753614,\n",
       "         8.05477311, 8.16266038]),\n",
       "  'ring_y': array([ 0.42074256,  0.96312853,  1.42294115,  1.73017812,  1.83806539,\n",
       "          1.73017812,  1.42294115,  0.96312853,  0.42074256, -0.12164341,\n",
       "         -0.58145603, -0.888693  , -0.99658028, -0.888693  , -0.58145603,\n",
       "         -0.12164341,  0.42074256]),\n",
       "  'small_ring_x': array([7.45399897, 7.40005533, 7.24643684, 7.01653053, 6.74533755,\n",
       "         6.47414457, 6.24423826, 6.09061977, 6.03667613, 6.09061977,\n",
       "         6.24423826, 6.47414457, 6.74533755, 7.01653053, 7.24643684,\n",
       "         7.40005533, 7.45399897]),\n",
       "  'small_ring_y': array([ 0.42074256,  0.69193554,  0.92184185,  1.07546034,  1.12940398,\n",
       "          1.07546034,  0.92184185,  0.69193554,  0.42074256,  0.14954957,\n",
       "         -0.08035674, -0.23397522, -0.28791886, -0.23397522, -0.08035674,\n",
       "          0.14954957,  0.42074256]),\n",
       "  'hit_crystals': [(8, 0), (7, 1), (6, 1), (5, 1), (5, 0), (6, 0), (7, 0)]}]"
      ]
     },
     "execution_count": 220,
     "metadata": {},
     "output_type": "execute_result"
    }
   ],
   "source": [
    "calo.impacts"
   ]
  },
  {
   "cell_type": "code",
   "execution_count": 215,
   "metadata": {},
   "outputs": [],
   "source": [
    "calo.clear()"
   ]
  },
  {
   "cell_type": "code",
   "execution_count": null,
   "metadata": {},
   "outputs": [],
   "source": []
  }
 ],
 "metadata": {
  "kernelspec": {
   "display_name": "Python 3",
   "language": "python",
   "name": "python3"
  },
  "language_info": {
   "codemirror_mode": {
    "name": "ipython",
    "version": 3
   },
   "file_extension": ".py",
   "mimetype": "text/x-python",
   "name": "python",
   "nbconvert_exporter": "python",
   "pygments_lexer": "ipython3",
   "version": "3.7.5"
  }
 },
 "nbformat": 4,
 "nbformat_minor": 4
}
