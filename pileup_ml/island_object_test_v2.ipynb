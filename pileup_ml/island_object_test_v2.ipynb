{
 "cells": [
  {
   "cell_type": "code",
   "execution_count": null,
   "metadata": {},
   "outputs": [],
   "source": [
    "import spliland_v2 as csi\n",
    "import importlib\n",
    "import ROOT as r\n",
    "import pandas as pd\n",
    "import matplotlib.pyplot as plt\n",
    "import numpy as np"
   ]
  },
  {
   "cell_type": "code",
   "execution_count": null,
   "metadata": {},
   "outputs": [],
   "source": [
    "# Reload stuff in case you make changes!\n",
    "importlib.reload(csi);"
   ]
  },
  {
   "cell_type": "code",
   "execution_count": null,
   "metadata": {},
   "outputs": [],
   "source": [
    "calo = csi.Calorimeter(caloNum=1)\n",
    "df = pd.read_csv(\"sample_data_4.csv\")\n",
    "calo.draw(legend=False)"
   ]
  },
  {
   "cell_type": "code",
   "execution_count": null,
   "metadata": {},
   "outputs": [],
   "source": [
    "p1 = csi.Particle(e_df=df['energy'])\n",
    "print(\"p1 x: {0:.2f} \\np1 y: {1:.2f}\".format(p1.x, p1.y) + \n",
    "      \"\\np1 energy: {0:.2f} MeV\".format(p1.energy) +\n",
    "      \"\\np1 time: {0:.2f} ns\".format(p1.time))\n",
    "calo.impact(p1)\n",
    "calo.get_hit_crystals_()\n",
    "calo.draw(legend=False, do_moliere_radius=True, show_hit_xtals=True)"
   ]
  }
 ],
 "metadata": {
  "kernelspec": {
   "display_name": "Python 3",
   "language": "python",
   "name": "python3"
  },
  "language_info": {
   "codemirror_mode": {
    "name": "ipython",
    "version": 3
   },
   "file_extension": ".py",
   "mimetype": "text/x-python",
   "name": "python",
   "nbconvert_exporter": "python",
   "pygments_lexer": "ipython3",
   "version": "3.7.5"
  }
 },
 "nbformat": 4,
 "nbformat_minor": 4
}
