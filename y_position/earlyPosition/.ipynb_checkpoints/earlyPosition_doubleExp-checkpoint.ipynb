{
 "cells": [
  {
   "cell_type": "code",
   "execution_count": 1,
   "metadata": {},
   "outputs": [
    {
     "name": "stdout",
     "output_type": "stream",
     "text": [
      "Welcome to JupyROOT 6.18/04\n"
     ]
    }
   ],
   "source": [
    "import ROOT as r\n",
    "import pandas as pd\n",
    "import matplotlib.pyplot as plt\n",
    "import mplhep as hep\n",
    "import math\n",
    "import numpy as np\n",
    "import colorsys\n",
    "from scipy import optimize as sciopt\n",
    "import os\n",
    "import lmfit\n",
    "import uncertainties as u"
   ]
  },
  {
   "cell_type": "code",
   "execution_count": 2,
   "metadata": {},
   "outputs": [],
   "source": [
    "plt.style.use(hep.style.ATLAS)\n",
    "plt.style.use({\"axes.labelsize\":'36', 'lines.linewidth':'2', 'lines.markersize':'2'})"
   ]
  },
  {
   "cell_type": "markdown",
   "metadata": {},
   "source": [
    "### Set-Up Histograms"
   ]
  },
  {
   "cell_type": "code",
   "execution_count": 3,
   "metadata": {},
   "outputs": [],
   "source": [
    "class DataSet:\n",
    "    \"\"\"\n",
    "    Dataset object has:\n",
    "   \n",
    "    name: name of the dataset (ie 1A, 1B, ...)\n",
    "\n",
    "    long_name: long form name of the dataset (ie 60h, HighKick, ...)\n",
    "\n",
    "    energy_range: the energy upper and lower cutoffs in MeV [lower, upper]\n",
    "\n",
    "    hists: root histograms of y vs t for each calorimeter. Has structure {\"randomized\": [list of histograms], \"unrandomized\": [list of histograms]}\n",
    "\n",
    "    dfs: pandas dataframes of y vs t for each calorimeter. Has structure {\"randomized\": [list of dataframes], \"unrandomized\": [list of dataframes]}\n",
    "    \"\"\"\n",
    "    \n",
    "    def __init__(self, name = None, long_name = None, file = None, energy_range = [0, 99999999999]):\n",
    "        self.name         = name\n",
    "        self.long_name    = long_name\n",
    "        self.file         = file\n",
    "        self.hists        = None\n",
    "        self.dfs          = None\n",
    "        self.energy_range = energy_range\n",
    "        self.func1_params = None\n",
    "        self.func2_params = None\n",
    "        \n",
    "\n",
    "    def _calo_df(self, hist, step):\n",
    "        \n",
    "        data = pd.DataFrame(columns=['TimeBin', 'Mean', 'MeanError', 'SD', \n",
    "                                     'SDError', 'Var', 'VarError','Npoints', \n",
    "                                     'RMS', 'RMSError'])\n",
    "        \n",
    "        for index in range(0, hist.GetNbinsX()-step, step):\n",
    "            a = dict()\n",
    "\n",
    "            proj = hist.ProjectionY(\"_py\", index, index+step)\n",
    "\n",
    "            #a['TimeBin']      = index*(hist.GetXaxis().GetXmax()/hist.GetNbinsX())\n",
    "            a['TimeBin']      = hist.GetXaxis().GetBinCenter(index)\n",
    "            a['Mean']         = (proj.GetMean() - 3) * 25.2\n",
    "            a['MeanError']    = proj.GetMeanError() * 25.2\n",
    "            a['SD']           = proj.GetStdDev() * 25.2\n",
    "            a['SDError']      = proj.GetStdDevError() * 25.2\n",
    "            a['Var']          = (proj.GetStdDev() ** 2) * (25.2 ** 2)\n",
    "            a['VarError']     = 2 * abs(proj.GetStdDev()) * proj.GetStdDevError() * (25.2 ** 2)\n",
    "            a['Npoints']      = proj.GetEntries()\n",
    "            a['RMS']          = proj.GetRMS() * 25.2\n",
    "            a['RMSError']     = proj.GetRMSError() * 25.2\n",
    "\n",
    "            data.loc[index] = a\n",
    "                \n",
    "        return data\n",
    "\n",
    "    \n",
    "    def build_hists(self):\n",
    "        calo_hists = {}\n",
    "        rand_hists = {}\n",
    "\n",
    "        for i in range(1, 25):\n",
    "            calo = self.file.Get(\"verticalPosition/clusters\" + str(i)).Clone(self.name + \"_calo_\" + str(i))\n",
    "            rand = self.file.Get(\"verticalPosition/randclusters\" + str(i)).Clone(self.name + \"_rand_calo_\" + str(i))\n",
    "\n",
    "            calo.SetAxisRange(self.energy_range[0], self.energy_range[1], \"y\")\n",
    "            rand.SetAxisRange(self.energy_range[0], self.energy_range[1], \"y\")\n",
    "            calo_hists[i] = calo.Project3D(\"zx\")\n",
    "            rand_hists[i] = rand.Project3D(\"zx\")\n",
    "            \n",
    "        return {\"unrandomized\": calo_hists, \"randomized\": rand_hists}\n",
    "    \n",
    "\n",
    "    def build_dfs(self, step):\n",
    "        unrandomized = {}\n",
    "        randomized = {}\n",
    "\n",
    "        for caloNum, hist in self.hists['unrandomized'].items():\n",
    "            unrandomized[caloNum] = self._calo_df(hist, step)\n",
    "            \n",
    "        for caloNum, hist in self.hists['randomized'].items():\n",
    "            randomized[caloNum] = self._calo_df(hist, step)\n",
    "            \n",
    "        return {\"unrandomized\": unrandomized, \"randomized\":randomized}"
   ]
  },
  {
   "cell_type": "code",
   "execution_count": 6,
   "metadata": {},
   "outputs": [],
   "source": [
    "def func0(t, c, m):\n",
    "    return( c + m * t)\n",
    "\n",
    "\n",
    "def func1(t, c, a, tau, m):\n",
    "    return( c - a * (np.exp(-t/tau)) + m*t)\n",
    "\n",
    "\n",
    "def func2(t, c, a, tauA, b, tauB):\n",
    "    return( c - a * (np.exp(-t/tauA)) + b * (np.exp(-t/tauB)) )\n"
   ]
  },
  {
   "cell_type": "code",
   "execution_count": 7,
   "metadata": {},
   "outputs": [],
   "source": [
    "def fit_func1(df, fit_lim):\n",
    "    \"\"\"\n",
    "    \"\"\"\n",
    "    model = lmfit.Model(func1)\n",
    "\n",
    "    mean_params = {}        \n",
    "\n",
    "    fit_data = df[(df['TimeBin'] > fit_lim[0]) & (df['TimeBin'] < fit_lim[1]) ][:]\n",
    "\n",
    "    #Mean\n",
    "    mean_result = model.fit(fit_data['Mean'], t=fit_data['TimeBin'], c=0.5, a=8, tau=7, m=0.0001, weights=1/fit_data['MeanError'])\n",
    "    mean_cov = mean_result.covar\n",
    "    \"\"\"\n",
    "    fig, ax = plt.subplots(1,1)\n",
    "\n",
    "    ax.plot(df['TimeBin'], df['Mean'], linestyle='none', marker='o')\n",
    "    ax.plot(fit_data['TimeBin'], mean_result.best_fit)\n",
    "    ax.set_ylim(-3, 3);\n",
    "    ax.set_xlim(0, 200);\n",
    "\n",
    "    print(mean_result.fit_report())\n",
    "    \"\"\"\n",
    "\n",
    "    for name, param in mean_result.params.items():\n",
    "        mean_params[name] = param.value\n",
    "    \n",
    "    for index, name in enumerate(mean_result.params):\n",
    "        mean_params[name + '_err'] = np.sqrt(mean_cov[index][index])\n",
    "        \n",
    "    mean_params['redchi'] = mean_result.redchi\n",
    "\n",
    "    return mean_params"
   ]
  },
  {
   "cell_type": "code",
   "execution_count": 8,
   "metadata": {},
   "outputs": [],
   "source": [
    "def fit_func2(df, fit_lim):\n",
    "    \"\"\"\n",
    "    \"\"\"\n",
    "    model = lmfit.Model(func2)\n",
    "\n",
    "    mean_params = {}        \n",
    "\n",
    "    fit_data = df[(df['TimeBin'] > fit_lim[0]) & (df['TimeBin'] < fit_lim[1]) ][:]\n",
    "\n",
    "    #Mean\n",
    "    mean_result = model.fit(fit_data['Mean'], t=fit_data['TimeBin'], c=0.5, a=8, tauA=7, b=0.0001, tauB=6, weights=1/fit_data['MeanError'])\n",
    "    mean_cov = mean_result.covar\n",
    "    \"\"\"\n",
    "    fig, ax = plt.subplots(1,1)\n",
    "\n",
    "    ax.plot(df['TimeBin'], df['Mean'], linestyle='none', marker='o')\n",
    "    ax.plot(fit_data['TimeBin'], mean_result.best_fit)\n",
    "    ax.set_ylim(-3, 3);\n",
    "    ax.set_xlim(0, 200);\n",
    "\n",
    "    print(mean_result.fit_report())\n",
    "    \"\"\"\n",
    "\n",
    "    for name, param in mean_result.params.items():\n",
    "        mean_params[name] = param.value\n",
    "    \n",
    "    for index, name in enumerate(mean_result.params):\n",
    "        mean_params[name + '_err'] = np.sqrt(mean_cov[index][index])\n",
    "        \n",
    "    mean_params['redchi'] = mean_result.redchi\n",
    "\n",
    "    return mean_params"
   ]
  },
  {
   "cell_type": "code",
   "execution_count": null,
   "metadata": {},
   "outputs": [],
   "source": [
    "energy_lim = [1000, 2400]\n",
    "\n",
    "sixtyhour = DataSet(\"1A\", \"60h\", r.TFile(\"./60h.root\"), energy_lim)\n",
    "highkick  = DataSet(\"1B\", \"HighKick\", r.TFile(\"./highkick.root\"), energy_lim)\n",
    "nineday   = DataSet(\"1C\", \"9day\", r.TFile(\"./9day.root\"), energy_lim)\n",
    "endgame   = DataSet(\"1D\", \"EndGame\", r.TFile(\"./endgame.root\"), energy_lim)\n",
    "run2C     = DataSet(\"2C\", \"run2C\", r.TFile(\"./run2C.root\"), energy_lim)\n",
    "\n",
    "datasets = {\"1A\": sixtyhour, \"1B\":highkick, \"1C\":nineday, \"1D\":endgame, \"2C\": run2C}\n",
    "\n",
    "for name, dataset in datasets.items():\n",
    "    dataset.hists = dataset.build_hists()\n",
    "    dataset.dfs = dataset.build_dfs(step=10)"
   ]
  },
  {
   "cell_type": "raw",
   "metadata": {},
   "source": [
    "rand_data = {}\n",
    "\n",
    "for name, dataset in datasets.items():\n",
    "    this_data = pd.DataFrame(columns = ['c', 'a', 'tau', 'm', 'c_err', 'a_err', 'tau_err', 'm_err', 'redchi', 'caloNum'])\n",
    "\n",
    "    for caloNum, df in dataset.dfs['randomized'].items():\n",
    "        p = fit_func1(df, fit_lim=[10, 200])\n",
    "        p['caloNum'] = caloNum\n",
    "        this_data.loc[caloNum-1] = p\n",
    "        \n",
    "    rand_data[dataset.name] = this_data\n",
    "    \n",
    "nor_data = {}\n",
    "\n",
    "for name, dataset in datasets.items():\n",
    "    this_data = pd.DataFrame(columns = ['c', 'a', 'tau', 'm', 'c_err', 'a_err', 'tau_err', 'm_err', 'redchi', 'caloNum'])\n",
    "\n",
    "    for caloNum, df in dataset.dfs['unrandomized'].items():\n",
    "        p = fit_func1(df, fit_lim=[10, 200])\n",
    "        p['caloNum'] = caloNum\n",
    "        this_data.loc[caloNum-1] = p\n",
    "        \n",
    "    nor_data[dataset.name] = this_data"
   ]
  },
  {
   "cell_type": "code",
   "execution_count": null,
   "metadata": {},
   "outputs": [],
   "source": [
    "rand_data = {}\n",
    "\n",
    "for name, dataset in datasets.items():\n",
    "    this_data = pd.DataFrame(columns = ['c', 'a', 'tauA', 'b', 'tauB', 'c_err', 'a_err', 'tauA_err', 'b_err', 'redchi', 'caloNum'])\n",
    "\n",
    "    for caloNum, df in dataset.dfs['randomized'].items():\n",
    "        p = fit_func2(df, fit_lim=[10, 200])\n",
    "        p['caloNum'] = caloNum\n",
    "        this_data.loc[caloNum-1] = p\n",
    "        \n",
    "    rand_data[dataset.name] = this_data\n",
    "    \n",
    "nor_data = {}\n",
    "\n",
    "for name, dataset in datasets.items():\n",
    "    this_data = pd.DataFrame(columns = ['c', 'a', 'tauA', 'b', 'tauB', 'c_err', 'a_err', 'tauA_err', 'b_err', 'redchi', 'caloNum'])\n",
    "\n",
    "    for caloNum, df in dataset.dfs['unrandomized'].items():\n",
    "        p = fit_func2(df, fit_lim=[10, 200])\n",
    "        p['caloNum'] = caloNum\n",
    "        this_data.loc[caloNum-1] = p\n",
    "        \n",
    "    nor_data[dataset.name] = this_data"
   ]
  },
  {
   "cell_type": "code",
   "execution_count": 15,
   "metadata": {},
   "outputs": [
    {
     "name": "stderr",
     "output_type": "stream",
     "text": [
      "findfont: Font family ['sans-serif'] not found. Falling back to DejaVu Sans.\n",
      "findfont: Font family ['sans-serif'] not found. Falling back to DejaVu Sans.\n",
      "findfont: Font family ['sans-serif'] not found. Falling back to DejaVu Sans.\n"
     ]
    }
   ],
   "source": [
    "\"\"\"\n",
    "Plot for Tau\n",
    "\"\"\"\n",
    "\n",
    "fig, ax = plt.subplots(2,2)\n",
    "fig.set_size_inches(25, 20)\n",
    "\n",
    "for long_name, df in rand_data.items():\n",
    "    ax[1][1].plot(df['caloNum'], df['redchi'], label=long_name)\n",
    "    ax[0][1].errorbar(df['caloNum'], df['tau'], yerr=df['tau_err'], label=long_name)\n",
    "    \n",
    "for long_name, df in nor_data.items():\n",
    "    ax[1][0].plot(df['caloNum'], df['redchi'], label=long_name)\n",
    "    ax[0][0].errorbar(df['caloNum'], df['tau'], yerr=df['tau_err'], label=long_name)\n",
    "    \n",
    "ax[1][1].legend(loc=(1.25, 0.4), fontsize='x-large', labelspacing=1.5, framealpha=1);\n",
    "ax[1][0].set_ylim(-1, 20)\n",
    "ax[0][0].set_ylim(3, 8)\n",
    "ax[1][1].set_ylim(-1, 20)\n",
    "ax[0][1].set_ylim(3, 8)\n",
    "ax[1][1].set_xlabel('calo number')\n",
    "ax[1][1].set_ylabel(r'$chi^{2}$')\n",
    "ax[0][1].set_ylabel('τ    (μs)')\n",
    "ax[1][0].set_xlabel('calo number')\n",
    "ax[1][0].set_ylabel(r'$chi^{2}$')\n",
    "ax[0][0].set_ylabel('τ    (μs)')\n",
    "ax[0][0].set_title('Without Randomization', fontsize=40)\n",
    "ax[0][1].set_title('With Randomization', fontsize=40)\n",
    "fig.tight_layout()\n",
    "\n",
    "plt.savefig(\"params_tau.png\", bbox_inches='tight')\n",
    "plt.close()"
   ]
  },
  {
   "cell_type": "code",
   "execution_count": 16,
   "metadata": {},
   "outputs": [],
   "source": [
    "\"\"\"\n",
    "Plot for m\n",
    "\"\"\"\n",
    "\n",
    "fig, ax = plt.subplots(2,2)\n",
    "fig.set_size_inches(25, 20)\n",
    "\n",
    "for long_name, df in rand_data.items():\n",
    "    ax[1][1].plot(df['caloNum'], df['redchi'], label=long_name)\n",
    "    ax[0][1].errorbar(df['caloNum'], df['m'], yerr=df['m_err'], label=long_name)\n",
    "    \n",
    "for long_name, df in nor_data.items():\n",
    "    ax[1][0].plot(df['caloNum'], df['redchi'], label=long_name)\n",
    "    ax[0][0].errorbar(df['caloNum'], df['m'], yerr=df['m_err'], label=long_name)\n",
    "    \n",
    "    \n",
    "ax[0][0].ticklabel_format(axis='y', style='sci', scilimits=(0,0))\n",
    "ax[0][1].ticklabel_format(axis='y', style='sci', scilimits=(0,0))\n",
    "\n",
    "ax[1][1].legend(loc=(1.25, 0.4), fontsize='x-large', labelspacing=1.5, framealpha=1);\n",
    "ax[1][0].set_ylim(-1, 20)\n",
    "ax[0][0].set_ylim(-0.00225, 0.001)\n",
    "ax[1][1].set_ylim(-1, 20)\n",
    "ax[0][1].set_ylim(-0.00225, 0.001)\n",
    "\n",
    "ax[1][1].set_xlabel('calo number')\n",
    "ax[1][1].set_ylabel(r'$chi^{2}$')\n",
    "ax[0][1].set_ylabel('m    (mm/μs)')\n",
    "ax[1][0].set_xlabel('calo number')\n",
    "ax[1][0].set_ylabel(r'$chi^{2}$')\n",
    "ax[0][0].set_ylabel('m    (mm/μs)')\n",
    "ax[0][0].set_title('Without Randomization', fontsize=40)\n",
    "ax[0][1].set_title('With Randomization', fontsize=40)\n",
    "fig.tight_layout()\n",
    "\n",
    "plt.savefig(\"params_m.png\", bbox_inches='tight')\n",
    "plt.close()"
   ]
  },
  {
   "cell_type": "code",
   "execution_count": 19,
   "metadata": {},
   "outputs": [],
   "source": [
    "\"\"\"\n",
    "Plot for With Randomization\n",
    "\"\"\"\n",
    "fig, ax = plt.subplots(3,2)\n",
    "fig.set_size_inches(20, 30)\n",
    "\n",
    "for long_name, df in rand_data.items():\n",
    "    ax[0][0].errorbar(df['caloNum'], df['c'], yerr=df['c_err'])\n",
    "    ax[0][1].errorbar(df['caloNum'], df['a'], yerr=df['a_err'])\n",
    "    ax[1][0].errorbar(df['caloNum'], df['tau'], yerr=df['tau_err'])\n",
    "    ax[1][1].errorbar(df['caloNum'], df['m'], yerr=df['m_err'])\n",
    "    ax[2][0].plot(df['caloNum'], df['redchi'], label=long_name)\n",
    "    ax[2][1].axis('off')\n",
    "    \n",
    "ax[0][0].set_ylim(-0.5, 3.5)\n",
    "ax[0][1].set_ylim(0, 20)\n",
    "ax[2][0].set_ylim(0, 17)\n",
    "ax[1][0].set_ylim(3, 8)\n",
    "ax[1][1].set_ylim(-0.00225, 0.001)\n",
    "\n",
    "ax[1][1].ticklabel_format(axis='y', style='sci', scilimits=(0,0))\n",
    "\n",
    "ax[0][0].set_xlabel('calo number')\n",
    "ax[0][1].set_xlabel('calo number')\n",
    "ax[2][0].set_xlabel('calo number')\n",
    "ax[1][0].set_xlabel('calo number')\n",
    "ax[1][1].set_xlabel('calo number')\n",
    "\n",
    "ax[0][0].set_ylabel('c    (mm)')\n",
    "ax[0][1].set_ylabel('A    (mm)')\n",
    "ax[2][0].set_ylabel(r'$chi^{2}$', fontsize=40)\n",
    "ax[1][0].set_ylabel('τ    (μs)')\n",
    "ax[1][1].set_ylabel('m    (mm/μs)')\n",
    "\n",
    "fig.tight_layout()\n",
    "fig.suptitle('With Randomization', fontsize=40, y=1.05)\n",
    "ax[2][0].legend(loc=(1.5, 0), fontsize='x-large', labelspacing=1.5, framealpha=1);\n",
    "plt.savefig(\"params_randomized\", bbox_inches='tight')\n",
    "plt.close()"
   ]
  },
  {
   "cell_type": "code",
   "execution_count": 20,
   "metadata": {},
   "outputs": [],
   "source": [
    "\"\"\"\n",
    "Plot for Without Randomization\n",
    "\"\"\"\n",
    "fig, ax = plt.subplots(3,2)\n",
    "fig.set_size_inches(20, 30)\n",
    "\n",
    "for long_name, df in nor_data.items():\n",
    "    ax[0][0].errorbar(df['caloNum'], df['c'], yerr=df['c_err'])\n",
    "    ax[0][1].errorbar(df['caloNum'], df['a'], yerr=df['a_err'])\n",
    "    ax[1][0].errorbar(df['caloNum'], df['tau'], yerr=df['tau_err'])\n",
    "    ax[1][1].errorbar(df['caloNum'], df['m'], yerr=df['m_err'])\n",
    "    ax[2][0].plot(df['caloNum'], df['redchi'], label=long_name)\n",
    "    ax[2][1].axis('off')\n",
    "    \n",
    "ax[0][0].set_ylim(-0.5, 3.5)\n",
    "ax[0][1].set_ylim(0, 20)\n",
    "ax[2][0].set_ylim(0, 17)\n",
    "ax[1][0].set_ylim(3, 8)\n",
    "ax[1][1].set_ylim(-0.00225, 0.001)\n",
    "\n",
    "ax[1][1].ticklabel_format(axis='y', style='sci', scilimits=(0,0))\n",
    "\n",
    "ax[0][0].set_xlabel('calo number')\n",
    "ax[0][1].set_xlabel('calo number')\n",
    "ax[2][0].set_xlabel('calo number')\n",
    "ax[1][0].set_xlabel('calo number')\n",
    "ax[1][1].set_xlabel('calo number')\n",
    "\n",
    "ax[0][0].set_ylabel('c    (mm)')\n",
    "ax[0][1].set_ylabel('A    (mm)')\n",
    "ax[2][0].set_ylabel(r'$chi^{2}$', fontsize=40)\n",
    "ax[1][0].set_ylabel('τ    (μs)')\n",
    "ax[1][1].set_ylabel('m    (mm/μs)')\n",
    "\n",
    "fig.tight_layout()\n",
    "fig.suptitle('Without Randomization', fontsize=40, y=1.05)\n",
    "ax[2][0].legend(loc=(1.5, 0), fontsize='x-large', labelspacing=1.5, framealpha=1);\n",
    "plt.savefig(\"params_unrandomized\", bbox_inches='tight')\n",
    "plt.close()"
   ]
  },
  {
   "cell_type": "code",
   "execution_count": 23,
   "metadata": {},
   "outputs": [
    {
     "name": "stdout",
     "output_type": "stream",
     "text": [
      "  name       tau     error\n",
      "0   1A  5.424966  0.066669\n",
      "1   1B  5.661921  0.060680\n",
      "2   1C  5.853784  0.061821\n",
      "3   1D  5.324717  0.062920\n",
      "4   2C  4.905715  0.036759\n"
     ]
    }
   ],
   "source": [
    "\"\"\"\n",
    "Plot average tau vs dataset\n",
    "\"\"\"\n",
    "\n",
    "rand_averages = pd.DataFrame(columns = ['name', 'tau', 'error'])\n",
    "i=0\n",
    "for name, df in rand_data.items():\n",
    "    df2 = df.copy(deep=True)\n",
    "    tau = df2['tau'].mean()\n",
    "    error = np.sqrt( df2['tau_err'].pow(2).sum() ) / 24\n",
    "    \n",
    "    rand_averages.loc[i] = {'name':name, 'tau':tau, 'error':error}\n",
    "    i += 1\n",
    "    \n",
    "nor_averages = pd.DataFrame(columns = ['name', 'tau', 'error'])\n",
    "i=0\n",
    "for name, df in nor_data.items():\n",
    "    df2 = df.copy(deep=True)\n",
    "    tau = df2['tau'].mean()\n",
    "    error = np.sqrt( df2['tau_err'].pow(2).sum() ) / 24\n",
    "    \n",
    "    nor_averages.loc[i] = {'name':name, 'tau':tau, 'error':error}\n",
    "    i += 1\n",
    "    \n",
    "diffs = nor_averages.copy(deep=True)\n",
    "diffs['tau'] = rand_averages['tau'] - nor_averages['tau']\n",
    "diffs['error'] = ((rand_averages['error'].pow(2) + nor_averages['error'].pow(2))).apply(np.sqrt) / 2\n",
    "\n",
    "fig, ax = plt.subplots(1, 3)\n",
    "fig.set_size_inches(30, 10)\n",
    "\n",
    "ax[0].plot(nor_averages['name'], nor_averages['tau'], linestyle='none', marker='o', markersize=9, color='xkcd:blue')\n",
    "ax[0].errorbar(nor_averages['name'], nor_averages['tau'], linestyle='none', yerr=nor_averages['error'], color='xkcd:blue')\n",
    "ax[1].plot(rand_averages['name'], rand_averages['tau'], linestyle='none', marker='o', markersize=9, color='xkcd:red')\n",
    "ax[1].errorbar(rand_averages['name'], rand_averages['tau'], linestyle='none', yerr=nor_averages['error'], color='xkcd:red')\n",
    "\n",
    "ax[2].plot(diffs['name'], diffs['tau'], linestyle='none', marker='o', markersize=9, color='C2')\n",
    "ax[2].errorbar(diffs['name'], diffs['tau'], yerr=diffs['error'], linestyle='none', color='C2')\n",
    "\n",
    "ax[0].set_ylim(4.5, 6.5)\n",
    "ax[1].set_ylim(4.5, 6.5)\n",
    "\n",
    "ax[0].set_ylabel('Average τ    (μs)', fontsize=30)\n",
    "ax[1].set_ylabel('Average τ    (μs)', fontsize=30)\n",
    "ax[2].set_ylabel('Difference in Average τ    (μs)', fontsize=30)\n",
    "\n",
    "ax[0].set_title('Without Randomization', fontsize=32)\n",
    "ax[1].set_title('With Randomization', fontsize=32)\n",
    "ax[2].set_title('With - Without Randomization', fontsize=32)\n",
    "\n",
    "fig.tight_layout()\n",
    "\n",
    "plt.savefig('params_tau_compare.png', bbox_inches='tight')\n",
    "plt.close()\n",
    "\n",
    "print(nor_averages)"
   ]
  },
  {
   "cell_type": "code",
   "execution_count": null,
   "metadata": {},
   "outputs": [],
   "source": []
  },
  {
   "cell_type": "markdown",
   "metadata": {},
   "source": [
    "### Misc Stuff"
   ]
  },
  {
   "cell_type": "code",
   "execution_count": 12,
   "metadata": {},
   "outputs": [
    {
     "name": "stdout",
     "output_type": "stream",
     "text": [
      "[4.56023376 4.6159442  4.49730557 4.53305389 4.65604633 5.11767903\n",
      " 4.94148087 4.59590117 5.11905614 4.75809904 4.76702094 5.27139056\n",
      " 4.93840077 5.12958589 5.20399079 5.08541416 5.21959722 5.04258742\n",
      " 5.18766252 5.02213979 4.84139162 4.96980737 4.91849636 4.74487738]\n",
      "[0.14542634 0.20668082 0.16147099 0.15571887 0.18073051 0.24011118\n",
      " 0.21425659 0.1777123  0.25599054 0.17512336 0.15946933 0.15750807\n",
      " 0.18382056 0.16901345 0.16078763 0.18371245 0.18765444 0.14232918\n",
      " 0.20626633 0.14990058 0.12775384 0.13332089 0.22342708 0.15306964]\n",
      "4.91+/-0.04\n"
     ]
    }
   ],
   "source": [
    "avg = u.ufloat(0, 0)\n",
    "\n",
    "taus = nor_data['run2C']['tau'].values\n",
    "errors = nor_data['run2C']['tau_err'].values\n",
    "\n",
    "print(taus)\n",
    "print(errors)\n",
    "\n",
    "for i in range(0, len(taus)):\n",
    "    this_tau = u.ufloat(taus[i], errors[i])\n",
    "    avg += this_tau\n",
    "    \n",
    "avg = avg / 24\n",
    "\n",
    "print(avg)"
   ]
  },
  {
   "cell_type": "code",
   "execution_count": 47,
   "metadata": {},
   "outputs": [
    {
     "name": "stdout",
     "output_type": "stream",
     "text": [
      "<class 'ROOT.TH1D'>\n"
     ]
    },
    {
     "data": {
      "image/png": "[encoded data removed]",
      "text/plain": [
       "<IPython.core.display.Image object>"
      ]
     },
     "metadata": {},
     "output_type": "display_data"
    }
   ],
   "source": [
    "proj = datasets['1A'].hists['randomized'][5].ProjectionY(\"_py\", 2000, 2010)\n",
    "print(type(proj))\n",
    "c = r.TCanvas()\n",
    "proj.Draw(\"colz\")\n",
    "c.Draw()"
   ]
  },
  {
   "cell_type": "code",
   "execution_count": 28,
   "metadata": {},
   "outputs": [
    {
     "name": "stderr",
     "output_type": "stream",
     "text": [
      "findfont: Font family ['sans-serif'] not found. Falling back to DejaVu Sans.\n",
      "findfont: Font family ['sans-serif'] not found. Falling back to DejaVu Sans.\n",
      "findfont: Font family ['sans-serif'] not found. Falling back to DejaVu Sans.\n"
     ]
    },
    {
     "name": "stdout",
     "output_type": "stream",
     "text": [
      "1000\n"
     ]
    },
    {
     "data": {
      "image/png": "[encoded data removed]",
      "text/plain": [
       "<Figure size 630x426.24 with 1 Axes>"
      ]
     },
     "metadata": {},
     "output_type": "display_data"
    }
   ],
   "source": [
    "fig, ax = plt.subplots(1,1)\n",
    "rand_data2 = datasets['1D'].dfs['randomized'][17]\n",
    "nor_data2 = datasets['1D'].dfs['unrandomized'][17]\n",
    "\n",
    "ax.plot(nor_data2['TimeBin'], nor_data2['Mean'], linestyle='none', marker='o', color='xkcd:blue', label='unrandomized')\n",
    "ax.plot(rand_data2['TimeBin'], rand_data2['Mean'], linestyle='none', marker='o', color='xkcd:red', label='randomized')\n",
    "\n",
    "ax.set_xlim(0, 75)\n",
    "ax.set_ylabel('Y (mm)', fontsize=20);\n",
    "ax.set_xlabel('Time (μs)', fontsize=20);\n",
    "ax.legend(loc=0, fontsize='x-small', labelspacing=1.5, framealpha=1);\n",
    "ax.set_title('EndGame Calo 17 Vertical Position', fontsize=22);\n",
    "\n",
    "print(len(rand_data2['Mean']))"
   ]
  },
  {
   "cell_type": "code",
   "execution_count": 25,
   "metadata": {},
   "outputs": [],
   "source": [
    "calo = endgame.file.Get(\"verticalPosition/clusters\" + str(1)).Clone(endgame.name + \"_test_calo_\" + str(1))"
   ]
  },
  {
   "cell_type": "code",
   "execution_count": 26,
   "metadata": {},
   "outputs": [
    {
     "data": {
      "text/plain": [
       "ROOT.TH3F"
      ]
     },
     "execution_count": 26,
     "metadata": {},
     "output_type": "execute_result"
    }
   ],
   "source": [
    "type(calo)"
   ]
  },
  {
   "cell_type": "code",
   "execution_count": 27,
   "metadata": {},
   "outputs": [
    {
     "data": {
      "text/plain": [
       "ROOT.TH2D"
      ]
     },
     "execution_count": 27,
     "metadata": {},
     "output_type": "execute_result"
    }
   ],
   "source": [
    "type(endgame.hists['randomized'][1])"
   ]
  },
  {
   "cell_type": "code",
   "execution_count": null,
   "metadata": {},
   "outputs": [],
   "source": []
  }
 ],
 "metadata": {
  "kernelspec": {
   "display_name": "Python 3",
   "language": "python",
   "name": "python3"
  },
  "language_info": {
   "codemirror_mode": {
    "name": "ipython",
    "version": 3
   },
   "file_extension": ".py",
   "mimetype": "text/x-python",
   "name": "python",
   "nbconvert_exporter": "python",
   "pygments_lexer": "ipython3",
   "version": "3.7.5"
  }
 },
 "nbformat": 4,
 "nbformat_minor": 4
}
