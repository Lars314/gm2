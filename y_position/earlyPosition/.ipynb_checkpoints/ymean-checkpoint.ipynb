{
 "cells": [
  {
   "cell_type": "code",
   "execution_count": 4,
   "metadata": {},
   "outputs": [],
   "source": [
    "import ROOT as r\n",
    "import pandas as pd\n",
    "import matplotlib.pyplot as plt\n",
    "import mplhep as hep\n",
    "import math\n",
    "import numpy as np\n",
    "import colorsys\n",
    "from scipy import optimize as sciopt\n",
    "import os\n",
    "import lmfit\n",
    "import uncertainties as u\n",
    "import dataset as ds\n",
    "import datasetXtals as dsX\n",
    "import fit_functions as funcs\n",
    "import importlib"
   ]
  },
  {
   "cell_type": "code",
   "execution_count": 5,
   "metadata": {},
   "outputs": [],
   "source": [
    "plt.style.use(hep.style.ATLAS)\n",
    "plt.style.use({\"axes.labelsize\":'36', 'lines.linewidth':'2', 'lines.markersize':'2', 'xtick.labelsize':'16'})"
   ]
  },
  {
   "cell_type": "code",
   "execution_count": 39,
   "metadata": {},
   "outputs": [],
   "source": [
    "energy_lim = [1000, 2400]\n",
    "low_E = str(energy_lim[0] / 1000)\n",
    "high_E = str(energy_lim[1] / 1000)\n",
    "\n",
    "time_lim = [250, 450]\n",
    "low_T = str(time_lim[0])\n",
    "high_T = str(time_lim[1])"
   ]
  },
  {
   "cell_type": "code",
   "execution_count": 49,
   "metadata": {},
   "outputs": [],
   "source": [
    "sixtyhour = ds.DataSet(\"1A\", \"60h\", r.TFile(\"./data/60hXtalsPosition_v2.root\"), energy_lim)\n",
    "highkick  = ds.DataSet(\"1B\", \"HighKick\", r.TFile(\"./data/highKickXtalsPosition_v2.root\"), energy_lim)\n",
    "nineday   = ds.DataSet(\"1C\", \"9day\", r.TFile(\"./data/9dayXtalsPosition_v2.root\"), energy_lim)\n",
    "endgame   = ds.DataSet(\"1D\", \"EndGame\", r.TFile(\"./data/endGameXtalsPosition_v2.root\"), energy_lim)\n",
    "run2C     = ds.DataSet(\"2C\", \"run2C\", r.TFile(\"./data/run2CXtalsPosition_v2.root\"), energy_lim)\n",
    "\n",
    "datasets = {\"1A\": sixtyhour, \"1B\":highkick, \"1C\":nineday, \"1D\":endgame, \"2C\": run2C}\n",
    "#datasets = {\"1D\":endgame}\n",
    "\n",
    "for name, dataset in datasets.items():\n",
    "    dataset.set_up_calos(step_length=1, verbose=False)"
   ]
  },
  {
   "cell_type": "code",
   "execution_count": 50,
   "metadata": {},
   "outputs": [
    {
     "name": "stdout",
     "output_type": "stream",
     "text": [
      "0.033381749152577515\n"
     ]
    }
   ],
   "source": [
    "df = datasets['1A'].calos[1].data['randomized']\n",
    "\n",
    "errors = df[df['TimeBin'] > 200]['MeanError']\n",
    "n = len(errors)\n",
    "error = np.sqrt((errors / n).pow(2).sum())\n",
    "print(error)"
   ]
  },
  {
   "cell_type": "code",
   "execution_count": 51,
   "metadata": {},
   "outputs": [],
   "source": [
    "\n",
    "names = ['1A', '1B', '1C', '1D', '2C']\n",
    "\n",
    "for name in names:\n",
    "\n",
    "    this_data = pd.DataFrame(columns = ['mean', 'error', 'caloNum'])\n",
    "\n",
    "    for num, calo in datasets[name].calos.items():\n",
    "        \n",
    "        df = calo.data['randomized']\n",
    "        mean = df[df['TimeBin'] > time_lim[0]]['Mean'].mean()\n",
    "        \n",
    "        errors = df[df['TimeBin'] > time_lim[0]]['MeanError']\n",
    "        n = len(errors)\n",
    "        error = np.sqrt((errors / n).pow(2).sum())\n",
    "\n",
    "        p = {'mean':    mean,\n",
    "             'error':   error,\n",
    "             'caloNum': num}\n",
    "        \n",
    "            \n",
    "        this_data.loc[num] = p\n",
    "        \n",
    "\n",
    "    #print(this_data)\n",
    "    this_data.to_csv(\"./mean_csv/\" + name + \".csv\")\n"
   ]
  },
  {
   "cell_type": "code",
   "execution_count": 52,
   "metadata": {},
   "outputs": [],
   "source": [
    "rand_data = {}\n",
    "names = ['1A', '1B', '1C', '1D', '2C']\n",
    "\n",
    "for name in names:\n",
    "    rand_data[name] = pd.read_csv(\"./mean_csv/\" + name + \".csv\")\n",
    "\n",
    "\n",
    "\n",
    "fig, ax = plt.subplots(1,1)\n",
    "fig.set_size_inches(15, 15)\n",
    "\n",
    "\n",
    "rand_data_2 = {}\n",
    "rand_data_2['1A'] = rand_data['1A']\n",
    "rand_data_2['1B'] = rand_data['1B']\n",
    "rand_data_2['1C'] = rand_data['1C']\n",
    "rand_data_2['1D'] = rand_data['1D']\n",
    "rand_data_2['2C'] = rand_data['2C']\n",
    "\n",
    "for name, df in rand_data_2.items():\n",
    "    ax.errorbar(df['caloNum'], df['mean'], yerr=df['error'], label=name)\n",
    "    \n",
    "\n",
    "\n",
    "ax.set_xlabel('calo number')\n",
    "ax.set_ylabel('y-Mean [mm]')\n",
    "\n",
    "\n",
    "#ax[0].set_ylim(28, 38)\n",
    "\n",
    "fig.tight_layout()\n",
    "fig.suptitle(\"y-Mean by Calo Number\" + \"   \"+ low_E + \"-\" + high_E + \" GeV\" + \"   \"+ low_T + \"-\" + high_T + \"μs\", fontsize=40, y=1.05)\n",
    "\n",
    "ax.legend(loc=0, labelspacing=1.5, framealpha=1, prop={'size':25});\n",
    "plt.savefig(\"./mean_image/yMean_by_CaloNum_big.png\", bbox_inches='tight')\n",
    "plt.close()"
   ]
  },
  {
   "cell_type": "code",
   "execution_count": null,
   "metadata": {},
   "outputs": [],
   "source": []
  }
 ],
 "metadata": {
  "kernelspec": {
   "display_name": "Python 3",
   "language": "python",
   "name": "python3"
  },
  "language_info": {
   "codemirror_mode": {
    "name": "ipython",
    "version": 3
   },
   "file_extension": ".py",
   "mimetype": "text/x-python",
   "name": "python",
   "nbconvert_exporter": "python",
   "pygments_lexer": "ipython3",
   "version": "3.7.5"
  }
 },
 "nbformat": 4,
 "nbformat_minor": 4
}
