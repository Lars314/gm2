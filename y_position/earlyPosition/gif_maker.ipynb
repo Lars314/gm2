{
 "cells": [
  {
   "cell_type": "code",
   "execution_count": 1,
   "metadata": {},
   "outputs": [],
   "source": [
    "from PIL import Image\n",
    "import os"
   ]
  },
  {
   "cell_type": "markdown",
   "metadata": {},
   "source": [
    "### Make gif of the single calo"
   ]
  },
  {
   "cell_type": "code",
   "execution_count": 109,
   "metadata": {},
   "outputs": [],
   "source": [
    "calo_images = []\n",
    "\n",
    "directory = 'images/energy_comparison/2C_Calo7/'\n",
    "for fname in os.listdir(directory):\n",
    "    #if(fname[:3] == '1D_'):\n",
    "    calo_images.append(directory + fname)\n",
    "    "
   ]
  },
  {
   "cell_type": "code",
   "execution_count": 110,
   "metadata": {},
   "outputs": [
    {
     "name": "stdout",
     "output_type": "stream",
     "text": [
      "images/energy_comparison/2C_Calo7/0.0-0.1GeV.png\n",
      "images/energy_comparison/2C_Calo7/0.1-0.2GeV.png\n",
      "images/energy_comparison/2C_Calo7/0.2-0.3GeV.png\n",
      "images/energy_comparison/2C_Calo7/0.3-0.4GeV.png\n",
      "images/energy_comparison/2C_Calo7/0.4-0.5GeV.png\n",
      "images/energy_comparison/2C_Calo7/0.5-0.6GeV.png\n",
      "images/energy_comparison/2C_Calo7/0.6-0.7GeV.png\n",
      "images/energy_comparison/2C_Calo7/0.7-0.8GeV.png\n"
     ]
    }
   ],
   "source": [
    "#calo_images.pop(1)\n",
    "calo_images.pop(0)\n",
    "\n",
    "for thing in calo_images:\n",
    "    print(thing)"
   ]
  },
  {
   "cell_type": "code",
   "execution_count": 111,
   "metadata": {},
   "outputs": [],
   "source": [
    "gif_images = []\n",
    "\n",
    "for thing in calo_images:\n",
    "    gif_images.append(Image.open(thing))"
   ]
  },
  {
   "cell_type": "code",
   "execution_count": 112,
   "metadata": {},
   "outputs": [],
   "source": [
    "gif_images[0].save('images/energy_comparison/2C_Calo7/2Ccalo7_v2.gif',\n",
    "                   save_all=True, append_images=gif_images[1:], optimize=False, duration=800, loop=0)"
   ]
  },
  {
   "cell_type": "markdown",
   "metadata": {},
   "source": [
    "### Make gif of the fits"
   ]
  },
  {
   "cell_type": "code",
   "execution_count": 12,
   "metadata": {},
   "outputs": [],
   "source": [
    "fits_images = []\n",
    "\n",
    "\n",
    "directory = 'images/energy_comparison/'\n",
    "for fname in os.listdir(directory):\n",
    "    if(fname[:3] == 'xta'):\n",
    "        fits_images.append(directory + fname)\n",
    "    "
   ]
  },
  {
   "cell_type": "code",
   "execution_count": 13,
   "metadata": {},
   "outputs": [
    {
     "name": "stdout",
     "output_type": "stream",
     "text": [
      "images/energy_comparison/xtals_params_randomized _1.0-1.1GeV.png\n",
      "images/energy_comparison/xtals_params_randomized _1.1-1.2GeV.png\n",
      "images/energy_comparison/xtals_params_randomized _1.2-1.3GeV.png\n",
      "images/energy_comparison/xtals_params_randomized _1.3-1.4GeV.png\n",
      "images/energy_comparison/xtals_params_randomized _1.4-1.5GeV.png\n",
      "images/energy_comparison/xtals_params_randomized _1.5-1.6GeV.png\n",
      "images/energy_comparison/xtals_params_randomized _1.6-1.7GeV.png\n",
      "images/energy_comparison/xtals_params_randomized _1.7-1.8GeV.png\n",
      "images/energy_comparison/xtals_params_randomized _1.8-1.9GeV.png\n",
      "images/energy_comparison/xtals_params_randomized _1.9-2.0GeV.png\n",
      "images/energy_comparison/xtals_params_randomized _2.0-2.1GeV.png\n",
      "images/energy_comparison/xtals_params_randomized _2.1-2.2GeV.png\n",
      "images/energy_comparison/xtals_params_randomized _2.2-2.3GeV.png\n",
      "images/energy_comparison/xtals_params_randomized _2.3-2.4GeV.png\n",
      "images/energy_comparison/xtals_params_randomized _2.4-2.5GeV.png\n",
      "images/energy_comparison/xtals_params_randomized _2.5-2.6GeV.png\n",
      "images/energy_comparison/xtals_params_randomized _2.6-2.7GeV.png\n",
      "images/energy_comparison/xtals_params_randomized _2.7-2.8GeV.png\n",
      "images/energy_comparison/xtals_params_randomized _2.8-2.9GeV.png\n",
      "images/energy_comparison/xtals_params_randomized _2.9-3.0GeV.png\n",
      "images/energy_comparison/xtals_params_randomized _3.0-3.1GeV.png\n",
      "images/energy_comparison/xtals_params_randomized _3.1-3.2GeV.png\n"
     ]
    }
   ],
   "source": [
    "#fits_images.pop(-1)\n",
    "#fits_images.pop(0)\n",
    "\n",
    "for thing in fits_images:\n",
    "    print(thing)"
   ]
  },
  {
   "cell_type": "code",
   "execution_count": 14,
   "metadata": {},
   "outputs": [],
   "source": [
    "fit_gif = []\n",
    "\n",
    "for thing in fits_images:\n",
    "    fit_gif.append(Image.open(thing))\n",
    "    \n",
    "fit_gif[0].save('images/energy_comparison/fit_gif_3.gif',\n",
    "                save_all=True, append_images=fit_gif[1:], optimize=False, duration=800, loop=0)"
   ]
  },
  {
   "cell_type": "code",
   "execution_count": null,
   "metadata": {},
   "outputs": [],
   "source": []
  }
 ],
 "metadata": {
  "kernelspec": {
   "display_name": "Python 3",
   "language": "python",
   "name": "python3"
  },
  "language_info": {
   "codemirror_mode": {
    "name": "ipython",
    "version": 3
   },
   "file_extension": ".py",
   "mimetype": "text/x-python",
   "name": "python",
   "nbconvert_exporter": "python",
   "pygments_lexer": "ipython3",
   "version": "3.7.5"
  }
 },
 "nbformat": 4,
 "nbformat_minor": 4
}
