{
 "cells": [
  {
   "cell_type": "code",
   "execution_count": 1,
   "metadata": {},
   "outputs": [
    {
     "name": "stdout",
     "output_type": "stream",
     "text": [
      "Welcome to JupyROOT 6.18/04\n"
     ]
    }
   ],
   "source": [
    "import ROOT as r\n",
    "import pandas as pd\n",
    "import matplotlib.pyplot as plt\n",
    "import numpy as np\n",
    "import os\n",
    "import yPerCalo as ypc\n",
    "import importlib"
   ]
  },
  {
   "cell_type": "code",
   "execution_count": 4,
   "metadata": {},
   "outputs": [],
   "source": [
    "# Reload stuff in case you make changes!\n",
    "importlib.reload(ypc);"
   ]
  },
  {
   "cell_type": "code",
   "execution_count": 5,
   "metadata": {},
   "outputs": [
    {
     "name": "stdout",
     "output_type": "stream",
     "text": [
      "1100\n",
      "1300\n",
      "1500\n",
      "1700\n",
      "1900\n",
      "2100\n",
      "2300\n",
      "2500\n",
      "2700\n"
     ]
    }
   ],
   "source": [
    "big_df = pd.DataFrame(columns=['set', 'caloNum', 'energyLim',\n",
    "                               'fitLim', 'c', 'm', 'c_err',\n",
    "                               'm_err', 'redchi'])\n",
    "for e_low in range(1100, 2900, 200):\n",
    "    print(e_low)\n",
    "    this_set = ypc.DataSet(name=\"1C\", long_name=\"9day\",\n",
    "                           file=r.TFile(\"./data/9dayXtalsPosition_v2.root\"),\n",
    "                           energy_range=[e_low, e_low+200])\n",
    "    \n",
    "    big_df = big_df.append(this_set.linear_parameters['randomized'],\n",
    "                           ignore_index=True)"
   ]
  },
  {
   "cell_type": "code",
   "execution_count": 48,
   "metadata": {},
   "outputs": [
    {
     "data": {
      "text/html": [
       "<div>\n",
       "<style scoped>\n",
       "    .dataframe tbody tr th:only-of-type {\n",
       "        vertical-align: middle;\n",
       "    }\n",
       "\n",
       "    .dataframe tbody tr th {\n",
       "        vertical-align: top;\n",
       "    }\n",
       "\n",
       "    .dataframe thead th {\n",
       "        text-align: right;\n",
       "    }\n",
       "</style>\n",
       "<table border=\"1\" class=\"dataframe\">\n",
       "  <thead>\n",
       "    <tr style=\"text-align: right;\">\n",
       "      <th></th>\n",
       "      <th>set</th>\n",
       "      <th>caloNum</th>\n",
       "      <th>energyLim</th>\n",
       "      <th>fitLim</th>\n",
       "      <th>c</th>\n",
       "      <th>m</th>\n",
       "      <th>c_err</th>\n",
       "      <th>m_err</th>\n",
       "      <th>redchi</th>\n",
       "    </tr>\n",
       "  </thead>\n",
       "  <tbody>\n",
       "    <tr>\n",
       "      <th>0</th>\n",
       "      <td>1C</td>\n",
       "      <td>1</td>\n",
       "      <td>1100-1300</td>\n",
       "      <td>30-200</td>\n",
       "      <td>0.402845</td>\n",
       "      <td>-0.000337</td>\n",
       "      <td>0.012978</td>\n",
       "      <td>0.000142</td>\n",
       "      <td>0.924082</td>\n",
       "    </tr>\n",
       "    <tr>\n",
       "      <th>1</th>\n",
       "      <td>1C</td>\n",
       "      <td>2</td>\n",
       "      <td>1100-1300</td>\n",
       "      <td>30-200</td>\n",
       "      <td>0.181377</td>\n",
       "      <td>-0.000343</td>\n",
       "      <td>0.016036</td>\n",
       "      <td>0.000175</td>\n",
       "      <td>1.149274</td>\n",
       "    </tr>\n",
       "    <tr>\n",
       "      <th>2</th>\n",
       "      <td>1C</td>\n",
       "      <td>3</td>\n",
       "      <td>1100-1300</td>\n",
       "      <td>30-200</td>\n",
       "      <td>1.185921</td>\n",
       "      <td>-0.000194</td>\n",
       "      <td>0.011695</td>\n",
       "      <td>0.000128</td>\n",
       "      <td>0.797431</td>\n",
       "    </tr>\n",
       "    <tr>\n",
       "      <th>3</th>\n",
       "      <td>1C</td>\n",
       "      <td>4</td>\n",
       "      <td>1100-1300</td>\n",
       "      <td>30-200</td>\n",
       "      <td>0.590666</td>\n",
       "      <td>-0.000116</td>\n",
       "      <td>0.012837</td>\n",
       "      <td>0.000140</td>\n",
       "      <td>0.942356</td>\n",
       "    </tr>\n",
       "    <tr>\n",
       "      <th>4</th>\n",
       "      <td>1C</td>\n",
       "      <td>5</td>\n",
       "      <td>1100-1300</td>\n",
       "      <td>30-200</td>\n",
       "      <td>1.525109</td>\n",
       "      <td>-0.000463</td>\n",
       "      <td>0.013500</td>\n",
       "      <td>0.000148</td>\n",
       "      <td>1.069807</td>\n",
       "    </tr>\n",
       "    <tr>\n",
       "      <th>...</th>\n",
       "      <td>...</td>\n",
       "      <td>...</td>\n",
       "      <td>...</td>\n",
       "      <td>...</td>\n",
       "      <td>...</td>\n",
       "      <td>...</td>\n",
       "      <td>...</td>\n",
       "      <td>...</td>\n",
       "      <td>...</td>\n",
       "    </tr>\n",
       "    <tr>\n",
       "      <th>211</th>\n",
       "      <td>1C</td>\n",
       "      <td>20</td>\n",
       "      <td>2700-2900</td>\n",
       "      <td>30-200</td>\n",
       "      <td>6.503957</td>\n",
       "      <td>-0.000201</td>\n",
       "      <td>0.034272</td>\n",
       "      <td>0.000375</td>\n",
       "      <td>0.859810</td>\n",
       "    </tr>\n",
       "    <tr>\n",
       "      <th>212</th>\n",
       "      <td>1C</td>\n",
       "      <td>21</td>\n",
       "      <td>2700-2900</td>\n",
       "      <td>30-200</td>\n",
       "      <td>-3.327933</td>\n",
       "      <td>-0.001187</td>\n",
       "      <td>0.058400</td>\n",
       "      <td>0.000640</td>\n",
       "      <td>1.021472</td>\n",
       "    </tr>\n",
       "    <tr>\n",
       "      <th>213</th>\n",
       "      <td>1C</td>\n",
       "      <td>22</td>\n",
       "      <td>2700-2900</td>\n",
       "      <td>30-200</td>\n",
       "      <td>7.411916</td>\n",
       "      <td>-0.000354</td>\n",
       "      <td>0.067621</td>\n",
       "      <td>0.000741</td>\n",
       "      <td>1.154024</td>\n",
       "    </tr>\n",
       "    <tr>\n",
       "      <th>214</th>\n",
       "      <td>1C</td>\n",
       "      <td>23</td>\n",
       "      <td>2700-2900</td>\n",
       "      <td>30-200</td>\n",
       "      <td>-0.067990</td>\n",
       "      <td>0.000509</td>\n",
       "      <td>0.042882</td>\n",
       "      <td>0.000470</td>\n",
       "      <td>0.950144</td>\n",
       "    </tr>\n",
       "    <tr>\n",
       "      <th>215</th>\n",
       "      <td>1C</td>\n",
       "      <td>24</td>\n",
       "      <td>2700-2900</td>\n",
       "      <td>30-200</td>\n",
       "      <td>3.583135</td>\n",
       "      <td>0.000082</td>\n",
       "      <td>0.050891</td>\n",
       "      <td>0.000557</td>\n",
       "      <td>0.939426</td>\n",
       "    </tr>\n",
       "  </tbody>\n",
       "</table>\n",
       "<p>216 rows × 9 columns</p>\n",
       "</div>"
      ],
      "text/plain": [
       "    set caloNum  energyLim  fitLim         c         m     c_err     m_err  \\\n",
       "0    1C       1  1100-1300  30-200  0.402845 -0.000337  0.012978  0.000142   \n",
       "1    1C       2  1100-1300  30-200  0.181377 -0.000343  0.016036  0.000175   \n",
       "2    1C       3  1100-1300  30-200  1.185921 -0.000194  0.011695  0.000128   \n",
       "3    1C       4  1100-1300  30-200  0.590666 -0.000116  0.012837  0.000140   \n",
       "4    1C       5  1100-1300  30-200  1.525109 -0.000463  0.013500  0.000148   \n",
       "..   ..     ...        ...     ...       ...       ...       ...       ...   \n",
       "211  1C      20  2700-2900  30-200  6.503957 -0.000201  0.034272  0.000375   \n",
       "212  1C      21  2700-2900  30-200 -3.327933 -0.001187  0.058400  0.000640   \n",
       "213  1C      22  2700-2900  30-200  7.411916 -0.000354  0.067621  0.000741   \n",
       "214  1C      23  2700-2900  30-200 -0.067990  0.000509  0.042882  0.000470   \n",
       "215  1C      24  2700-2900  30-200  3.583135  0.000082  0.050891  0.000557   \n",
       "\n",
       "       redchi  \n",
       "0    0.924082  \n",
       "1    1.149274  \n",
       "2    0.797431  \n",
       "3    0.942356  \n",
       "4    1.069807  \n",
       "..        ...  \n",
       "211  0.859810  \n",
       "212  1.021472  \n",
       "213  1.154024  \n",
       "214  0.950144  \n",
       "215  0.939426  \n",
       "\n",
       "[216 rows x 9 columns]"
      ]
     },
     "execution_count": 48,
     "metadata": {},
     "output_type": "execute_result"
    }
   ],
   "source": [
    "big_df"
   ]
  },
  {
   "cell_type": "code",
   "execution_count": null,
   "metadata": {},
   "outputs": [],
   "source": []
  },
  {
   "cell_type": "code",
   "execution_count": 49,
   "metadata": {},
   "outputs": [],
   "source": [
    "big_df.to_csv('./output/1C.csv')"
   ]
  },
  {
   "cell_type": "code",
   "execution_count": 41,
   "metadata": {},
   "outputs": [
    {
     "data": {
      "text/plain": [
       "[<matplotlib.lines.Line2D at 0x7f501522ead0>]"
      ]
     },
     "execution_count": 41,
     "metadata": {},
     "output_type": "execute_result"
    },
    {
     "data": {
      "image/png": "[encoded data removed]",
      "text/plain": [
       "<Figure size 504x504 with 1 Axes>"
      ]
     },
     "metadata": {
      "needs_background": "light"
     },
     "output_type": "display_data"
    }
   ],
   "source": [
    "fig, ax = plt.subplots(1,1)\n",
    "fig.set_size_inches(7,7)\n",
    "\n",
    "t = np.linspace(start=30, stop=200, num=170)\n",
    "y = t*run2C.linear_parameters['randomized'].loc[1]['m'] + run2C.linear_parameters['randomized'].loc[1]['c']\n",
    "\n",
    "ax.plot(run2C.dfs['randomized'][1]['TimeBin'], run2C.dfs['randomized'][1]['Mean'], linestyle='none', marker='o', markersize=2)\n",
    "ax.plot(t, y, color='r')\n",
    "\n",
    "#run2C.dfs['randomized'][1]"
   ]
  },
  {
   "cell_type": "code",
   "execution_count": 17,
   "metadata": {},
   "outputs": [
    {
     "data": {
      "text/plain": [
       "array([30.])"
      ]
     },
     "execution_count": 17,
     "metadata": {},
     "output_type": "execute_result"
    }
   ],
   "source": [
    "t"
   ]
  },
  {
   "cell_type": "code",
   "execution_count": null,
   "metadata": {},
   "outputs": [],
   "source": []
  }
 ],
 "metadata": {
  "kernelspec": {
   "display_name": "Python 3",
   "language": "python",
   "name": "python3"
  },
  "language_info": {
   "codemirror_mode": {
    "name": "ipython",
    "version": 3
   },
   "file_extension": ".py",
   "mimetype": "text/x-python",
   "name": "python",
   "nbconvert_exporter": "python",
   "pygments_lexer": "ipython3",
   "version": "3.7.5"
  }
 },
 "nbformat": 4,
 "nbformat_minor": 4
}
