{
 "cells": [
  {
   "cell_type": "code",
   "execution_count": 1,
   "metadata": {},
   "outputs": [],
   "source": [
    "import pandas as pd\n",
    "import matplotlib.pyplot as plt\n",
    "import numpy as np\n",
    "import os\n",
    "import uncertainties as u"
   ]
  },
  {
   "cell_type": "code",
   "execution_count": 29,
   "metadata": {},
   "outputs": [],
   "source": [
    "directory = './output/'"
   ]
  },
  {
   "cell_type": "code",
   "execution_count": 30,
   "metadata": {},
   "outputs": [],
   "source": [
    "big_df = pd.DataFrame(columns=['set', 'e', 'calo', 'diff', 'err'])"
   ]
  },
  {
   "cell_type": "code",
   "execution_count": 31,
   "metadata": {},
   "outputs": [],
   "source": [
    "def get_diffs(filename, e_range):\n",
    "    set_name = filename[:2]\n",
    "\n",
    "    this_df = pd.read_csv(directory+filename)\n",
    "    this_df = this_df[this_df['energyLim'] == e_range]\n",
    "    diffs_df = pd.DataFrame(columns=['set', 'e', 'calo', 'diff', 'err'])\n",
    "\n",
    "    for index in range(0, 24):\n",
    "        this_calo = this_df.loc[this_df['caloNum'] == (index+1)].reset_index()\n",
    "        #print(this_calo['m'])\n",
    "        m = u.ufloat(this_calo['m'][0], this_calo['m_err'][0])\n",
    "        c = u.ufloat(this_calo['c'][0], this_calo['c_err'][0])\n",
    "\n",
    "        y_40 = m*40+c\n",
    "        y_90 = m*90+c\n",
    "        y_diff = y_40-y_90\n",
    "        \n",
    "        diffs_df.loc[index] = {'set':set_name,\n",
    "                               'e':e_range,\n",
    "                               'calo':index+1,\n",
    "                               'diff':y_diff.nominal_value,\n",
    "                               'err':y_diff.std_dev}\n",
    "        \n",
    "    return diffs_df"
   ]
  },
  {
   "cell_type": "code",
   "execution_count": 32,
   "metadata": {},
   "outputs": [],
   "source": [
    "for filename in os.listdir(directory):\n",
    "    if (filename[-4:] != '.csv'):\n",
    "        continue\n",
    "        \n",
    "    for e_low in range(1100, 2900, 200):\n",
    "        e_str = '{0}-{1}'.format(e_low, e_low+200)\n",
    "        big_df = big_df.append(get_diffs(filename, e_str), ignore_index=True)"
   ]
  },
  {
   "cell_type": "code",
   "execution_count": 33,
   "metadata": {},
   "outputs": [],
   "source": [
    "big_df.to_csv('./y_diffs_results/y_diffs.csv')"
   ]
  },
  {
   "cell_type": "code",
   "execution_count": 2,
   "metadata": {},
   "outputs": [],
   "source": [
    "big_df = pd.read_csv('./y_diffs_results/y_diffs.csv')"
   ]
  },
  {
   "cell_type": "code",
   "execution_count": 3,
   "metadata": {},
   "outputs": [
    {
     "data": {
      "image/png": "[encoded data removed]",
      "text/plain": [
       "<Figure size 504x504 with 1 Axes>"
      ]
     },
     "metadata": {
      "needs_background": "light"
     },
     "output_type": "display_data"
    }
   ],
   "source": [
    "memes = big_df[(big_df['set'] == '1C') & (big_df['e'] == '1500-1700')]\n",
    "\n",
    "fig, ax = plt.subplots(1,1)\n",
    "fig.set_size_inches(7,7)\n",
    "\n",
    "ax.errorbar(memes['calo'], memes['diff'], yerr=memes['err']);\n",
    "ax.set_ylim(-0.1, 0.1);"
   ]
  },
  {
   "cell_type": "code",
   "execution_count": null,
   "metadata": {},
   "outputs": [],
   "source": []
  }
 ],
 "metadata": {
  "kernelspec": {
   "display_name": "Python 3",
   "language": "python",
   "name": "python3"
  },
  "language_info": {
   "codemirror_mode": {
    "name": "ipython",
    "version": 3
   },
   "file_extension": ".py",
   "mimetype": "text/x-python",
   "name": "python",
   "nbconvert_exporter": "python",
   "pygments_lexer": "ipython3",
   "version": "3.7.5"
  }
 },
 "nbformat": 4,
 "nbformat_minor": 4
}
