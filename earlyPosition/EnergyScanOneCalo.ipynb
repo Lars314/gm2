{
 "cells": [
  {
   "cell_type": "code",
   "execution_count": 1,
   "metadata": {},
   "outputs": [
    {
     "name": "stdout",
     "output_type": "stream",
     "text": [
      "Welcome to JupyROOT 6.18/04\n"
     ]
    }
   ],
   "source": [
    "import ROOT as r\n",
    "import pandas as pd\n",
    "import matplotlib.pyplot as plt\n",
    "import mplhep as hep\n",
    "import math\n",
    "import numpy as np\n",
    "import colorsys\n",
    "from scipy import optimize as sciopt\n",
    "import os\n",
    "import lmfit\n",
    "import uncertainties as u\n",
    "import dataset as ds\n",
    "import datasetXtals as dsX\n",
    "import fit_functions as funcs\n",
    "import importlib"
   ]
  },
  {
   "cell_type": "code",
   "execution_count": 2,
   "metadata": {},
   "outputs": [],
   "source": [
    "plt.style.use(hep.style.ATLAS)\n",
    "plt.style.use({\"axes.labelsize\":'36', 'lines.linewidth':'2', 'lines.markersize':'2', 'xtick.labelsize':'16'})"
   ]
  },
  {
   "cell_type": "code",
   "execution_count": 4,
   "metadata": {},
   "outputs": [
    {
     "data": {
      "text/plain": [
       "<module 'fit_functions' from '/home/lars/g-2/earlyPosition/fit_functions.py'>"
      ]
     },
     "execution_count": 4,
     "metadata": {},
     "output_type": "execute_result"
    }
   ],
   "source": [
    "# Reload stuff in case you make changes!\n",
    "\n",
    "importlib.reload(ds)\n",
    "importlib.reload(dsX)\n",
    "importlib.reload(funcs)"
   ]
  },
  {
   "cell_type": "code",
   "execution_count": 50,
   "metadata": {},
   "outputs": [],
   "source": [
    "global_energy_lim = [0, 100]\n",
    "global_set_name = '1A'\n",
    "global_calo_num = 19\n",
    "fit_lim = [30, 300]\n",
    "\n",
    "energy_lim = [300, 1000]\n",
    "low_E  = str(energy_lim[0] / 1000)\n",
    "high_E = str(energy_lim[1] / 1000)\n",
    "\n",
    "datasets = {\"1A\": [\"60h\", r.TFile(\"./data/60hXtalsPosition_v2.root\")],\n",
    "            \"1B\": [\"HighKick\", r.TFile(\"./data/highKickXtalsPosition_v2.root\")],\n",
    "            \"1C\": [\"9day\", r.TFile(\"./data/9dayXtalsPosition_v2.root\")],\n",
    "            \"1D\": [\"EndGame\", r.TFile(\"./data/endGameXtalsPosition_v2.root\")],\n",
    "            \"2C\": [\"run2C\", r.TFile(\"./data/run2CXtalsPosition_v2.root\")]}"
   ]
  },
  {
   "cell_type": "code",
   "execution_count": 51,
   "metadata": {},
   "outputs": [],
   "source": [
    "for eLow in range(0, 800, 100):\n",
    "    energy_lim = [eLow, eLow+100]\n",
    "\n",
    "    this_low_E  = str(energy_lim[0] / 1000)\n",
    "    this_high_E = str(energy_lim[1] / 1000)\n",
    "\n",
    "    dataset = dsX.DataSetX(global_set_name,\n",
    "                           datasets[global_set_name][0],\n",
    "                           datasets[global_set_name][1],\n",
    "                           energy_lim)\n",
    "    dataset.set_up_one_calo(step_length=10, caloNum=global_calo_num, verbose=False)\n",
    "    graph_it_up(this_low_E, this_high_E)"
   ]
  },
  {
   "cell_type": "code",
   "execution_count": 30,
   "metadata": {},
   "outputs": [],
   "source": [
    "def graph_it_up(low_E, high_E):\n",
    "\n",
    "    model = lmfit.Model(funcs.func0)\n",
    "\n",
    "\n",
    "    dataX = dataset.calos[global_calo_num].data['randomized']\n",
    "\n",
    "    fit_data = dataX[(dataX['TimeBin'] > fit_lim[0]) & (dataX['TimeBin'] < fit_lim[1]) ][:]\n",
    "\n",
    "\n",
    "    model.set_param_hint('c', min=0, max=50)\n",
    "    model.set_param_hint('m', min=-1, max=1)\n",
    "\n",
    "\n",
    "    result = model.fit(fit_data['RMS'], t=fit_data['TimeBin'],\n",
    "                        c=35, m=0,\n",
    "                       weights=1/fit_data['RMSError'])\n",
    "    #cov = result.covar\n",
    "\n",
    "    #print(result.fit_report())\n",
    "\n",
    "    #time = np.linspace(fit_lim[0],fit_lim[1],100)\n",
    "    #guess = funcs.func0(t=time, c=35, m=0)\n",
    "\n",
    "    fig, ax = plt.subplots(1,1)\n",
    "    fig.set_size_inches(20,10)\n",
    "\n",
    "\n",
    "    ax.errorbar(dataX['TimeBin'], dataX['RMS'], yerr=dataX['RMSError'], color='xkcd:grey', linestyle='none')\n",
    "    ax.plot(dataX['TimeBin'], dataX['RMS'], linestyle='none', marker='o', markersize=2, label='crystals')\n",
    "    ax.plot(fit_data['TimeBin'], result.best_fit, label='fit')\n",
    "    #ax.plot(time, guess, label='guess')\n",
    "\n",
    "    ax.set_ylabel('y-RMS    [mm]')\n",
    "    ax.set_xlabel('Time     [μs]')\n",
    "\n",
    "    ax.set_ylim(28, 40)\n",
    "\n",
    "    ax.set_title(global_set_name + \" Calorimeter \" + str(global_calo_num) + \"        \"+ low_E + \"-\" + high_E + \" GeV\", fontsize=40)\n",
    "\n",
    "    ax.legend(loc=0)\n",
    "\n",
    "    try:\n",
    "        plt.savefig(\"./images/energy_comparison/\" + global_set_name + \"_Calo\" + str(global_calo_num) + \"/\" + low_E + \"-\" + high_E + \"GeV.png\", bbox_inches='tight')\n",
    "    except FileNotFoundError:\n",
    "        os.mkdir(\"./images/energy_comparison/\" + global_set_name + \"_Calo\" + str(global_calo_num) + \"/\")\n",
    "        plt.savefig(\"./images/energy_comparison/\" + global_set_name + \"_Calo\" + str(global_calo_num) + \"/\" + low_E + \"-\" + high_E + \"GeV.png\", bbox_inches='tight')\n",
    "\n",
    "    plt.close()"
   ]
  },
  {
   "cell_type": "code",
   "execution_count": 42,
   "metadata": {},
   "outputs": [],
   "source": []
  },
  {
   "cell_type": "code",
   "execution_count": 8,
   "metadata": {},
   "outputs": [
    {
     "data": {
      "image/png": "[encoded data removed]",
      "text/plain": [
       "<IPython.core.display.Image object>"
      ]
     },
     "metadata": {},
     "output_type": "display_data"
    }
   ],
   "source": [
    "\n",
    "hist = dataset.calos[global_calo_num].hists['randomized']\n",
    "proj = hist.ProjectionY(\"_py\", 20, 30)\n",
    "\n",
    "c = r.TCanvas(\"c\", \"c\", 1200, 600)\n",
    "c.Divide(2, 1)\n",
    "c.cd(1)\n",
    "hist.Draw(\"colz\")\n",
    "c.cd(2)\n",
    "proj.Draw()\n",
    "\n",
    "c.Draw()"
   ]
  },
  {
   "cell_type": "code",
   "execution_count": null,
   "metadata": {},
   "outputs": [],
   "source": []
  }
 ],
 "metadata": {
  "kernelspec": {
   "display_name": "Python 3",
   "language": "python",
   "name": "python3"
  },
  "language_info": {
   "codemirror_mode": {
    "name": "ipython",
    "version": 3
   },
   "file_extension": ".py",
   "mimetype": "text/x-python",
   "name": "python",
   "nbconvert_exporter": "python",
   "pygments_lexer": "ipython3",
   "version": "3.7.5"
  }
 },
 "nbformat": 4,
 "nbformat_minor": 4
}
