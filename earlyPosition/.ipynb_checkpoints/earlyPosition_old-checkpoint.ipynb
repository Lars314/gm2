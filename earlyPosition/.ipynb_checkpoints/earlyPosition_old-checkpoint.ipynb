{
 "cells": [
  {
   "cell_type": "code",
   "execution_count": 1,
   "metadata": {},
   "outputs": [
    {
     "name": "stdout",
     "output_type": "stream",
     "text": [
      "Welcome to JupyROOT 6.18/04\n"
     ]
    }
   ],
   "source": [
    "import ROOT as r\n",
    "import pandas as pd\n",
    "import matplotlib.pyplot as plt\n",
    "import mplhep as hep\n",
    "import math\n",
    "import numpy as np\n",
    "import colorsys\n",
    "from scipy import optimize as sciopt\n",
    "import os\n",
    "import lmfit"
   ]
  },
  {
   "cell_type": "code",
   "execution_count": 2,
   "metadata": {},
   "outputs": [],
   "source": [
    "plt.style.use(hep.style.ATLAS)\n",
    "plt.style.use({\"axes.labelsize\":'20', 'lines.linewidth':'2', 'lines.markersize':'2'})"
   ]
  },
  {
   "cell_type": "markdown",
   "metadata": {},
   "source": [
    "### Set-Up Histograms"
   ]
  },
  {
   "cell_type": "code",
   "execution_count": 31,
   "metadata": {},
   "outputs": [],
   "source": [
    "dataset = \"endgame\"\n",
    "f = r.TFile(\"./endgame.root\")\n",
    "\n",
    "#dataset = \"60h\"\n",
    "#f = r.TFile(\"./60h.root\")\n",
    "\n",
    "#dataset = \"9day\"\n",
    "#f = r.TFile(\"./9day.root\")\n",
    "\n",
    "#dataset = \"highkick\"\n",
    "#f = r.TFile(\"./highkick.root\")\n",
    "\n",
    "#dataset = \"run2C\"\n",
    "#f = r.TFile(\"./run2C.root\")"
   ]
  },
  {
   "cell_type": "code",
   "execution_count": 32,
   "metadata": {},
   "outputs": [],
   "source": [
    "# pick the energy cutoffs in MeV\n",
    "energy_range = [1000, 2400]"
   ]
  },
  {
   "cell_type": "code",
   "execution_count": 33,
   "metadata": {},
   "outputs": [],
   "source": [
    "# set up the histograms\n",
    "calo_hists = []\n",
    "rand_hists = []\n",
    "\n",
    "for i in range(1, 25):\n",
    "    calo = f.Get(\"verticalPosition/clusters\" + str(i)).Clone(\"calo_\" + str(i))\n",
    "    rand = f.Get(\"verticalPosition/randclusters\" + str(i)).Clone(\"rand_calo_\" + str(i))\n",
    "    \n",
    "    calo.SetAxisRange(energy_range[0], energy_range[1], \"y\")\n",
    "    rand.SetAxisRange(energy_range[0], energy_range[1], \"y\")\n",
    "    calo_hists.append(calo.Project3D(\"zx\"))\n",
    "    rand_hists.append(rand.Project3D(\"zx\"))"
   ]
  },
  {
   "cell_type": "code",
   "execution_count": 34,
   "metadata": {},
   "outputs": [
    {
     "name": "stdout",
     "output_type": "stream",
     "text": [
      "endgame/\n"
     ]
    }
   ],
   "source": [
    "# set the working directory for this dataset and energy cut\n",
    "\n",
    "directory = dataset + \"/\"\n",
    "\n",
    "# uncomment for test directory so as not to screw everything up\n",
    "#directory = './test/'\n",
    "\n",
    "print(directory)"
   ]
  },
  {
   "cell_type": "code",
   "execution_count": 35,
   "metadata": {},
   "outputs": [
    {
     "data": {
      "text/plain": [
       "0.044148341165883405"
      ]
     },
     "execution_count": 35,
     "metadata": {},
     "output_type": "execute_result"
    }
   ],
   "source": [
    "# just a quick sanity check, that the time bins are multiples of the g-2 period, 4.365μs\n",
    "calo_hists[0].GetXaxis().GetBinWidth(9)"
   ]
  },
  {
   "cell_type": "code",
   "execution_count": 36,
   "metadata": {},
   "outputs": [
    {
     "data": {
      "text/plain": [
       "10001"
      ]
     },
     "execution_count": 36,
     "metadata": {},
     "output_type": "execute_result"
    }
   ],
   "source": [
    "calo_hists[0].GetNbinsX()"
   ]
  },
  {
   "cell_type": "code",
   "execution_count": 65,
   "metadata": {},
   "outputs": [],
   "source": [
    "class DataSet:\n",
    "    \"\"\"\n",
    "    Dataset object has:\n",
    "   \n",
    "    name: short form name of the dataset (ie 1A, 1B, ...)\n",
    "\n",
    "    long_name: long form name of the dataset (ie 60h, HighKick, ...)\n",
    "\n",
    "    energy_range: the energy upper and lower cutoffs in MeV [lower, upper]\n",
    "\n",
    "    hists: root histograms of y vs t for each calorimeter. Has structure {\"randomized\": [list of histograms], \"unrandomized\": [list of histograms]}\n",
    "\n",
    "    dfs: pandas dataframes of y vs t for each calorimeter. Has structure {\"randomized\": [list of dataframes], \"unrandomized\": [list of dataframes]}\n",
    "    \"\"\"\n",
    "    \n",
    "    def __init__(self, name = None, long_name = None, file = None, energy_range = [0, 99999999999]):\n",
    "        self.name         = name\n",
    "        self.long_name    = long_name\n",
    "        self.file         = file\n",
    "        self.hists        = None\n",
    "        self.dfs          = None\n",
    "        self.energy_range = energy_range\n",
    "        \n",
    "\n",
    "    def _calo_df(self, hist, step):\n",
    "        \n",
    "        data = pd.DataFrame(columns=['TimeBin', 'Mean', 'MeanError', 'SD', \n",
    "                                     'SDError', 'Var', 'VarError','Npoints', \n",
    "                                     'RMS', 'RMSError'])\n",
    "        \n",
    "        for index in range(0, hist.GetNbinsX()-step, step):\n",
    "            a = dict()\n",
    "            try:\n",
    "                proj = hist.ProjectionY(\"_py\", index, index+step)\n",
    "\n",
    "                #a['TimeBin']      = index*(hist.GetXaxis().GetXmax()/hist.GetNbinsX())\n",
    "                a['TimeBin']      = hist.GetXaxis().GetXmin() + index*(hist.GetXaxis().GetBinWidth(index))\n",
    "                a['Mean']         = (proj.GetMean() - 3) * 25.2\n",
    "                a['MeanError']    = proj.GetMeanError() * 25.2\n",
    "                a['SD']           = proj.GetStdDev() * 25.2\n",
    "                a['SDError']      = proj.GetStdDevError() * 25.2\n",
    "                a['Var']          = (proj.GetStdDev() ** 2) * (25.2 ** 2)\n",
    "                a['VarError']     = 2 * abs(proj.GetStdDev()) * proj.GetStdDevError() * (25.2 ** 2)\n",
    "                a['Npoints']      = proj.GetEntries()\n",
    "                a['RMS']          = proj.GetRMS() * 25.2\n",
    "                a['RMSError']     = proj.GetRMSError() * 25.2\n",
    "\n",
    "                data.loc[index] = a\n",
    "\n",
    "            except:\n",
    "                continue\n",
    "                \n",
    "        return data\n",
    "\n",
    "        \n",
    "    def build_hists(self):\n",
    "        calo_hists = []\n",
    "        rand_hists = []\n",
    "\n",
    "        for i in range(1, 25):\n",
    "            calo = self.file.Get(\"verticalPosition/clusters\" + str(i)).Clone(\"calo_\" + str(i))\n",
    "            rand = self.file.Get(\"verticalPosition/randclusters\" + str(i)).Clone(\"rand_calo_\" + str(i))\n",
    "\n",
    "            calo.SetAxisRange(self.energy_range[0], self.energy_range[1], \"y\")\n",
    "            rand.SetAxisRange(self.energy_range[0], self.energy_range[1], \"y\")\n",
    "            calo_hists.append(calo.Project3D(\"zx\"))\n",
    "            rand_hists.append(rand.Project3D(\"zx\"))\n",
    "            \n",
    "        return {\"unrandomized\": calo_hists, \"randomized\": rand_hists}\n",
    "    \n",
    "\n",
    "    def build_dfs(self, step):\n",
    "        unrandomized = {}\n",
    "        randomized = {}\n",
    "\n",
    "        for caloNum, hist in enumerate(self.hists['unrandomized']):\n",
    "            unrandomized[caloNum+1] = self._calo_df(hist, step)\n",
    "            \n",
    "        for caloNum, hist in enumerate(self.hists['randomized']):\n",
    "            randomized[caloNum+1] = self._calo_df(hist, step)\n",
    "            \n",
    "        return {\"unrandomized\": unrandomized, \"randomized\":randomized}\n",
    "            \n",
    "    "
   ]
  },
  {
   "cell_type": "code",
   "execution_count": 54,
   "metadata": {},
   "outputs": [],
   "source": [
    "endgame = DataSet(\"endgame\", r.TFile(\"./endgame.root\"), [1000, 2400])\n",
    "endgame.hists = endgame.build_hists()\n",
    "endgame.dfs = endgame.build_dfs(step=10)"
   ]
  },
  {
   "cell_type": "code",
   "execution_count": 64,
   "metadata": {},
   "outputs": [
    {
     "data": {
      "text/plain": [
       "[<matplotlib.lines.Line2D at 0x7f72abe40110>]"
      ]
     },
     "execution_count": 64,
     "metadata": {},
     "output_type": "execute_result"
    },
    {
     "data": {
      "image/png": "[encoded data removed]",
      "text/plain": [
       "<Figure size 630x426.24 with 1 Axes>"
      ]
     },
     "metadata": {},
     "output_type": "display_data"
    }
   ],
   "source": [
    "data = endgame.dfs[\"randomized\"][3]\n",
    "\n",
    "fig, ax = plt.subplots(1,1)\n",
    "\n",
    "ax.plot(data['TimeBin'], data['Mean'], linestyle='none', marker='o')"
   ]
  },
  {
   "cell_type": "code",
   "execution_count": null,
   "metadata": {},
   "outputs": [],
   "source": [
    "datafiles = {\n",
    "    \"1A\":r.TFile(\"./60h.root\"),\n",
    "    \"1B\":r.TFile(\"./highkick.root\"),\n",
    "    \"1C\":r.TFile(\"./9day.root\"),\n",
    "    \"1D\":r.TFile(\"./endgame.root\"),\n",
    "    \"2C\":r.TFile(\"./run2C.root\")\n",
    "}\n",
    "\n",
    "for name, file in datafiles:\n",
    "    "
   ]
  },
  {
   "cell_type": "markdown",
   "metadata": {},
   "source": [
    "### General Plot"
   ]
  },
  {
   "cell_type": "code",
   "execution_count": 9,
   "metadata": {},
   "outputs": [],
   "source": [
    "def plot_hist_stats(data, rand_data, name, fit_lim, pos_stats, var_stats, rand_pos_stats, rand_var_stats, caloNum):\n",
    "    \n",
    "    mean_lim = [data['HistMean'].min() - 1, data['HistMean'].max() + 1]\n",
    "    sd_lim = [data['HistVar'].min() - 3, data['HistVar'].max() + 3]\n",
    "    \n",
    "    fit_data = data[(data['TimeBin'] > fit_lim[0]) & (data['TimeBin'] < fit_lim[1])][:]\n",
    "    rand_fit_data = rand_data[(rand_data['TimeBin'] > fit_lim[0]) & (rand_data['TimeBin'] < fit_lim[1])][:]\n",
    "    \n",
    "    exp_model = lmfit.Model(exponential_func)\n",
    "    \n",
    "    fig, ax = plt.subplots(1, 2)\n",
    "    fig.set_size_inches(18, 10)\n",
    "\n",
    "    #-------------------------YPosition---------------------------------------\n",
    "    \n",
    "    result = exp_model.fit(fit_data['HistMean'], t=fit_data['TimeBin'], c=0.5, a=8, tau=5, m=0.0001)\n",
    "    cov = result.covar\n",
    "    \n",
    "    c_vals = [result.params['c'].value, np.sqrt(cov[0][0])]\n",
    "    a_vals = [result.params['a'].value, np.sqrt(cov[1][1])]\n",
    "    t_vals = [result.params['tau'].value, np.sqrt(cov[2][2])]\n",
    "    m_vals = [result.params['m'].value, np.sqrt(cov[3][3])]\n",
    "    chisqr = result.chisqr\n",
    "    \n",
    "    ax[0].plot(data['TimeBin'], data['HistMean'], linestyle='none', marker='o',\n",
    "               color='xkcd:blue', markersize=3, label='Vertical Position');\n",
    "    ax[0].errorbar(data['TimeBin'], data['HistMean'], yerr=data['HistMeanError'],\n",
    "                   color='xkcd:blue', elinewidth=1, fmt='none');\n",
    "    ax[0].plot(fit_data['TimeBin'], result.best_fit, color='xkcd:blue',\n",
    "               label= 'c = {0:.4e} ± {1:.4e}'.format(c_vals[0], c_vals[1]) + \n",
    "                      '\\n A = {0:.4e} ± {1:.4e}'.format(a_vals[0], a_vals[1]) +\n",
    "                      '\\n τ = {0:.4e} ± {1:.4e}'.format(t_vals[0], t_vals[1]) +\n",
    "                      '\\n m = {0:.4e} ± {1:.4e}'.format(m_vals[0], m_vals[1]) +\n",
    "                      '\\n' + r'$chi^{2}$ = '+'{0:.2f}'.format(chisqr))\n",
    "    \n",
    "    rand_result = exp_model.fit(rand_fit_data['HistMean'], t=rand_fit_data['TimeBin'], c=0.5, a=8, tau=5, m=0.0001)\n",
    "    cov = rand_result.covar\n",
    "    \n",
    "    rand_c_vals = [rand_result.params['c'].value, np.sqrt(cov[0][0])]\n",
    "    rand_a_vals = [rand_result.params['a'].value, np.sqrt(cov[1][1])]\n",
    "    rand_t_vals = [rand_result.params['tau'].value, np.sqrt(cov[2][2])]\n",
    "    rand_m_vals = [rand_result.params['m'].value, np.sqrt(cov[3][3])]\n",
    "    rand_chisqr = rand_result.chisqr\n",
    "    \n",
    "    ax[0].plot(rand_data['TimeBin'], rand_data['HistMean'], linestyle='none', marker='o',\n",
    "               color='xkcd:red', markersize=4, label='Vertical Position with Randomization');\n",
    "    ax[0].errorbar(rand_data['TimeBin'], rand_data['HistMean'], yerr=rand_data['HistMeanError'],\n",
    "                   color='xkcd:red', elinewidth=1, fmt='none');\n",
    "    ax[0].plot(rand_fit_data['TimeBin'], rand_result.best_fit, color='xkcd:red',\n",
    "               label= 'c = {0:.4e} ± {1:.4e}'.format(rand_result.params['c'].value, np.sqrt(cov[0][0])) + \n",
    "                      '\\n A = {0:.4e} ± {1:.4e}'.format(rand_result.params['a'].value, np.sqrt(cov[1][1])) +\n",
    "                      '\\n τ = {0:.4e} ± {1:.4e}'.format(rand_result.params['tau'].value, np.sqrt(cov[2][2])) +\n",
    "                      '\\n m = {0:.4e} ± {1:.4e}'.format(rand_result.params['m'].value, np.sqrt(cov[3][3])) +\n",
    "                      '\\n' + r'$chi^{2}$ = '+'{0:.2f}'.format(rand_result.chisqr))\n",
    "\n",
    "    \n",
    "    ax[0].set_ylabel('Y (mm)', fontsize=16);\n",
    "    ax[0].set_xlabel('Time (μs)', fontsize=16);\n",
    "    ax[0].legend(loc=0, fontsize='x-small', labelspacing=1.5, framealpha=1);\n",
    "    ax[0].set_ylim(mean_lim[0], mean_lim[1]);\n",
    "    ax[0].set_xlim(0, 210);\n",
    "    ax[0].set_title('Vertical Position', fontsize=20);\n",
    "    \n",
    "    #-------------------------Variance---------------------------------------\n",
    "\n",
    "    \n",
    "    ax[1].plot(data['TimeBin'], data['HistVar'], linestyle='none', marker='o',\n",
    "                  color='xkcd:blue', markersize=4, label='Variance');\n",
    "    ax[1].errorbar(data['TimeBin'], data['HistVar'], yerr=data['HistVarError'],\n",
    "                      color='xkcd:blue', elinewidth=1, fmt='none')\n",
    "    \n",
    "    \n",
    "    ax[1].plot(rand_data['TimeBin'], rand_data['HistVar'], linestyle='none', marker='o',\n",
    "                  color='xkcd:red', markersize=4, label='Variance with Randomization');\n",
    "    ax[1].errorbar(rand_data['TimeBin'], rand_data['HistVar'], yerr=rand_data['HistVarError'],\n",
    "                      color='xkcd:red', elinewidth=1, fmt='none')\n",
    "    \n",
    "    \n",
    "    ax[1].set_ylabel('Variance (mm^2)', fontsize=16);\n",
    "    ax[1].set_xlabel('Time (μs)', fontsize=16);\n",
    "    ax[1].legend(loc=0, fontsize='x-small', labelspacing=1.5, framealpha=1);\n",
    "    ax[1].set_ylim(sd_lim[0], sd_lim[1]);\n",
    "    ax[1].set_xlim(0, 210);\n",
    "    ax[1].set_title('Variance', fontsize=20);\n",
    "    \n",
    "    #-------------------------Save Figure---------------------------------------\n",
    "\n",
    "    fig.suptitle(name, fontsize=20, y=1.05)\n",
    "    \n",
    "    fig.tight_layout()\n",
    "    plt.savefig(directory + name + '.png', bbox_inches='tight');\n",
    "    plt.close()\n",
    "    \n",
    "    return {\"caloNum\":caloNum,\n",
    "            \"c\":c_vals[0],\n",
    "            \"c_err\":c_vals[1],\n",
    "            \"a\":a_vals[0],\n",
    "            \"a_err\":a_vals[1],\n",
    "            \"t\":t_vals[0],\n",
    "            \"t_err\":t_vals[1],\n",
    "            \"m\":m_vals[0],\n",
    "            \"m_err\":m_vals[1],\n",
    "            \"chisqr\":chisqr,\n",
    "            \"rand_c\":rand_c_vals[0],\n",
    "            \"rand_c_err\":rand_c_vals[1],\n",
    "            \"rand_a\":rand_a_vals[0],\n",
    "            \"rand_a_err\":rand_a_vals[1],\n",
    "            \"rand_t\":rand_t_vals[0],\n",
    "            \"rand_t_err\":rand_t_vals[1],\n",
    "            \"rand_m\":rand_m_vals[0],\n",
    "            \"rand_m_err\":rand_m_vals[1],\n",
    "            \"rand_chisqr\":rand_chisqr}"
   ]
  },
  {
   "cell_type": "code",
   "execution_count": 10,
   "metadata": {},
   "outputs": [],
   "source": [
    "def plot_mean_per_calo():\n",
    "    \"\"\"\n",
    "    \n",
    "    \"\"\"\n",
    "    \n",
    "    data = pd.read_csv(directory + \"yposition_data.csv\")\n",
    "    rand_data = pd.read_csv(directory + \"rand_yposition_data.csv\")\n",
    "        \n",
    "    fig, ax = plt.subplots(1, 1)\n",
    "    fig.set_size_inches(11, 11)\n",
    "    ax.grid(color='xkcd:light grey', linestyle='-')\n",
    "    \n",
    "    ax.plot(data['caloNum'], data['a'], linestyle='none', marker='o',\n",
    "            color='xkcd:blue', markersize=4, label='Slope of Vertical Position vs T');\n",
    "    ax.errorbar(data['caloNum'], data['a'], yerr=data['a error'],\n",
    "                color='xkcd:blue', elinewidth=1, fmt='none');\n",
    "    \n",
    "    ax.plot(rand_data['caloNum'], rand_data['a'], linestyle='none', marker='o',\n",
    "            color='xkcd:red', markersize=4, label='Slope of Vertical Position vs T with Randomization');\n",
    "    ax.errorbar(rand_data['caloNum'], rand_data['a'], yerr=rand_data['a error'],\n",
    "                color='xkcd:red', elinewidth=1, fmt='none');\n",
    "    \n",
    "    ax.ticklabel_format(axis='y', style='sci', scilimits=(0,0))\n",
    "    \n",
    "    ax.set_ylabel('Slope of Y vs Time (mm/μs)', fontsize=16);\n",
    "    ax.set_xlabel('Calorimeter Number', fontsize=16);\n",
    "    ax.set_title('Vertical Position Slopes for 30<t<200μs and ' + str(energy_range[0]/1000) + \\\n",
    "                 '<E<' + str(energy_range[1]/1000) + 'GeV', fontsize=20)\n",
    "    ax.legend(loc=0, fontsize='large', labelspacing=1.5, framealpha=1);\n",
    "    \n",
    "    fig.tight_layout();\n",
    "    plt.savefig(directory + 'y_slopes.png', bbox_inches='tight');\n",
    "    plt.close();"
   ]
  },
  {
   "cell_type": "code",
   "execution_count": 11,
   "metadata": {},
   "outputs": [],
   "source": [
    "def plot_width_per_calo():\n",
    "    \"\"\"\n",
    "    \n",
    "    \"\"\"\n",
    "\n",
    "    data = pd.read_csv(directory + \"variance_data.csv\")\n",
    "    rand_data = pd.read_csv(directory + \"rand_variance_data.csv\")\n",
    "        \n",
    "    fig, ax = plt.subplots(1, 1)\n",
    "    fig.set_size_inches(11, 11)\n",
    "    ax.grid(color='xkcd:light grey', linestyle='-')\n",
    "    \n",
    "    ax.plot(data['caloNum'], data['a'], linestyle='none', marker='o',\n",
    "            color='xkcd:blue', markersize=4, label='Slope of Variance vs T');\n",
    "    ax.errorbar(data['caloNum'], data['a'], yerr=data['a error'],\n",
    "                color='xkcd:blue', elinewidth=1, fmt='none');\n",
    "    \n",
    "    ax.plot(rand_data['caloNum'], rand_data['a'], linestyle='none', marker='o',\n",
    "            color='xkcd:red', markersize=4, label='Slope of Variance vs T with Randomization');\n",
    "    ax.errorbar(rand_data['caloNum'], rand_data['a'], yerr=rand_data['a error'],\n",
    "                color='xkcd:red', elinewidth=1, fmt='none');\n",
    "    \n",
    "    ax.ticklabel_format(axis='y', style='sci', scilimits=(0,0))\n",
    "    \n",
    "    ax.set_ylabel('Slope of Variance vs Time (mm^2/μs)', fontsize=16);\n",
    "    ax.set_xlabel('Calorimeter Number', fontsize=16);\n",
    "    ax.set_title('Variance Slopes for 30<t<200μs and ' + str(energy_range[0]/1000) + \\\n",
    "                 '<E<' + str(energy_range[1]/1000) + 'GeV', fontsize=20)\n",
    "    ax.legend(loc=0, fontsize='small', labelspacing=1.5, framealpha=1);\n",
    "    \n",
    "    fig.tight_layout();\n",
    "    plt.savefig(directory + 'var_slopes.png', bbox_inches='tight');\n",
    "    plt.close();"
   ]
  },
  {
   "cell_type": "code",
   "execution_count": 29,
   "metadata": {},
   "outputs": [],
   "source": [
    "def fft_y(data, rand_data, name):\n",
    "    \"\"\"\n",
    "    \n",
    "    \"\"\"\n",
    "    sp = np.fft.fft(data['HistMean'])\n",
    "    freq = np.fft.fftfreq(len(data['TimeBin']), (data['TimeBin'][2] - data['TimeBin'][1]) * 10**(-6))\n",
    "    \n",
    "    rand_sp = np.fft.fft(rand_data['HistMean'])\n",
    "    rand_freq = np.fft.fftfreq(len(rand_data['TimeBin']), (rand_data['TimeBin'][2] - rand_data['TimeBin'][1]) * 10**(-6))\n",
    "    \n",
    "    fig, ax = plt.subplots(1, 1)\n",
    "    fig.set_size_inches(11, 11)\n",
    "    \n",
    "    ax.plot(np.abs(freq) / (10**(6)), np.log10(np.abs(sp)), color='xkcd:blue', alpha=0.5);\n",
    "    ax.plot(np.abs(rand_freq) / (10**(6)), np.log10(np.abs(rand_sp)), color='xkcd:red', alpha=0.5);\n",
    "    #ax.set_xlim(-0.1, 1)\n",
    "    \n",
    "    ax.set_ylabel('$Log_{10}(sp)$', fontsize=16)\n",
    "    ax.set_xlabel('Frequency (MHz)', fontsize=16)\n",
    "    ax.set_title(name, fontsize=20)\n",
    "    \n",
    "    fig.tight_layout();\n",
    "    plt.savefig(directory + 'y_fft_' + name + '.png', bbox_inches='tight');\n",
    "    plt.close();\n",
    "    \n",
    "    return freq, sp"
   ]
  },
  {
   "cell_type": "markdown",
   "metadata": {},
   "source": [
    "### Calculation Helper Functions"
   ]
  },
  {
   "cell_type": "code",
   "execution_count": 14,
   "metadata": {},
   "outputs": [],
   "source": [
    "def gaus_fit(hist, step=1):\n",
    "    \"\"\"\n",
    "    Performs a Gaussian fit on the distribution of Y hits for a time slice\n",
    "    \n",
    "    hist: [TH2D] a histogram containing the y(t) data\n",
    "    step: [int] the size of each bin for fitting\n",
    "    no_spikes: [bool] if spikes should be removed. Defaults to False\n",
    "    \"\"\"\n",
    "    stats = []\n",
    "    \n",
    "    for index in range(0, hist.GetNbinsX()-step, step):\n",
    "        a = dict()\n",
    "        try:\n",
    "            proj = hist.ProjectionY(\"_py\", index, index+step)\n",
    "            \n",
    "            #a['TimeBin']      = index*(hist.GetXaxis().GetXmax()/hist.GetNbinsX())\n",
    "            a['TimeBin']     = hist.GetXaxis().GetXmin() + index*(hist.GetXaxis().GetBinWidth(index))\n",
    "            a['HistMean']     = (proj.GetMean() - 3) * 25.2\n",
    "            a['HistMeanError']= proj.GetMeanError() * 25.2\n",
    "            a['HistSD']       = proj.GetStdDev() * 25.2\n",
    "            a['HistSDError']  = proj.GetStdDevError() * 25.2\n",
    "            a['HistVar']      = (proj.GetStdDev() ** 2) * (25.2 ** 2)\n",
    "            a['HistVarError'] = 2 * abs(proj.GetStdDev()) * proj.GetStdDevError() * (25.2 ** 2)\n",
    "            a['Npoints']      = proj.GetEntries()\n",
    "            a['RMS']          = proj.GetRMS() * 25.2\n",
    "            a['RMSError']     = proj.GetRMSError() * 25.2\n",
    "                \n",
    "            stats.append(a)\n",
    "                \n",
    "        except:\n",
    "            continue\n",
    "\n",
    "    data = pd.DataFrame(columns=['TimeBin', 'HistMean',\n",
    "                                 'HistMeanError', 'HistSD', \n",
    "                                 'HistSDError', 'HistVar',\n",
    "                                 'HistVarError','Npoints', \n",
    "                                 'RMS', 'RMSError'])\n",
    "    \n",
    "    for index in range(0, len(stats)):\n",
    "        data.loc[index] = stats[index]\n",
    "    \n",
    "    return data"
   ]
  },
  {
   "cell_type": "code",
   "execution_count": 15,
   "metadata": {},
   "outputs": [],
   "source": [
    "def linear_fit(data2, mfit_lim=[30, 200], vfit_lim=[30, 200]):\n",
    "    \"\"\"\n",
    "    Perform a linear fit on the data\n",
    "    \"\"\"\n",
    "    data = data2.copy()\n",
    "    \n",
    "    # convert from crystal units to mm\n",
    "    \"\"\"\n",
    "    data['HistMean']         = (data['HistMean'] - 3) * 25.2\n",
    "    data['HistMeanError']    = data['HistMeanError'] * 25.2\n",
    "\n",
    "    data['HistVar']           = data['HistVar'] * 25.2 * 25.2\n",
    "    data['HistVarError']      = data['HistVarError'] * 25.2 * 25.2\n",
    "    \"\"\"\n",
    "    # -------------------------------------------------------------------\n",
    "    # Compute Mean Parameters\n",
    "    # -------------------------------------------------------------------\n",
    "    \n",
    "    # restrict the data for fitting to be within a predefined time range\n",
    "    fit_data = data[(data['TimeBin'] > mfit_lim[0]) & (data['TimeBin'] < mfit_lim[1])][:]\n",
    "        \n",
    "    # I do not know why, but having both cov=True and full=True does not return cov\n",
    "    stats_list = np.polyfit(fit_data['TimeBin'], fit_data['HistMean'], 1,\n",
    "                            full=True, w=1/fit_data['HistMeanError'])\n",
    "    coeff, cov = np.polyfit(fit_data['TimeBin'], fit_data['HistMean'], 1,\n",
    "                            full=False, cov=True, w=1/fit_data['HistMeanError'])\n",
    "        \n",
    "    line = linear_func(coeff[0], coeff[1], mfit_lim)\n",
    "        \n",
    "    # item [1] of stats_list is the fit residual\n",
    "    chisq_dof = stats_list[1][0] / (len(fit_data['TimeBin']) - 2)\n",
    "    param_errors = np.sqrt(np.diag(cov))\n",
    "    \n",
    "    pos_stats = [coeff[0], param_errors[0], coeff[1], param_errors[1], chisq_dof]\n",
    "    \n",
    "    # -------------------------------------------------------------------\n",
    "    # Compute Variance Parameters\n",
    "    # -------------------------------------------------------------------\n",
    "    \n",
    "    fit_data = data[(data['TimeBin'] > vfit_lim[0]) & (data['TimeBin'] < vfit_lim[1])][:]\n",
    "    \n",
    "    # I do not know why, but having both cov=True and full=True does not return cov\n",
    "    stats_list = np.polyfit(fit_data['TimeBin'], fit_data['HistVar'], 1,\n",
    "                            full=True, w=1/fit_data['HistVarError'])\n",
    "    coeff, cov = np.polyfit(fit_data['TimeBin'], fit_data['HistVar'], 1,\n",
    "                            full=False, cov=True, w=1/fit_data['HistVarError'])\n",
    "        \n",
    "    line = linear_func(coeff[0], coeff[1], vfit_lim)\n",
    "    \n",
    "    # item [1] of stats_list is the fit residual\n",
    "    chisq_dof = stats_list[1][0] / (len(fit_data['TimeBin']) - 2)\n",
    "    param_errors = np.sqrt(np.diag(cov))\n",
    "    \n",
    "    var_stats = [coeff[0], param_errors[0], coeff[1], param_errors[1], chisq_dof]\n",
    "    \n",
    "    return pos_stats, var_stats"
   ]
  },
  {
   "cell_type": "code",
   "execution_count": 16,
   "metadata": {},
   "outputs": [],
   "source": [
    "def linear_func(coef1, coef2, fit_lim):\n",
    "    \"\"\"\n",
    "    Makes a numpy linspace of a linear function\n",
    "    \"\"\"\n",
    "    \n",
    "    x = np.linspace(fit_lim[0], fit_lim[1], 100*(fit_lim[1]-fit_lim[0]))\n",
    "    y = coef1 * x + coef2\n",
    "    \n",
    "    return [x, y]"
   ]
  },
  {
   "cell_type": "code",
   "execution_count": 17,
   "metadata": {},
   "outputs": [],
   "source": [
    "def linear_func_scipy(x, a, b):\n",
    "    return a * x + b"
   ]
  },
  {
   "cell_type": "code",
   "execution_count": 18,
   "metadata": {},
   "outputs": [],
   "source": [
    "def line_and_sin(x, a, b, c, d, fit_lim):\n",
    "    \n",
    "    x = np.linspace(fit_lim[0], fit_lim[1], 100*(fit_lim[1]-fit_lim[0]))\n",
    "    y = a * x + b * np.sin(c * x) + d\n",
    "    \n",
    "    return [x, y]"
   ]
  },
  {
   "cell_type": "code",
   "execution_count": 19,
   "metadata": {},
   "outputs": [],
   "source": [
    "def line_and_sin_scipy(x, a, b, c, d):\n",
    "    return a * x + b * np.sin(c * x) + d"
   ]
  },
  {
   "cell_type": "code",
   "execution_count": 20,
   "metadata": {},
   "outputs": [],
   "source": [
    "def exponential_func(t, c, a, tau, m):\n",
    "    return( c - a * (np.exp(-t/tau)) + m*t)"
   ]
  },
  {
   "cell_type": "markdown",
   "metadata": {},
   "source": [
    "## Mains"
   ]
  },
  {
   "cell_type": "code",
   "execution_count": 37,
   "metadata": {},
   "outputs": [],
   "source": [
    "\"\"\"\n",
    "Individual Calo plots and fitting\n",
    "\"\"\"\n",
    "\n",
    "mean_limits = [5, 200]\n",
    "sd_limits = mean_limits\n",
    "step = 1\n",
    "\n",
    "# set up a dataframe to store fit parameters to later\n",
    "pos_data = pd.DataFrame(columns = ['caloNum', 'a', 'a error', 'b', 'b error', 'chi2'])\n",
    "var_data = pd.DataFrame(columns = ['caloNum', 'a', 'a error', 'b', 'b error', 'chi2'])\n",
    "rand_pos_data = pd.DataFrame(columns = ['caloNum', 'a', 'a error', 'b', 'b error', 'chi2'])\n",
    "rand_var_data = pd.DataFrame(columns = ['caloNum', 'a', 'a error', 'b', 'b error', 'chi2'])\n",
    "\n",
    "this_stuff = pd.DataFrame(columns = [\"caloNum\", \"c\", \"c_err\", \"a\", \"a_err\", \"t\", \"t_err\",\n",
    "                                     \"m\", \"m_err\", \"chisqr\",\n",
    "                                     \"rand_c\", \"rand_c_err\", \"rand_a\", \"rand_a_err\", \"rand_t\", \"rand_t_err\",\n",
    "                                     \"rand_m\", \"rand_m_err\", \"rand_chisqr\"])\n",
    "\n",
    "# iterate through the calos\n",
    "for num in range(0, len(calo_hists)):\n",
    "    \n",
    "    # get the name of this calo taken care of\n",
    "    caloNum = num + 1\n",
    "    \n",
    "    if (num < 9):\n",
    "        name = 'calo_0' + str(caloNum)\n",
    "    else:\n",
    "        name = 'calo_' + str(caloNum)\n",
    "    \n",
    "    # get the histogram stats for this calo\n",
    "    data      = gaus_fit(calo_hists[num], step)\n",
    "    rand_data = gaus_fit(rand_hists[num], step)\n",
    "    \n",
    "    # do a fit, and get the parameters\n",
    "    pos_stats, var_stats = linear_fit(data, mfit_lim=mean_limits,\n",
    "                                      vfit_lim=sd_limits)\n",
    "    rand_pos_stats, rand_var_stats = linear_fit(rand_data, mfit_lim=mean_limits,\n",
    "                                                vfit_lim=sd_limits)\n",
    "\n",
    "    # save the fit parameters to a dataframe row\n",
    "    pos_data.loc[num] = {'caloNum':caloNum, 'a':pos_stats[0],\n",
    "                         'a error':pos_stats[1], 'b':pos_stats[2],\n",
    "                         'b error':pos_stats[3], 'chi2':pos_stats[4]}\n",
    "    var_data.loc[num] = {'caloNum':caloNum, 'a':var_stats[0],\n",
    "                         'a error':var_stats[1], 'b':var_stats[2],\n",
    "                         'b error':var_stats[3], 'chi2':var_stats[4]}\n",
    "    \n",
    "    rand_pos_data.loc[num] = {'caloNum':caloNum, 'a':rand_pos_stats[0],\n",
    "                              'a error':rand_pos_stats[1], 'b':rand_pos_stats[2],\n",
    "                              'b error':rand_pos_stats[3], 'chi2':rand_pos_stats[4]}\n",
    "    rand_var_data.loc[num] = {'caloNum':caloNum, 'a':var_stats[0],\n",
    "                              'a error':rand_var_stats[1], 'b':rand_var_stats[2],\n",
    "                              'b error':rand_var_stats[3], 'chi2':rand_var_stats[4]}\n",
    "    \n",
    "    # make a plot of the calo mean and variance, with the fit stuff too\n",
    "    stuff = plot_hist_stats(data, rand_data, name, mean_limits,\n",
    "                            pos_data.loc[num], var_data.loc[num],\n",
    "                            rand_pos_data.loc[num], rand_var_data.loc[num], caloNum=num+1)\n",
    "    \n",
    "    this_stuff.loc[num] = stuff\n",
    "    \n",
    "    fft_y(data, rand_data, name)\n",
    "    \n",
    "    \n",
    "# save the fit parameter dataframe to a csv for re-use\n",
    "this_stuff.to_csv(directory + directory[:-1] + \".csv\")\n",
    "pos_data.to_csv(directory + \"yposition_data.csv\")\n",
    "var_data.to_csv(directory + \"variance_data.csv\")"
   ]
  },
  {
   "cell_type": "code",
   "execution_count": 84,
   "metadata": {},
   "outputs": [
    {
     "name": "stdout",
     "output_type": "stream",
     "text": [
      "['c', 'a', 'tau', 'm']\n",
      "<Parameter 'c', value=917.1634871269711 +/- 0.852, bounds=[-inf:inf]>\n",
      "None\n",
      "[[ 7.26057013e-01 -1.15017471e+03  1.55041784e-02 -2.01670146e-02]\n",
      " [-1.15017471e+03  1.17299850e+07 -1.42491124e+02  3.04818957e+01]\n",
      " [ 1.55041784e-02 -1.42491124e+02  1.75224560e-03 -4.11600503e-04]\n",
      " [-2.01670146e-02  3.04818957e+01 -4.11600503e-04  6.25258211e-04]]\n",
      "620.724641374248\n"
     ]
    },
    {
     "data": {
      "image/png": "[encoded data removed]",
      "text/plain": [
       "<Figure size 1440x720 with 1 Axes>"
      ]
     },
     "metadata": {
      "needs_background": "light"
     },
     "output_type": "display_data"
    }
   ],
   "source": [
    "#t = np.linspace(5, 200, 1000)\n",
    "exp_model = lmfit.Model(exponential_func)\n",
    "print(exp_model.param_names)\n",
    "\n",
    "data2 = rand_data[0:100]\n",
    "\n",
    "result = exp_model.fit(data2['HistVar'], t=data2['TimeBin'], c=900, a=8, tau=10, m=0.0001, weights=data2['HistVarError'])\n",
    "cov = result.covar\n",
    "\n",
    "fig, ax = plt.subplots(1,1)\n",
    "fig.set_size_inches(20,10)\n",
    "\n",
    "ax.plot(data2['TimeBin'], data2['HistVar'], linestyle='none', marker='o', markersize=2)\n",
    "#ax.plot(data2['TimeBin'], result.init_fit)\n",
    "ax.plot(data2['TimeBin'], result.best_fit,\n",
    "        label=r'c + A* $e^{\\frac{t}{\\tau}}$ - m*t' +\n",
    "              '\\n c = {0:.4e} ± {1:.4e}'.format(result.params['c'].value, np.sqrt(cov[0][0])) + \n",
    "              '\\n A = {0:.4e} ± {1:.4e}'.format(result.params['a'].value, np.sqrt(cov[1][1])) +\n",
    "              '\\n τ = {0:.4e} ± {1:.4e}'.format(result.params['tau'].value, np.sqrt(cov[2][2])) +\n",
    "              '\\n m = {0:.4e} ± {1:.4e}'.format(result.params['m'].value, np.sqrt(cov[3][3])) +\n",
    "              '\\n chi2 = {0:.2f}'.format(result.chisqr))\n",
    "\n",
    "\n",
    "ax.legend(loc=0, fontsize='x-large', labelspacing=1.5, framealpha=1);\n",
    "#ax.set_ylim(-3, 3)\n",
    "\n",
    "print(result.params['c'])\n",
    "print(result.params['c'].expr)\n",
    "print(result.covar)\n",
    "print(result.chisqr)"
   ]
  },
  {
   "cell_type": "code",
   "execution_count": 203,
   "metadata": {},
   "outputs": [],
   "source": [
    "\"\"\"\n",
    "Plot fft\n",
    "\"\"\"\n",
    "step = 1\n",
    "\n",
    "# iterate through the calos\n",
    "for num in range(0, len(calo_hists)):\n",
    "    \n",
    "    # get the name of this calo taken care of\n",
    "    caloNum = num + 1\n",
    "    \n",
    "    if (num < 9):\n",
    "        name = 'calo_0' + str(caloNum)\n",
    "    else:\n",
    "        name = 'calo_' + str(caloNum)\n",
    "        \n",
    "    # get the histogram stats for this calo\n",
    "    data = gaus_fit(calo_hists[num], step)\n",
    "    \n",
    "    var_fft(data, name)"
   ]
  },
  {
   "cell_type": "code",
   "execution_count": null,
   "metadata": {},
   "outputs": [],
   "source": []
  },
  {
   "cell_type": "code",
   "execution_count": 204,
   "metadata": {},
   "outputs": [
    {
     "name": "stdout",
     "output_type": "stream",
     "text": [
      "0.04673092690730926\n"
     ]
    }
   ],
   "source": [
    "data = gaus_fit(calo_hists[0], 1)\n",
    "\n",
    "print(data['TimeBin'][2] - data['TimeBin'][1])"
   ]
  },
  {
   "cell_type": "code",
   "execution_count": 45,
   "metadata": {},
   "outputs": [],
   "source": [
    "\"\"\"\n",
    "Plot the slopes from each calo\n",
    "\"\"\"\n",
    "\n",
    "fit_limits = [30, 200]\n",
    "step = 10\n",
    "\n",
    "plot_width_per_calo()\n",
    "plot_mean_per_calo()"
   ]
  },
  {
   "cell_type": "code",
   "execution_count": 206,
   "metadata": {},
   "outputs": [],
   "source": [
    "\"\"\"\n",
    "Plot variance slope using different fit endpoints\n",
    "\"\"\"\n",
    "step=100\n",
    "mean_limits = [30, 200]\n",
    "\n",
    "for i in range(100, 301, 10):\n",
    "\n",
    "    sd_limits = [30, i]\n",
    "\n",
    "    # set up a dataframe to store fit parameters to later\n",
    "    var_data = pd.DataFrame(columns = ['caloNum', 'a', 'a error', 'b', 'b error', 'chi2'])\n",
    "\n",
    "    # iterate through the calos\n",
    "    for num in range(0, len(calo_hists)):\n",
    "\n",
    "        # get the name of this calo taken care of\n",
    "        caloNum = num + 1\n",
    "\n",
    "        if (num < 9):\n",
    "            name = 'calo_0' + str(caloNum)\n",
    "        else:\n",
    "            name = 'calo_' + str(caloNum)\n",
    "\n",
    "        # get the histogram stats for this calo\n",
    "        data = gaus_fit(calo_hists[num], step)\n",
    "\n",
    "        # do a fit, and get the parameters\n",
    "        pos_stats, var_stats = linear_fit(data, mfit_lim=mean_limits,\n",
    "                                          vfit_lim=sd_limits)\n",
    "\n",
    "        # save the fit parameters to a dataframe row\n",
    "        var_data.loc[num] = {'caloNum':caloNum, 'a':var_stats[0],\n",
    "                             'a error':var_stats[1], 'b':var_stats[2],\n",
    "                             'b error':var_stats[3], 'chi2':var_stats[4]}\n",
    "\n",
    "    # save the fit parameter dataframe to a csv for re-use\n",
    "    var_data.to_csv(directory + \"variance_data_\" + str(i) + \".csv\")"
   ]
  },
  {
   "cell_type": "code",
   "execution_count": 207,
   "metadata": {},
   "outputs": [],
   "source": [
    "plot_var_fit_ends()"
   ]
  },
  {
   "cell_type": "code",
   "execution_count": null,
   "metadata": {},
   "outputs": [],
   "source": []
  }
 ],
 "metadata": {
  "kernelspec": {
   "display_name": "Python 3",
   "language": "python",
   "name": "python3"
  },
  "language_info": {
   "codemirror_mode": {
    "name": "ipython",
    "version": 3
   },
   "file_extension": ".py",
   "mimetype": "text/x-python",
   "name": "python",
   "nbconvert_exporter": "python",
   "pygments_lexer": "ipython3",
   "version": "3.7.5"
  }
 },
 "nbformat": 4,
 "nbformat_minor": 4
}
